{
  "nbformat": 4,
  "nbformat_minor": 0,
  "metadata": {
    "anaconda-cloud": {},
    "kernelspec": {
      "display_name": "Python 3",
      "language": "python",
      "name": "python3"
    },
    "language_info": {
      "codemirror_mode": {
        "name": "ipython",
        "version": 3
      },
      "file_extension": ".py",
      "mimetype": "text/x-python",
      "name": "python",
      "nbconvert_exporter": "python",
      "pygments_lexer": "ipython3",
      "version": "3.8.3"
    },
    "colab": {
      "name": "Sally's Copy of pandas.ipynb",
      "provenance": [],
      "include_colab_link": true
    }
  },
  "cells": [
    {
      "cell_type": "markdown",
      "metadata": {
        "id": "view-in-github",
        "colab_type": "text"
      },
      "source": [
        "<a href=\"https://colab.research.google.com/github/sburkley/CS-419/blob/master/labs/Sally's_pandas.ipynb\" target=\"_parent\"><img src=\"https://colab.research.google.com/assets/colab-badge.svg\" alt=\"Open In Colab\"/></a>"
      ]
    },
    {
      "cell_type": "markdown",
      "metadata": {
        "id": "fFdxOqBcGORv",
        "colab_type": "text"
      },
      "source": [
        "# Intro to Pandas\n",
        "![](https://raw.githubusercontent.com/zacharski/ml-class/master/labs/pics/Pandas_logo.svg)\n",
        "\n",
        "(logo by [Marc Garcia](https://github.com/pandas-dev/pandas/blob/master/web/pandas/static/img/pandas.svg))\n",
        "\n",
        "The Pandas Library is built on top of Numpy and is designed to make working with data fast and easy. Like Numpy, the library includes data structures and functions to manipulate that data.\n",
        "\n",
        "As we learned in the Numpy Notebook, we need to load in the library before we can use it."
      ]
    },
    {
      "cell_type": "code",
      "metadata": {
        "id": "2mwGTuVlGORx",
        "colab_type": "code",
        "colab": {}
      },
      "source": [
        "from pandas import Series, DataFrame\n",
        "import numpy as np\n",
        "import pandas as pd"
      ],
      "execution_count": 3,
      "outputs": []
    },
    {
      "cell_type": "markdown",
      "metadata": {
        "id": "fmvPybJzGOR2",
        "colab_type": "text"
      },
      "source": [
        "Let's dissect the code above.\n",
        "\n",
        "The `Series` and `DataFrame` datatypes are commonly used so we import them directly with\n",
        "\n",
        "```\n",
        "from pandas import Series, DataFrame\n",
        "```\n",
        "\n",
        "For all other datatypes and functions in the library the `pd` prefix is commonly used so we import that with\n",
        "\n",
        "```\n",
        "import pandas as pd\n",
        "```\n",
        "\n",
        "## Series\n",
        "A series is a 1d array-like object\n",
        "\n",
        "Let's consider the heights (in cm) of Japan's Women's Basketball Team at the 2016 Olympics.      \n",
        "\n",
        "We can create a series in a number of ways.\n",
        "\n",
        "##### directly from a Python list"
      ]
    },
    {
      "cell_type": "code",
      "metadata": {
        "id": "sUmrvdXFGOR2",
        "colab_type": "code",
        "colab": {}
      },
      "source": [
        "japan = [173, 182, 185, 176, 183, 165, 191, 177, 165, 161, 175, 189]\n",
        "athletesHeight = Series(japan)"
      ],
      "execution_count": 4,
      "outputs": []
    },
    {
      "cell_type": "markdown",
      "metadata": {
        "id": "1x_AxO8cGOR6",
        "colab_type": "text"
      },
      "source": [
        "We could also have done"
      ]
    },
    {
      "cell_type": "code",
      "metadata": {
        "id": "vNzbNHcmGOR7",
        "colab_type": "code",
        "colab": {}
      },
      "source": [
        "athletesHeight = Series([173, 182, 185, 176, 183, 165, 191, 177, 165, 161, 175, 189])"
      ],
      "execution_count": 5,
      "outputs": []
    },
    {
      "cell_type": "markdown",
      "metadata": {
        "id": "pZaOIvZ7GOR_",
        "colab_type": "text"
      },
      "source": [
        "In either case we can see the value of the Series athletesHeight"
      ]
    },
    {
      "cell_type": "code",
      "metadata": {
        "id": "S5ZGi9xhGOSA",
        "colab_type": "code",
        "colab": {
          "base_uri": "https://localhost:8080/",
          "height": 243
        },
        "outputId": "1a59c971-b682-463c-f14a-2e070fa387de"
      },
      "source": [
        " athletesHeight"
      ],
      "execution_count": 6,
      "outputs": [
        {
          "output_type": "execute_result",
          "data": {
            "text/plain": [
              "0     173\n",
              "1     182\n",
              "2     185\n",
              "3     176\n",
              "4     183\n",
              "5     165\n",
              "6     191\n",
              "7     177\n",
              "8     165\n",
              "9     161\n",
              "10    175\n",
              "11    189\n",
              "dtype: int64"
            ]
          },
          "metadata": {
            "tags": []
          },
          "execution_count": 6
        }
      ]
    },
    {
      "cell_type": "markdown",
      "metadata": {
        "id": "t_f5d-cxGOSE",
        "colab_type": "text"
      },
      "source": [
        "As like arrays you are familiar with, the left number is the index and the right the value. And we can find the value at a particular index by the usual:"
      ]
    },
    {
      "cell_type": "code",
      "metadata": {
        "id": "7cJqFco4GOSE",
        "colab_type": "code",
        "colab": {
          "base_uri": "https://localhost:8080/",
          "height": 35
        },
        "outputId": "ce3fcc4c-92ce-41bf-db4b-bb1f9f6c2e6c"
      },
      "source": [
        "athletesHeight[3]"
      ],
      "execution_count": 7,
      "outputs": [
        {
          "output_type": "execute_result",
          "data": {
            "text/plain": [
              "176"
            ]
          },
          "metadata": {
            "tags": []
          },
          "execution_count": 7
        }
      ]
    },
    {
      "cell_type": "markdown",
      "metadata": {
        "collapsed": true,
        "id": "1xp856Z5GOSH",
        "colab_type": "text"
      },
      "source": [
        "#### specifying indices\n",
        "Instead of the index 0, 1, 2, 3 ... you can specify your own index values. For example, we can label them 'Aiko'. 'Ayumi', \"Fujiko\" ... etc. "
      ]
    },
    {
      "cell_type": "code",
      "metadata": {
        "id": "sklSICjoGOSI",
        "colab_type": "code",
        "colab": {
          "base_uri": "https://localhost:8080/",
          "height": 243
        },
        "outputId": "20cec067-7f0f-4993-ee5b-4f55d138b468"
      },
      "source": [
        "athletes2 = Series(japan, index = ['Aiko', 'Ayumi', 'Fujiko', 'Hiroko', 'Itsumi', 'Junko', 'Kanae','Kotori', 'Mieko', 'Momoko', 'Nao', 'Rei'])\n",
        "athletes2"
      ],
      "execution_count": 8,
      "outputs": [
        {
          "output_type": "execute_result",
          "data": {
            "text/plain": [
              "Aiko      173\n",
              "Ayumi     182\n",
              "Fujiko    185\n",
              "Hiroko    176\n",
              "Itsumi    183\n",
              "Junko     165\n",
              "Kanae     191\n",
              "Kotori    177\n",
              "Mieko     165\n",
              "Momoko    161\n",
              "Nao       175\n",
              "Rei       189\n",
              "dtype: int64"
            ]
          },
          "metadata": {
            "tags": []
          },
          "execution_count": 8
        }
      ]
    },
    {
      "cell_type": "markdown",
      "metadata": {
        "id": "3Swtzq3vGOSN",
        "colab_type": "text"
      },
      "source": [
        "The names we see are not another column of the data. We can see the shape of athletes2 by:"
      ]
    },
    {
      "cell_type": "code",
      "metadata": {
        "id": "lnZCVOMkGOSO",
        "colab_type": "code",
        "colab": {
          "base_uri": "https://localhost:8080/",
          "height": 35
        },
        "outputId": "d8c039ae-a59b-49a5-d016-b193c92bbfc9"
      },
      "source": [
        "athletes2.shape"
      ],
      "execution_count": 9,
      "outputs": [
        {
          "output_type": "execute_result",
          "data": {
            "text/plain": [
              "(12,)"
            ]
          },
          "metadata": {
            "tags": []
          },
          "execution_count": 9
        }
      ]
    },
    {
      "cell_type": "markdown",
      "metadata": {
        "id": "bV1WoECCGOSQ",
        "colab_type": "text"
      },
      "source": [
        "This shows that athletes2 is a one dimensional matrix and that dimension has a length of 12. So the names we see are not values in a column but rather the indices.\n",
        "\n",
        "\n",
        "Let's use the index to get the Height of Junko:"
      ]
    },
    {
      "cell_type": "code",
      "metadata": {
        "id": "RKTLv4jOGOSR",
        "colab_type": "code",
        "colab": {
          "base_uri": "https://localhost:8080/",
          "height": 35
        },
        "outputId": "40c7afc5-89e9-40e8-ed3a-8e85ea98c44c"
      },
      "source": [
        "athletes2['Junko']"
      ],
      "execution_count": 10,
      "outputs": [
        {
          "output_type": "execute_result",
          "data": {
            "text/plain": [
              "165"
            ]
          },
          "metadata": {
            "tags": []
          },
          "execution_count": 10
        }
      ]
    },
    {
      "cell_type": "markdown",
      "metadata": {
        "id": "zWJ_XXASGOSU",
        "colab_type": "text"
      },
      "source": [
        "How would you get the height of Nao?\n"
      ]
    },
    {
      "cell_type": "code",
      "metadata": {
        "id": "AerfMGHYGOSV",
        "colab_type": "code",
        "colab": {
          "base_uri": "https://localhost:8080/",
          "height": 35
        },
        "outputId": "bfb3639a-cda7-4052-cd38-50c727cbf76f"
      },
      "source": [
        "athletes2['Nao']"
      ],
      "execution_count": 11,
      "outputs": [
        {
          "output_type": "execute_result",
          "data": {
            "text/plain": [
              "175"
            ]
          },
          "metadata": {
            "tags": []
          },
          "execution_count": 11
        }
      ]
    },
    {
      "cell_type": "markdown",
      "metadata": {
        "id": "8zQtyN8UGOSZ",
        "colab_type": "text"
      },
      "source": [
        "\n",
        "## DataFrame\n",
        "DataFrames are the most important data structure of Pandas and are simply\n",
        "a table or spreadsheet like structure.  A DataFrame represents a table like:\n",
        "\n",
        "make | mpg | cylinders | HP | 0-60 \n",
        ":---- | :---: | :---: | :---: | :---: \n",
        "Fiat | 38 | 4 | 157   | 6.9 \n",
        "Ford F150 | 19 | 6 | 386 | 6.3 \n",
        "Mazda 3 | 37 | 4 | 155 |  7.5 \n",
        "Ford Escape | 27 | 4 | 245 | 7.1 \n",
        "Kia Soul | 31 | 4 | 164 | 8.5 \n",
        "\n",
        "A common way to create a DataFrame is to use a python dictionary as follows:"
      ]
    },
    {
      "cell_type": "code",
      "metadata": {
        "id": "oqOHAGSiGOSZ",
        "colab_type": "code",
        "colab": {}
      },
      "source": [
        "cars = {'make': ['Fiat 500', 'Ford F-150', 'Mazda 3', 'Ford Escape', 'Kia Soul'],\n",
        "        'mpg': [38, 19, 37, 27, 31],\n",
        "        'cylinders': [4, 6, 4, 4, 4],\n",
        "        'HP': [157, 386, 155, 245, 164],\n",
        "        '0-60': [6.9, 6.3, 7.5, 7.1, 8.5]}\n"
      ],
      "execution_count": 12,
      "outputs": []
    },
    {
      "cell_type": "markdown",
      "metadata": {
        "id": "kuQQI758GOSc",
        "colab_type": "text"
      },
      "source": [
        "Just to check that you are paying attention, what is the code to show the MPG of a Ford F-150? (so `cars['make'][3]` will print out something, what will print out the MPG of a Ford F-150?"
      ]
    },
    {
      "cell_type": "code",
      "metadata": {
        "id": "04JU5otTGOSc",
        "colab_type": "code",
        "colab": {
          "base_uri": "https://localhost:8080/",
          "height": 35
        },
        "outputId": "37117093-7ad6-459a-c34c-da366821eb8d"
      },
      "source": [
        "cars['mpg'][1]"
      ],
      "execution_count": 13,
      "outputs": [
        {
          "output_type": "execute_result",
          "data": {
            "text/plain": [
              "19"
            ]
          },
          "metadata": {
            "tags": []
          },
          "execution_count": 13
        }
      ]
    },
    {
      "cell_type": "markdown",
      "metadata": {
        "id": "SvOiagqeGOSf",
        "colab_type": "text"
      },
      "source": [
        "and now we will create a DataFrame from the `cars` Python dictionary:"
      ]
    },
    {
      "cell_type": "code",
      "metadata": {
        "id": "7v8aoDIGGOSf",
        "colab_type": "code",
        "colab": {
          "base_uri": "https://localhost:8080/",
          "height": 202
        },
        "outputId": "6124a3cb-4834-463a-aac2-c8573e870448"
      },
      "source": [
        "df = DataFrame(cars)\n",
        "df\n"
      ],
      "execution_count": 14,
      "outputs": [
        {
          "output_type": "execute_result",
          "data": {
            "text/html": [
              "<div>\n",
              "<style scoped>\n",
              "    .dataframe tbody tr th:only-of-type {\n",
              "        vertical-align: middle;\n",
              "    }\n",
              "\n",
              "    .dataframe tbody tr th {\n",
              "        vertical-align: top;\n",
              "    }\n",
              "\n",
              "    .dataframe thead th {\n",
              "        text-align: right;\n",
              "    }\n",
              "</style>\n",
              "<table border=\"1\" class=\"dataframe\">\n",
              "  <thead>\n",
              "    <tr style=\"text-align: right;\">\n",
              "      <th></th>\n",
              "      <th>make</th>\n",
              "      <th>mpg</th>\n",
              "      <th>cylinders</th>\n",
              "      <th>HP</th>\n",
              "      <th>0-60</th>\n",
              "    </tr>\n",
              "  </thead>\n",
              "  <tbody>\n",
              "    <tr>\n",
              "      <th>0</th>\n",
              "      <td>Fiat 500</td>\n",
              "      <td>38</td>\n",
              "      <td>4</td>\n",
              "      <td>157</td>\n",
              "      <td>6.9</td>\n",
              "    </tr>\n",
              "    <tr>\n",
              "      <th>1</th>\n",
              "      <td>Ford F-150</td>\n",
              "      <td>19</td>\n",
              "      <td>6</td>\n",
              "      <td>386</td>\n",
              "      <td>6.3</td>\n",
              "    </tr>\n",
              "    <tr>\n",
              "      <th>2</th>\n",
              "      <td>Mazda 3</td>\n",
              "      <td>37</td>\n",
              "      <td>4</td>\n",
              "      <td>155</td>\n",
              "      <td>7.5</td>\n",
              "    </tr>\n",
              "    <tr>\n",
              "      <th>3</th>\n",
              "      <td>Ford Escape</td>\n",
              "      <td>27</td>\n",
              "      <td>4</td>\n",
              "      <td>245</td>\n",
              "      <td>7.1</td>\n",
              "    </tr>\n",
              "    <tr>\n",
              "      <th>4</th>\n",
              "      <td>Kia Soul</td>\n",
              "      <td>31</td>\n",
              "      <td>4</td>\n",
              "      <td>164</td>\n",
              "      <td>8.5</td>\n",
              "    </tr>\n",
              "  </tbody>\n",
              "</table>\n",
              "</div>"
            ],
            "text/plain": [
              "          make  mpg  cylinders   HP  0-60\n",
              "0     Fiat 500   38          4  157   6.9\n",
              "1   Ford F-150   19          6  386   6.3\n",
              "2      Mazda 3   37          4  155   7.5\n",
              "3  Ford Escape   27          4  245   7.1\n",
              "4     Kia Soul   31          4  164   8.5"
            ]
          },
          "metadata": {
            "tags": []
          },
          "execution_count": 14
        }
      ]
    },
    {
      "cell_type": "markdown",
      "metadata": {
        "id": "YCzE7PF9GOSi",
        "colab_type": "text"
      },
      "source": [
        "Prior to my life with Pandas, I would represent a table like the above one as:"
      ]
    },
    {
      "cell_type": "code",
      "metadata": {
        "id": "QPbOeScKGOSi",
        "colab_type": "code",
        "colab": {
          "base_uri": "https://localhost:8080/",
          "height": 35
        },
        "outputId": "35332b3d-51c9-49e6-b47a-6ea8d2ef3ce1"
      },
      "source": [
        "prePandas = [{'make': 'Fiat', 'mpg': 38, 'cylinders': 4, 'HP': 157, '0-60': 6.9},\n",
        "            {'make': 'Ford F-150', 'mpg': 19, 'cylinders': 6, 'HP': 386, '0-60': 6.3},\n",
        "            {'make': 'Mazda 3', 'mpg': 37, 'cylinders': 4, 'HP': 155, '0-60': 7.5},\n",
        "            {'make': 'Ford Escape', 'mpg': 27, 'cylinders': 4, 'HP': 245, '0-60': 7.1},\n",
        "            {'make': 'Kia Soul', 'mpg': 31, 'cylinders': 4, 'HP': 164, '0-60':8.5}]\n",
        "\n",
        "prePandas[0]['make']"
      ],
      "execution_count": 15,
      "outputs": [
        {
          "output_type": "execute_result",
          "data": {
            "application/vnd.google.colaboratory.intrinsic+json": {
              "type": "string"
            },
            "text/plain": [
              "'Fiat'"
            ]
          },
          "metadata": {
            "tags": []
          },
          "execution_count": 15
        }
      ]
    },
    {
      "cell_type": "markdown",
      "metadata": {
        "id": "lBoi6bgTGOSk",
        "colab_type": "text"
      },
      "source": [
        "In the prePandas scheme the data is organized first by rows. That seemed logical to me since each row represents an object and is how we organize data in an SQL database. In the Pandas representation the data is organized by columns. \n",
        "\n",
        "Perhaps you noticed that the columns are displayed in alphabetically sorted order. If we want to specify a column order we can do so:\n",
        "\n",
        "\n"
      ]
    },
    {
      "cell_type": "code",
      "metadata": {
        "id": "tdPhJWsnGOSl",
        "colab_type": "code",
        "colab": {
          "base_uri": "https://localhost:8080/",
          "height": 202
        },
        "outputId": "46f6be12-15f5-41e5-cd07-e0d3e6ae578a"
      },
      "source": [
        "df2 = DataFrame(cars, columns=['make', 'mpg', 'cylinders', 'HP', '0-60' ])\n",
        "df2"
      ],
      "execution_count": 16,
      "outputs": [
        {
          "output_type": "execute_result",
          "data": {
            "text/html": [
              "<div>\n",
              "<style scoped>\n",
              "    .dataframe tbody tr th:only-of-type {\n",
              "        vertical-align: middle;\n",
              "    }\n",
              "\n",
              "    .dataframe tbody tr th {\n",
              "        vertical-align: top;\n",
              "    }\n",
              "\n",
              "    .dataframe thead th {\n",
              "        text-align: right;\n",
              "    }\n",
              "</style>\n",
              "<table border=\"1\" class=\"dataframe\">\n",
              "  <thead>\n",
              "    <tr style=\"text-align: right;\">\n",
              "      <th></th>\n",
              "      <th>make</th>\n",
              "      <th>mpg</th>\n",
              "      <th>cylinders</th>\n",
              "      <th>HP</th>\n",
              "      <th>0-60</th>\n",
              "    </tr>\n",
              "  </thead>\n",
              "  <tbody>\n",
              "    <tr>\n",
              "      <th>0</th>\n",
              "      <td>Fiat 500</td>\n",
              "      <td>38</td>\n",
              "      <td>4</td>\n",
              "      <td>157</td>\n",
              "      <td>6.9</td>\n",
              "    </tr>\n",
              "    <tr>\n",
              "      <th>1</th>\n",
              "      <td>Ford F-150</td>\n",
              "      <td>19</td>\n",
              "      <td>6</td>\n",
              "      <td>386</td>\n",
              "      <td>6.3</td>\n",
              "    </tr>\n",
              "    <tr>\n",
              "      <th>2</th>\n",
              "      <td>Mazda 3</td>\n",
              "      <td>37</td>\n",
              "      <td>4</td>\n",
              "      <td>155</td>\n",
              "      <td>7.5</td>\n",
              "    </tr>\n",
              "    <tr>\n",
              "      <th>3</th>\n",
              "      <td>Ford Escape</td>\n",
              "      <td>27</td>\n",
              "      <td>4</td>\n",
              "      <td>245</td>\n",
              "      <td>7.1</td>\n",
              "    </tr>\n",
              "    <tr>\n",
              "      <th>4</th>\n",
              "      <td>Kia Soul</td>\n",
              "      <td>31</td>\n",
              "      <td>4</td>\n",
              "      <td>164</td>\n",
              "      <td>8.5</td>\n",
              "    </tr>\n",
              "  </tbody>\n",
              "</table>\n",
              "</div>"
            ],
            "text/plain": [
              "          make  mpg  cylinders   HP  0-60\n",
              "0     Fiat 500   38          4  157   6.9\n",
              "1   Ford F-150   19          6  386   6.3\n",
              "2      Mazda 3   37          4  155   7.5\n",
              "3  Ford Escape   27          4  245   7.1\n",
              "4     Kia Soul   31          4  164   8.5"
            ]
          },
          "metadata": {
            "tags": []
          },
          "execution_count": 16
        }
      ]
    },
    {
      "cell_type": "markdown",
      "metadata": {
        "id": "pMwp7LPJGOSn",
        "colab_type": "text"
      },
      "source": [
        "We can also create a DataFrame from a set of Series objects:"
      ]
    },
    {
      "cell_type": "code",
      "metadata": {
        "id": "RWAG4q0KGOSn",
        "colab_type": "code",
        "colab": {
          "base_uri": "https://localhost:8080/",
          "height": 202
        },
        "outputId": "2c627889-6261-48c6-b6c0-a244e3f2a8cf"
      },
      "source": [
        "cars2 = {'make': Series(['Fiat 500', 'Ford F-150', 'Mazda 3', 'Ford Escape', 'Kia Soul']),\n",
        "        'mpg': Series([38, 19, 37, 27, 31]),\n",
        "        'cylinders': Series([4, 6, 4, 4, 4]),\n",
        "        'HP': [157, 386, 155, 245, 164],\n",
        "        '0-60': Series([6.9, 6.3, 7.5, 7.1, 8.5])}\n",
        "        \n",
        "df3 = DataFrame(cars2)\n",
        "df3\n"
      ],
      "execution_count": 17,
      "outputs": [
        {
          "output_type": "execute_result",
          "data": {
            "text/html": [
              "<div>\n",
              "<style scoped>\n",
              "    .dataframe tbody tr th:only-of-type {\n",
              "        vertical-align: middle;\n",
              "    }\n",
              "\n",
              "    .dataframe tbody tr th {\n",
              "        vertical-align: top;\n",
              "    }\n",
              "\n",
              "    .dataframe thead th {\n",
              "        text-align: right;\n",
              "    }\n",
              "</style>\n",
              "<table border=\"1\" class=\"dataframe\">\n",
              "  <thead>\n",
              "    <tr style=\"text-align: right;\">\n",
              "      <th></th>\n",
              "      <th>make</th>\n",
              "      <th>mpg</th>\n",
              "      <th>cylinders</th>\n",
              "      <th>HP</th>\n",
              "      <th>0-60</th>\n",
              "    </tr>\n",
              "  </thead>\n",
              "  <tbody>\n",
              "    <tr>\n",
              "      <th>0</th>\n",
              "      <td>Fiat 500</td>\n",
              "      <td>38</td>\n",
              "      <td>4</td>\n",
              "      <td>157</td>\n",
              "      <td>6.9</td>\n",
              "    </tr>\n",
              "    <tr>\n",
              "      <th>1</th>\n",
              "      <td>Ford F-150</td>\n",
              "      <td>19</td>\n",
              "      <td>6</td>\n",
              "      <td>386</td>\n",
              "      <td>6.3</td>\n",
              "    </tr>\n",
              "    <tr>\n",
              "      <th>2</th>\n",
              "      <td>Mazda 3</td>\n",
              "      <td>37</td>\n",
              "      <td>4</td>\n",
              "      <td>155</td>\n",
              "      <td>7.5</td>\n",
              "    </tr>\n",
              "    <tr>\n",
              "      <th>3</th>\n",
              "      <td>Ford Escape</td>\n",
              "      <td>27</td>\n",
              "      <td>4</td>\n",
              "      <td>245</td>\n",
              "      <td>7.1</td>\n",
              "    </tr>\n",
              "    <tr>\n",
              "      <th>4</th>\n",
              "      <td>Kia Soul</td>\n",
              "      <td>31</td>\n",
              "      <td>4</td>\n",
              "      <td>164</td>\n",
              "      <td>8.5</td>\n",
              "    </tr>\n",
              "  </tbody>\n",
              "</table>\n",
              "</div>"
            ],
            "text/plain": [
              "          make  mpg  cylinders   HP  0-60\n",
              "0     Fiat 500   38          4  157   6.9\n",
              "1   Ford F-150   19          6  386   6.3\n",
              "2      Mazda 3   37          4  155   7.5\n",
              "3  Ford Escape   27          4  245   7.1\n",
              "4     Kia Soul   31          4  164   8.5"
            ]
          },
          "metadata": {
            "tags": []
          },
          "execution_count": 17
        }
      ]
    },
    {
      "cell_type": "markdown",
      "metadata": {
        "id": "FNPhwNDEGOSp",
        "colab_type": "text"
      },
      "source": [
        "<h3 style=\"color:red\">Q1. You Try</h3>\n",
        "<span style=\"color:red\">Make a DataFrame representing the data in the following table:</span>\n",
        "\n",
        "Athlete | Sport | Height | Weight \n",
        "----: | :---: | :---: | :---:\n",
        "Aly Raisman |\tGymnastics | \t62 | 115\n",
        "Crystal Langhorne |\tBasketball |\t74 |\t190\n",
        "Diana Taurasi\t| Basketball\t| 72\t| 163\n",
        "Paula Radcliffe\t| Track\t| 68 |\t120\n",
        "Simone Biles | Gymnastics | 57 | 104\n",
        "Madison Kocian | Gymnastics |62 | 101\n",
        "Amy Cragg |Track | 64 | 99\n"
      ]
    },
    {
      "cell_type": "code",
      "metadata": {
        "id": "7eV-PEWdGOSq",
        "colab_type": "code",
        "colab": {
          "base_uri": "https://localhost:8080/",
          "height": 263
        },
        "outputId": "c0181fc3-9399-4e99-81ee-2917d39e58d7"
      },
      "source": [
        "athletics = {'Athlete': Series(['Aly Raisman', 'Crystal Langhorne', 'Diana Taurasi', 'Paula Radcliffe', 'Simone Biles', 'Madison Kocian', 'Amy Cragg']),\n",
        "        'Sport': Series(['gynmastics', 'Basketball', 'Basketball', 'Track', 'Gymnastics', 'Gymnastics', 'Track']),\n",
        "        'Height': Series([62, 74, 72, 68, 57, 62, 64]),\n",
        "        'Weight': Series([115, 190, 163, 120, 104, 101, 99])}\n",
        "        \n",
        "athleticsDF = DataFrame(athletics)\n",
        "athleticsDF"
      ],
      "execution_count": 18,
      "outputs": [
        {
          "output_type": "execute_result",
          "data": {
            "text/html": [
              "<div>\n",
              "<style scoped>\n",
              "    .dataframe tbody tr th:only-of-type {\n",
              "        vertical-align: middle;\n",
              "    }\n",
              "\n",
              "    .dataframe tbody tr th {\n",
              "        vertical-align: top;\n",
              "    }\n",
              "\n",
              "    .dataframe thead th {\n",
              "        text-align: right;\n",
              "    }\n",
              "</style>\n",
              "<table border=\"1\" class=\"dataframe\">\n",
              "  <thead>\n",
              "    <tr style=\"text-align: right;\">\n",
              "      <th></th>\n",
              "      <th>Athlete</th>\n",
              "      <th>Sport</th>\n",
              "      <th>Height</th>\n",
              "      <th>Weight</th>\n",
              "    </tr>\n",
              "  </thead>\n",
              "  <tbody>\n",
              "    <tr>\n",
              "      <th>0</th>\n",
              "      <td>Aly Raisman</td>\n",
              "      <td>gynmastics</td>\n",
              "      <td>62</td>\n",
              "      <td>115</td>\n",
              "    </tr>\n",
              "    <tr>\n",
              "      <th>1</th>\n",
              "      <td>Crystal Langhorne</td>\n",
              "      <td>Basketball</td>\n",
              "      <td>74</td>\n",
              "      <td>190</td>\n",
              "    </tr>\n",
              "    <tr>\n",
              "      <th>2</th>\n",
              "      <td>Diana Taurasi</td>\n",
              "      <td>Basketball</td>\n",
              "      <td>72</td>\n",
              "      <td>163</td>\n",
              "    </tr>\n",
              "    <tr>\n",
              "      <th>3</th>\n",
              "      <td>Paula Radcliffe</td>\n",
              "      <td>Track</td>\n",
              "      <td>68</td>\n",
              "      <td>120</td>\n",
              "    </tr>\n",
              "    <tr>\n",
              "      <th>4</th>\n",
              "      <td>Simone Biles</td>\n",
              "      <td>Gymnastics</td>\n",
              "      <td>57</td>\n",
              "      <td>104</td>\n",
              "    </tr>\n",
              "    <tr>\n",
              "      <th>5</th>\n",
              "      <td>Madison Kocian</td>\n",
              "      <td>Gymnastics</td>\n",
              "      <td>62</td>\n",
              "      <td>101</td>\n",
              "    </tr>\n",
              "    <tr>\n",
              "      <th>6</th>\n",
              "      <td>Amy Cragg</td>\n",
              "      <td>Track</td>\n",
              "      <td>64</td>\n",
              "      <td>99</td>\n",
              "    </tr>\n",
              "  </tbody>\n",
              "</table>\n",
              "</div>"
            ],
            "text/plain": [
              "             Athlete       Sport  Height  Weight\n",
              "0        Aly Raisman  gynmastics      62     115\n",
              "1  Crystal Langhorne  Basketball      74     190\n",
              "2      Diana Taurasi  Basketball      72     163\n",
              "3    Paula Radcliffe       Track      68     120\n",
              "4       Simone Biles  Gymnastics      57     104\n",
              "5     Madison Kocian  Gymnastics      62     101\n",
              "6          Amy Cragg       Track      64      99"
            ]
          },
          "metadata": {
            "tags": []
          },
          "execution_count": 18
        }
      ]
    },
    {
      "cell_type": "markdown",
      "metadata": {
        "id": "X382BTDHGOSs",
        "colab_type": "text"
      },
      "source": [
        "## reading data from different sources.\n",
        "### csv file:\n",
        "We can create a DataFrame from a CSV file (comma separated values), which is a common format for datasets. \n",
        "\n",
        "\n",
        "We use the `pd.read_csv` function to do so.  `pd.read_csv` can read a csv file from either your local machine or the web. Let's start with the web.\n",
        "\n",
        "#### Reading a CSV file from the web.\n",
        "To read a file from the web, we simply provide a URL:\n"
      ]
    },
    {
      "cell_type": "code",
      "metadata": {
        "id": "l8dPH3Z1GOSs",
        "colab_type": "code",
        "colab": {
          "base_uri": "https://localhost:8080/",
          "height": 907
        },
        "outputId": "f29ed340-3e09-4ea6-c86c-c35690045e50"
      },
      "source": [
        "df4 = pd.read_csv('https://raw.githubusercontent.com/zacharski/ml-class/master/data/athletes.csv')\n",
        "df4"
      ],
      "execution_count": 19,
      "outputs": [
        {
          "output_type": "execute_result",
          "data": {
            "text/html": [
              "<div>\n",
              "<style scoped>\n",
              "    .dataframe tbody tr th:only-of-type {\n",
              "        vertical-align: middle;\n",
              "    }\n",
              "\n",
              "    .dataframe tbody tr th {\n",
              "        vertical-align: top;\n",
              "    }\n",
              "\n",
              "    .dataframe thead th {\n",
              "        text-align: right;\n",
              "    }\n",
              "</style>\n",
              "<table border=\"1\" class=\"dataframe\">\n",
              "  <thead>\n",
              "    <tr style=\"text-align: right;\">\n",
              "      <th></th>\n",
              "      <th>Name</th>\n",
              "      <th>Sport</th>\n",
              "      <th>Height</th>\n",
              "      <th>Weight</th>\n",
              "    </tr>\n",
              "  </thead>\n",
              "  <tbody>\n",
              "    <tr>\n",
              "      <th>0</th>\n",
              "      <td>Asuka Teramoto</td>\n",
              "      <td>Gymnastics</td>\n",
              "      <td>54</td>\n",
              "      <td>66</td>\n",
              "    </tr>\n",
              "    <tr>\n",
              "      <th>1</th>\n",
              "      <td>Brittainey Raven</td>\n",
              "      <td>Basketball</td>\n",
              "      <td>72</td>\n",
              "      <td>162</td>\n",
              "    </tr>\n",
              "    <tr>\n",
              "      <th>2</th>\n",
              "      <td>Chen Nan</td>\n",
              "      <td>Basketball</td>\n",
              "      <td>78</td>\n",
              "      <td>204</td>\n",
              "    </tr>\n",
              "    <tr>\n",
              "      <th>3</th>\n",
              "      <td>Gabby Douglas</td>\n",
              "      <td>Gymnastics</td>\n",
              "      <td>49</td>\n",
              "      <td>90</td>\n",
              "    </tr>\n",
              "    <tr>\n",
              "      <th>4</th>\n",
              "      <td>Helalia Johannes</td>\n",
              "      <td>Track</td>\n",
              "      <td>65</td>\n",
              "      <td>99</td>\n",
              "    </tr>\n",
              "    <tr>\n",
              "      <th>5</th>\n",
              "      <td>Irina Miketenko</td>\n",
              "      <td>Track</td>\n",
              "      <td>63</td>\n",
              "      <td>106</td>\n",
              "    </tr>\n",
              "    <tr>\n",
              "      <th>6</th>\n",
              "      <td>Jennifer Lacy</td>\n",
              "      <td>Basketball</td>\n",
              "      <td>75</td>\n",
              "      <td>175</td>\n",
              "    </tr>\n",
              "    <tr>\n",
              "      <th>7</th>\n",
              "      <td>Kara Goucher</td>\n",
              "      <td>Track</td>\n",
              "      <td>67</td>\n",
              "      <td>123</td>\n",
              "    </tr>\n",
              "    <tr>\n",
              "      <th>8</th>\n",
              "      <td>Linlin Deng</td>\n",
              "      <td>Gymnastics</td>\n",
              "      <td>54</td>\n",
              "      <td>68</td>\n",
              "    </tr>\n",
              "    <tr>\n",
              "      <th>9</th>\n",
              "      <td>Nakia Sanford</td>\n",
              "      <td>Basketball</td>\n",
              "      <td>76</td>\n",
              "      <td>200</td>\n",
              "    </tr>\n",
              "    <tr>\n",
              "      <th>10</th>\n",
              "      <td>Nikki Blue</td>\n",
              "      <td>Basketball</td>\n",
              "      <td>68</td>\n",
              "      <td>163</td>\n",
              "    </tr>\n",
              "    <tr>\n",
              "      <th>11</th>\n",
              "      <td>Qiushuang Huang</td>\n",
              "      <td>Gymnastics</td>\n",
              "      <td>61</td>\n",
              "      <td>95</td>\n",
              "    </tr>\n",
              "    <tr>\n",
              "      <th>12</th>\n",
              "      <td>Rebecca Tunney</td>\n",
              "      <td>Gymnastics</td>\n",
              "      <td>58</td>\n",
              "      <td>77</td>\n",
              "    </tr>\n",
              "    <tr>\n",
              "      <th>13</th>\n",
              "      <td>Rene Kalmer</td>\n",
              "      <td>Track</td>\n",
              "      <td>70</td>\n",
              "      <td>108</td>\n",
              "    </tr>\n",
              "    <tr>\n",
              "      <th>14</th>\n",
              "      <td>Shanna Crossley</td>\n",
              "      <td>Basketball</td>\n",
              "      <td>70</td>\n",
              "      <td>155</td>\n",
              "    </tr>\n",
              "    <tr>\n",
              "      <th>15</th>\n",
              "      <td>Shavonte Zellous</td>\n",
              "      <td>Basketball</td>\n",
              "      <td>70</td>\n",
              "      <td>155</td>\n",
              "    </tr>\n",
              "    <tr>\n",
              "      <th>16</th>\n",
              "      <td>Tatyana Petrova</td>\n",
              "      <td>Track</td>\n",
              "      <td>63</td>\n",
              "      <td>108</td>\n",
              "    </tr>\n",
              "    <tr>\n",
              "      <th>17</th>\n",
              "      <td>Tiki Gelana</td>\n",
              "      <td>Track</td>\n",
              "      <td>65</td>\n",
              "      <td>106</td>\n",
              "    </tr>\n",
              "    <tr>\n",
              "      <th>18</th>\n",
              "      <td>Valeria Straneo</td>\n",
              "      <td>Track</td>\n",
              "      <td>66</td>\n",
              "      <td>97</td>\n",
              "    </tr>\n",
              "    <tr>\n",
              "      <th>19</th>\n",
              "      <td>Viktoria Komova</td>\n",
              "      <td>Gymnastics</td>\n",
              "      <td>61</td>\n",
              "      <td>76</td>\n",
              "    </tr>\n",
              "    <tr>\n",
              "      <th>20</th>\n",
              "      <td>Amy Cragg</td>\n",
              "      <td>Track</td>\n",
              "      <td>64</td>\n",
              "      <td>99</td>\n",
              "    </tr>\n",
              "    <tr>\n",
              "      <th>21</th>\n",
              "      <td>Simone Biles</td>\n",
              "      <td>Gymnastics</td>\n",
              "      <td>57</td>\n",
              "      <td>104</td>\n",
              "    </tr>\n",
              "    <tr>\n",
              "      <th>22</th>\n",
              "      <td>Madison Kocian</td>\n",
              "      <td>Gymnastics</td>\n",
              "      <td>62</td>\n",
              "      <td>101</td>\n",
              "    </tr>\n",
              "    <tr>\n",
              "      <th>23</th>\n",
              "      <td>Elena Delle Donne</td>\n",
              "      <td>Basketball</td>\n",
              "      <td>77</td>\n",
              "      <td>188</td>\n",
              "    </tr>\n",
              "    <tr>\n",
              "      <th>24</th>\n",
              "      <td>Seimone Augustus</td>\n",
              "      <td>Basketball</td>\n",
              "      <td>72</td>\n",
              "      <td>166</td>\n",
              "    </tr>\n",
              "    <tr>\n",
              "      <th>25</th>\n",
              "      <td>Desiree Linden</td>\n",
              "      <td>Track</td>\n",
              "      <td>61</td>\n",
              "      <td>97</td>\n",
              "    </tr>\n",
              "    <tr>\n",
              "      <th>26</th>\n",
              "      <td>Shalane Flanagan</td>\n",
              "      <td>Track</td>\n",
              "      <td>65</td>\n",
              "      <td>106</td>\n",
              "    </tr>\n",
              "    <tr>\n",
              "      <th>27</th>\n",
              "      <td>Laurie Hernandez</td>\n",
              "      <td>Gymnastics</td>\n",
              "      <td>60</td>\n",
              "      <td>106</td>\n",
              "    </tr>\n",
              "  </tbody>\n",
              "</table>\n",
              "</div>"
            ],
            "text/plain": [
              "                 Name       Sport  Height  Weight\n",
              "0      Asuka Teramoto  Gymnastics      54      66\n",
              "1    Brittainey Raven  Basketball      72     162\n",
              "2            Chen Nan  Basketball      78     204\n",
              "3       Gabby Douglas  Gymnastics      49      90\n",
              "4    Helalia Johannes       Track      65      99\n",
              "5     Irina Miketenko       Track      63     106\n",
              "6       Jennifer Lacy  Basketball      75     175\n",
              "7        Kara Goucher       Track      67     123\n",
              "8         Linlin Deng  Gymnastics      54      68\n",
              "9       Nakia Sanford  Basketball      76     200\n",
              "10         Nikki Blue  Basketball      68     163\n",
              "11    Qiushuang Huang  Gymnastics      61      95\n",
              "12     Rebecca Tunney  Gymnastics      58      77\n",
              "13        Rene Kalmer       Track      70     108\n",
              "14    Shanna Crossley  Basketball      70     155\n",
              "15   Shavonte Zellous  Basketball      70     155\n",
              "16    Tatyana Petrova       Track      63     108\n",
              "17        Tiki Gelana       Track      65     106\n",
              "18    Valeria Straneo       Track      66      97\n",
              "19    Viktoria Komova  Gymnastics      61      76\n",
              "20          Amy Cragg       Track      64      99\n",
              "21       Simone Biles  Gymnastics      57     104\n",
              "22     Madison Kocian  Gymnastics      62     101\n",
              "23  Elena Delle Donne  Basketball      77     188\n",
              "24   Seimone Augustus  Basketball      72     166\n",
              "25     Desiree Linden       Track      61      97\n",
              "26   Shalane Flanagan       Track      65     106\n",
              "27   Laurie Hernandez  Gymnastics      60     106"
            ]
          },
          "metadata": {
            "tags": []
          },
          "execution_count": 19
        }
      ]
    },
    {
      "cell_type": "markdown",
      "metadata": {
        "id": "xFXKPHbmGOSu",
        "colab_type": "text"
      },
      "source": [
        "Sometimes the csv file has a header row as was the case in the example above. That file starts\n",
        "\n",
        "    Name,Sport,Height,Weight\n",
        "    Asuka Teramoto,Gymnastics,54,66\n",
        "    Brittainey Raven,Basketball,72,162\n",
        "    Chen Nan,Basketball,78,204\n",
        "    Gabby Douglas,Gymnastics,49,90\n",
        "    \n",
        "\n"
      ]
    },
    {
      "cell_type": "code",
      "metadata": {
        "id": "rY4H2EHOGOSu",
        "colab_type": "code",
        "colab": {
          "base_uri": "https://localhost:8080/",
          "height": 520
        },
        "outputId": "14d5e656-b1ae-4524-8859-49bcc4897a36"
      },
      "source": [
        "!curl https://raw.githubusercontent.com/zacharski/ml-class/master/data/athletes.csv"
      ],
      "execution_count": 20,
      "outputs": [
        {
          "output_type": "stream",
          "text": [
            "Name,Sport,Height,Weight\n",
            "Asuka Teramoto,Gymnastics,54,66\n",
            "Brittainey Raven,Basketball,72,162\n",
            "Chen Nan,Basketball,78,204\n",
            "Gabby Douglas,Gymnastics,49,90\n",
            "Helalia Johannes,Track,65,99\n",
            "Irina Miketenko,Track,63,106\n",
            "Jennifer Lacy,Basketball,75,175\n",
            "Kara Goucher,Track,67,123\n",
            "Linlin Deng,Gymnastics,54,68\n",
            "Nakia Sanford,Basketball,76,200\n",
            "Nikki Blue,Basketball,68,163\n",
            "Qiushuang Huang,Gymnastics,61,95\n",
            "Rebecca Tunney,Gymnastics,58,77\n",
            "Rene Kalmer,Track,70,108\n",
            "Shanna Crossley,Basketball,70,155\n",
            "Shavonte Zellous,Basketball,70,155\n",
            "Tatyana Petrova,Track,63,108\n",
            "Tiki Gelana,Track,65,106\n",
            "Valeria Straneo,Track,66,97\n",
            "Viktoria Komova,Gymnastics,61,76\n",
            "Amy Cragg,Track,64,99\n",
            "Simone Biles,Gymnastics,57,104\n",
            "Madison Kocian,Gymnastics,62,101\n",
            "Elena Delle Donne,Basketball,77,188\n",
            "Seimone Augustus,Basketball,72,166\n",
            "Desiree Linden,Track,61,97\n",
            "Shalane Flanagan,Track,65,106\n",
            "Laurie Hernandez,Gymnastics,60,106"
          ],
          "name": "stdout"
        }
      ]
    },
    {
      "cell_type": "markdown",
      "metadata": {
        "id": "LxeEJjUBGOSw",
        "colab_type": "text"
      },
      "source": [
        "As you can see we can preface any Unix command with a bang (!) to have it execute in our Notebook.  This is amazingly handy:\n",
        "\n"
      ]
    },
    {
      "cell_type": "code",
      "metadata": {
        "id": "DjLXCOk9GOSx",
        "colab_type": "code",
        "colab": {
          "base_uri": "https://localhost:8080/",
          "height": 35
        },
        "outputId": "aef144e8-7886-4cbf-f4e3-0e41856e34a2"
      },
      "source": [
        "!ls"
      ],
      "execution_count": 21,
      "outputs": [
        {
          "output_type": "stream",
          "text": [
            "sample_data\n"
          ],
          "name": "stdout"
        }
      ]
    },
    {
      "cell_type": "code",
      "metadata": {
        "id": "O3WBD6ziGOSy",
        "colab_type": "code",
        "colab": {
          "base_uri": "https://localhost:8080/",
          "height": 35
        },
        "outputId": "41bd51a4-685e-4b46-8fde-dcb88317c67d"
      },
      "source": [
        "!pwd"
      ],
      "execution_count": 22,
      "outputs": [
        {
          "output_type": "stream",
          "text": [
            "/content\n"
          ],
          "name": "stdout"
        }
      ]
    },
    {
      "cell_type": "markdown",
      "metadata": {
        "id": "rfKVLGbCGOS0",
        "colab_type": "text"
      },
      "source": [
        "Back to Pandas.\n",
        "\n",
        "Sometimes the csv file does not have a header row. So for example, a csv file might have the contents:\n",
        "\n",
        "Asuka Teramoto,Gymnastics,54,66\n",
        "Brittainey Raven,Basketball,72,162\n",
        "Chen Nan,Basketball,78,204\n",
        "Gabby Douglas,Gymnastics,49,90\n",
        "In that case you specify the names of the columns using the names attribute:"
      ]
    },
    {
      "cell_type": "code",
      "metadata": {
        "id": "LNFnOd8vGOS1",
        "colab_type": "code",
        "colab": {
          "base_uri": "https://localhost:8080/",
          "height": 907
        },
        "outputId": "8cf7c27a-042b-4d37-fecc-ba58071904aa"
      },
      "source": [
        "athletes = pd.read_csv('https://raw.githubusercontent.com/zacharski/ml-class/master/data/athletesNoHeader.csv', names=['Name', 'Sport', 'Height', 'Weight'])\n",
        "athletes"
      ],
      "execution_count": 23,
      "outputs": [
        {
          "output_type": "execute_result",
          "data": {
            "text/html": [
              "<div>\n",
              "<style scoped>\n",
              "    .dataframe tbody tr th:only-of-type {\n",
              "        vertical-align: middle;\n",
              "    }\n",
              "\n",
              "    .dataframe tbody tr th {\n",
              "        vertical-align: top;\n",
              "    }\n",
              "\n",
              "    .dataframe thead th {\n",
              "        text-align: right;\n",
              "    }\n",
              "</style>\n",
              "<table border=\"1\" class=\"dataframe\">\n",
              "  <thead>\n",
              "    <tr style=\"text-align: right;\">\n",
              "      <th></th>\n",
              "      <th>Name</th>\n",
              "      <th>Sport</th>\n",
              "      <th>Height</th>\n",
              "      <th>Weight</th>\n",
              "    </tr>\n",
              "  </thead>\n",
              "  <tbody>\n",
              "    <tr>\n",
              "      <th>0</th>\n",
              "      <td>Asuka Teramoto</td>\n",
              "      <td>Gymnastics</td>\n",
              "      <td>54</td>\n",
              "      <td>66</td>\n",
              "    </tr>\n",
              "    <tr>\n",
              "      <th>1</th>\n",
              "      <td>Brittainey Raven</td>\n",
              "      <td>Basketball</td>\n",
              "      <td>72</td>\n",
              "      <td>162</td>\n",
              "    </tr>\n",
              "    <tr>\n",
              "      <th>2</th>\n",
              "      <td>Chen Nan</td>\n",
              "      <td>Basketball</td>\n",
              "      <td>78</td>\n",
              "      <td>204</td>\n",
              "    </tr>\n",
              "    <tr>\n",
              "      <th>3</th>\n",
              "      <td>Gabby Douglas</td>\n",
              "      <td>Gymnastics</td>\n",
              "      <td>49</td>\n",
              "      <td>90</td>\n",
              "    </tr>\n",
              "    <tr>\n",
              "      <th>4</th>\n",
              "      <td>Helalia Johannes</td>\n",
              "      <td>Track</td>\n",
              "      <td>65</td>\n",
              "      <td>99</td>\n",
              "    </tr>\n",
              "    <tr>\n",
              "      <th>5</th>\n",
              "      <td>Irina Miketenko</td>\n",
              "      <td>Track</td>\n",
              "      <td>63</td>\n",
              "      <td>106</td>\n",
              "    </tr>\n",
              "    <tr>\n",
              "      <th>6</th>\n",
              "      <td>Jennifer Lacy</td>\n",
              "      <td>Basketball</td>\n",
              "      <td>75</td>\n",
              "      <td>175</td>\n",
              "    </tr>\n",
              "    <tr>\n",
              "      <th>7</th>\n",
              "      <td>Kara Goucher</td>\n",
              "      <td>Track</td>\n",
              "      <td>67</td>\n",
              "      <td>123</td>\n",
              "    </tr>\n",
              "    <tr>\n",
              "      <th>8</th>\n",
              "      <td>Linlin Deng</td>\n",
              "      <td>Gymnastics</td>\n",
              "      <td>54</td>\n",
              "      <td>68</td>\n",
              "    </tr>\n",
              "    <tr>\n",
              "      <th>9</th>\n",
              "      <td>Nakia Sanford</td>\n",
              "      <td>Basketball</td>\n",
              "      <td>76</td>\n",
              "      <td>200</td>\n",
              "    </tr>\n",
              "    <tr>\n",
              "      <th>10</th>\n",
              "      <td>Nikki Blue</td>\n",
              "      <td>Basketball</td>\n",
              "      <td>68</td>\n",
              "      <td>163</td>\n",
              "    </tr>\n",
              "    <tr>\n",
              "      <th>11</th>\n",
              "      <td>Qiushuang Huang</td>\n",
              "      <td>Gymnastics</td>\n",
              "      <td>61</td>\n",
              "      <td>95</td>\n",
              "    </tr>\n",
              "    <tr>\n",
              "      <th>12</th>\n",
              "      <td>Rebecca Tunney</td>\n",
              "      <td>Gymnastics</td>\n",
              "      <td>58</td>\n",
              "      <td>77</td>\n",
              "    </tr>\n",
              "    <tr>\n",
              "      <th>13</th>\n",
              "      <td>Rene Kalmer</td>\n",
              "      <td>Track</td>\n",
              "      <td>70</td>\n",
              "      <td>108</td>\n",
              "    </tr>\n",
              "    <tr>\n",
              "      <th>14</th>\n",
              "      <td>Shanna Crossley</td>\n",
              "      <td>Basketball</td>\n",
              "      <td>70</td>\n",
              "      <td>155</td>\n",
              "    </tr>\n",
              "    <tr>\n",
              "      <th>15</th>\n",
              "      <td>Shavonte Zellous</td>\n",
              "      <td>Basketball</td>\n",
              "      <td>70</td>\n",
              "      <td>155</td>\n",
              "    </tr>\n",
              "    <tr>\n",
              "      <th>16</th>\n",
              "      <td>Tatyana Petrova</td>\n",
              "      <td>Track</td>\n",
              "      <td>63</td>\n",
              "      <td>108</td>\n",
              "    </tr>\n",
              "    <tr>\n",
              "      <th>17</th>\n",
              "      <td>Tiki Gelana</td>\n",
              "      <td>Track</td>\n",
              "      <td>65</td>\n",
              "      <td>106</td>\n",
              "    </tr>\n",
              "    <tr>\n",
              "      <th>18</th>\n",
              "      <td>Valeria Straneo</td>\n",
              "      <td>Track</td>\n",
              "      <td>66</td>\n",
              "      <td>97</td>\n",
              "    </tr>\n",
              "    <tr>\n",
              "      <th>19</th>\n",
              "      <td>Viktoria Komova</td>\n",
              "      <td>Gymnastics</td>\n",
              "      <td>61</td>\n",
              "      <td>76</td>\n",
              "    </tr>\n",
              "    <tr>\n",
              "      <th>20</th>\n",
              "      <td>Amy Cragg</td>\n",
              "      <td>Track</td>\n",
              "      <td>64</td>\n",
              "      <td>99</td>\n",
              "    </tr>\n",
              "    <tr>\n",
              "      <th>21</th>\n",
              "      <td>Simone Biles</td>\n",
              "      <td>Gymnastics</td>\n",
              "      <td>57</td>\n",
              "      <td>104</td>\n",
              "    </tr>\n",
              "    <tr>\n",
              "      <th>22</th>\n",
              "      <td>Madison Kocian</td>\n",
              "      <td>Gymnastics</td>\n",
              "      <td>62</td>\n",
              "      <td>101</td>\n",
              "    </tr>\n",
              "    <tr>\n",
              "      <th>23</th>\n",
              "      <td>Elena Delle Donne</td>\n",
              "      <td>Basketball</td>\n",
              "      <td>77</td>\n",
              "      <td>188</td>\n",
              "    </tr>\n",
              "    <tr>\n",
              "      <th>24</th>\n",
              "      <td>Seimone Augustus</td>\n",
              "      <td>Basketball</td>\n",
              "      <td>72</td>\n",
              "      <td>166</td>\n",
              "    </tr>\n",
              "    <tr>\n",
              "      <th>25</th>\n",
              "      <td>Desiree Linden</td>\n",
              "      <td>Track</td>\n",
              "      <td>61</td>\n",
              "      <td>97</td>\n",
              "    </tr>\n",
              "    <tr>\n",
              "      <th>26</th>\n",
              "      <td>Shalane Flanagan</td>\n",
              "      <td>Track</td>\n",
              "      <td>65</td>\n",
              "      <td>106</td>\n",
              "    </tr>\n",
              "    <tr>\n",
              "      <th>27</th>\n",
              "      <td>Laurie Hernandez</td>\n",
              "      <td>Gymnastics</td>\n",
              "      <td>60</td>\n",
              "      <td>106</td>\n",
              "    </tr>\n",
              "  </tbody>\n",
              "</table>\n",
              "</div>"
            ],
            "text/plain": [
              "                 Name       Sport  Height  Weight\n",
              "0      Asuka Teramoto  Gymnastics      54      66\n",
              "1    Brittainey Raven  Basketball      72     162\n",
              "2            Chen Nan  Basketball      78     204\n",
              "3       Gabby Douglas  Gymnastics      49      90\n",
              "4    Helalia Johannes       Track      65      99\n",
              "5     Irina Miketenko       Track      63     106\n",
              "6       Jennifer Lacy  Basketball      75     175\n",
              "7        Kara Goucher       Track      67     123\n",
              "8         Linlin Deng  Gymnastics      54      68\n",
              "9       Nakia Sanford  Basketball      76     200\n",
              "10         Nikki Blue  Basketball      68     163\n",
              "11    Qiushuang Huang  Gymnastics      61      95\n",
              "12     Rebecca Tunney  Gymnastics      58      77\n",
              "13        Rene Kalmer       Track      70     108\n",
              "14    Shanna Crossley  Basketball      70     155\n",
              "15   Shavonte Zellous  Basketball      70     155\n",
              "16    Tatyana Petrova       Track      63     108\n",
              "17        Tiki Gelana       Track      65     106\n",
              "18    Valeria Straneo       Track      66      97\n",
              "19    Viktoria Komova  Gymnastics      61      76\n",
              "20          Amy Cragg       Track      64      99\n",
              "21       Simone Biles  Gymnastics      57     104\n",
              "22     Madison Kocian  Gymnastics      62     101\n",
              "23  Elena Delle Donne  Basketball      77     188\n",
              "24   Seimone Augustus  Basketball      72     166\n",
              "25     Desiree Linden       Track      61      97\n",
              "26   Shalane Flanagan       Track      65     106\n",
              "27   Laurie Hernandez  Gymnastics      60     106"
            ]
          },
          "metadata": {
            "tags": []
          },
          "execution_count": 23
        }
      ]
    },
    {
      "cell_type": "markdown",
      "metadata": {
        "id": "_M-sknI7GOS3",
        "colab_type": "text"
      },
      "source": [
        "### Reading a CSV file the local machine\n",
        "First, let's get that file onto our local machine:"
      ]
    },
    {
      "cell_type": "code",
      "metadata": {
        "id": "Z9djkC_5GOS3",
        "colab_type": "code",
        "colab": {
          "base_uri": "https://localhost:8080/",
          "height": 69
        },
        "outputId": "d94dc422-0876-45b6-b6ff-fb369de1af19"
      },
      "source": [
        "!curl https://raw.githubusercontent.com/zacharski/ml-class/master/data/athletes.csv > localAthletes.csv"
      ],
      "execution_count": 24,
      "outputs": [
        {
          "output_type": "stream",
          "text": [
            "  % Total    % Received % Xferd  Average Speed   Time    Time     Time  Current\n",
            "                                 Dload  Upload   Total   Spent    Left  Speed\n",
            "\r  0     0    0     0    0     0      0      0 --:--:-- --:--:-- --:--:--     0\r100   878  100   878    0     0   9865      0 --:--:-- --:--:-- --:--:--  9865\n"
          ],
          "name": "stdout"
        }
      ]
    },
    {
      "cell_type": "markdown",
      "metadata": {
        "id": "VWH4gCm-GOS5",
        "colab_type": "text"
      },
      "source": [
        "Hmm. That didn't work. Can you fix the error and rerun that cell?\n",
        "\n",
        "---\n",
        "Now we can specify the local file using `pd=read_csv`"
      ]
    },
    {
      "cell_type": "code",
      "metadata": {
        "scrolled": true,
        "id": "55VKnGWKGOS5",
        "colab_type": "code",
        "colab": {
          "base_uri": "https://localhost:8080/",
          "height": 907
        },
        "outputId": "b5e33e72-245e-4e51-94d0-fa1c2562beae"
      },
      "source": [
        "d6 = pd.read_csv('localAthletes.csv')\n",
        "d6"
      ],
      "execution_count": 25,
      "outputs": [
        {
          "output_type": "execute_result",
          "data": {
            "text/html": [
              "<div>\n",
              "<style scoped>\n",
              "    .dataframe tbody tr th:only-of-type {\n",
              "        vertical-align: middle;\n",
              "    }\n",
              "\n",
              "    .dataframe tbody tr th {\n",
              "        vertical-align: top;\n",
              "    }\n",
              "\n",
              "    .dataframe thead th {\n",
              "        text-align: right;\n",
              "    }\n",
              "</style>\n",
              "<table border=\"1\" class=\"dataframe\">\n",
              "  <thead>\n",
              "    <tr style=\"text-align: right;\">\n",
              "      <th></th>\n",
              "      <th>Name</th>\n",
              "      <th>Sport</th>\n",
              "      <th>Height</th>\n",
              "      <th>Weight</th>\n",
              "    </tr>\n",
              "  </thead>\n",
              "  <tbody>\n",
              "    <tr>\n",
              "      <th>0</th>\n",
              "      <td>Asuka Teramoto</td>\n",
              "      <td>Gymnastics</td>\n",
              "      <td>54</td>\n",
              "      <td>66</td>\n",
              "    </tr>\n",
              "    <tr>\n",
              "      <th>1</th>\n",
              "      <td>Brittainey Raven</td>\n",
              "      <td>Basketball</td>\n",
              "      <td>72</td>\n",
              "      <td>162</td>\n",
              "    </tr>\n",
              "    <tr>\n",
              "      <th>2</th>\n",
              "      <td>Chen Nan</td>\n",
              "      <td>Basketball</td>\n",
              "      <td>78</td>\n",
              "      <td>204</td>\n",
              "    </tr>\n",
              "    <tr>\n",
              "      <th>3</th>\n",
              "      <td>Gabby Douglas</td>\n",
              "      <td>Gymnastics</td>\n",
              "      <td>49</td>\n",
              "      <td>90</td>\n",
              "    </tr>\n",
              "    <tr>\n",
              "      <th>4</th>\n",
              "      <td>Helalia Johannes</td>\n",
              "      <td>Track</td>\n",
              "      <td>65</td>\n",
              "      <td>99</td>\n",
              "    </tr>\n",
              "    <tr>\n",
              "      <th>5</th>\n",
              "      <td>Irina Miketenko</td>\n",
              "      <td>Track</td>\n",
              "      <td>63</td>\n",
              "      <td>106</td>\n",
              "    </tr>\n",
              "    <tr>\n",
              "      <th>6</th>\n",
              "      <td>Jennifer Lacy</td>\n",
              "      <td>Basketball</td>\n",
              "      <td>75</td>\n",
              "      <td>175</td>\n",
              "    </tr>\n",
              "    <tr>\n",
              "      <th>7</th>\n",
              "      <td>Kara Goucher</td>\n",
              "      <td>Track</td>\n",
              "      <td>67</td>\n",
              "      <td>123</td>\n",
              "    </tr>\n",
              "    <tr>\n",
              "      <th>8</th>\n",
              "      <td>Linlin Deng</td>\n",
              "      <td>Gymnastics</td>\n",
              "      <td>54</td>\n",
              "      <td>68</td>\n",
              "    </tr>\n",
              "    <tr>\n",
              "      <th>9</th>\n",
              "      <td>Nakia Sanford</td>\n",
              "      <td>Basketball</td>\n",
              "      <td>76</td>\n",
              "      <td>200</td>\n",
              "    </tr>\n",
              "    <tr>\n",
              "      <th>10</th>\n",
              "      <td>Nikki Blue</td>\n",
              "      <td>Basketball</td>\n",
              "      <td>68</td>\n",
              "      <td>163</td>\n",
              "    </tr>\n",
              "    <tr>\n",
              "      <th>11</th>\n",
              "      <td>Qiushuang Huang</td>\n",
              "      <td>Gymnastics</td>\n",
              "      <td>61</td>\n",
              "      <td>95</td>\n",
              "    </tr>\n",
              "    <tr>\n",
              "      <th>12</th>\n",
              "      <td>Rebecca Tunney</td>\n",
              "      <td>Gymnastics</td>\n",
              "      <td>58</td>\n",
              "      <td>77</td>\n",
              "    </tr>\n",
              "    <tr>\n",
              "      <th>13</th>\n",
              "      <td>Rene Kalmer</td>\n",
              "      <td>Track</td>\n",
              "      <td>70</td>\n",
              "      <td>108</td>\n",
              "    </tr>\n",
              "    <tr>\n",
              "      <th>14</th>\n",
              "      <td>Shanna Crossley</td>\n",
              "      <td>Basketball</td>\n",
              "      <td>70</td>\n",
              "      <td>155</td>\n",
              "    </tr>\n",
              "    <tr>\n",
              "      <th>15</th>\n",
              "      <td>Shavonte Zellous</td>\n",
              "      <td>Basketball</td>\n",
              "      <td>70</td>\n",
              "      <td>155</td>\n",
              "    </tr>\n",
              "    <tr>\n",
              "      <th>16</th>\n",
              "      <td>Tatyana Petrova</td>\n",
              "      <td>Track</td>\n",
              "      <td>63</td>\n",
              "      <td>108</td>\n",
              "    </tr>\n",
              "    <tr>\n",
              "      <th>17</th>\n",
              "      <td>Tiki Gelana</td>\n",
              "      <td>Track</td>\n",
              "      <td>65</td>\n",
              "      <td>106</td>\n",
              "    </tr>\n",
              "    <tr>\n",
              "      <th>18</th>\n",
              "      <td>Valeria Straneo</td>\n",
              "      <td>Track</td>\n",
              "      <td>66</td>\n",
              "      <td>97</td>\n",
              "    </tr>\n",
              "    <tr>\n",
              "      <th>19</th>\n",
              "      <td>Viktoria Komova</td>\n",
              "      <td>Gymnastics</td>\n",
              "      <td>61</td>\n",
              "      <td>76</td>\n",
              "    </tr>\n",
              "    <tr>\n",
              "      <th>20</th>\n",
              "      <td>Amy Cragg</td>\n",
              "      <td>Track</td>\n",
              "      <td>64</td>\n",
              "      <td>99</td>\n",
              "    </tr>\n",
              "    <tr>\n",
              "      <th>21</th>\n",
              "      <td>Simone Biles</td>\n",
              "      <td>Gymnastics</td>\n",
              "      <td>57</td>\n",
              "      <td>104</td>\n",
              "    </tr>\n",
              "    <tr>\n",
              "      <th>22</th>\n",
              "      <td>Madison Kocian</td>\n",
              "      <td>Gymnastics</td>\n",
              "      <td>62</td>\n",
              "      <td>101</td>\n",
              "    </tr>\n",
              "    <tr>\n",
              "      <th>23</th>\n",
              "      <td>Elena Delle Donne</td>\n",
              "      <td>Basketball</td>\n",
              "      <td>77</td>\n",
              "      <td>188</td>\n",
              "    </tr>\n",
              "    <tr>\n",
              "      <th>24</th>\n",
              "      <td>Seimone Augustus</td>\n",
              "      <td>Basketball</td>\n",
              "      <td>72</td>\n",
              "      <td>166</td>\n",
              "    </tr>\n",
              "    <tr>\n",
              "      <th>25</th>\n",
              "      <td>Desiree Linden</td>\n",
              "      <td>Track</td>\n",
              "      <td>61</td>\n",
              "      <td>97</td>\n",
              "    </tr>\n",
              "    <tr>\n",
              "      <th>26</th>\n",
              "      <td>Shalane Flanagan</td>\n",
              "      <td>Track</td>\n",
              "      <td>65</td>\n",
              "      <td>106</td>\n",
              "    </tr>\n",
              "    <tr>\n",
              "      <th>27</th>\n",
              "      <td>Laurie Hernandez</td>\n",
              "      <td>Gymnastics</td>\n",
              "      <td>60</td>\n",
              "      <td>106</td>\n",
              "    </tr>\n",
              "  </tbody>\n",
              "</table>\n",
              "</div>"
            ],
            "text/plain": [
              "                 Name       Sport  Height  Weight\n",
              "0      Asuka Teramoto  Gymnastics      54      66\n",
              "1    Brittainey Raven  Basketball      72     162\n",
              "2            Chen Nan  Basketball      78     204\n",
              "3       Gabby Douglas  Gymnastics      49      90\n",
              "4    Helalia Johannes       Track      65      99\n",
              "5     Irina Miketenko       Track      63     106\n",
              "6       Jennifer Lacy  Basketball      75     175\n",
              "7        Kara Goucher       Track      67     123\n",
              "8         Linlin Deng  Gymnastics      54      68\n",
              "9       Nakia Sanford  Basketball      76     200\n",
              "10         Nikki Blue  Basketball      68     163\n",
              "11    Qiushuang Huang  Gymnastics      61      95\n",
              "12     Rebecca Tunney  Gymnastics      58      77\n",
              "13        Rene Kalmer       Track      70     108\n",
              "14    Shanna Crossley  Basketball      70     155\n",
              "15   Shavonte Zellous  Basketball      70     155\n",
              "16    Tatyana Petrova       Track      63     108\n",
              "17        Tiki Gelana       Track      65     106\n",
              "18    Valeria Straneo       Track      66      97\n",
              "19    Viktoria Komova  Gymnastics      61      76\n",
              "20          Amy Cragg       Track      64      99\n",
              "21       Simone Biles  Gymnastics      57     104\n",
              "22     Madison Kocian  Gymnastics      62     101\n",
              "23  Elena Delle Donne  Basketball      77     188\n",
              "24   Seimone Augustus  Basketball      72     166\n",
              "25     Desiree Linden       Track      61      97\n",
              "26   Shalane Flanagan       Track      65     106\n",
              "27   Laurie Hernandez  Gymnastics      60     106"
            ]
          },
          "metadata": {
            "tags": []
          },
          "execution_count": 25
        }
      ]
    },
    {
      "cell_type": "markdown",
      "metadata": {
        "id": "IkGRKdr6GOS7",
        "colab_type": "text"
      },
      "source": [
        "Suppose we want that file in a data directory. Let's go ahead and create the directory and move the file there."
      ]
    },
    {
      "cell_type": "code",
      "metadata": {
        "id": "71j7GdddGOS8",
        "colab_type": "code",
        "colab": {}
      },
      "source": [
        "!mkdir data\n",
        "!mv localAthletes.csv data"
      ],
      "execution_count": 26,
      "outputs": []
    },
    {
      "cell_type": "markdown",
      "metadata": {
        "id": "QBvr6am_GOS9",
        "colab_type": "text"
      },
      "source": [
        "Now when we load the file we need to give more of a path:"
      ]
    },
    {
      "cell_type": "code",
      "metadata": {
        "id": "Nv9SG9WHGOS-",
        "colab_type": "code",
        "colab": {
          "base_uri": "https://localhost:8080/",
          "height": 907
        },
        "outputId": "2094ed87-9a81-4c36-ac5e-c11ef305fe3c"
      },
      "source": [
        "d6 = pd.read_csv('data/localAthletes.csv')\n",
        "d6"
      ],
      "execution_count": 27,
      "outputs": [
        {
          "output_type": "execute_result",
          "data": {
            "text/html": [
              "<div>\n",
              "<style scoped>\n",
              "    .dataframe tbody tr th:only-of-type {\n",
              "        vertical-align: middle;\n",
              "    }\n",
              "\n",
              "    .dataframe tbody tr th {\n",
              "        vertical-align: top;\n",
              "    }\n",
              "\n",
              "    .dataframe thead th {\n",
              "        text-align: right;\n",
              "    }\n",
              "</style>\n",
              "<table border=\"1\" class=\"dataframe\">\n",
              "  <thead>\n",
              "    <tr style=\"text-align: right;\">\n",
              "      <th></th>\n",
              "      <th>Name</th>\n",
              "      <th>Sport</th>\n",
              "      <th>Height</th>\n",
              "      <th>Weight</th>\n",
              "    </tr>\n",
              "  </thead>\n",
              "  <tbody>\n",
              "    <tr>\n",
              "      <th>0</th>\n",
              "      <td>Asuka Teramoto</td>\n",
              "      <td>Gymnastics</td>\n",
              "      <td>54</td>\n",
              "      <td>66</td>\n",
              "    </tr>\n",
              "    <tr>\n",
              "      <th>1</th>\n",
              "      <td>Brittainey Raven</td>\n",
              "      <td>Basketball</td>\n",
              "      <td>72</td>\n",
              "      <td>162</td>\n",
              "    </tr>\n",
              "    <tr>\n",
              "      <th>2</th>\n",
              "      <td>Chen Nan</td>\n",
              "      <td>Basketball</td>\n",
              "      <td>78</td>\n",
              "      <td>204</td>\n",
              "    </tr>\n",
              "    <tr>\n",
              "      <th>3</th>\n",
              "      <td>Gabby Douglas</td>\n",
              "      <td>Gymnastics</td>\n",
              "      <td>49</td>\n",
              "      <td>90</td>\n",
              "    </tr>\n",
              "    <tr>\n",
              "      <th>4</th>\n",
              "      <td>Helalia Johannes</td>\n",
              "      <td>Track</td>\n",
              "      <td>65</td>\n",
              "      <td>99</td>\n",
              "    </tr>\n",
              "    <tr>\n",
              "      <th>5</th>\n",
              "      <td>Irina Miketenko</td>\n",
              "      <td>Track</td>\n",
              "      <td>63</td>\n",
              "      <td>106</td>\n",
              "    </tr>\n",
              "    <tr>\n",
              "      <th>6</th>\n",
              "      <td>Jennifer Lacy</td>\n",
              "      <td>Basketball</td>\n",
              "      <td>75</td>\n",
              "      <td>175</td>\n",
              "    </tr>\n",
              "    <tr>\n",
              "      <th>7</th>\n",
              "      <td>Kara Goucher</td>\n",
              "      <td>Track</td>\n",
              "      <td>67</td>\n",
              "      <td>123</td>\n",
              "    </tr>\n",
              "    <tr>\n",
              "      <th>8</th>\n",
              "      <td>Linlin Deng</td>\n",
              "      <td>Gymnastics</td>\n",
              "      <td>54</td>\n",
              "      <td>68</td>\n",
              "    </tr>\n",
              "    <tr>\n",
              "      <th>9</th>\n",
              "      <td>Nakia Sanford</td>\n",
              "      <td>Basketball</td>\n",
              "      <td>76</td>\n",
              "      <td>200</td>\n",
              "    </tr>\n",
              "    <tr>\n",
              "      <th>10</th>\n",
              "      <td>Nikki Blue</td>\n",
              "      <td>Basketball</td>\n",
              "      <td>68</td>\n",
              "      <td>163</td>\n",
              "    </tr>\n",
              "    <tr>\n",
              "      <th>11</th>\n",
              "      <td>Qiushuang Huang</td>\n",
              "      <td>Gymnastics</td>\n",
              "      <td>61</td>\n",
              "      <td>95</td>\n",
              "    </tr>\n",
              "    <tr>\n",
              "      <th>12</th>\n",
              "      <td>Rebecca Tunney</td>\n",
              "      <td>Gymnastics</td>\n",
              "      <td>58</td>\n",
              "      <td>77</td>\n",
              "    </tr>\n",
              "    <tr>\n",
              "      <th>13</th>\n",
              "      <td>Rene Kalmer</td>\n",
              "      <td>Track</td>\n",
              "      <td>70</td>\n",
              "      <td>108</td>\n",
              "    </tr>\n",
              "    <tr>\n",
              "      <th>14</th>\n",
              "      <td>Shanna Crossley</td>\n",
              "      <td>Basketball</td>\n",
              "      <td>70</td>\n",
              "      <td>155</td>\n",
              "    </tr>\n",
              "    <tr>\n",
              "      <th>15</th>\n",
              "      <td>Shavonte Zellous</td>\n",
              "      <td>Basketball</td>\n",
              "      <td>70</td>\n",
              "      <td>155</td>\n",
              "    </tr>\n",
              "    <tr>\n",
              "      <th>16</th>\n",
              "      <td>Tatyana Petrova</td>\n",
              "      <td>Track</td>\n",
              "      <td>63</td>\n",
              "      <td>108</td>\n",
              "    </tr>\n",
              "    <tr>\n",
              "      <th>17</th>\n",
              "      <td>Tiki Gelana</td>\n",
              "      <td>Track</td>\n",
              "      <td>65</td>\n",
              "      <td>106</td>\n",
              "    </tr>\n",
              "    <tr>\n",
              "      <th>18</th>\n",
              "      <td>Valeria Straneo</td>\n",
              "      <td>Track</td>\n",
              "      <td>66</td>\n",
              "      <td>97</td>\n",
              "    </tr>\n",
              "    <tr>\n",
              "      <th>19</th>\n",
              "      <td>Viktoria Komova</td>\n",
              "      <td>Gymnastics</td>\n",
              "      <td>61</td>\n",
              "      <td>76</td>\n",
              "    </tr>\n",
              "    <tr>\n",
              "      <th>20</th>\n",
              "      <td>Amy Cragg</td>\n",
              "      <td>Track</td>\n",
              "      <td>64</td>\n",
              "      <td>99</td>\n",
              "    </tr>\n",
              "    <tr>\n",
              "      <th>21</th>\n",
              "      <td>Simone Biles</td>\n",
              "      <td>Gymnastics</td>\n",
              "      <td>57</td>\n",
              "      <td>104</td>\n",
              "    </tr>\n",
              "    <tr>\n",
              "      <th>22</th>\n",
              "      <td>Madison Kocian</td>\n",
              "      <td>Gymnastics</td>\n",
              "      <td>62</td>\n",
              "      <td>101</td>\n",
              "    </tr>\n",
              "    <tr>\n",
              "      <th>23</th>\n",
              "      <td>Elena Delle Donne</td>\n",
              "      <td>Basketball</td>\n",
              "      <td>77</td>\n",
              "      <td>188</td>\n",
              "    </tr>\n",
              "    <tr>\n",
              "      <th>24</th>\n",
              "      <td>Seimone Augustus</td>\n",
              "      <td>Basketball</td>\n",
              "      <td>72</td>\n",
              "      <td>166</td>\n",
              "    </tr>\n",
              "    <tr>\n",
              "      <th>25</th>\n",
              "      <td>Desiree Linden</td>\n",
              "      <td>Track</td>\n",
              "      <td>61</td>\n",
              "      <td>97</td>\n",
              "    </tr>\n",
              "    <tr>\n",
              "      <th>26</th>\n",
              "      <td>Shalane Flanagan</td>\n",
              "      <td>Track</td>\n",
              "      <td>65</td>\n",
              "      <td>106</td>\n",
              "    </tr>\n",
              "    <tr>\n",
              "      <th>27</th>\n",
              "      <td>Laurie Hernandez</td>\n",
              "      <td>Gymnastics</td>\n",
              "      <td>60</td>\n",
              "      <td>106</td>\n",
              "    </tr>\n",
              "  </tbody>\n",
              "</table>\n",
              "</div>"
            ],
            "text/plain": [
              "                 Name       Sport  Height  Weight\n",
              "0      Asuka Teramoto  Gymnastics      54      66\n",
              "1    Brittainey Raven  Basketball      72     162\n",
              "2            Chen Nan  Basketball      78     204\n",
              "3       Gabby Douglas  Gymnastics      49      90\n",
              "4    Helalia Johannes       Track      65      99\n",
              "5     Irina Miketenko       Track      63     106\n",
              "6       Jennifer Lacy  Basketball      75     175\n",
              "7        Kara Goucher       Track      67     123\n",
              "8         Linlin Deng  Gymnastics      54      68\n",
              "9       Nakia Sanford  Basketball      76     200\n",
              "10         Nikki Blue  Basketball      68     163\n",
              "11    Qiushuang Huang  Gymnastics      61      95\n",
              "12     Rebecca Tunney  Gymnastics      58      77\n",
              "13        Rene Kalmer       Track      70     108\n",
              "14    Shanna Crossley  Basketball      70     155\n",
              "15   Shavonte Zellous  Basketball      70     155\n",
              "16    Tatyana Petrova       Track      63     108\n",
              "17        Tiki Gelana       Track      65     106\n",
              "18    Valeria Straneo       Track      66      97\n",
              "19    Viktoria Komova  Gymnastics      61      76\n",
              "20          Amy Cragg       Track      64      99\n",
              "21       Simone Biles  Gymnastics      57     104\n",
              "22     Madison Kocian  Gymnastics      62     101\n",
              "23  Elena Delle Donne  Basketball      77     188\n",
              "24   Seimone Augustus  Basketball      72     166\n",
              "25     Desiree Linden       Track      61      97\n",
              "26   Shalane Flanagan       Track      65     106\n",
              "27   Laurie Hernandez  Gymnastics      60     106"
            ]
          },
          "metadata": {
            "tags": []
          },
          "execution_count": 27
        }
      ]
    },
    {
      "cell_type": "markdown",
      "metadata": {
        "id": "zclZqXsGGOTA",
        "colab_type": "text"
      },
      "source": [
        "## Missing Data\n",
        "\n",
        "In real machine learning tasks, we often encounter missing values.\n",
        "\n",
        "For example, suppose we didn't know Brittainey Raven's height. In that case our CSV file would start\n",
        "\n",
        "    Name,Sport,Height,Weight\n",
        "    Asuka Teramoto,Gymnastics,54,66\n",
        "    Brittainey Raven,Basketball,,162\n",
        "    Chen Nan,Basketball,78,204\n",
        "\n",
        "with the double comma on the Brittainey line representing the missing data. When we read that file.\n",
        "\n"
      ]
    },
    {
      "cell_type": "code",
      "metadata": {
        "id": "49IIbuW_GOTA",
        "colab_type": "code",
        "colab": {
          "base_uri": "https://localhost:8080/",
          "height": 907
        },
        "outputId": "9edfe8a5-0733-4bc0-dd09-bc4e5e67615d"
      },
      "source": [
        "df7 = pd.read_csv('https://raw.githubusercontent.com/zacharski/ml-class/master/data/athletesMissingValue.csv')\n",
        "df7"
      ],
      "execution_count": 28,
      "outputs": [
        {
          "output_type": "execute_result",
          "data": {
            "text/html": [
              "<div>\n",
              "<style scoped>\n",
              "    .dataframe tbody tr th:only-of-type {\n",
              "        vertical-align: middle;\n",
              "    }\n",
              "\n",
              "    .dataframe tbody tr th {\n",
              "        vertical-align: top;\n",
              "    }\n",
              "\n",
              "    .dataframe thead th {\n",
              "        text-align: right;\n",
              "    }\n",
              "</style>\n",
              "<table border=\"1\" class=\"dataframe\">\n",
              "  <thead>\n",
              "    <tr style=\"text-align: right;\">\n",
              "      <th></th>\n",
              "      <th>Name</th>\n",
              "      <th>Sport</th>\n",
              "      <th>Height</th>\n",
              "      <th>Weight</th>\n",
              "    </tr>\n",
              "  </thead>\n",
              "  <tbody>\n",
              "    <tr>\n",
              "      <th>0</th>\n",
              "      <td>Asuka Teramoto</td>\n",
              "      <td>Gymnastics</td>\n",
              "      <td>54.0</td>\n",
              "      <td>66</td>\n",
              "    </tr>\n",
              "    <tr>\n",
              "      <th>1</th>\n",
              "      <td>Brittainey Raven</td>\n",
              "      <td>Basketball</td>\n",
              "      <td>NaN</td>\n",
              "      <td>162</td>\n",
              "    </tr>\n",
              "    <tr>\n",
              "      <th>2</th>\n",
              "      <td>Chen Nan</td>\n",
              "      <td>Basketball</td>\n",
              "      <td>78.0</td>\n",
              "      <td>204</td>\n",
              "    </tr>\n",
              "    <tr>\n",
              "      <th>3</th>\n",
              "      <td>Gabby Douglas</td>\n",
              "      <td>Gymnastics</td>\n",
              "      <td>49.0</td>\n",
              "      <td>90</td>\n",
              "    </tr>\n",
              "    <tr>\n",
              "      <th>4</th>\n",
              "      <td>Helalia Johannes</td>\n",
              "      <td>Track</td>\n",
              "      <td>65.0</td>\n",
              "      <td>99</td>\n",
              "    </tr>\n",
              "    <tr>\n",
              "      <th>5</th>\n",
              "      <td>Irina Miketenko</td>\n",
              "      <td>Track</td>\n",
              "      <td>NaN</td>\n",
              "      <td>106</td>\n",
              "    </tr>\n",
              "    <tr>\n",
              "      <th>6</th>\n",
              "      <td>Jennifer Lacy</td>\n",
              "      <td>Basketball</td>\n",
              "      <td>75.0</td>\n",
              "      <td>175</td>\n",
              "    </tr>\n",
              "    <tr>\n",
              "      <th>7</th>\n",
              "      <td>Kara Goucher</td>\n",
              "      <td>Track</td>\n",
              "      <td>67.0</td>\n",
              "      <td>123</td>\n",
              "    </tr>\n",
              "    <tr>\n",
              "      <th>8</th>\n",
              "      <td>Linlin Deng</td>\n",
              "      <td>Gymnastics</td>\n",
              "      <td>54.0</td>\n",
              "      <td>68</td>\n",
              "    </tr>\n",
              "    <tr>\n",
              "      <th>9</th>\n",
              "      <td>Nakia Sanford</td>\n",
              "      <td>Basketball</td>\n",
              "      <td>76.0</td>\n",
              "      <td>200</td>\n",
              "    </tr>\n",
              "    <tr>\n",
              "      <th>10</th>\n",
              "      <td>Nikki Blue</td>\n",
              "      <td>Basketball</td>\n",
              "      <td>68.0</td>\n",
              "      <td>163</td>\n",
              "    </tr>\n",
              "    <tr>\n",
              "      <th>11</th>\n",
              "      <td>Qiushuang Huang</td>\n",
              "      <td>Gymnastics</td>\n",
              "      <td>61.0</td>\n",
              "      <td>95</td>\n",
              "    </tr>\n",
              "    <tr>\n",
              "      <th>12</th>\n",
              "      <td>Rebecca Tunney</td>\n",
              "      <td>Gymnastics</td>\n",
              "      <td>NaN</td>\n",
              "      <td>77</td>\n",
              "    </tr>\n",
              "    <tr>\n",
              "      <th>13</th>\n",
              "      <td>Rene Kalmer</td>\n",
              "      <td>Track</td>\n",
              "      <td>70.0</td>\n",
              "      <td>108</td>\n",
              "    </tr>\n",
              "    <tr>\n",
              "      <th>14</th>\n",
              "      <td>Shanna Crossley</td>\n",
              "      <td>Basketball</td>\n",
              "      <td>70.0</td>\n",
              "      <td>155</td>\n",
              "    </tr>\n",
              "    <tr>\n",
              "      <th>15</th>\n",
              "      <td>Shavonte Zellous</td>\n",
              "      <td>Basketball</td>\n",
              "      <td>70.0</td>\n",
              "      <td>155</td>\n",
              "    </tr>\n",
              "    <tr>\n",
              "      <th>16</th>\n",
              "      <td>Tatyana Petrova</td>\n",
              "      <td>Track</td>\n",
              "      <td>63.0</td>\n",
              "      <td>108</td>\n",
              "    </tr>\n",
              "    <tr>\n",
              "      <th>17</th>\n",
              "      <td>Tiki Gelana</td>\n",
              "      <td>Track</td>\n",
              "      <td>65.0</td>\n",
              "      <td>106</td>\n",
              "    </tr>\n",
              "    <tr>\n",
              "      <th>18</th>\n",
              "      <td>Valeria Straneo</td>\n",
              "      <td>Track</td>\n",
              "      <td>66.0</td>\n",
              "      <td>97</td>\n",
              "    </tr>\n",
              "    <tr>\n",
              "      <th>19</th>\n",
              "      <td>Viktoria Komova</td>\n",
              "      <td>Gymnastics</td>\n",
              "      <td>61.0</td>\n",
              "      <td>76</td>\n",
              "    </tr>\n",
              "    <tr>\n",
              "      <th>20</th>\n",
              "      <td>Amy Cragg</td>\n",
              "      <td>NaN</td>\n",
              "      <td>64.0</td>\n",
              "      <td>99</td>\n",
              "    </tr>\n",
              "    <tr>\n",
              "      <th>21</th>\n",
              "      <td>Simone Biles</td>\n",
              "      <td>Gymnastics</td>\n",
              "      <td>57.0</td>\n",
              "      <td>104</td>\n",
              "    </tr>\n",
              "    <tr>\n",
              "      <th>22</th>\n",
              "      <td>Madison Kocian</td>\n",
              "      <td>Gymnastics</td>\n",
              "      <td>62.0</td>\n",
              "      <td>101</td>\n",
              "    </tr>\n",
              "    <tr>\n",
              "      <th>23</th>\n",
              "      <td>Elena Delle Donne</td>\n",
              "      <td>Basketball</td>\n",
              "      <td>77.0</td>\n",
              "      <td>188</td>\n",
              "    </tr>\n",
              "    <tr>\n",
              "      <th>24</th>\n",
              "      <td>Seimone Augustus</td>\n",
              "      <td>Basketball</td>\n",
              "      <td>72.0</td>\n",
              "      <td>166</td>\n",
              "    </tr>\n",
              "    <tr>\n",
              "      <th>25</th>\n",
              "      <td>Desiree Linden</td>\n",
              "      <td>Track</td>\n",
              "      <td>61.0</td>\n",
              "      <td>97</td>\n",
              "    </tr>\n",
              "    <tr>\n",
              "      <th>26</th>\n",
              "      <td>Shalane Flanagan</td>\n",
              "      <td>Track</td>\n",
              "      <td>65.0</td>\n",
              "      <td>106</td>\n",
              "    </tr>\n",
              "    <tr>\n",
              "      <th>27</th>\n",
              "      <td>Laurie Hernandez</td>\n",
              "      <td>Gymnastics</td>\n",
              "      <td>60.0</td>\n",
              "      <td>106</td>\n",
              "    </tr>\n",
              "  </tbody>\n",
              "</table>\n",
              "</div>"
            ],
            "text/plain": [
              "                 Name       Sport  Height  Weight\n",
              "0      Asuka Teramoto  Gymnastics    54.0      66\n",
              "1    Brittainey Raven  Basketball     NaN     162\n",
              "2            Chen Nan  Basketball    78.0     204\n",
              "3       Gabby Douglas  Gymnastics    49.0      90\n",
              "4    Helalia Johannes       Track    65.0      99\n",
              "5     Irina Miketenko       Track     NaN     106\n",
              "6       Jennifer Lacy  Basketball    75.0     175\n",
              "7        Kara Goucher       Track    67.0     123\n",
              "8         Linlin Deng  Gymnastics    54.0      68\n",
              "9       Nakia Sanford  Basketball    76.0     200\n",
              "10         Nikki Blue  Basketball    68.0     163\n",
              "11    Qiushuang Huang  Gymnastics    61.0      95\n",
              "12     Rebecca Tunney  Gymnastics     NaN      77\n",
              "13        Rene Kalmer       Track    70.0     108\n",
              "14    Shanna Crossley  Basketball    70.0     155\n",
              "15   Shavonte Zellous  Basketball    70.0     155\n",
              "16    Tatyana Petrova       Track    63.0     108\n",
              "17        Tiki Gelana       Track    65.0     106\n",
              "18    Valeria Straneo       Track    66.0      97\n",
              "19    Viktoria Komova  Gymnastics    61.0      76\n",
              "20          Amy Cragg         NaN    64.0      99\n",
              "21       Simone Biles  Gymnastics    57.0     104\n",
              "22     Madison Kocian  Gymnastics    62.0     101\n",
              "23  Elena Delle Donne  Basketball    77.0     188\n",
              "24   Seimone Augustus  Basketball    72.0     166\n",
              "25     Desiree Linden       Track    61.0      97\n",
              "26   Shalane Flanagan       Track    65.0     106\n",
              "27   Laurie Hernandez  Gymnastics    60.0     106"
            ]
          },
          "metadata": {
            "tags": []
          },
          "execution_count": 28
        }
      ]
    },
    {
      "cell_type": "markdown",
      "metadata": {
        "id": "K9HlVMv0GOTC",
        "colab_type": "text"
      },
      "source": [
        "We see that Brittainey Raven's height is now the floating point value NaN meaning Not a Number. This NaN value is used even in columns that do not contain floating point values. For example, in row 20 above, Amy Cragg has NaN in the Sport column. Wes McKinney, the developer of Pandas calls NaN a *sentinel* value that is easily detected and indicates a missing value.\n",
        "\n",
        "#### Adding a missing value by hand\n",
        "Suppose we didn't know the number of cylinders of a Ford F150:\n",
        "\n",
        "make | mpg | cylinders | HP | 0-60 |\n",
        "---- | :---: | :---: | :---: | :---: \n",
        "Fiat | 38 | 4 | 157   | 6.9 \n",
        "Ford F150 | 19 | - | 386 | 6.3 \n",
        "Mazda 3 | 37 | 4 | 155 |  7.5 \n",
        "Ford Escape | 27 | 4 | 245 | 7.1 \n",
        "Kia Soul | 31 | 4 | 164 | 8.5 \n",
        "\n",
        "In that case we can create a dataframe like:\n"
      ]
    },
    {
      "cell_type": "code",
      "metadata": {
        "id": "MGYyZHM6GOTD",
        "colab_type": "code",
        "colab": {
          "base_uri": "https://localhost:8080/",
          "height": 202
        },
        "outputId": "b8316118-c15a-4147-ef19-85e317bdf6f7"
      },
      "source": [
        "cars3 = {'make': Series(['Fiat 500', 'Ford F-150', 'Mazda 3', 'Ford Escape', 'Kia Soul']),\n",
        "        'mpg': Series([38, 19, 37, 27, 31]),\n",
        "        'cylinders': Series([4,np.nan, 4, 4, 4]),\n",
        "        'HP': [157, 386, 155, 245, 164],\n",
        "        '0-60': Series([6.9, 6.3, 7.5, 7.1, 8.5])}\n",
        "        \n",
        "carz = DataFrame(cars3)\n",
        "carz"
      ],
      "execution_count": 29,
      "outputs": [
        {
          "output_type": "execute_result",
          "data": {
            "text/html": [
              "<div>\n",
              "<style scoped>\n",
              "    .dataframe tbody tr th:only-of-type {\n",
              "        vertical-align: middle;\n",
              "    }\n",
              "\n",
              "    .dataframe tbody tr th {\n",
              "        vertical-align: top;\n",
              "    }\n",
              "\n",
              "    .dataframe thead th {\n",
              "        text-align: right;\n",
              "    }\n",
              "</style>\n",
              "<table border=\"1\" class=\"dataframe\">\n",
              "  <thead>\n",
              "    <tr style=\"text-align: right;\">\n",
              "      <th></th>\n",
              "      <th>make</th>\n",
              "      <th>mpg</th>\n",
              "      <th>cylinders</th>\n",
              "      <th>HP</th>\n",
              "      <th>0-60</th>\n",
              "    </tr>\n",
              "  </thead>\n",
              "  <tbody>\n",
              "    <tr>\n",
              "      <th>0</th>\n",
              "      <td>Fiat 500</td>\n",
              "      <td>38</td>\n",
              "      <td>4.0</td>\n",
              "      <td>157</td>\n",
              "      <td>6.9</td>\n",
              "    </tr>\n",
              "    <tr>\n",
              "      <th>1</th>\n",
              "      <td>Ford F-150</td>\n",
              "      <td>19</td>\n",
              "      <td>NaN</td>\n",
              "      <td>386</td>\n",
              "      <td>6.3</td>\n",
              "    </tr>\n",
              "    <tr>\n",
              "      <th>2</th>\n",
              "      <td>Mazda 3</td>\n",
              "      <td>37</td>\n",
              "      <td>4.0</td>\n",
              "      <td>155</td>\n",
              "      <td>7.5</td>\n",
              "    </tr>\n",
              "    <tr>\n",
              "      <th>3</th>\n",
              "      <td>Ford Escape</td>\n",
              "      <td>27</td>\n",
              "      <td>4.0</td>\n",
              "      <td>245</td>\n",
              "      <td>7.1</td>\n",
              "    </tr>\n",
              "    <tr>\n",
              "      <th>4</th>\n",
              "      <td>Kia Soul</td>\n",
              "      <td>31</td>\n",
              "      <td>4.0</td>\n",
              "      <td>164</td>\n",
              "      <td>8.5</td>\n",
              "    </tr>\n",
              "  </tbody>\n",
              "</table>\n",
              "</div>"
            ],
            "text/plain": [
              "          make  mpg  cylinders   HP  0-60\n",
              "0     Fiat 500   38        4.0  157   6.9\n",
              "1   Ford F-150   19        NaN  386   6.3\n",
              "2      Mazda 3   37        4.0  155   7.5\n",
              "3  Ford Escape   27        4.0  245   7.1\n",
              "4     Kia Soul   31        4.0  164   8.5"
            ]
          },
          "metadata": {
            "tags": []
          },
          "execution_count": 29
        }
      ]
    },
    {
      "cell_type": "markdown",
      "metadata": {
        "id": "iQprW2LoGOTE",
        "colab_type": "text"
      },
      "source": [
        "where `np.nan` is Numpy's NaN.  We can also use Python's `None`:\n"
      ]
    },
    {
      "cell_type": "code",
      "metadata": {
        "id": "mqzdn0rbGOTF",
        "colab_type": "code",
        "colab": {
          "base_uri": "https://localhost:8080/",
          "height": 202
        },
        "outputId": "12c54a31-92fe-4e47-b5ed-cbff9499d746"
      },
      "source": [
        "cars3 = {'make': Series(['Fiat 500', 'Ford F-150', 'Mazda 3', 'Ford Escape', 'Kia Soul']),\n",
        "        'mpg': Series([38, 19, 37, 27, 31]),\n",
        "        'cylinders': Series([4,None, 4, 4, 4]),\n",
        "        'HP': [157, 386, 155, 245, 164],\n",
        "        '0-60': Series([6.9, 6.3, 7.5, 7.1, 8.5])}\n",
        "        \n",
        "carz = DataFrame(cars3)\n",
        "carz"
      ],
      "execution_count": 30,
      "outputs": [
        {
          "output_type": "execute_result",
          "data": {
            "text/html": [
              "<div>\n",
              "<style scoped>\n",
              "    .dataframe tbody tr th:only-of-type {\n",
              "        vertical-align: middle;\n",
              "    }\n",
              "\n",
              "    .dataframe tbody tr th {\n",
              "        vertical-align: top;\n",
              "    }\n",
              "\n",
              "    .dataframe thead th {\n",
              "        text-align: right;\n",
              "    }\n",
              "</style>\n",
              "<table border=\"1\" class=\"dataframe\">\n",
              "  <thead>\n",
              "    <tr style=\"text-align: right;\">\n",
              "      <th></th>\n",
              "      <th>make</th>\n",
              "      <th>mpg</th>\n",
              "      <th>cylinders</th>\n",
              "      <th>HP</th>\n",
              "      <th>0-60</th>\n",
              "    </tr>\n",
              "  </thead>\n",
              "  <tbody>\n",
              "    <tr>\n",
              "      <th>0</th>\n",
              "      <td>Fiat 500</td>\n",
              "      <td>38</td>\n",
              "      <td>4.0</td>\n",
              "      <td>157</td>\n",
              "      <td>6.9</td>\n",
              "    </tr>\n",
              "    <tr>\n",
              "      <th>1</th>\n",
              "      <td>Ford F-150</td>\n",
              "      <td>19</td>\n",
              "      <td>NaN</td>\n",
              "      <td>386</td>\n",
              "      <td>6.3</td>\n",
              "    </tr>\n",
              "    <tr>\n",
              "      <th>2</th>\n",
              "      <td>Mazda 3</td>\n",
              "      <td>37</td>\n",
              "      <td>4.0</td>\n",
              "      <td>155</td>\n",
              "      <td>7.5</td>\n",
              "    </tr>\n",
              "    <tr>\n",
              "      <th>3</th>\n",
              "      <td>Ford Escape</td>\n",
              "      <td>27</td>\n",
              "      <td>4.0</td>\n",
              "      <td>245</td>\n",
              "      <td>7.1</td>\n",
              "    </tr>\n",
              "    <tr>\n",
              "      <th>4</th>\n",
              "      <td>Kia Soul</td>\n",
              "      <td>31</td>\n",
              "      <td>4.0</td>\n",
              "      <td>164</td>\n",
              "      <td>8.5</td>\n",
              "    </tr>\n",
              "  </tbody>\n",
              "</table>\n",
              "</div>"
            ],
            "text/plain": [
              "          make  mpg  cylinders   HP  0-60\n",
              "0     Fiat 500   38        4.0  157   6.9\n",
              "1   Ford F-150   19        NaN  386   6.3\n",
              "2      Mazda 3   37        4.0  155   7.5\n",
              "3  Ford Escape   27        4.0  245   7.1\n",
              "4     Kia Soul   31        4.0  164   8.5"
            ]
          },
          "metadata": {
            "tags": []
          },
          "execution_count": 30
        }
      ]
    },
    {
      "cell_type": "markdown",
      "metadata": {
        "id": "oBPtBZeTGOTI",
        "colab_type": "text"
      },
      "source": [
        "In addition to reading CSV files, there are many other ways of reading in data including from SQL databases, mongoDB, and webpages. See the Pandas documentation for details.\n",
        "\n",
        "<h3 style=\"color:red\">Q2. Pima Indians Diabetes Dataset</h3>\n",
        "It is time to look at a new dataset, the Pima Indians Diabetes Data Set developed by the\n",
        "United States National Institute of Diabetes and Digestive and Kidney Diseases.\n",
        "\n",
        "The majority of the Pima people live on a reservation in Arizona.\n",
        "\n",
        "![](https://upload.wikimedia.org/wikipedia/commons/6/65/Pinal_County_Arizona_Incorporated_and_Unincorporated_areas_GRIC_highlighted.svg)\n",
        "\n",
        "Astonishingly, over 30% of Pima people develop diabetes. In contrast, the diabetes rate in\n",
        "the United States is around 12% and in China it is 4.2%. The country with the lowest rate of diabetes is Benin at 1.5%.\n",
        "\n",
        "Each instance in the dataset represents information about a Pima woman over the age of 21\n",
        "and belonged to one of two classes: a person who developed diabetes within five years, or a\n",
        "person that did not. There are eight attributes in addition to the column representing whether or not they developed diabetes:\n",
        "\n",
        "\n",
        "1.  The number of times the woman was pregnant\n",
        "2.  Plasma glucose concentration a 2 hours in an oral glucose tolerance test \n",
        "3.  Diastolic blood pressure (mm Hg)\n",
        "4.  Triceps skin fold thickness (mm) \n",
        "5.  2-Hour serum insulin (mu U/ml) \n",
        "6.  Body mass index (weight in kg/(height in m)^2) \n",
        "7.  Diabetes pedigree function \n",
        "8.  Age\n",
        "9.  Whether they got diabetes or not (0 = no, 1 = yes)\n",
        "\n",
        "\n",
        "<span style=\"color:red\">Please create a dataframe from the csv file at </span>\n",
        "\n",
        "    https://raw.githubusercontent.com/zacharski/ml-class/master/data/pima-indians-diabetes.csv\n",
        "    \n",
        "<span style=\"color:red\">This file does not have a header row</span>"
      ]
    },
    {
      "cell_type": "code",
      "metadata": {
        "id": "rmwE8PbQGOTI",
        "colab_type": "code",
        "colab": {
          "base_uri": "https://localhost:8080/",
          "height": 415
        },
        "outputId": "a2bcde16-935a-4134-a30e-88bed15c236e"
      },
      "source": [
        "#Your code here\n",
        "dfPima = pd.read_csv('https://raw.githubusercontent.com/zacharski/ml-class/master/data/pima-indians-diabetes.csv', names=['Pregnancies', 'Plasma Glucose', 'Blood Pressure', 'Tricep Skin', 'Serum Insulin', 'BMI', 'Diabetes Function', 'Age', 'Diabetes'])\n",
        "\n",
        "dfPima"
      ],
      "execution_count": 56,
      "outputs": [
        {
          "output_type": "execute_result",
          "data": {
            "text/html": [
              "<div>\n",
              "<style scoped>\n",
              "    .dataframe tbody tr th:only-of-type {\n",
              "        vertical-align: middle;\n",
              "    }\n",
              "\n",
              "    .dataframe tbody tr th {\n",
              "        vertical-align: top;\n",
              "    }\n",
              "\n",
              "    .dataframe thead th {\n",
              "        text-align: right;\n",
              "    }\n",
              "</style>\n",
              "<table border=\"1\" class=\"dataframe\">\n",
              "  <thead>\n",
              "    <tr style=\"text-align: right;\">\n",
              "      <th></th>\n",
              "      <th>Pregnancies</th>\n",
              "      <th>Plasma Glucose</th>\n",
              "      <th>Blood Pressure</th>\n",
              "      <th>Tricep Skin</th>\n",
              "      <th>Serum Insulin</th>\n",
              "      <th>BMI</th>\n",
              "      <th>Diabetes Function</th>\n",
              "      <th>Age</th>\n",
              "      <th>Diabetes</th>\n",
              "    </tr>\n",
              "  </thead>\n",
              "  <tbody>\n",
              "    <tr>\n",
              "      <th>0</th>\n",
              "      <td>6</td>\n",
              "      <td>148</td>\n",
              "      <td>72</td>\n",
              "      <td>35</td>\n",
              "      <td>0</td>\n",
              "      <td>33.6</td>\n",
              "      <td>0.627</td>\n",
              "      <td>50</td>\n",
              "      <td>1</td>\n",
              "    </tr>\n",
              "    <tr>\n",
              "      <th>1</th>\n",
              "      <td>1</td>\n",
              "      <td>85</td>\n",
              "      <td>66</td>\n",
              "      <td>29</td>\n",
              "      <td>0</td>\n",
              "      <td>26.6</td>\n",
              "      <td>0.351</td>\n",
              "      <td>31</td>\n",
              "      <td>0</td>\n",
              "    </tr>\n",
              "    <tr>\n",
              "      <th>2</th>\n",
              "      <td>8</td>\n",
              "      <td>183</td>\n",
              "      <td>64</td>\n",
              "      <td>0</td>\n",
              "      <td>0</td>\n",
              "      <td>23.3</td>\n",
              "      <td>0.672</td>\n",
              "      <td>32</td>\n",
              "      <td>1</td>\n",
              "    </tr>\n",
              "    <tr>\n",
              "      <th>3</th>\n",
              "      <td>1</td>\n",
              "      <td>89</td>\n",
              "      <td>66</td>\n",
              "      <td>23</td>\n",
              "      <td>94</td>\n",
              "      <td>28.1</td>\n",
              "      <td>0.167</td>\n",
              "      <td>21</td>\n",
              "      <td>0</td>\n",
              "    </tr>\n",
              "    <tr>\n",
              "      <th>4</th>\n",
              "      <td>0</td>\n",
              "      <td>137</td>\n",
              "      <td>40</td>\n",
              "      <td>35</td>\n",
              "      <td>168</td>\n",
              "      <td>43.1</td>\n",
              "      <td>2.288</td>\n",
              "      <td>33</td>\n",
              "      <td>1</td>\n",
              "    </tr>\n",
              "    <tr>\n",
              "      <th>...</th>\n",
              "      <td>...</td>\n",
              "      <td>...</td>\n",
              "      <td>...</td>\n",
              "      <td>...</td>\n",
              "      <td>...</td>\n",
              "      <td>...</td>\n",
              "      <td>...</td>\n",
              "      <td>...</td>\n",
              "      <td>...</td>\n",
              "    </tr>\n",
              "    <tr>\n",
              "      <th>763</th>\n",
              "      <td>10</td>\n",
              "      <td>101</td>\n",
              "      <td>76</td>\n",
              "      <td>48</td>\n",
              "      <td>180</td>\n",
              "      <td>32.9</td>\n",
              "      <td>0.171</td>\n",
              "      <td>63</td>\n",
              "      <td>0</td>\n",
              "    </tr>\n",
              "    <tr>\n",
              "      <th>764</th>\n",
              "      <td>2</td>\n",
              "      <td>122</td>\n",
              "      <td>70</td>\n",
              "      <td>27</td>\n",
              "      <td>0</td>\n",
              "      <td>36.8</td>\n",
              "      <td>0.340</td>\n",
              "      <td>27</td>\n",
              "      <td>0</td>\n",
              "    </tr>\n",
              "    <tr>\n",
              "      <th>765</th>\n",
              "      <td>5</td>\n",
              "      <td>121</td>\n",
              "      <td>72</td>\n",
              "      <td>23</td>\n",
              "      <td>112</td>\n",
              "      <td>26.2</td>\n",
              "      <td>0.245</td>\n",
              "      <td>30</td>\n",
              "      <td>0</td>\n",
              "    </tr>\n",
              "    <tr>\n",
              "      <th>766</th>\n",
              "      <td>1</td>\n",
              "      <td>126</td>\n",
              "      <td>60</td>\n",
              "      <td>0</td>\n",
              "      <td>0</td>\n",
              "      <td>30.1</td>\n",
              "      <td>0.349</td>\n",
              "      <td>47</td>\n",
              "      <td>1</td>\n",
              "    </tr>\n",
              "    <tr>\n",
              "      <th>767</th>\n",
              "      <td>1</td>\n",
              "      <td>93</td>\n",
              "      <td>70</td>\n",
              "      <td>31</td>\n",
              "      <td>0</td>\n",
              "      <td>30.4</td>\n",
              "      <td>0.315</td>\n",
              "      <td>23</td>\n",
              "      <td>0</td>\n",
              "    </tr>\n",
              "  </tbody>\n",
              "</table>\n",
              "<p>768 rows × 9 columns</p>\n",
              "</div>"
            ],
            "text/plain": [
              "     Pregnancies  Plasma Glucose  ...  Age  Diabetes\n",
              "0              6             148  ...   50         1\n",
              "1              1              85  ...   31         0\n",
              "2              8             183  ...   32         1\n",
              "3              1              89  ...   21         0\n",
              "4              0             137  ...   33         1\n",
              "..           ...             ...  ...  ...       ...\n",
              "763           10             101  ...   63         0\n",
              "764            2             122  ...   27         0\n",
              "765            5             121  ...   30         0\n",
              "766            1             126  ...   47         1\n",
              "767            1              93  ...   23         0\n",
              "\n",
              "[768 rows x 9 columns]"
            ]
          },
          "metadata": {
            "tags": []
          },
          "execution_count": 56
        }
      ]
    },
    {
      "cell_type": "markdown",
      "metadata": {
        "id": "utyvaDq2GOTM",
        "colab_type": "text"
      },
      "source": [
        "## Accessing data in a DataFrame\n",
        "We can get a column of a DataFrame by using the column name:"
      ]
    },
    {
      "cell_type": "code",
      "metadata": {
        "id": "gPPGpSUyGOTM",
        "colab_type": "code",
        "colab": {
          "base_uri": "https://localhost:8080/",
          "height": 520
        },
        "outputId": "b595aa07-8087-4b48-e181-82c88d029092"
      },
      "source": [
        "athletes['Weight']"
      ],
      "execution_count": 33,
      "outputs": [
        {
          "output_type": "execute_result",
          "data": {
            "text/plain": [
              "0      66\n",
              "1     162\n",
              "2     204\n",
              "3      90\n",
              "4      99\n",
              "5     106\n",
              "6     175\n",
              "7     123\n",
              "8      68\n",
              "9     200\n",
              "10    163\n",
              "11     95\n",
              "12     77\n",
              "13    108\n",
              "14    155\n",
              "15    155\n",
              "16    108\n",
              "17    106\n",
              "18     97\n",
              "19     76\n",
              "20     99\n",
              "21    104\n",
              "22    101\n",
              "23    188\n",
              "24    166\n",
              "25     97\n",
              "26    106\n",
              "27    106\n",
              "Name: Weight, dtype: int64"
            ]
          },
          "metadata": {
            "tags": []
          },
          "execution_count": 33
        }
      ]
    },
    {
      "cell_type": "markdown",
      "metadata": {
        "id": "nnAhFzM6GOTO",
        "colab_type": "text"
      },
      "source": [
        "and we can get multiple columns by passing a list of column names"
      ]
    },
    {
      "cell_type": "code",
      "metadata": {
        "id": "GxZAchwAGOTO",
        "colab_type": "code",
        "colab": {
          "base_uri": "https://localhost:8080/",
          "height": 907
        },
        "outputId": "9ed4cbf9-1afc-4106-c731-b5fbdf61fb7f"
      },
      "source": [
        "athletes[['Weight', 'Height']]"
      ],
      "execution_count": 34,
      "outputs": [
        {
          "output_type": "execute_result",
          "data": {
            "text/html": [
              "<div>\n",
              "<style scoped>\n",
              "    .dataframe tbody tr th:only-of-type {\n",
              "        vertical-align: middle;\n",
              "    }\n",
              "\n",
              "    .dataframe tbody tr th {\n",
              "        vertical-align: top;\n",
              "    }\n",
              "\n",
              "    .dataframe thead th {\n",
              "        text-align: right;\n",
              "    }\n",
              "</style>\n",
              "<table border=\"1\" class=\"dataframe\">\n",
              "  <thead>\n",
              "    <tr style=\"text-align: right;\">\n",
              "      <th></th>\n",
              "      <th>Weight</th>\n",
              "      <th>Height</th>\n",
              "    </tr>\n",
              "  </thead>\n",
              "  <tbody>\n",
              "    <tr>\n",
              "      <th>0</th>\n",
              "      <td>66</td>\n",
              "      <td>54</td>\n",
              "    </tr>\n",
              "    <tr>\n",
              "      <th>1</th>\n",
              "      <td>162</td>\n",
              "      <td>72</td>\n",
              "    </tr>\n",
              "    <tr>\n",
              "      <th>2</th>\n",
              "      <td>204</td>\n",
              "      <td>78</td>\n",
              "    </tr>\n",
              "    <tr>\n",
              "      <th>3</th>\n",
              "      <td>90</td>\n",
              "      <td>49</td>\n",
              "    </tr>\n",
              "    <tr>\n",
              "      <th>4</th>\n",
              "      <td>99</td>\n",
              "      <td>65</td>\n",
              "    </tr>\n",
              "    <tr>\n",
              "      <th>5</th>\n",
              "      <td>106</td>\n",
              "      <td>63</td>\n",
              "    </tr>\n",
              "    <tr>\n",
              "      <th>6</th>\n",
              "      <td>175</td>\n",
              "      <td>75</td>\n",
              "    </tr>\n",
              "    <tr>\n",
              "      <th>7</th>\n",
              "      <td>123</td>\n",
              "      <td>67</td>\n",
              "    </tr>\n",
              "    <tr>\n",
              "      <th>8</th>\n",
              "      <td>68</td>\n",
              "      <td>54</td>\n",
              "    </tr>\n",
              "    <tr>\n",
              "      <th>9</th>\n",
              "      <td>200</td>\n",
              "      <td>76</td>\n",
              "    </tr>\n",
              "    <tr>\n",
              "      <th>10</th>\n",
              "      <td>163</td>\n",
              "      <td>68</td>\n",
              "    </tr>\n",
              "    <tr>\n",
              "      <th>11</th>\n",
              "      <td>95</td>\n",
              "      <td>61</td>\n",
              "    </tr>\n",
              "    <tr>\n",
              "      <th>12</th>\n",
              "      <td>77</td>\n",
              "      <td>58</td>\n",
              "    </tr>\n",
              "    <tr>\n",
              "      <th>13</th>\n",
              "      <td>108</td>\n",
              "      <td>70</td>\n",
              "    </tr>\n",
              "    <tr>\n",
              "      <th>14</th>\n",
              "      <td>155</td>\n",
              "      <td>70</td>\n",
              "    </tr>\n",
              "    <tr>\n",
              "      <th>15</th>\n",
              "      <td>155</td>\n",
              "      <td>70</td>\n",
              "    </tr>\n",
              "    <tr>\n",
              "      <th>16</th>\n",
              "      <td>108</td>\n",
              "      <td>63</td>\n",
              "    </tr>\n",
              "    <tr>\n",
              "      <th>17</th>\n",
              "      <td>106</td>\n",
              "      <td>65</td>\n",
              "    </tr>\n",
              "    <tr>\n",
              "      <th>18</th>\n",
              "      <td>97</td>\n",
              "      <td>66</td>\n",
              "    </tr>\n",
              "    <tr>\n",
              "      <th>19</th>\n",
              "      <td>76</td>\n",
              "      <td>61</td>\n",
              "    </tr>\n",
              "    <tr>\n",
              "      <th>20</th>\n",
              "      <td>99</td>\n",
              "      <td>64</td>\n",
              "    </tr>\n",
              "    <tr>\n",
              "      <th>21</th>\n",
              "      <td>104</td>\n",
              "      <td>57</td>\n",
              "    </tr>\n",
              "    <tr>\n",
              "      <th>22</th>\n",
              "      <td>101</td>\n",
              "      <td>62</td>\n",
              "    </tr>\n",
              "    <tr>\n",
              "      <th>23</th>\n",
              "      <td>188</td>\n",
              "      <td>77</td>\n",
              "    </tr>\n",
              "    <tr>\n",
              "      <th>24</th>\n",
              "      <td>166</td>\n",
              "      <td>72</td>\n",
              "    </tr>\n",
              "    <tr>\n",
              "      <th>25</th>\n",
              "      <td>97</td>\n",
              "      <td>61</td>\n",
              "    </tr>\n",
              "    <tr>\n",
              "      <th>26</th>\n",
              "      <td>106</td>\n",
              "      <td>65</td>\n",
              "    </tr>\n",
              "    <tr>\n",
              "      <th>27</th>\n",
              "      <td>106</td>\n",
              "      <td>60</td>\n",
              "    </tr>\n",
              "  </tbody>\n",
              "</table>\n",
              "</div>"
            ],
            "text/plain": [
              "    Weight  Height\n",
              "0       66      54\n",
              "1      162      72\n",
              "2      204      78\n",
              "3       90      49\n",
              "4       99      65\n",
              "5      106      63\n",
              "6      175      75\n",
              "7      123      67\n",
              "8       68      54\n",
              "9      200      76\n",
              "10     163      68\n",
              "11      95      61\n",
              "12      77      58\n",
              "13     108      70\n",
              "14     155      70\n",
              "15     155      70\n",
              "16     108      63\n",
              "17     106      65\n",
              "18      97      66\n",
              "19      76      61\n",
              "20      99      64\n",
              "21     104      57\n",
              "22     101      62\n",
              "23     188      77\n",
              "24     166      72\n",
              "25      97      61\n",
              "26     106      65\n",
              "27     106      60"
            ]
          },
          "metadata": {
            "tags": []
          },
          "execution_count": 34
        }
      ]
    },
    {
      "cell_type": "markdown",
      "metadata": {
        "id": "_z3AukdSGOTQ",
        "colab_type": "text"
      },
      "source": [
        "<h3 style=\"color:red\">Q3. Pima Indians Diabetes Dataframe</h3>\n",
        "\n",
        "<span style=\"color:red\">Suppose we want to create a new dataframe `pima2` from the original one but with only the columns</span>\n",
        "\n",
        "\n",
        "\n",
        "1.  Plasma glucose concentration a 2 hours in an oral glucose tolerance test \n",
        "2.  2-Hour serum insulin (mu U/ml) \n",
        "3.  Body mass index (weight in kg/(height in m)^2) \n",
        "4.  Diabetes pedigree function \n",
        "5.  Age\n",
        "6.  Whether they got diabetes or not (0 = no, 1 = yes)\n",
        "\n",
        "\n",
        "<span style=\"color:red\">How would you do so?</span>\n"
      ]
    },
    {
      "cell_type": "code",
      "metadata": {
        "id": "wktGBnf3GOTQ",
        "colab_type": "code",
        "colab": {
          "base_uri": "https://localhost:8080/",
          "height": 415
        },
        "outputId": "d236c140-382e-45e2-c612-e02fdf26df6a"
      },
      "source": [
        "# your code here\n",
        "pima2 = dfPima[['Plasma Glucose', 'Serum Insulin', 'BMI', 'Diabetes Function', 'Age', 'Diabetes']]\n",
        "pima2"
      ],
      "execution_count": 57,
      "outputs": [
        {
          "output_type": "execute_result",
          "data": {
            "text/html": [
              "<div>\n",
              "<style scoped>\n",
              "    .dataframe tbody tr th:only-of-type {\n",
              "        vertical-align: middle;\n",
              "    }\n",
              "\n",
              "    .dataframe tbody tr th {\n",
              "        vertical-align: top;\n",
              "    }\n",
              "\n",
              "    .dataframe thead th {\n",
              "        text-align: right;\n",
              "    }\n",
              "</style>\n",
              "<table border=\"1\" class=\"dataframe\">\n",
              "  <thead>\n",
              "    <tr style=\"text-align: right;\">\n",
              "      <th></th>\n",
              "      <th>Plasma Glucose</th>\n",
              "      <th>Serum Insulin</th>\n",
              "      <th>BMI</th>\n",
              "      <th>Diabetes Function</th>\n",
              "      <th>Age</th>\n",
              "      <th>Diabetes</th>\n",
              "    </tr>\n",
              "  </thead>\n",
              "  <tbody>\n",
              "    <tr>\n",
              "      <th>0</th>\n",
              "      <td>148</td>\n",
              "      <td>0</td>\n",
              "      <td>33.6</td>\n",
              "      <td>0.627</td>\n",
              "      <td>50</td>\n",
              "      <td>1</td>\n",
              "    </tr>\n",
              "    <tr>\n",
              "      <th>1</th>\n",
              "      <td>85</td>\n",
              "      <td>0</td>\n",
              "      <td>26.6</td>\n",
              "      <td>0.351</td>\n",
              "      <td>31</td>\n",
              "      <td>0</td>\n",
              "    </tr>\n",
              "    <tr>\n",
              "      <th>2</th>\n",
              "      <td>183</td>\n",
              "      <td>0</td>\n",
              "      <td>23.3</td>\n",
              "      <td>0.672</td>\n",
              "      <td>32</td>\n",
              "      <td>1</td>\n",
              "    </tr>\n",
              "    <tr>\n",
              "      <th>3</th>\n",
              "      <td>89</td>\n",
              "      <td>94</td>\n",
              "      <td>28.1</td>\n",
              "      <td>0.167</td>\n",
              "      <td>21</td>\n",
              "      <td>0</td>\n",
              "    </tr>\n",
              "    <tr>\n",
              "      <th>4</th>\n",
              "      <td>137</td>\n",
              "      <td>168</td>\n",
              "      <td>43.1</td>\n",
              "      <td>2.288</td>\n",
              "      <td>33</td>\n",
              "      <td>1</td>\n",
              "    </tr>\n",
              "    <tr>\n",
              "      <th>...</th>\n",
              "      <td>...</td>\n",
              "      <td>...</td>\n",
              "      <td>...</td>\n",
              "      <td>...</td>\n",
              "      <td>...</td>\n",
              "      <td>...</td>\n",
              "    </tr>\n",
              "    <tr>\n",
              "      <th>763</th>\n",
              "      <td>101</td>\n",
              "      <td>180</td>\n",
              "      <td>32.9</td>\n",
              "      <td>0.171</td>\n",
              "      <td>63</td>\n",
              "      <td>0</td>\n",
              "    </tr>\n",
              "    <tr>\n",
              "      <th>764</th>\n",
              "      <td>122</td>\n",
              "      <td>0</td>\n",
              "      <td>36.8</td>\n",
              "      <td>0.340</td>\n",
              "      <td>27</td>\n",
              "      <td>0</td>\n",
              "    </tr>\n",
              "    <tr>\n",
              "      <th>765</th>\n",
              "      <td>121</td>\n",
              "      <td>112</td>\n",
              "      <td>26.2</td>\n",
              "      <td>0.245</td>\n",
              "      <td>30</td>\n",
              "      <td>0</td>\n",
              "    </tr>\n",
              "    <tr>\n",
              "      <th>766</th>\n",
              "      <td>126</td>\n",
              "      <td>0</td>\n",
              "      <td>30.1</td>\n",
              "      <td>0.349</td>\n",
              "      <td>47</td>\n",
              "      <td>1</td>\n",
              "    </tr>\n",
              "    <tr>\n",
              "      <th>767</th>\n",
              "      <td>93</td>\n",
              "      <td>0</td>\n",
              "      <td>30.4</td>\n",
              "      <td>0.315</td>\n",
              "      <td>23</td>\n",
              "      <td>0</td>\n",
              "    </tr>\n",
              "  </tbody>\n",
              "</table>\n",
              "<p>768 rows × 6 columns</p>\n",
              "</div>"
            ],
            "text/plain": [
              "     Plasma Glucose  Serum Insulin   BMI  Diabetes Function  Age  Diabetes\n",
              "0               148              0  33.6              0.627   50         1\n",
              "1                85              0  26.6              0.351   31         0\n",
              "2               183              0  23.3              0.672   32         1\n",
              "3                89             94  28.1              0.167   21         0\n",
              "4               137            168  43.1              2.288   33         1\n",
              "..              ...            ...   ...                ...  ...       ...\n",
              "763             101            180  32.9              0.171   63         0\n",
              "764             122              0  36.8              0.340   27         0\n",
              "765             121            112  26.2              0.245   30         0\n",
              "766             126              0  30.1              0.349   47         1\n",
              "767              93              0  30.4              0.315   23         0\n",
              "\n",
              "[768 rows x 6 columns]"
            ]
          },
          "metadata": {
            "tags": []
          },
          "execution_count": 57
        }
      ]
    },
    {
      "cell_type": "markdown",
      "metadata": {
        "id": "RgBd_z0IGOTS",
        "colab_type": "text"
      },
      "source": [
        "### Returning rows\n",
        "\n",
        "To get a row we can use the `loc` function"
      ]
    },
    {
      "cell_type": "code",
      "metadata": {
        "id": "Y1-rqm91GOTT",
        "colab_type": "code",
        "colab": {
          "base_uri": "https://localhost:8080/",
          "height": 104
        },
        "outputId": "a8ad71a3-f5f1-4457-b758-7a23fae97370"
      },
      "source": [
        "athletes.loc[0]"
      ],
      "execution_count": 36,
      "outputs": [
        {
          "output_type": "execute_result",
          "data": {
            "text/plain": [
              "Name      Asuka Teramoto\n",
              "Sport         Gymnastics\n",
              "Height                54\n",
              "Weight                66\n",
              "Name: 0, dtype: object"
            ]
          },
          "metadata": {
            "tags": []
          },
          "execution_count": 36
        }
      ]
    },
    {
      "cell_type": "markdown",
      "metadata": {
        "id": "ywfp6O_KGOTU",
        "colab_type": "text"
      },
      "source": [
        "We can also get rows that match a specific criterion. For example:"
      ]
    },
    {
      "cell_type": "code",
      "metadata": {
        "id": "u6DGvSKgGOTV",
        "colab_type": "code",
        "colab": {
          "base_uri": "https://localhost:8080/",
          "height": 325
        },
        "outputId": "751c543c-619e-4138-f522-dbbb00d92e5a"
      },
      "source": [
        "basketballPlayers = athletes.loc[athletes['Sport'] == 'Basketball']\n",
        "basketballPlayers"
      ],
      "execution_count": 37,
      "outputs": [
        {
          "output_type": "execute_result",
          "data": {
            "text/html": [
              "<div>\n",
              "<style scoped>\n",
              "    .dataframe tbody tr th:only-of-type {\n",
              "        vertical-align: middle;\n",
              "    }\n",
              "\n",
              "    .dataframe tbody tr th {\n",
              "        vertical-align: top;\n",
              "    }\n",
              "\n",
              "    .dataframe thead th {\n",
              "        text-align: right;\n",
              "    }\n",
              "</style>\n",
              "<table border=\"1\" class=\"dataframe\">\n",
              "  <thead>\n",
              "    <tr style=\"text-align: right;\">\n",
              "      <th></th>\n",
              "      <th>Name</th>\n",
              "      <th>Sport</th>\n",
              "      <th>Height</th>\n",
              "      <th>Weight</th>\n",
              "    </tr>\n",
              "  </thead>\n",
              "  <tbody>\n",
              "    <tr>\n",
              "      <th>1</th>\n",
              "      <td>Brittainey Raven</td>\n",
              "      <td>Basketball</td>\n",
              "      <td>72</td>\n",
              "      <td>162</td>\n",
              "    </tr>\n",
              "    <tr>\n",
              "      <th>2</th>\n",
              "      <td>Chen Nan</td>\n",
              "      <td>Basketball</td>\n",
              "      <td>78</td>\n",
              "      <td>204</td>\n",
              "    </tr>\n",
              "    <tr>\n",
              "      <th>6</th>\n",
              "      <td>Jennifer Lacy</td>\n",
              "      <td>Basketball</td>\n",
              "      <td>75</td>\n",
              "      <td>175</td>\n",
              "    </tr>\n",
              "    <tr>\n",
              "      <th>9</th>\n",
              "      <td>Nakia Sanford</td>\n",
              "      <td>Basketball</td>\n",
              "      <td>76</td>\n",
              "      <td>200</td>\n",
              "    </tr>\n",
              "    <tr>\n",
              "      <th>10</th>\n",
              "      <td>Nikki Blue</td>\n",
              "      <td>Basketball</td>\n",
              "      <td>68</td>\n",
              "      <td>163</td>\n",
              "    </tr>\n",
              "    <tr>\n",
              "      <th>14</th>\n",
              "      <td>Shanna Crossley</td>\n",
              "      <td>Basketball</td>\n",
              "      <td>70</td>\n",
              "      <td>155</td>\n",
              "    </tr>\n",
              "    <tr>\n",
              "      <th>15</th>\n",
              "      <td>Shavonte Zellous</td>\n",
              "      <td>Basketball</td>\n",
              "      <td>70</td>\n",
              "      <td>155</td>\n",
              "    </tr>\n",
              "    <tr>\n",
              "      <th>23</th>\n",
              "      <td>Elena Delle Donne</td>\n",
              "      <td>Basketball</td>\n",
              "      <td>77</td>\n",
              "      <td>188</td>\n",
              "    </tr>\n",
              "    <tr>\n",
              "      <th>24</th>\n",
              "      <td>Seimone Augustus</td>\n",
              "      <td>Basketball</td>\n",
              "      <td>72</td>\n",
              "      <td>166</td>\n",
              "    </tr>\n",
              "  </tbody>\n",
              "</table>\n",
              "</div>"
            ],
            "text/plain": [
              "                 Name       Sport  Height  Weight\n",
              "1    Brittainey Raven  Basketball      72     162\n",
              "2            Chen Nan  Basketball      78     204\n",
              "6       Jennifer Lacy  Basketball      75     175\n",
              "9       Nakia Sanford  Basketball      76     200\n",
              "10         Nikki Blue  Basketball      68     163\n",
              "14    Shanna Crossley  Basketball      70     155\n",
              "15   Shavonte Zellous  Basketball      70     155\n",
              "23  Elena Delle Donne  Basketball      77     188\n",
              "24   Seimone Augustus  Basketball      72     166"
            ]
          },
          "metadata": {
            "tags": []
          },
          "execution_count": 37
        }
      ]
    },
    {
      "cell_type": "code",
      "metadata": {
        "id": "ty7B1smSGOTX",
        "colab_type": "code",
        "colab": {
          "base_uri": "https://localhost:8080/",
          "height": 171
        },
        "outputId": "22e04b5d-aa77-4f6e-d668-d86f44f31917"
      },
      "source": [
        "tallBasketballPlayers = athletes.loc[(athletes['Sport'] == 'Basketball') & (athletes['Height'] > 72)]\n",
        "tallBasketballPlayers"
      ],
      "execution_count": 38,
      "outputs": [
        {
          "output_type": "execute_result",
          "data": {
            "text/html": [
              "<div>\n",
              "<style scoped>\n",
              "    .dataframe tbody tr th:only-of-type {\n",
              "        vertical-align: middle;\n",
              "    }\n",
              "\n",
              "    .dataframe tbody tr th {\n",
              "        vertical-align: top;\n",
              "    }\n",
              "\n",
              "    .dataframe thead th {\n",
              "        text-align: right;\n",
              "    }\n",
              "</style>\n",
              "<table border=\"1\" class=\"dataframe\">\n",
              "  <thead>\n",
              "    <tr style=\"text-align: right;\">\n",
              "      <th></th>\n",
              "      <th>Name</th>\n",
              "      <th>Sport</th>\n",
              "      <th>Height</th>\n",
              "      <th>Weight</th>\n",
              "    </tr>\n",
              "  </thead>\n",
              "  <tbody>\n",
              "    <tr>\n",
              "      <th>2</th>\n",
              "      <td>Chen Nan</td>\n",
              "      <td>Basketball</td>\n",
              "      <td>78</td>\n",
              "      <td>204</td>\n",
              "    </tr>\n",
              "    <tr>\n",
              "      <th>6</th>\n",
              "      <td>Jennifer Lacy</td>\n",
              "      <td>Basketball</td>\n",
              "      <td>75</td>\n",
              "      <td>175</td>\n",
              "    </tr>\n",
              "    <tr>\n",
              "      <th>9</th>\n",
              "      <td>Nakia Sanford</td>\n",
              "      <td>Basketball</td>\n",
              "      <td>76</td>\n",
              "      <td>200</td>\n",
              "    </tr>\n",
              "    <tr>\n",
              "      <th>23</th>\n",
              "      <td>Elena Delle Donne</td>\n",
              "      <td>Basketball</td>\n",
              "      <td>77</td>\n",
              "      <td>188</td>\n",
              "    </tr>\n",
              "  </tbody>\n",
              "</table>\n",
              "</div>"
            ],
            "text/plain": [
              "                 Name       Sport  Height  Weight\n",
              "2            Chen Nan  Basketball      78     204\n",
              "6       Jennifer Lacy  Basketball      75     175\n",
              "9       Nakia Sanford  Basketball      76     200\n",
              "23  Elena Delle Donne  Basketball      77     188"
            ]
          },
          "metadata": {
            "tags": []
          },
          "execution_count": 38
        }
      ]
    },
    {
      "cell_type": "markdown",
      "metadata": {
        "id": "1pAqPka3GOTZ",
        "colab_type": "text"
      },
      "source": [
        "<span style=\"color:red\">How would we create a new DataFrame that has all the athletes who weight under 100 pounds?</span>"
      ]
    },
    {
      "cell_type": "code",
      "metadata": {
        "id": "ovDgTzgFGOTZ",
        "colab_type": "code",
        "colab": {
          "base_uri": "https://localhost:8080/",
          "height": 355
        },
        "outputId": "0490f677-be7a-428b-8ee1-6cfe1dfcb424"
      },
      "source": [
        "lightAtheltes = athletes.loc[(athletes['Weight'] < 100)]\n",
        "lightAtheltes"
      ],
      "execution_count": 59,
      "outputs": [
        {
          "output_type": "execute_result",
          "data": {
            "text/html": [
              "<div>\n",
              "<style scoped>\n",
              "    .dataframe tbody tr th:only-of-type {\n",
              "        vertical-align: middle;\n",
              "    }\n",
              "\n",
              "    .dataframe tbody tr th {\n",
              "        vertical-align: top;\n",
              "    }\n",
              "\n",
              "    .dataframe thead th {\n",
              "        text-align: right;\n",
              "    }\n",
              "</style>\n",
              "<table border=\"1\" class=\"dataframe\">\n",
              "  <thead>\n",
              "    <tr style=\"text-align: right;\">\n",
              "      <th></th>\n",
              "      <th>Name</th>\n",
              "      <th>Sport</th>\n",
              "      <th>Height</th>\n",
              "      <th>Weight</th>\n",
              "      <th>bmi</th>\n",
              "    </tr>\n",
              "  </thead>\n",
              "  <tbody>\n",
              "    <tr>\n",
              "      <th>0</th>\n",
              "      <td>Asuka Teramoto</td>\n",
              "      <td>Gymnastics</td>\n",
              "      <td>54</td>\n",
              "      <td>66</td>\n",
              "      <td>15.911523</td>\n",
              "    </tr>\n",
              "    <tr>\n",
              "      <th>3</th>\n",
              "      <td>Gabby Douglas</td>\n",
              "      <td>Gymnastics</td>\n",
              "      <td>49</td>\n",
              "      <td>90</td>\n",
              "      <td>26.351520</td>\n",
              "    </tr>\n",
              "    <tr>\n",
              "      <th>4</th>\n",
              "      <td>Helalia Johannes</td>\n",
              "      <td>Track</td>\n",
              "      <td>65</td>\n",
              "      <td>99</td>\n",
              "      <td>16.472663</td>\n",
              "    </tr>\n",
              "    <tr>\n",
              "      <th>8</th>\n",
              "      <td>Linlin Deng</td>\n",
              "      <td>Gymnastics</td>\n",
              "      <td>54</td>\n",
              "      <td>68</td>\n",
              "      <td>16.393690</td>\n",
              "    </tr>\n",
              "    <tr>\n",
              "      <th>11</th>\n",
              "      <td>Qiushuang Huang</td>\n",
              "      <td>Gymnastics</td>\n",
              "      <td>61</td>\n",
              "      <td>95</td>\n",
              "      <td>17.948132</td>\n",
              "    </tr>\n",
              "    <tr>\n",
              "      <th>12</th>\n",
              "      <td>Rebecca Tunney</td>\n",
              "      <td>Gymnastics</td>\n",
              "      <td>58</td>\n",
              "      <td>77</td>\n",
              "      <td>16.091260</td>\n",
              "    </tr>\n",
              "    <tr>\n",
              "      <th>18</th>\n",
              "      <td>Valeria Straneo</td>\n",
              "      <td>Track</td>\n",
              "      <td>66</td>\n",
              "      <td>97</td>\n",
              "      <td>15.654500</td>\n",
              "    </tr>\n",
              "    <tr>\n",
              "      <th>19</th>\n",
              "      <td>Viktoria Komova</td>\n",
              "      <td>Gymnastics</td>\n",
              "      <td>61</td>\n",
              "      <td>76</td>\n",
              "      <td>14.358506</td>\n",
              "    </tr>\n",
              "    <tr>\n",
              "      <th>20</th>\n",
              "      <td>Amy Cragg</td>\n",
              "      <td>Track</td>\n",
              "      <td>64</td>\n",
              "      <td>99</td>\n",
              "      <td>16.991455</td>\n",
              "    </tr>\n",
              "    <tr>\n",
              "      <th>25</th>\n",
              "      <td>Desiree Linden</td>\n",
              "      <td>Track</td>\n",
              "      <td>61</td>\n",
              "      <td>97</td>\n",
              "      <td>18.325988</td>\n",
              "    </tr>\n",
              "  </tbody>\n",
              "</table>\n",
              "</div>"
            ],
            "text/plain": [
              "                Name       Sport  Height  Weight        bmi\n",
              "0     Asuka Teramoto  Gymnastics      54      66  15.911523\n",
              "3      Gabby Douglas  Gymnastics      49      90  26.351520\n",
              "4   Helalia Johannes       Track      65      99  16.472663\n",
              "8        Linlin Deng  Gymnastics      54      68  16.393690\n",
              "11   Qiushuang Huang  Gymnastics      61      95  17.948132\n",
              "12    Rebecca Tunney  Gymnastics      58      77  16.091260\n",
              "18   Valeria Straneo       Track      66      97  15.654500\n",
              "19   Viktoria Komova  Gymnastics      61      76  14.358506\n",
              "20         Amy Cragg       Track      64      99  16.991455\n",
              "25    Desiree Linden       Track      61      97  18.325988"
            ]
          },
          "metadata": {
            "tags": []
          },
          "execution_count": 59
        }
      ]
    },
    {
      "cell_type": "markdown",
      "metadata": {
        "id": "Wg3m_LoRGOTc",
        "colab_type": "text"
      },
      "source": [
        "We can add columns to a DataFrame.\n",
        "For example the formula for Body Mass Index is\n",
        "\n",
        "$$BMI = \\frac{weightInPounds}{heightInInches^2} \\times 703 $$"
      ]
    },
    {
      "cell_type": "code",
      "metadata": {
        "id": "hoUkwadJGOTd",
        "colab_type": "code",
        "colab": {}
      },
      "source": [
        "athletes['bmi'] = 703 *athletes['Weight'] / (athletes['Height']**2) "
      ],
      "execution_count": 39,
      "outputs": []
    },
    {
      "cell_type": "code",
      "metadata": {
        "id": "feaNjIc7GOTe",
        "colab_type": "code",
        "colab": {
          "base_uri": "https://localhost:8080/",
          "height": 907
        },
        "outputId": "0a58d7b9-b52b-4380-bef7-90aa08780a95"
      },
      "source": [
        "athletes"
      ],
      "execution_count": 40,
      "outputs": [
        {
          "output_type": "execute_result",
          "data": {
            "text/html": [
              "<div>\n",
              "<style scoped>\n",
              "    .dataframe tbody tr th:only-of-type {\n",
              "        vertical-align: middle;\n",
              "    }\n",
              "\n",
              "    .dataframe tbody tr th {\n",
              "        vertical-align: top;\n",
              "    }\n",
              "\n",
              "    .dataframe thead th {\n",
              "        text-align: right;\n",
              "    }\n",
              "</style>\n",
              "<table border=\"1\" class=\"dataframe\">\n",
              "  <thead>\n",
              "    <tr style=\"text-align: right;\">\n",
              "      <th></th>\n",
              "      <th>Name</th>\n",
              "      <th>Sport</th>\n",
              "      <th>Height</th>\n",
              "      <th>Weight</th>\n",
              "      <th>bmi</th>\n",
              "    </tr>\n",
              "  </thead>\n",
              "  <tbody>\n",
              "    <tr>\n",
              "      <th>0</th>\n",
              "      <td>Asuka Teramoto</td>\n",
              "      <td>Gymnastics</td>\n",
              "      <td>54</td>\n",
              "      <td>66</td>\n",
              "      <td>15.911523</td>\n",
              "    </tr>\n",
              "    <tr>\n",
              "      <th>1</th>\n",
              "      <td>Brittainey Raven</td>\n",
              "      <td>Basketball</td>\n",
              "      <td>72</td>\n",
              "      <td>162</td>\n",
              "      <td>21.968750</td>\n",
              "    </tr>\n",
              "    <tr>\n",
              "      <th>2</th>\n",
              "      <td>Chen Nan</td>\n",
              "      <td>Basketball</td>\n",
              "      <td>78</td>\n",
              "      <td>204</td>\n",
              "      <td>23.571992</td>\n",
              "    </tr>\n",
              "    <tr>\n",
              "      <th>3</th>\n",
              "      <td>Gabby Douglas</td>\n",
              "      <td>Gymnastics</td>\n",
              "      <td>49</td>\n",
              "      <td>90</td>\n",
              "      <td>26.351520</td>\n",
              "    </tr>\n",
              "    <tr>\n",
              "      <th>4</th>\n",
              "      <td>Helalia Johannes</td>\n",
              "      <td>Track</td>\n",
              "      <td>65</td>\n",
              "      <td>99</td>\n",
              "      <td>16.472663</td>\n",
              "    </tr>\n",
              "    <tr>\n",
              "      <th>5</th>\n",
              "      <td>Irina Miketenko</td>\n",
              "      <td>Track</td>\n",
              "      <td>63</td>\n",
              "      <td>106</td>\n",
              "      <td>18.775006</td>\n",
              "    </tr>\n",
              "    <tr>\n",
              "      <th>6</th>\n",
              "      <td>Jennifer Lacy</td>\n",
              "      <td>Basketball</td>\n",
              "      <td>75</td>\n",
              "      <td>175</td>\n",
              "      <td>21.871111</td>\n",
              "    </tr>\n",
              "    <tr>\n",
              "      <th>7</th>\n",
              "      <td>Kara Goucher</td>\n",
              "      <td>Track</td>\n",
              "      <td>67</td>\n",
              "      <td>123</td>\n",
              "      <td>19.262419</td>\n",
              "    </tr>\n",
              "    <tr>\n",
              "      <th>8</th>\n",
              "      <td>Linlin Deng</td>\n",
              "      <td>Gymnastics</td>\n",
              "      <td>54</td>\n",
              "      <td>68</td>\n",
              "      <td>16.393690</td>\n",
              "    </tr>\n",
              "    <tr>\n",
              "      <th>9</th>\n",
              "      <td>Nakia Sanford</td>\n",
              "      <td>Basketball</td>\n",
              "      <td>76</td>\n",
              "      <td>200</td>\n",
              "      <td>24.342105</td>\n",
              "    </tr>\n",
              "    <tr>\n",
              "      <th>10</th>\n",
              "      <td>Nikki Blue</td>\n",
              "      <td>Basketball</td>\n",
              "      <td>68</td>\n",
              "      <td>163</td>\n",
              "      <td>24.781358</td>\n",
              "    </tr>\n",
              "    <tr>\n",
              "      <th>11</th>\n",
              "      <td>Qiushuang Huang</td>\n",
              "      <td>Gymnastics</td>\n",
              "      <td>61</td>\n",
              "      <td>95</td>\n",
              "      <td>17.948132</td>\n",
              "    </tr>\n",
              "    <tr>\n",
              "      <th>12</th>\n",
              "      <td>Rebecca Tunney</td>\n",
              "      <td>Gymnastics</td>\n",
              "      <td>58</td>\n",
              "      <td>77</td>\n",
              "      <td>16.091260</td>\n",
              "    </tr>\n",
              "    <tr>\n",
              "      <th>13</th>\n",
              "      <td>Rene Kalmer</td>\n",
              "      <td>Track</td>\n",
              "      <td>70</td>\n",
              "      <td>108</td>\n",
              "      <td>15.494694</td>\n",
              "    </tr>\n",
              "    <tr>\n",
              "      <th>14</th>\n",
              "      <td>Shanna Crossley</td>\n",
              "      <td>Basketball</td>\n",
              "      <td>70</td>\n",
              "      <td>155</td>\n",
              "      <td>22.237755</td>\n",
              "    </tr>\n",
              "    <tr>\n",
              "      <th>15</th>\n",
              "      <td>Shavonte Zellous</td>\n",
              "      <td>Basketball</td>\n",
              "      <td>70</td>\n",
              "      <td>155</td>\n",
              "      <td>22.237755</td>\n",
              "    </tr>\n",
              "    <tr>\n",
              "      <th>16</th>\n",
              "      <td>Tatyana Petrova</td>\n",
              "      <td>Track</td>\n",
              "      <td>63</td>\n",
              "      <td>108</td>\n",
              "      <td>19.129252</td>\n",
              "    </tr>\n",
              "    <tr>\n",
              "      <th>17</th>\n",
              "      <td>Tiki Gelana</td>\n",
              "      <td>Track</td>\n",
              "      <td>65</td>\n",
              "      <td>106</td>\n",
              "      <td>17.637396</td>\n",
              "    </tr>\n",
              "    <tr>\n",
              "      <th>18</th>\n",
              "      <td>Valeria Straneo</td>\n",
              "      <td>Track</td>\n",
              "      <td>66</td>\n",
              "      <td>97</td>\n",
              "      <td>15.654500</td>\n",
              "    </tr>\n",
              "    <tr>\n",
              "      <th>19</th>\n",
              "      <td>Viktoria Komova</td>\n",
              "      <td>Gymnastics</td>\n",
              "      <td>61</td>\n",
              "      <td>76</td>\n",
              "      <td>14.358506</td>\n",
              "    </tr>\n",
              "    <tr>\n",
              "      <th>20</th>\n",
              "      <td>Amy Cragg</td>\n",
              "      <td>Track</td>\n",
              "      <td>64</td>\n",
              "      <td>99</td>\n",
              "      <td>16.991455</td>\n",
              "    </tr>\n",
              "    <tr>\n",
              "      <th>21</th>\n",
              "      <td>Simone Biles</td>\n",
              "      <td>Gymnastics</td>\n",
              "      <td>57</td>\n",
              "      <td>104</td>\n",
              "      <td>22.502924</td>\n",
              "    </tr>\n",
              "    <tr>\n",
              "      <th>22</th>\n",
              "      <td>Madison Kocian</td>\n",
              "      <td>Gymnastics</td>\n",
              "      <td>62</td>\n",
              "      <td>101</td>\n",
              "      <td>18.471124</td>\n",
              "    </tr>\n",
              "    <tr>\n",
              "      <th>23</th>\n",
              "      <td>Elena Delle Donne</td>\n",
              "      <td>Basketball</td>\n",
              "      <td>77</td>\n",
              "      <td>188</td>\n",
              "      <td>22.291111</td>\n",
              "    </tr>\n",
              "    <tr>\n",
              "      <th>24</th>\n",
              "      <td>Seimone Augustus</td>\n",
              "      <td>Basketball</td>\n",
              "      <td>72</td>\n",
              "      <td>166</td>\n",
              "      <td>22.511188</td>\n",
              "    </tr>\n",
              "    <tr>\n",
              "      <th>25</th>\n",
              "      <td>Desiree Linden</td>\n",
              "      <td>Track</td>\n",
              "      <td>61</td>\n",
              "      <td>97</td>\n",
              "      <td>18.325988</td>\n",
              "    </tr>\n",
              "    <tr>\n",
              "      <th>26</th>\n",
              "      <td>Shalane Flanagan</td>\n",
              "      <td>Track</td>\n",
              "      <td>65</td>\n",
              "      <td>106</td>\n",
              "      <td>17.637396</td>\n",
              "    </tr>\n",
              "    <tr>\n",
              "      <th>27</th>\n",
              "      <td>Laurie Hernandez</td>\n",
              "      <td>Gymnastics</td>\n",
              "      <td>60</td>\n",
              "      <td>106</td>\n",
              "      <td>20.699444</td>\n",
              "    </tr>\n",
              "  </tbody>\n",
              "</table>\n",
              "</div>"
            ],
            "text/plain": [
              "                 Name       Sport  Height  Weight        bmi\n",
              "0      Asuka Teramoto  Gymnastics      54      66  15.911523\n",
              "1    Brittainey Raven  Basketball      72     162  21.968750\n",
              "2            Chen Nan  Basketball      78     204  23.571992\n",
              "3       Gabby Douglas  Gymnastics      49      90  26.351520\n",
              "4    Helalia Johannes       Track      65      99  16.472663\n",
              "5     Irina Miketenko       Track      63     106  18.775006\n",
              "6       Jennifer Lacy  Basketball      75     175  21.871111\n",
              "7        Kara Goucher       Track      67     123  19.262419\n",
              "8         Linlin Deng  Gymnastics      54      68  16.393690\n",
              "9       Nakia Sanford  Basketball      76     200  24.342105\n",
              "10         Nikki Blue  Basketball      68     163  24.781358\n",
              "11    Qiushuang Huang  Gymnastics      61      95  17.948132\n",
              "12     Rebecca Tunney  Gymnastics      58      77  16.091260\n",
              "13        Rene Kalmer       Track      70     108  15.494694\n",
              "14    Shanna Crossley  Basketball      70     155  22.237755\n",
              "15   Shavonte Zellous  Basketball      70     155  22.237755\n",
              "16    Tatyana Petrova       Track      63     108  19.129252\n",
              "17        Tiki Gelana       Track      65     106  17.637396\n",
              "18    Valeria Straneo       Track      66      97  15.654500\n",
              "19    Viktoria Komova  Gymnastics      61      76  14.358506\n",
              "20          Amy Cragg       Track      64      99  16.991455\n",
              "21       Simone Biles  Gymnastics      57     104  22.502924\n",
              "22     Madison Kocian  Gymnastics      62     101  18.471124\n",
              "23  Elena Delle Donne  Basketball      77     188  22.291111\n",
              "24   Seimone Augustus  Basketball      72     166  22.511188\n",
              "25     Desiree Linden       Track      61      97  18.325988\n",
              "26   Shalane Flanagan       Track      65     106  17.637396\n",
              "27   Laurie Hernandez  Gymnastics      60     106  20.699444"
            ]
          },
          "metadata": {
            "tags": []
          },
          "execution_count": 40
        }
      ]
    },
    {
      "cell_type": "markdown",
      "metadata": {
        "id": "gi_soHbNGOTh",
        "colab_type": "text"
      },
      "source": [
        "## Descriptive Statistics on DataFrames\n",
        "One handy function is `describe`"
      ]
    },
    {
      "cell_type": "code",
      "metadata": {
        "id": "eqss4NpYGOTh",
        "colab_type": "code",
        "colab": {
          "base_uri": "https://localhost:8080/",
          "height": 294
        },
        "outputId": "c72ae717-5c6b-45ed-9b0e-548fc699b267"
      },
      "source": [
        "athletes.describe()"
      ],
      "execution_count": 41,
      "outputs": [
        {
          "output_type": "execute_result",
          "data": {
            "text/html": [
              "<div>\n",
              "<style scoped>\n",
              "    .dataframe tbody tr th:only-of-type {\n",
              "        vertical-align: middle;\n",
              "    }\n",
              "\n",
              "    .dataframe tbody tr th {\n",
              "        vertical-align: top;\n",
              "    }\n",
              "\n",
              "    .dataframe thead th {\n",
              "        text-align: right;\n",
              "    }\n",
              "</style>\n",
              "<table border=\"1\" class=\"dataframe\">\n",
              "  <thead>\n",
              "    <tr style=\"text-align: right;\">\n",
              "      <th></th>\n",
              "      <th>Height</th>\n",
              "      <th>Weight</th>\n",
              "      <th>bmi</th>\n",
              "    </tr>\n",
              "  </thead>\n",
              "  <tbody>\n",
              "    <tr>\n",
              "      <th>count</th>\n",
              "      <td>28.000000</td>\n",
              "      <td>28.000000</td>\n",
              "      <td>28.000000</td>\n",
              "    </tr>\n",
              "    <tr>\n",
              "      <th>mean</th>\n",
              "      <td>65.107143</td>\n",
              "      <td>121.428571</td>\n",
              "      <td>19.640072</td>\n",
              "    </tr>\n",
              "    <tr>\n",
              "      <th>std</th>\n",
              "      <td>7.258912</td>\n",
              "      <td>40.274455</td>\n",
              "      <td>3.264325</td>\n",
              "    </tr>\n",
              "    <tr>\n",
              "      <th>min</th>\n",
              "      <td>49.000000</td>\n",
              "      <td>66.000000</td>\n",
              "      <td>14.358506</td>\n",
              "    </tr>\n",
              "    <tr>\n",
              "      <th>25%</th>\n",
              "      <td>61.000000</td>\n",
              "      <td>97.000000</td>\n",
              "      <td>16.861757</td>\n",
              "    </tr>\n",
              "    <tr>\n",
              "      <th>50%</th>\n",
              "      <td>65.000000</td>\n",
              "      <td>106.000000</td>\n",
              "      <td>18.952129</td>\n",
              "    </tr>\n",
              "    <tr>\n",
              "      <th>75%</th>\n",
              "      <td>70.000000</td>\n",
              "      <td>156.750000</td>\n",
              "      <td>22.251094</td>\n",
              "    </tr>\n",
              "    <tr>\n",
              "      <th>max</th>\n",
              "      <td>78.000000</td>\n",
              "      <td>204.000000</td>\n",
              "      <td>26.351520</td>\n",
              "    </tr>\n",
              "  </tbody>\n",
              "</table>\n",
              "</div>"
            ],
            "text/plain": [
              "          Height      Weight        bmi\n",
              "count  28.000000   28.000000  28.000000\n",
              "mean   65.107143  121.428571  19.640072\n",
              "std     7.258912   40.274455   3.264325\n",
              "min    49.000000   66.000000  14.358506\n",
              "25%    61.000000   97.000000  16.861757\n",
              "50%    65.000000  106.000000  18.952129\n",
              "75%    70.000000  156.750000  22.251094\n",
              "max    78.000000  204.000000  26.351520"
            ]
          },
          "metadata": {
            "tags": []
          },
          "execution_count": 41
        }
      ]
    },
    {
      "cell_type": "markdown",
      "metadata": {
        "id": "oHDefRRxGOTj",
        "colab_type": "text"
      },
      "source": [
        "Alternatively, I could ask for a specific statistic:\n"
      ]
    },
    {
      "cell_type": "code",
      "metadata": {
        "id": "F2bnmOETGOTk",
        "colab_type": "code",
        "colab": {
          "base_uri": "https://localhost:8080/",
          "height": 35
        },
        "outputId": "b53b7959-242b-47d3-a482-4d95fe944536"
      },
      "source": [
        "athletes['Weight'].mean()"
      ],
      "execution_count": 42,
      "outputs": [
        {
          "output_type": "execute_result",
          "data": {
            "text/plain": [
              "121.42857142857143"
            ]
          },
          "metadata": {
            "tags": []
          },
          "execution_count": 42
        }
      ]
    },
    {
      "cell_type": "code",
      "metadata": {
        "id": "iQvECTTtGOTl",
        "colab_type": "code",
        "colab": {
          "base_uri": "https://localhost:8080/",
          "height": 35
        },
        "outputId": "621a76c6-74da-4db6-a62b-2c839aab25cc"
      },
      "source": [
        "athletes.loc[athletes['Sport'] == 'Gymnastics' ]['Weight'].mean()"
      ],
      "execution_count": 43,
      "outputs": [
        {
          "output_type": "execute_result",
          "data": {
            "text/plain": [
              "87.0"
            ]
          },
          "metadata": {
            "tags": []
          },
          "execution_count": 43
        }
      ]
    },
    {
      "cell_type": "code",
      "metadata": {
        "id": "YslSe78qGOTo",
        "colab_type": "code",
        "colab": {
          "base_uri": "https://localhost:8080/",
          "height": 35
        },
        "outputId": "8cec5c0f-88c4-42e9-ab05-9af86d868ae9"
      },
      "source": [
        "athletes.loc[athletes['Sport'] == 'Basketball' ]['Weight'].mean()"
      ],
      "execution_count": 44,
      "outputs": [
        {
          "output_type": "execute_result",
          "data": {
            "text/plain": [
              "174.22222222222223"
            ]
          },
          "metadata": {
            "tags": []
          },
          "execution_count": 44
        }
      ]
    },
    {
      "cell_type": "markdown",
      "metadata": {
        "id": "f5Lsp2okGOTq",
        "colab_type": "text"
      },
      "source": [
        "<h3 style=\"color:red\">Q4. Pima Indians</h3>\n",
        "<span style=\"color:red\">I would like to fill out this little table:</span>\n",
        "\n",
        "  x | Avg. BMI | Avg. Diabetes Pedigree | Avg. times pregnant | Avg. Plasma glucose |\n",
        "---   | :---: | :---: | :---: | :---: |\n",
        "Has Diabetes |   | |  |\n",
        "Doesn't have Diabetes |   | |  |\n",
        "\n",
        "<span style=\"color:red\">Can you get this information (where 'Avg' refers to the mean)? So, for example, the first cell is the average Body Mass Index of people who have diabetes.</span> You don't need to write code to generate a table, I just want to see the values that would be put in such a table.\n"
      ]
    },
    {
      "cell_type": "code",
      "metadata": {
        "id": "kCI1ApxuGOTq",
        "colab_type": "code",
        "colab": {
          "base_uri": "https://localhost:8080/",
          "height": 52
        },
        "outputId": "fc8fe3cd-dffe-472a-957a-2bb87859c43f"
      },
      "source": [
        "# your code here\n",
        "diabetes = dfPima.loc[dfPima['Diabetes'] == 1]['BMI'].mean(), dfPima['Diabetes Function'].mean(), dfPima['Pregnancies'].mean(), dfPima['Plasma Glucose'].mean()\n",
        "neg_diabetes = dfPima.loc[dfPima['Diabetes'] == 0]['BMI'].mean(), dfPima['Diabetes Function'].mean(), dfPima['Pregnancies'].mean(), dfPima['Plasma Glucose'].mean()\n",
        "print(diabetes)\n",
        "print(neg_diabetes)"
      ],
      "execution_count": 70,
      "outputs": [
        {
          "output_type": "stream",
          "text": [
            "(35.14253731343278, 0.4718763020833327, 3.8450520833333335, 120.89453125)\n",
            "(30.30419999999996, 0.4718763020833327, 3.8450520833333335, 120.89453125)\n"
          ],
          "name": "stdout"
        }
      ]
    },
    {
      "cell_type": "markdown",
      "metadata": {
        "id": "xbZTfaYoGOTs",
        "colab_type": "text"
      },
      "source": [
        "### Music Ratings\n",
        "\n",
        "Suppose I have customers of my vinyl record shop rate different artists\n",
        "\n",
        "|Customer | Taylor Swift | Miranda Lambert | Carrie Underwood | Nicki Minaj | Ariana Grande |\n",
        "|:-----------|:------:|:------:|:---------:|:------:|:--------:|\n",
        "|Jake|5|-|5|2|2|\n",
        "|Clara|2|-|-|4|5|\n",
        "|Kelsey|5|5|5|2|-|\n",
        "|Angelica|2|3|-|5|5|\n",
        "|Jordyn|2|1|-|5|-|\n",
        "\n",
        "<h3 style=\"color:red\">Q4. Ratings</h3>\n",
        "<span style=\"color:red\">Create a dataframe called `ratings` from the CSV file</span>\n",
        "\n",
        "    https://raw.githubusercontent.com/zacharski/ml-class/master/data/ratings.csv"
      ]
    },
    {
      "cell_type": "code",
      "metadata": {
        "id": "Sy9EBzybGOTs",
        "colab_type": "code",
        "colab": {
          "base_uri": "https://localhost:8080/",
          "height": 202
        },
        "outputId": "b0030cbd-8ee3-4e3a-e93d-9b123c8eb128"
      },
      "source": [
        "# your code here\n",
        "ratings = pd.read_csv('https://raw.githubusercontent.com/zacharski/ml-class/master/data/ratings.csv')\n",
        "ratings"
      ],
      "execution_count": 72,
      "outputs": [
        {
          "output_type": "execute_result",
          "data": {
            "text/html": [
              "<div>\n",
              "<style scoped>\n",
              "    .dataframe tbody tr th:only-of-type {\n",
              "        vertical-align: middle;\n",
              "    }\n",
              "\n",
              "    .dataframe tbody tr th {\n",
              "        vertical-align: top;\n",
              "    }\n",
              "\n",
              "    .dataframe thead th {\n",
              "        text-align: right;\n",
              "    }\n",
              "</style>\n",
              "<table border=\"1\" class=\"dataframe\">\n",
              "  <thead>\n",
              "    <tr style=\"text-align: right;\">\n",
              "      <th></th>\n",
              "      <th>Customer</th>\n",
              "      <th>Taylor Swift</th>\n",
              "      <th>Miranda Lambert</th>\n",
              "      <th>Carrie Underwood</th>\n",
              "      <th>Nicki Minaj</th>\n",
              "      <th>Ariana Grande</th>\n",
              "    </tr>\n",
              "  </thead>\n",
              "  <tbody>\n",
              "    <tr>\n",
              "      <th>0</th>\n",
              "      <td>Jake</td>\n",
              "      <td>5</td>\n",
              "      <td>NaN</td>\n",
              "      <td>5.0</td>\n",
              "      <td>2</td>\n",
              "      <td>2.0</td>\n",
              "    </tr>\n",
              "    <tr>\n",
              "      <th>1</th>\n",
              "      <td>Clara</td>\n",
              "      <td>2</td>\n",
              "      <td>NaN</td>\n",
              "      <td>NaN</td>\n",
              "      <td>4</td>\n",
              "      <td>5.0</td>\n",
              "    </tr>\n",
              "    <tr>\n",
              "      <th>2</th>\n",
              "      <td>Kelsey</td>\n",
              "      <td>5</td>\n",
              "      <td>5.0</td>\n",
              "      <td>5.0</td>\n",
              "      <td>2</td>\n",
              "      <td>NaN</td>\n",
              "    </tr>\n",
              "    <tr>\n",
              "      <th>3</th>\n",
              "      <td>Angelica</td>\n",
              "      <td>2</td>\n",
              "      <td>3.0</td>\n",
              "      <td>NaN</td>\n",
              "      <td>5</td>\n",
              "      <td>5.0</td>\n",
              "    </tr>\n",
              "    <tr>\n",
              "      <th>4</th>\n",
              "      <td>Jordyn</td>\n",
              "      <td>2</td>\n",
              "      <td>1.0</td>\n",
              "      <td>NaN</td>\n",
              "      <td>5</td>\n",
              "      <td>NaN</td>\n",
              "    </tr>\n",
              "  </tbody>\n",
              "</table>\n",
              "</div>"
            ],
            "text/plain": [
              "   Customer  Taylor Swift  ...  Nicki Minaj  Ariana Grande\n",
              "0      Jake             5  ...            2            2.0\n",
              "1     Clara             2  ...            4            5.0\n",
              "2    Kelsey             5  ...            2            NaN\n",
              "3  Angelica             2  ...            5            5.0\n",
              "4    Jordyn             2  ...            5            NaN\n",
              "\n",
              "[5 rows x 6 columns]"
            ]
          },
          "metadata": {
            "tags": []
          },
          "execution_count": 72
        }
      ]
    },
    {
      "cell_type": "markdown",
      "metadata": {
        "id": "qHFgqRQuGOTu",
        "colab_type": "text"
      },
      "source": [
        "We can get the mean rating of each artist by:\n"
      ]
    },
    {
      "cell_type": "code",
      "metadata": {
        "id": "ga1Dch--GOTv",
        "colab_type": "code",
        "colab": {
          "base_uri": "https://localhost:8080/",
          "height": 121
        },
        "outputId": "0480dfb6-0342-41c2-9069-5959b0bc4546"
      },
      "source": [
        "ratings.mean()"
      ],
      "execution_count": 73,
      "outputs": [
        {
          "output_type": "execute_result",
          "data": {
            "text/plain": [
              "Taylor Swift        3.2\n",
              "Miranda Lambert     3.0\n",
              "Carrie Underwood    5.0\n",
              "Nicki Minaj         3.6\n",
              "Ariana Grande       4.0\n",
              "dtype: float64"
            ]
          },
          "metadata": {
            "tags": []
          },
          "execution_count": 73
        }
      ]
    },
    {
      "cell_type": "markdown",
      "metadata": {
        "id": "tgpgyo_aGOTy",
        "colab_type": "text"
      },
      "source": [
        "Many descriptive statistics functions take an optional parameter `axis` that tells which axis to reduce over. If we want the mean ratings for each **customer** instead of each artist we can do:"
      ]
    },
    {
      "cell_type": "code",
      "metadata": {
        "id": "yRFGm42HGOTy",
        "colab_type": "code",
        "colab": {
          "base_uri": "https://localhost:8080/",
          "height": 121
        },
        "outputId": "ce6e03ff-1be5-4ebb-ed39-67608a2ca0f9"
      },
      "source": [
        "ratings.mean(axis=1)"
      ],
      "execution_count": 74,
      "outputs": [
        {
          "output_type": "execute_result",
          "data": {
            "text/plain": [
              "0    3.500000\n",
              "1    3.666667\n",
              "2    4.250000\n",
              "3    3.750000\n",
              "4    2.666667\n",
              "dtype: float64"
            ]
          },
          "metadata": {
            "tags": []
          },
          "execution_count": 74
        }
      ]
    },
    {
      "cell_type": "markdown",
      "metadata": {
        "id": "udJAFWsmGOT0",
        "colab_type": "text"
      },
      "source": [
        "Well, that was sort of unhelpful. We know that person 2 has a mean of 4.25, but it would be nice to use names as the indices for the rows instead of numbers. So right now we have the rows labeled 0, 1, 2, 3 ... but we would like them labeled *Jake, Clara, Kelsey*   We can do so by creating a new dataframe:"
      ]
    },
    {
      "cell_type": "code",
      "metadata": {
        "id": "ds5WSS0VGOT0",
        "colab_type": "code",
        "colab": {
          "base_uri": "https://localhost:8080/",
          "height": 139
        },
        "outputId": "18dfa6ae-5a30-4421-f55a-b2a7e86b7801"
      },
      "source": [
        "ratings2 = ratings.set_index('Customer')\n",
        "ratings2.mean(axis=1)"
      ],
      "execution_count": 75,
      "outputs": [
        {
          "output_type": "execute_result",
          "data": {
            "text/plain": [
              "Customer\n",
              "Jake        3.500000\n",
              "Clara       3.666667\n",
              "Kelsey      4.250000\n",
              "Angelica    3.750000\n",
              "Jordyn      2.666667\n",
              "dtype: float64"
            ]
          },
          "metadata": {
            "tags": []
          },
          "execution_count": 75
        }
      ]
    },
    {
      "cell_type": "markdown",
      "metadata": {
        "id": "wJa-sfvCGOT1",
        "colab_type": "text"
      },
      "source": [
        "*Note that while this looks like it erroneously creates an additional row called Customer, that is just the way the table is displayed*\n",
        "\n",
        "Sweet! So `axis=1` means reduce by rows and `axis=0` means reduce by columns:"
      ]
    },
    {
      "cell_type": "code",
      "metadata": {
        "id": "RxPNLL-YGOT2",
        "colab_type": "code",
        "colab": {
          "base_uri": "https://localhost:8080/",
          "height": 121
        },
        "outputId": "b2eb54b3-50a2-403f-9c6a-6aee0f3e7a8b"
      },
      "source": [
        "ratings2.mean(axis=0)"
      ],
      "execution_count": 76,
      "outputs": [
        {
          "output_type": "execute_result",
          "data": {
            "text/plain": [
              "Taylor Swift        3.2\n",
              "Miranda Lambert     3.0\n",
              "Carrie Underwood    5.0\n",
              "Nicki Minaj         3.6\n",
              "Ariana Grande       4.0\n",
              "dtype: float64"
            ]
          },
          "metadata": {
            "tags": []
          },
          "execution_count": 76
        }
      ]
    },
    {
      "cell_type": "markdown",
      "metadata": {
        "id": "PLGimQ-7GOT3",
        "colab_type": "text"
      },
      "source": [
        "## list of descriptive statistics\n",
        "(from the book *Python for Data Analysis*)\n",
        "\n",
        "Method | Description\n",
        ":-- | :--\n",
        "`count` | Number of non-NaN values\n",
        "`describe` | A set of common summary statistics\n",
        "`min, max` | compute minimum and maximum values\n",
        "`argmin, argmax` | compute index locations of minimum and maximum values\n",
        "`sum` | Sum the values\n",
        "`mean` | Mean of values\n",
        "`median` | Median of values\n",
        "`std` | Sample standard deviation\n",
        "\n",
        "So, for example, the lowest rating for each artist:\n"
      ]
    },
    {
      "cell_type": "code",
      "metadata": {
        "id": "uXalPEnaGOT4",
        "colab_type": "code",
        "colab": {
          "base_uri": "https://localhost:8080/",
          "height": 121
        },
        "outputId": "6d7a41e8-7412-442b-e0f4-5a14b1a463f0"
      },
      "source": [
        "ratings2.min()"
      ],
      "execution_count": 77,
      "outputs": [
        {
          "output_type": "execute_result",
          "data": {
            "text/plain": [
              "Taylor Swift        2.0\n",
              "Miranda Lambert     1.0\n",
              "Carrie Underwood    5.0\n",
              "Nicki Minaj         2.0\n",
              "Ariana Grande       2.0\n",
              "dtype: float64"
            ]
          },
          "metadata": {
            "tags": []
          },
          "execution_count": 77
        }
      ]
    },
    {
      "cell_type": "markdown",
      "metadata": {
        "id": "ax92ZNVrGOT7",
        "colab_type": "text"
      },
      "source": [
        "<h3 style=\"color:red\">Q5. Ratings 2</h3>\n",
        "<span style=\"color:red\">What are the median ratings for each customer?</span>"
      ]
    },
    {
      "cell_type": "code",
      "metadata": {
        "id": "__WEMuB1GOT8",
        "colab_type": "code",
        "colab": {
          "base_uri": "https://localhost:8080/",
          "height": 139
        },
        "outputId": "1e3ea77e-df71-4cb5-c38f-b65b557553bf"
      },
      "source": [
        "# your code\n",
        "ratings2.median(axis=1)"
      ],
      "execution_count": 78,
      "outputs": [
        {
          "output_type": "execute_result",
          "data": {
            "text/plain": [
              "Customer\n",
              "Jake        3.5\n",
              "Clara       4.0\n",
              "Kelsey      5.0\n",
              "Angelica    4.0\n",
              "Jordyn      2.0\n",
              "dtype: float64"
            ]
          },
          "metadata": {
            "tags": []
          },
          "execution_count": 78
        }
      ]
    },
    {
      "cell_type": "markdown",
      "metadata": {
        "id": "-4ILFvVRGOT-",
        "colab_type": "text"
      },
      "source": [
        "## sorting\n",
        "To sort by the index we can use the `sort_index` method"
      ]
    },
    {
      "cell_type": "code",
      "metadata": {
        "id": "VkSidQODGOT-",
        "colab_type": "code",
        "colab": {
          "base_uri": "https://localhost:8080/",
          "height": 938
        },
        "outputId": "8e636345-5258-450b-90ab-406775d2275d"
      },
      "source": [
        "athlete = pd.read_csv('https://raw.githubusercontent.com/zacharski/ml-class/master/data/athletesNoHeader.csv', names=['Name', 'Sport', 'Height', 'Weight'])\n",
        "a = athlete.set_index('Name')\n",
        "a.sort_index()"
      ],
      "execution_count": 79,
      "outputs": [
        {
          "output_type": "execute_result",
          "data": {
            "text/html": [
              "<div>\n",
              "<style scoped>\n",
              "    .dataframe tbody tr th:only-of-type {\n",
              "        vertical-align: middle;\n",
              "    }\n",
              "\n",
              "    .dataframe tbody tr th {\n",
              "        vertical-align: top;\n",
              "    }\n",
              "\n",
              "    .dataframe thead th {\n",
              "        text-align: right;\n",
              "    }\n",
              "</style>\n",
              "<table border=\"1\" class=\"dataframe\">\n",
              "  <thead>\n",
              "    <tr style=\"text-align: right;\">\n",
              "      <th></th>\n",
              "      <th>Sport</th>\n",
              "      <th>Height</th>\n",
              "      <th>Weight</th>\n",
              "    </tr>\n",
              "    <tr>\n",
              "      <th>Name</th>\n",
              "      <th></th>\n",
              "      <th></th>\n",
              "      <th></th>\n",
              "    </tr>\n",
              "  </thead>\n",
              "  <tbody>\n",
              "    <tr>\n",
              "      <th>Amy Cragg</th>\n",
              "      <td>Track</td>\n",
              "      <td>64</td>\n",
              "      <td>99</td>\n",
              "    </tr>\n",
              "    <tr>\n",
              "      <th>Asuka Teramoto</th>\n",
              "      <td>Gymnastics</td>\n",
              "      <td>54</td>\n",
              "      <td>66</td>\n",
              "    </tr>\n",
              "    <tr>\n",
              "      <th>Brittainey Raven</th>\n",
              "      <td>Basketball</td>\n",
              "      <td>72</td>\n",
              "      <td>162</td>\n",
              "    </tr>\n",
              "    <tr>\n",
              "      <th>Chen Nan</th>\n",
              "      <td>Basketball</td>\n",
              "      <td>78</td>\n",
              "      <td>204</td>\n",
              "    </tr>\n",
              "    <tr>\n",
              "      <th>Desiree Linden</th>\n",
              "      <td>Track</td>\n",
              "      <td>61</td>\n",
              "      <td>97</td>\n",
              "    </tr>\n",
              "    <tr>\n",
              "      <th>Elena Delle Donne</th>\n",
              "      <td>Basketball</td>\n",
              "      <td>77</td>\n",
              "      <td>188</td>\n",
              "    </tr>\n",
              "    <tr>\n",
              "      <th>Gabby Douglas</th>\n",
              "      <td>Gymnastics</td>\n",
              "      <td>49</td>\n",
              "      <td>90</td>\n",
              "    </tr>\n",
              "    <tr>\n",
              "      <th>Helalia Johannes</th>\n",
              "      <td>Track</td>\n",
              "      <td>65</td>\n",
              "      <td>99</td>\n",
              "    </tr>\n",
              "    <tr>\n",
              "      <th>Irina Miketenko</th>\n",
              "      <td>Track</td>\n",
              "      <td>63</td>\n",
              "      <td>106</td>\n",
              "    </tr>\n",
              "    <tr>\n",
              "      <th>Jennifer Lacy</th>\n",
              "      <td>Basketball</td>\n",
              "      <td>75</td>\n",
              "      <td>175</td>\n",
              "    </tr>\n",
              "    <tr>\n",
              "      <th>Kara Goucher</th>\n",
              "      <td>Track</td>\n",
              "      <td>67</td>\n",
              "      <td>123</td>\n",
              "    </tr>\n",
              "    <tr>\n",
              "      <th>Laurie Hernandez</th>\n",
              "      <td>Gymnastics</td>\n",
              "      <td>60</td>\n",
              "      <td>106</td>\n",
              "    </tr>\n",
              "    <tr>\n",
              "      <th>Linlin Deng</th>\n",
              "      <td>Gymnastics</td>\n",
              "      <td>54</td>\n",
              "      <td>68</td>\n",
              "    </tr>\n",
              "    <tr>\n",
              "      <th>Madison Kocian</th>\n",
              "      <td>Gymnastics</td>\n",
              "      <td>62</td>\n",
              "      <td>101</td>\n",
              "    </tr>\n",
              "    <tr>\n",
              "      <th>Nakia Sanford</th>\n",
              "      <td>Basketball</td>\n",
              "      <td>76</td>\n",
              "      <td>200</td>\n",
              "    </tr>\n",
              "    <tr>\n",
              "      <th>Nikki Blue</th>\n",
              "      <td>Basketball</td>\n",
              "      <td>68</td>\n",
              "      <td>163</td>\n",
              "    </tr>\n",
              "    <tr>\n",
              "      <th>Qiushuang Huang</th>\n",
              "      <td>Gymnastics</td>\n",
              "      <td>61</td>\n",
              "      <td>95</td>\n",
              "    </tr>\n",
              "    <tr>\n",
              "      <th>Rebecca Tunney</th>\n",
              "      <td>Gymnastics</td>\n",
              "      <td>58</td>\n",
              "      <td>77</td>\n",
              "    </tr>\n",
              "    <tr>\n",
              "      <th>Rene Kalmer</th>\n",
              "      <td>Track</td>\n",
              "      <td>70</td>\n",
              "      <td>108</td>\n",
              "    </tr>\n",
              "    <tr>\n",
              "      <th>Seimone Augustus</th>\n",
              "      <td>Basketball</td>\n",
              "      <td>72</td>\n",
              "      <td>166</td>\n",
              "    </tr>\n",
              "    <tr>\n",
              "      <th>Shalane Flanagan</th>\n",
              "      <td>Track</td>\n",
              "      <td>65</td>\n",
              "      <td>106</td>\n",
              "    </tr>\n",
              "    <tr>\n",
              "      <th>Shanna Crossley</th>\n",
              "      <td>Basketball</td>\n",
              "      <td>70</td>\n",
              "      <td>155</td>\n",
              "    </tr>\n",
              "    <tr>\n",
              "      <th>Shavonte Zellous</th>\n",
              "      <td>Basketball</td>\n",
              "      <td>70</td>\n",
              "      <td>155</td>\n",
              "    </tr>\n",
              "    <tr>\n",
              "      <th>Simone Biles</th>\n",
              "      <td>Gymnastics</td>\n",
              "      <td>57</td>\n",
              "      <td>104</td>\n",
              "    </tr>\n",
              "    <tr>\n",
              "      <th>Tatyana Petrova</th>\n",
              "      <td>Track</td>\n",
              "      <td>63</td>\n",
              "      <td>108</td>\n",
              "    </tr>\n",
              "    <tr>\n",
              "      <th>Tiki Gelana</th>\n",
              "      <td>Track</td>\n",
              "      <td>65</td>\n",
              "      <td>106</td>\n",
              "    </tr>\n",
              "    <tr>\n",
              "      <th>Valeria Straneo</th>\n",
              "      <td>Track</td>\n",
              "      <td>66</td>\n",
              "      <td>97</td>\n",
              "    </tr>\n",
              "    <tr>\n",
              "      <th>Viktoria Komova</th>\n",
              "      <td>Gymnastics</td>\n",
              "      <td>61</td>\n",
              "      <td>76</td>\n",
              "    </tr>\n",
              "  </tbody>\n",
              "</table>\n",
              "</div>"
            ],
            "text/plain": [
              "                        Sport  Height  Weight\n",
              "Name                                         \n",
              "Amy Cragg               Track      64      99\n",
              "Asuka Teramoto     Gymnastics      54      66\n",
              "Brittainey Raven   Basketball      72     162\n",
              "Chen Nan           Basketball      78     204\n",
              "Desiree Linden          Track      61      97\n",
              "Elena Delle Donne  Basketball      77     188\n",
              "Gabby Douglas      Gymnastics      49      90\n",
              "Helalia Johannes        Track      65      99\n",
              "Irina Miketenko         Track      63     106\n",
              "Jennifer Lacy      Basketball      75     175\n",
              "Kara Goucher            Track      67     123\n",
              "Laurie Hernandez   Gymnastics      60     106\n",
              "Linlin Deng        Gymnastics      54      68\n",
              "Madison Kocian     Gymnastics      62     101\n",
              "Nakia Sanford      Basketball      76     200\n",
              "Nikki Blue         Basketball      68     163\n",
              "Qiushuang Huang    Gymnastics      61      95\n",
              "Rebecca Tunney     Gymnastics      58      77\n",
              "Rene Kalmer             Track      70     108\n",
              "Seimone Augustus   Basketball      72     166\n",
              "Shalane Flanagan        Track      65     106\n",
              "Shanna Crossley    Basketball      70     155\n",
              "Shavonte Zellous   Basketball      70     155\n",
              "Simone Biles       Gymnastics      57     104\n",
              "Tatyana Petrova         Track      63     108\n",
              "Tiki Gelana             Track      65     106\n",
              "Valeria Straneo         Track      66      97\n",
              "Viktoria Komova    Gymnastics      61      76"
            ]
          },
          "metadata": {
            "tags": []
          },
          "execution_count": 79
        }
      ]
    },
    {
      "cell_type": "markdown",
      "metadata": {
        "id": "dQ-g1bstGOT_",
        "colab_type": "text"
      },
      "source": [
        "We can sort in reverse by"
      ]
    },
    {
      "cell_type": "code",
      "metadata": {
        "id": "Y5sxS5ocGOUA",
        "colab_type": "code",
        "colab": {
          "base_uri": "https://localhost:8080/",
          "height": 938
        },
        "outputId": "e4313e41-11d3-406a-e6cd-cec6ce63a71c"
      },
      "source": [
        "a.sort_index(ascending=False)"
      ],
      "execution_count": 80,
      "outputs": [
        {
          "output_type": "execute_result",
          "data": {
            "text/html": [
              "<div>\n",
              "<style scoped>\n",
              "    .dataframe tbody tr th:only-of-type {\n",
              "        vertical-align: middle;\n",
              "    }\n",
              "\n",
              "    .dataframe tbody tr th {\n",
              "        vertical-align: top;\n",
              "    }\n",
              "\n",
              "    .dataframe thead th {\n",
              "        text-align: right;\n",
              "    }\n",
              "</style>\n",
              "<table border=\"1\" class=\"dataframe\">\n",
              "  <thead>\n",
              "    <tr style=\"text-align: right;\">\n",
              "      <th></th>\n",
              "      <th>Sport</th>\n",
              "      <th>Height</th>\n",
              "      <th>Weight</th>\n",
              "    </tr>\n",
              "    <tr>\n",
              "      <th>Name</th>\n",
              "      <th></th>\n",
              "      <th></th>\n",
              "      <th></th>\n",
              "    </tr>\n",
              "  </thead>\n",
              "  <tbody>\n",
              "    <tr>\n",
              "      <th>Viktoria Komova</th>\n",
              "      <td>Gymnastics</td>\n",
              "      <td>61</td>\n",
              "      <td>76</td>\n",
              "    </tr>\n",
              "    <tr>\n",
              "      <th>Valeria Straneo</th>\n",
              "      <td>Track</td>\n",
              "      <td>66</td>\n",
              "      <td>97</td>\n",
              "    </tr>\n",
              "    <tr>\n",
              "      <th>Tiki Gelana</th>\n",
              "      <td>Track</td>\n",
              "      <td>65</td>\n",
              "      <td>106</td>\n",
              "    </tr>\n",
              "    <tr>\n",
              "      <th>Tatyana Petrova</th>\n",
              "      <td>Track</td>\n",
              "      <td>63</td>\n",
              "      <td>108</td>\n",
              "    </tr>\n",
              "    <tr>\n",
              "      <th>Simone Biles</th>\n",
              "      <td>Gymnastics</td>\n",
              "      <td>57</td>\n",
              "      <td>104</td>\n",
              "    </tr>\n",
              "    <tr>\n",
              "      <th>Shavonte Zellous</th>\n",
              "      <td>Basketball</td>\n",
              "      <td>70</td>\n",
              "      <td>155</td>\n",
              "    </tr>\n",
              "    <tr>\n",
              "      <th>Shanna Crossley</th>\n",
              "      <td>Basketball</td>\n",
              "      <td>70</td>\n",
              "      <td>155</td>\n",
              "    </tr>\n",
              "    <tr>\n",
              "      <th>Shalane Flanagan</th>\n",
              "      <td>Track</td>\n",
              "      <td>65</td>\n",
              "      <td>106</td>\n",
              "    </tr>\n",
              "    <tr>\n",
              "      <th>Seimone Augustus</th>\n",
              "      <td>Basketball</td>\n",
              "      <td>72</td>\n",
              "      <td>166</td>\n",
              "    </tr>\n",
              "    <tr>\n",
              "      <th>Rene Kalmer</th>\n",
              "      <td>Track</td>\n",
              "      <td>70</td>\n",
              "      <td>108</td>\n",
              "    </tr>\n",
              "    <tr>\n",
              "      <th>Rebecca Tunney</th>\n",
              "      <td>Gymnastics</td>\n",
              "      <td>58</td>\n",
              "      <td>77</td>\n",
              "    </tr>\n",
              "    <tr>\n",
              "      <th>Qiushuang Huang</th>\n",
              "      <td>Gymnastics</td>\n",
              "      <td>61</td>\n",
              "      <td>95</td>\n",
              "    </tr>\n",
              "    <tr>\n",
              "      <th>Nikki Blue</th>\n",
              "      <td>Basketball</td>\n",
              "      <td>68</td>\n",
              "      <td>163</td>\n",
              "    </tr>\n",
              "    <tr>\n",
              "      <th>Nakia Sanford</th>\n",
              "      <td>Basketball</td>\n",
              "      <td>76</td>\n",
              "      <td>200</td>\n",
              "    </tr>\n",
              "    <tr>\n",
              "      <th>Madison Kocian</th>\n",
              "      <td>Gymnastics</td>\n",
              "      <td>62</td>\n",
              "      <td>101</td>\n",
              "    </tr>\n",
              "    <tr>\n",
              "      <th>Linlin Deng</th>\n",
              "      <td>Gymnastics</td>\n",
              "      <td>54</td>\n",
              "      <td>68</td>\n",
              "    </tr>\n",
              "    <tr>\n",
              "      <th>Laurie Hernandez</th>\n",
              "      <td>Gymnastics</td>\n",
              "      <td>60</td>\n",
              "      <td>106</td>\n",
              "    </tr>\n",
              "    <tr>\n",
              "      <th>Kara Goucher</th>\n",
              "      <td>Track</td>\n",
              "      <td>67</td>\n",
              "      <td>123</td>\n",
              "    </tr>\n",
              "    <tr>\n",
              "      <th>Jennifer Lacy</th>\n",
              "      <td>Basketball</td>\n",
              "      <td>75</td>\n",
              "      <td>175</td>\n",
              "    </tr>\n",
              "    <tr>\n",
              "      <th>Irina Miketenko</th>\n",
              "      <td>Track</td>\n",
              "      <td>63</td>\n",
              "      <td>106</td>\n",
              "    </tr>\n",
              "    <tr>\n",
              "      <th>Helalia Johannes</th>\n",
              "      <td>Track</td>\n",
              "      <td>65</td>\n",
              "      <td>99</td>\n",
              "    </tr>\n",
              "    <tr>\n",
              "      <th>Gabby Douglas</th>\n",
              "      <td>Gymnastics</td>\n",
              "      <td>49</td>\n",
              "      <td>90</td>\n",
              "    </tr>\n",
              "    <tr>\n",
              "      <th>Elena Delle Donne</th>\n",
              "      <td>Basketball</td>\n",
              "      <td>77</td>\n",
              "      <td>188</td>\n",
              "    </tr>\n",
              "    <tr>\n",
              "      <th>Desiree Linden</th>\n",
              "      <td>Track</td>\n",
              "      <td>61</td>\n",
              "      <td>97</td>\n",
              "    </tr>\n",
              "    <tr>\n",
              "      <th>Chen Nan</th>\n",
              "      <td>Basketball</td>\n",
              "      <td>78</td>\n",
              "      <td>204</td>\n",
              "    </tr>\n",
              "    <tr>\n",
              "      <th>Brittainey Raven</th>\n",
              "      <td>Basketball</td>\n",
              "      <td>72</td>\n",
              "      <td>162</td>\n",
              "    </tr>\n",
              "    <tr>\n",
              "      <th>Asuka Teramoto</th>\n",
              "      <td>Gymnastics</td>\n",
              "      <td>54</td>\n",
              "      <td>66</td>\n",
              "    </tr>\n",
              "    <tr>\n",
              "      <th>Amy Cragg</th>\n",
              "      <td>Track</td>\n",
              "      <td>64</td>\n",
              "      <td>99</td>\n",
              "    </tr>\n",
              "  </tbody>\n",
              "</table>\n",
              "</div>"
            ],
            "text/plain": [
              "                        Sport  Height  Weight\n",
              "Name                                         \n",
              "Viktoria Komova    Gymnastics      61      76\n",
              "Valeria Straneo         Track      66      97\n",
              "Tiki Gelana             Track      65     106\n",
              "Tatyana Petrova         Track      63     108\n",
              "Simone Biles       Gymnastics      57     104\n",
              "Shavonte Zellous   Basketball      70     155\n",
              "Shanna Crossley    Basketball      70     155\n",
              "Shalane Flanagan        Track      65     106\n",
              "Seimone Augustus   Basketball      72     166\n",
              "Rene Kalmer             Track      70     108\n",
              "Rebecca Tunney     Gymnastics      58      77\n",
              "Qiushuang Huang    Gymnastics      61      95\n",
              "Nikki Blue         Basketball      68     163\n",
              "Nakia Sanford      Basketball      76     200\n",
              "Madison Kocian     Gymnastics      62     101\n",
              "Linlin Deng        Gymnastics      54      68\n",
              "Laurie Hernandez   Gymnastics      60     106\n",
              "Kara Goucher            Track      67     123\n",
              "Jennifer Lacy      Basketball      75     175\n",
              "Irina Miketenko         Track      63     106\n",
              "Helalia Johannes        Track      65      99\n",
              "Gabby Douglas      Gymnastics      49      90\n",
              "Elena Delle Donne  Basketball      77     188\n",
              "Desiree Linden          Track      61      97\n",
              "Chen Nan           Basketball      78     204\n",
              "Brittainey Raven   Basketball      72     162\n",
              "Asuka Teramoto     Gymnastics      54      66\n",
              "Amy Cragg               Track      64      99"
            ]
          },
          "metadata": {
            "tags": []
          },
          "execution_count": 80
        }
      ]
    },
    {
      "cell_type": "markdown",
      "metadata": {
        "id": "nURdh4JXGOUC",
        "colab_type": "text"
      },
      "source": [
        "We can use the `sort_values` method with the `by` argument to sort by a particular column:"
      ]
    },
    {
      "cell_type": "code",
      "metadata": {
        "id": "4YGanpufGOUD",
        "colab_type": "code",
        "colab": {
          "base_uri": "https://localhost:8080/",
          "height": 938
        },
        "outputId": "640f9ec8-142b-465e-ea33-cd0bfd8ee4ca"
      },
      "source": [
        "a.sort_values(by='Sport')"
      ],
      "execution_count": 81,
      "outputs": [
        {
          "output_type": "execute_result",
          "data": {
            "text/html": [
              "<div>\n",
              "<style scoped>\n",
              "    .dataframe tbody tr th:only-of-type {\n",
              "        vertical-align: middle;\n",
              "    }\n",
              "\n",
              "    .dataframe tbody tr th {\n",
              "        vertical-align: top;\n",
              "    }\n",
              "\n",
              "    .dataframe thead th {\n",
              "        text-align: right;\n",
              "    }\n",
              "</style>\n",
              "<table border=\"1\" class=\"dataframe\">\n",
              "  <thead>\n",
              "    <tr style=\"text-align: right;\">\n",
              "      <th></th>\n",
              "      <th>Sport</th>\n",
              "      <th>Height</th>\n",
              "      <th>Weight</th>\n",
              "    </tr>\n",
              "    <tr>\n",
              "      <th>Name</th>\n",
              "      <th></th>\n",
              "      <th></th>\n",
              "      <th></th>\n",
              "    </tr>\n",
              "  </thead>\n",
              "  <tbody>\n",
              "    <tr>\n",
              "      <th>Brittainey Raven</th>\n",
              "      <td>Basketball</td>\n",
              "      <td>72</td>\n",
              "      <td>162</td>\n",
              "    </tr>\n",
              "    <tr>\n",
              "      <th>Chen Nan</th>\n",
              "      <td>Basketball</td>\n",
              "      <td>78</td>\n",
              "      <td>204</td>\n",
              "    </tr>\n",
              "    <tr>\n",
              "      <th>Seimone Augustus</th>\n",
              "      <td>Basketball</td>\n",
              "      <td>72</td>\n",
              "      <td>166</td>\n",
              "    </tr>\n",
              "    <tr>\n",
              "      <th>Elena Delle Donne</th>\n",
              "      <td>Basketball</td>\n",
              "      <td>77</td>\n",
              "      <td>188</td>\n",
              "    </tr>\n",
              "    <tr>\n",
              "      <th>Jennifer Lacy</th>\n",
              "      <td>Basketball</td>\n",
              "      <td>75</td>\n",
              "      <td>175</td>\n",
              "    </tr>\n",
              "    <tr>\n",
              "      <th>Nakia Sanford</th>\n",
              "      <td>Basketball</td>\n",
              "      <td>76</td>\n",
              "      <td>200</td>\n",
              "    </tr>\n",
              "    <tr>\n",
              "      <th>Nikki Blue</th>\n",
              "      <td>Basketball</td>\n",
              "      <td>68</td>\n",
              "      <td>163</td>\n",
              "    </tr>\n",
              "    <tr>\n",
              "      <th>Shavonte Zellous</th>\n",
              "      <td>Basketball</td>\n",
              "      <td>70</td>\n",
              "      <td>155</td>\n",
              "    </tr>\n",
              "    <tr>\n",
              "      <th>Shanna Crossley</th>\n",
              "      <td>Basketball</td>\n",
              "      <td>70</td>\n",
              "      <td>155</td>\n",
              "    </tr>\n",
              "    <tr>\n",
              "      <th>Asuka Teramoto</th>\n",
              "      <td>Gymnastics</td>\n",
              "      <td>54</td>\n",
              "      <td>66</td>\n",
              "    </tr>\n",
              "    <tr>\n",
              "      <th>Madison Kocian</th>\n",
              "      <td>Gymnastics</td>\n",
              "      <td>62</td>\n",
              "      <td>101</td>\n",
              "    </tr>\n",
              "    <tr>\n",
              "      <th>Simone Biles</th>\n",
              "      <td>Gymnastics</td>\n",
              "      <td>57</td>\n",
              "      <td>104</td>\n",
              "    </tr>\n",
              "    <tr>\n",
              "      <th>Viktoria Komova</th>\n",
              "      <td>Gymnastics</td>\n",
              "      <td>61</td>\n",
              "      <td>76</td>\n",
              "    </tr>\n",
              "    <tr>\n",
              "      <th>Laurie Hernandez</th>\n",
              "      <td>Gymnastics</td>\n",
              "      <td>60</td>\n",
              "      <td>106</td>\n",
              "    </tr>\n",
              "    <tr>\n",
              "      <th>Rebecca Tunney</th>\n",
              "      <td>Gymnastics</td>\n",
              "      <td>58</td>\n",
              "      <td>77</td>\n",
              "    </tr>\n",
              "    <tr>\n",
              "      <th>Qiushuang Huang</th>\n",
              "      <td>Gymnastics</td>\n",
              "      <td>61</td>\n",
              "      <td>95</td>\n",
              "    </tr>\n",
              "    <tr>\n",
              "      <th>Linlin Deng</th>\n",
              "      <td>Gymnastics</td>\n",
              "      <td>54</td>\n",
              "      <td>68</td>\n",
              "    </tr>\n",
              "    <tr>\n",
              "      <th>Gabby Douglas</th>\n",
              "      <td>Gymnastics</td>\n",
              "      <td>49</td>\n",
              "      <td>90</td>\n",
              "    </tr>\n",
              "    <tr>\n",
              "      <th>Tatyana Petrova</th>\n",
              "      <td>Track</td>\n",
              "      <td>63</td>\n",
              "      <td>108</td>\n",
              "    </tr>\n",
              "    <tr>\n",
              "      <th>Tiki Gelana</th>\n",
              "      <td>Track</td>\n",
              "      <td>65</td>\n",
              "      <td>106</td>\n",
              "    </tr>\n",
              "    <tr>\n",
              "      <th>Valeria Straneo</th>\n",
              "      <td>Track</td>\n",
              "      <td>66</td>\n",
              "      <td>97</td>\n",
              "    </tr>\n",
              "    <tr>\n",
              "      <th>Amy Cragg</th>\n",
              "      <td>Track</td>\n",
              "      <td>64</td>\n",
              "      <td>99</td>\n",
              "    </tr>\n",
              "    <tr>\n",
              "      <th>Kara Goucher</th>\n",
              "      <td>Track</td>\n",
              "      <td>67</td>\n",
              "      <td>123</td>\n",
              "    </tr>\n",
              "    <tr>\n",
              "      <th>Irina Miketenko</th>\n",
              "      <td>Track</td>\n",
              "      <td>63</td>\n",
              "      <td>106</td>\n",
              "    </tr>\n",
              "    <tr>\n",
              "      <th>Helalia Johannes</th>\n",
              "      <td>Track</td>\n",
              "      <td>65</td>\n",
              "      <td>99</td>\n",
              "    </tr>\n",
              "    <tr>\n",
              "      <th>Desiree Linden</th>\n",
              "      <td>Track</td>\n",
              "      <td>61</td>\n",
              "      <td>97</td>\n",
              "    </tr>\n",
              "    <tr>\n",
              "      <th>Shalane Flanagan</th>\n",
              "      <td>Track</td>\n",
              "      <td>65</td>\n",
              "      <td>106</td>\n",
              "    </tr>\n",
              "    <tr>\n",
              "      <th>Rene Kalmer</th>\n",
              "      <td>Track</td>\n",
              "      <td>70</td>\n",
              "      <td>108</td>\n",
              "    </tr>\n",
              "  </tbody>\n",
              "</table>\n",
              "</div>"
            ],
            "text/plain": [
              "                        Sport  Height  Weight\n",
              "Name                                         \n",
              "Brittainey Raven   Basketball      72     162\n",
              "Chen Nan           Basketball      78     204\n",
              "Seimone Augustus   Basketball      72     166\n",
              "Elena Delle Donne  Basketball      77     188\n",
              "Jennifer Lacy      Basketball      75     175\n",
              "Nakia Sanford      Basketball      76     200\n",
              "Nikki Blue         Basketball      68     163\n",
              "Shavonte Zellous   Basketball      70     155\n",
              "Shanna Crossley    Basketball      70     155\n",
              "Asuka Teramoto     Gymnastics      54      66\n",
              "Madison Kocian     Gymnastics      62     101\n",
              "Simone Biles       Gymnastics      57     104\n",
              "Viktoria Komova    Gymnastics      61      76\n",
              "Laurie Hernandez   Gymnastics      60     106\n",
              "Rebecca Tunney     Gymnastics      58      77\n",
              "Qiushuang Huang    Gymnastics      61      95\n",
              "Linlin Deng        Gymnastics      54      68\n",
              "Gabby Douglas      Gymnastics      49      90\n",
              "Tatyana Petrova         Track      63     108\n",
              "Tiki Gelana             Track      65     106\n",
              "Valeria Straneo         Track      66      97\n",
              "Amy Cragg               Track      64      99\n",
              "Kara Goucher            Track      67     123\n",
              "Irina Miketenko         Track      63     106\n",
              "Helalia Johannes        Track      65      99\n",
              "Desiree Linden          Track      61      97\n",
              "Shalane Flanagan        Track      65     106\n",
              "Rene Kalmer             Track      70     108"
            ]
          },
          "metadata": {
            "tags": []
          },
          "execution_count": 81
        }
      ]
    },
    {
      "cell_type": "code",
      "metadata": {
        "id": "dMU8nu32GOUE",
        "colab_type": "code",
        "colab": {
          "base_uri": "https://localhost:8080/",
          "height": 938
        },
        "outputId": "ec62a798-e3dc-4a45-b9ba-6116b883aa1c"
      },
      "source": [
        "a.sort_values(by=['Height', 'Weight'])"
      ],
      "execution_count": 82,
      "outputs": [
        {
          "output_type": "execute_result",
          "data": {
            "text/html": [
              "<div>\n",
              "<style scoped>\n",
              "    .dataframe tbody tr th:only-of-type {\n",
              "        vertical-align: middle;\n",
              "    }\n",
              "\n",
              "    .dataframe tbody tr th {\n",
              "        vertical-align: top;\n",
              "    }\n",
              "\n",
              "    .dataframe thead th {\n",
              "        text-align: right;\n",
              "    }\n",
              "</style>\n",
              "<table border=\"1\" class=\"dataframe\">\n",
              "  <thead>\n",
              "    <tr style=\"text-align: right;\">\n",
              "      <th></th>\n",
              "      <th>Sport</th>\n",
              "      <th>Height</th>\n",
              "      <th>Weight</th>\n",
              "    </tr>\n",
              "    <tr>\n",
              "      <th>Name</th>\n",
              "      <th></th>\n",
              "      <th></th>\n",
              "      <th></th>\n",
              "    </tr>\n",
              "  </thead>\n",
              "  <tbody>\n",
              "    <tr>\n",
              "      <th>Gabby Douglas</th>\n",
              "      <td>Gymnastics</td>\n",
              "      <td>49</td>\n",
              "      <td>90</td>\n",
              "    </tr>\n",
              "    <tr>\n",
              "      <th>Asuka Teramoto</th>\n",
              "      <td>Gymnastics</td>\n",
              "      <td>54</td>\n",
              "      <td>66</td>\n",
              "    </tr>\n",
              "    <tr>\n",
              "      <th>Linlin Deng</th>\n",
              "      <td>Gymnastics</td>\n",
              "      <td>54</td>\n",
              "      <td>68</td>\n",
              "    </tr>\n",
              "    <tr>\n",
              "      <th>Simone Biles</th>\n",
              "      <td>Gymnastics</td>\n",
              "      <td>57</td>\n",
              "      <td>104</td>\n",
              "    </tr>\n",
              "    <tr>\n",
              "      <th>Rebecca Tunney</th>\n",
              "      <td>Gymnastics</td>\n",
              "      <td>58</td>\n",
              "      <td>77</td>\n",
              "    </tr>\n",
              "    <tr>\n",
              "      <th>Laurie Hernandez</th>\n",
              "      <td>Gymnastics</td>\n",
              "      <td>60</td>\n",
              "      <td>106</td>\n",
              "    </tr>\n",
              "    <tr>\n",
              "      <th>Viktoria Komova</th>\n",
              "      <td>Gymnastics</td>\n",
              "      <td>61</td>\n",
              "      <td>76</td>\n",
              "    </tr>\n",
              "    <tr>\n",
              "      <th>Qiushuang Huang</th>\n",
              "      <td>Gymnastics</td>\n",
              "      <td>61</td>\n",
              "      <td>95</td>\n",
              "    </tr>\n",
              "    <tr>\n",
              "      <th>Desiree Linden</th>\n",
              "      <td>Track</td>\n",
              "      <td>61</td>\n",
              "      <td>97</td>\n",
              "    </tr>\n",
              "    <tr>\n",
              "      <th>Madison Kocian</th>\n",
              "      <td>Gymnastics</td>\n",
              "      <td>62</td>\n",
              "      <td>101</td>\n",
              "    </tr>\n",
              "    <tr>\n",
              "      <th>Irina Miketenko</th>\n",
              "      <td>Track</td>\n",
              "      <td>63</td>\n",
              "      <td>106</td>\n",
              "    </tr>\n",
              "    <tr>\n",
              "      <th>Tatyana Petrova</th>\n",
              "      <td>Track</td>\n",
              "      <td>63</td>\n",
              "      <td>108</td>\n",
              "    </tr>\n",
              "    <tr>\n",
              "      <th>Amy Cragg</th>\n",
              "      <td>Track</td>\n",
              "      <td>64</td>\n",
              "      <td>99</td>\n",
              "    </tr>\n",
              "    <tr>\n",
              "      <th>Helalia Johannes</th>\n",
              "      <td>Track</td>\n",
              "      <td>65</td>\n",
              "      <td>99</td>\n",
              "    </tr>\n",
              "    <tr>\n",
              "      <th>Tiki Gelana</th>\n",
              "      <td>Track</td>\n",
              "      <td>65</td>\n",
              "      <td>106</td>\n",
              "    </tr>\n",
              "    <tr>\n",
              "      <th>Shalane Flanagan</th>\n",
              "      <td>Track</td>\n",
              "      <td>65</td>\n",
              "      <td>106</td>\n",
              "    </tr>\n",
              "    <tr>\n",
              "      <th>Valeria Straneo</th>\n",
              "      <td>Track</td>\n",
              "      <td>66</td>\n",
              "      <td>97</td>\n",
              "    </tr>\n",
              "    <tr>\n",
              "      <th>Kara Goucher</th>\n",
              "      <td>Track</td>\n",
              "      <td>67</td>\n",
              "      <td>123</td>\n",
              "    </tr>\n",
              "    <tr>\n",
              "      <th>Nikki Blue</th>\n",
              "      <td>Basketball</td>\n",
              "      <td>68</td>\n",
              "      <td>163</td>\n",
              "    </tr>\n",
              "    <tr>\n",
              "      <th>Rene Kalmer</th>\n",
              "      <td>Track</td>\n",
              "      <td>70</td>\n",
              "      <td>108</td>\n",
              "    </tr>\n",
              "    <tr>\n",
              "      <th>Shanna Crossley</th>\n",
              "      <td>Basketball</td>\n",
              "      <td>70</td>\n",
              "      <td>155</td>\n",
              "    </tr>\n",
              "    <tr>\n",
              "      <th>Shavonte Zellous</th>\n",
              "      <td>Basketball</td>\n",
              "      <td>70</td>\n",
              "      <td>155</td>\n",
              "    </tr>\n",
              "    <tr>\n",
              "      <th>Brittainey Raven</th>\n",
              "      <td>Basketball</td>\n",
              "      <td>72</td>\n",
              "      <td>162</td>\n",
              "    </tr>\n",
              "    <tr>\n",
              "      <th>Seimone Augustus</th>\n",
              "      <td>Basketball</td>\n",
              "      <td>72</td>\n",
              "      <td>166</td>\n",
              "    </tr>\n",
              "    <tr>\n",
              "      <th>Jennifer Lacy</th>\n",
              "      <td>Basketball</td>\n",
              "      <td>75</td>\n",
              "      <td>175</td>\n",
              "    </tr>\n",
              "    <tr>\n",
              "      <th>Nakia Sanford</th>\n",
              "      <td>Basketball</td>\n",
              "      <td>76</td>\n",
              "      <td>200</td>\n",
              "    </tr>\n",
              "    <tr>\n",
              "      <th>Elena Delle Donne</th>\n",
              "      <td>Basketball</td>\n",
              "      <td>77</td>\n",
              "      <td>188</td>\n",
              "    </tr>\n",
              "    <tr>\n",
              "      <th>Chen Nan</th>\n",
              "      <td>Basketball</td>\n",
              "      <td>78</td>\n",
              "      <td>204</td>\n",
              "    </tr>\n",
              "  </tbody>\n",
              "</table>\n",
              "</div>"
            ],
            "text/plain": [
              "                        Sport  Height  Weight\n",
              "Name                                         \n",
              "Gabby Douglas      Gymnastics      49      90\n",
              "Asuka Teramoto     Gymnastics      54      66\n",
              "Linlin Deng        Gymnastics      54      68\n",
              "Simone Biles       Gymnastics      57     104\n",
              "Rebecca Tunney     Gymnastics      58      77\n",
              "Laurie Hernandez   Gymnastics      60     106\n",
              "Viktoria Komova    Gymnastics      61      76\n",
              "Qiushuang Huang    Gymnastics      61      95\n",
              "Desiree Linden          Track      61      97\n",
              "Madison Kocian     Gymnastics      62     101\n",
              "Irina Miketenko         Track      63     106\n",
              "Tatyana Petrova         Track      63     108\n",
              "Amy Cragg               Track      64      99\n",
              "Helalia Johannes        Track      65      99\n",
              "Tiki Gelana             Track      65     106\n",
              "Shalane Flanagan        Track      65     106\n",
              "Valeria Straneo         Track      66      97\n",
              "Kara Goucher            Track      67     123\n",
              "Nikki Blue         Basketball      68     163\n",
              "Rene Kalmer             Track      70     108\n",
              "Shanna Crossley    Basketball      70     155\n",
              "Shavonte Zellous   Basketball      70     155\n",
              "Brittainey Raven   Basketball      72     162\n",
              "Seimone Augustus   Basketball      72     166\n",
              "Jennifer Lacy      Basketball      75     175\n",
              "Nakia Sanford      Basketball      76     200\n",
              "Elena Delle Donne  Basketball      77     188\n",
              "Chen Nan           Basketball      78     204"
            ]
          },
          "metadata": {
            "tags": []
          },
          "execution_count": 82
        }
      ]
    },
    {
      "cell_type": "markdown",
      "metadata": {
        "id": "ATk_lkLlGOUG",
        "colab_type": "text"
      },
      "source": [
        "In that last example, we first sorted by height and then by weight.\n",
        "\n",
        "# The nearest neighbor Music example in Pandas\n",
        "\n",
        "Let's go back to our Numpy task that dealt with the following music data:\n",
        "\n",
        "\n",
        "\n",
        "| Guest  | Janelle Monae  | Major Lazer  | Tim McGraw  |  Maren Morris | Hailee Steinfeld| \n",
        "|---|---|---|---|---|---|\n",
        "|  Ann | 4  |  5 | 2  |  1 | 3 |\n",
        "| Ben  |  3 |  1 |  5 | 4  | 2|\n",
        "| Jordyn  | 5  |  5 | 2  | 2  | 3|\n",
        "|  Sam | 4 | 1 | 4 | 4 | 1|\n",
        "| Hyunseo | 1 | 1 | 5 | 4 | 1 |\n",
        "| Lauren | 3 | 1 | 5 |  5 | 5 |\n",
        "|  Ahmed | 4  |  5 | 3  |  3 | 1 |\n",
        "\n",
        "\n",
        "I want to find out who is the most similar to Mikaela and who is most similar to Brandon, who rated the artists:\n",
        "\n",
        "\n",
        "| Guest  | Janelle Monae  | Major Lazer  | Tim McGraw  |  Maren Morris | Hailee Steinfeld| \n",
        "|---|---|---|---|---|---|\n",
        "|  Mikaela | 3  |  2 | 4  |  5 |4 |\n",
        "|  Brandon | 4  |  5 | 1  |  2 |3 |\n",
        "\n",
        "My first step is to read in the data and convert the guest name column as the index:"
      ]
    },
    {
      "cell_type": "code",
      "metadata": {
        "scrolled": true,
        "id": "BE69sOeRGOUG",
        "colab_type": "code",
        "colab": {
          "base_uri": "https://localhost:8080/",
          "height": 294
        },
        "outputId": "141f0bf6-487e-4ae1-e28b-a7e7c8c41888"
      },
      "source": [
        "f = pd.read_csv('https://raw.githubusercontent.com/zacharski/ml-class/master/data/ratings2.csv')\n",
        "fr = f.set_index('Guest')\n",
        "fr"
      ],
      "execution_count": 83,
      "outputs": [
        {
          "output_type": "execute_result",
          "data": {
            "text/html": [
              "<div>\n",
              "<style scoped>\n",
              "    .dataframe tbody tr th:only-of-type {\n",
              "        vertical-align: middle;\n",
              "    }\n",
              "\n",
              "    .dataframe tbody tr th {\n",
              "        vertical-align: top;\n",
              "    }\n",
              "\n",
              "    .dataframe thead th {\n",
              "        text-align: right;\n",
              "    }\n",
              "</style>\n",
              "<table border=\"1\" class=\"dataframe\">\n",
              "  <thead>\n",
              "    <tr style=\"text-align: right;\">\n",
              "      <th></th>\n",
              "      <th>Janelle Monae</th>\n",
              "      <th>Major Lazer</th>\n",
              "      <th>Tim McGraw</th>\n",
              "      <th>Maren Morris</th>\n",
              "      <th>Hailee Steinfeld</th>\n",
              "    </tr>\n",
              "    <tr>\n",
              "      <th>Guest</th>\n",
              "      <th></th>\n",
              "      <th></th>\n",
              "      <th></th>\n",
              "      <th></th>\n",
              "      <th></th>\n",
              "    </tr>\n",
              "  </thead>\n",
              "  <tbody>\n",
              "    <tr>\n",
              "      <th>Ann</th>\n",
              "      <td>4</td>\n",
              "      <td>5</td>\n",
              "      <td>2</td>\n",
              "      <td>1</td>\n",
              "      <td>3</td>\n",
              "    </tr>\n",
              "    <tr>\n",
              "      <th>Ben</th>\n",
              "      <td>3</td>\n",
              "      <td>1</td>\n",
              "      <td>5</td>\n",
              "      <td>4</td>\n",
              "      <td>2</td>\n",
              "    </tr>\n",
              "    <tr>\n",
              "      <th>Jordyn</th>\n",
              "      <td>5</td>\n",
              "      <td>5</td>\n",
              "      <td>1</td>\n",
              "      <td>1</td>\n",
              "      <td>3</td>\n",
              "    </tr>\n",
              "    <tr>\n",
              "      <th>Sam</th>\n",
              "      <td>4</td>\n",
              "      <td>1</td>\n",
              "      <td>4</td>\n",
              "      <td>4</td>\n",
              "      <td>1</td>\n",
              "    </tr>\n",
              "    <tr>\n",
              "      <th>Hyunseo</th>\n",
              "      <td>1</td>\n",
              "      <td>1</td>\n",
              "      <td>5</td>\n",
              "      <td>4</td>\n",
              "      <td>1</td>\n",
              "    </tr>\n",
              "    <tr>\n",
              "      <th>Lauren</th>\n",
              "      <td>3</td>\n",
              "      <td>1</td>\n",
              "      <td>5</td>\n",
              "      <td>5</td>\n",
              "      <td>5</td>\n",
              "    </tr>\n",
              "    <tr>\n",
              "      <th>Ahmed</th>\n",
              "      <td>4</td>\n",
              "      <td>5</td>\n",
              "      <td>3</td>\n",
              "      <td>3</td>\n",
              "      <td>1</td>\n",
              "    </tr>\n",
              "  </tbody>\n",
              "</table>\n",
              "</div>"
            ],
            "text/plain": [
              "         Janelle Monae  Major Lazer  Tim McGraw  Maren Morris  Hailee Steinfeld\n",
              "Guest                                                                          \n",
              "Ann                  4            5           2             1                 3\n",
              "Ben                  3            1           5             4                 2\n",
              "Jordyn               5            5           1             1                 3\n",
              "Sam                  4            1           4             4                 1\n",
              "Hyunseo              1            1           5             4                 1\n",
              "Lauren               3            1           5             5                 5\n",
              "Ahmed                4            5           3             3                 1"
            ]
          },
          "metadata": {
            "tags": []
          },
          "execution_count": 83
        }
      ]
    },
    {
      "cell_type": "markdown",
      "metadata": {
        "id": "tP_BCK6bGOUH",
        "colab_type": "text"
      },
      "source": [
        "Now let's load in Mikaela and Brandon in a different DataFrame"
      ]
    },
    {
      "cell_type": "code",
      "metadata": {
        "id": "ywOYho9bGOUI",
        "colab_type": "code",
        "colab": {
          "base_uri": "https://localhost:8080/",
          "height": 141
        },
        "outputId": "1e915d97-e779-4247-e0a3-0a1463e31c6d"
      },
      "source": [
        "mb = pd.read_csv('https://raw.githubusercontent.com/zacharski/ml-class/master/data/ratings3.csv')\n",
        "mb.set_index('Guest', inplace=True)\n",
        "mb"
      ],
      "execution_count": 84,
      "outputs": [
        {
          "output_type": "execute_result",
          "data": {
            "text/html": [
              "<div>\n",
              "<style scoped>\n",
              "    .dataframe tbody tr th:only-of-type {\n",
              "        vertical-align: middle;\n",
              "    }\n",
              "\n",
              "    .dataframe tbody tr th {\n",
              "        vertical-align: top;\n",
              "    }\n",
              "\n",
              "    .dataframe thead th {\n",
              "        text-align: right;\n",
              "    }\n",
              "</style>\n",
              "<table border=\"1\" class=\"dataframe\">\n",
              "  <thead>\n",
              "    <tr style=\"text-align: right;\">\n",
              "      <th></th>\n",
              "      <th>Janelle Monae</th>\n",
              "      <th>Major Lazer</th>\n",
              "      <th>Tim McGraw</th>\n",
              "      <th>Maren Morris</th>\n",
              "      <th>Hailee Steinfeld</th>\n",
              "    </tr>\n",
              "    <tr>\n",
              "      <th>Guest</th>\n",
              "      <th></th>\n",
              "      <th></th>\n",
              "      <th></th>\n",
              "      <th></th>\n",
              "      <th></th>\n",
              "    </tr>\n",
              "  </thead>\n",
              "  <tbody>\n",
              "    <tr>\n",
              "      <th>Mikaela</th>\n",
              "      <td>3</td>\n",
              "      <td>2</td>\n",
              "      <td>4</td>\n",
              "      <td>5</td>\n",
              "      <td>4</td>\n",
              "    </tr>\n",
              "    <tr>\n",
              "      <th>Brandon</th>\n",
              "      <td>4</td>\n",
              "      <td>5</td>\n",
              "      <td>1</td>\n",
              "      <td>2</td>\n",
              "      <td>3</td>\n",
              "    </tr>\n",
              "  </tbody>\n",
              "</table>\n",
              "</div>"
            ],
            "text/plain": [
              "         Janelle Monae  Major Lazer  Tim McGraw  Maren Morris  Hailee Steinfeld\n",
              "Guest                                                                          \n",
              "Mikaela              3            2           4             5                 4\n",
              "Brandon              4            5           1             2                 3"
            ]
          },
          "metadata": {
            "tags": []
          },
          "execution_count": 84
        }
      ]
    },
    {
      "cell_type": "markdown",
      "metadata": {
        "id": "rsbRwyOIGOUJ",
        "colab_type": "text"
      },
      "source": [
        "Let's work through the example step-by-step.\n",
        "\n",
        "First, can you set a variable named `mikaela` to equal the Mikaela row of `mb`?\n",
        "So something that starts with\n",
        "\n",
        "    mikaela = mb???????????"
      ]
    },
    {
      "cell_type": "code",
      "metadata": {
        "id": "kj-uOUz3GOUJ",
        "colab_type": "code",
        "colab": {
          "base_uri": "https://localhost:8080/",
          "height": 121
        },
        "outputId": "9070e9cd-6b9a-428b-9351-e28ddf94a366"
      },
      "source": [
        "mikaela = mb.loc['Mikaela']\n",
        "mikaela"
      ],
      "execution_count": 92,
      "outputs": [
        {
          "output_type": "execute_result",
          "data": {
            "text/plain": [
              "Janelle Monae       3\n",
              "Major Lazer         2\n",
              "Tim McGraw          4\n",
              "Maren Morris        5\n",
              "Hailee Steinfeld    4\n",
              "Name: Mikaela, dtype: int64"
            ]
          },
          "metadata": {
            "tags": []
          },
          "execution_count": 92
        }
      ]
    },
    {
      "cell_type": "markdown",
      "metadata": {
        "id": "5VJ0gqYbGOUK",
        "colab_type": "text"
      },
      "source": [
        "First, let's subtract Mikaela's ratings from the other people's:"
      ]
    },
    {
      "cell_type": "code",
      "metadata": {
        "id": "g_oh1G2AGOUL",
        "colab_type": "code",
        "colab": {
          "base_uri": "https://localhost:8080/",
          "height": 294
        },
        "outputId": "84b0c264-984e-4646-b506-1eb53209cd37"
      },
      "source": [
        "fr2 =fr.sub(mikaela)\n",
        "fr2"
      ],
      "execution_count": 93,
      "outputs": [
        {
          "output_type": "execute_result",
          "data": {
            "text/html": [
              "<div>\n",
              "<style scoped>\n",
              "    .dataframe tbody tr th:only-of-type {\n",
              "        vertical-align: middle;\n",
              "    }\n",
              "\n",
              "    .dataframe tbody tr th {\n",
              "        vertical-align: top;\n",
              "    }\n",
              "\n",
              "    .dataframe thead th {\n",
              "        text-align: right;\n",
              "    }\n",
              "</style>\n",
              "<table border=\"1\" class=\"dataframe\">\n",
              "  <thead>\n",
              "    <tr style=\"text-align: right;\">\n",
              "      <th></th>\n",
              "      <th>Janelle Monae</th>\n",
              "      <th>Major Lazer</th>\n",
              "      <th>Tim McGraw</th>\n",
              "      <th>Maren Morris</th>\n",
              "      <th>Hailee Steinfeld</th>\n",
              "    </tr>\n",
              "    <tr>\n",
              "      <th>Guest</th>\n",
              "      <th></th>\n",
              "      <th></th>\n",
              "      <th></th>\n",
              "      <th></th>\n",
              "      <th></th>\n",
              "    </tr>\n",
              "  </thead>\n",
              "  <tbody>\n",
              "    <tr>\n",
              "      <th>Ann</th>\n",
              "      <td>1</td>\n",
              "      <td>3</td>\n",
              "      <td>-2</td>\n",
              "      <td>-4</td>\n",
              "      <td>-1</td>\n",
              "    </tr>\n",
              "    <tr>\n",
              "      <th>Ben</th>\n",
              "      <td>0</td>\n",
              "      <td>-1</td>\n",
              "      <td>1</td>\n",
              "      <td>-1</td>\n",
              "      <td>-2</td>\n",
              "    </tr>\n",
              "    <tr>\n",
              "      <th>Jordyn</th>\n",
              "      <td>2</td>\n",
              "      <td>3</td>\n",
              "      <td>-3</td>\n",
              "      <td>-4</td>\n",
              "      <td>-1</td>\n",
              "    </tr>\n",
              "    <tr>\n",
              "      <th>Sam</th>\n",
              "      <td>1</td>\n",
              "      <td>-1</td>\n",
              "      <td>0</td>\n",
              "      <td>-1</td>\n",
              "      <td>-3</td>\n",
              "    </tr>\n",
              "    <tr>\n",
              "      <th>Hyunseo</th>\n",
              "      <td>-2</td>\n",
              "      <td>-1</td>\n",
              "      <td>1</td>\n",
              "      <td>-1</td>\n",
              "      <td>-3</td>\n",
              "    </tr>\n",
              "    <tr>\n",
              "      <th>Lauren</th>\n",
              "      <td>0</td>\n",
              "      <td>-1</td>\n",
              "      <td>1</td>\n",
              "      <td>0</td>\n",
              "      <td>1</td>\n",
              "    </tr>\n",
              "    <tr>\n",
              "      <th>Ahmed</th>\n",
              "      <td>1</td>\n",
              "      <td>3</td>\n",
              "      <td>-1</td>\n",
              "      <td>-2</td>\n",
              "      <td>-3</td>\n",
              "    </tr>\n",
              "  </tbody>\n",
              "</table>\n",
              "</div>"
            ],
            "text/plain": [
              "         Janelle Monae  Major Lazer  Tim McGraw  Maren Morris  Hailee Steinfeld\n",
              "Guest                                                                          \n",
              "Ann                  1            3          -2            -4                -1\n",
              "Ben                  0           -1           1            -1                -2\n",
              "Jordyn               2            3          -3            -4                -1\n",
              "Sam                  1           -1           0            -1                -3\n",
              "Hyunseo             -2           -1           1            -1                -3\n",
              "Lauren               0           -1           1             0                 1\n",
              "Ahmed                1            3          -1            -2                -3"
            ]
          },
          "metadata": {
            "tags": []
          },
          "execution_count": 93
        }
      ]
    },
    {
      "cell_type": "markdown",
      "metadata": {
        "id": "8lvHjd0dGOUM",
        "colab_type": "text"
      },
      "source": [
        "\n",
        "\n",
        "Next, we will get the absolute values "
      ]
    },
    {
      "cell_type": "code",
      "metadata": {
        "id": "53Ih7ibSGOUM",
        "colab_type": "code",
        "colab": {
          "base_uri": "https://localhost:8080/",
          "height": 294
        },
        "outputId": "47aa8604-e918-4461-bf17-5eff38c97d45"
      },
      "source": [
        "fr3 = fr2.apply(np.abs)\n",
        "fr3"
      ],
      "execution_count": 94,
      "outputs": [
        {
          "output_type": "execute_result",
          "data": {
            "text/html": [
              "<div>\n",
              "<style scoped>\n",
              "    .dataframe tbody tr th:only-of-type {\n",
              "        vertical-align: middle;\n",
              "    }\n",
              "\n",
              "    .dataframe tbody tr th {\n",
              "        vertical-align: top;\n",
              "    }\n",
              "\n",
              "    .dataframe thead th {\n",
              "        text-align: right;\n",
              "    }\n",
              "</style>\n",
              "<table border=\"1\" class=\"dataframe\">\n",
              "  <thead>\n",
              "    <tr style=\"text-align: right;\">\n",
              "      <th></th>\n",
              "      <th>Janelle Monae</th>\n",
              "      <th>Major Lazer</th>\n",
              "      <th>Tim McGraw</th>\n",
              "      <th>Maren Morris</th>\n",
              "      <th>Hailee Steinfeld</th>\n",
              "    </tr>\n",
              "    <tr>\n",
              "      <th>Guest</th>\n",
              "      <th></th>\n",
              "      <th></th>\n",
              "      <th></th>\n",
              "      <th></th>\n",
              "      <th></th>\n",
              "    </tr>\n",
              "  </thead>\n",
              "  <tbody>\n",
              "    <tr>\n",
              "      <th>Ann</th>\n",
              "      <td>1</td>\n",
              "      <td>3</td>\n",
              "      <td>2</td>\n",
              "      <td>4</td>\n",
              "      <td>1</td>\n",
              "    </tr>\n",
              "    <tr>\n",
              "      <th>Ben</th>\n",
              "      <td>0</td>\n",
              "      <td>1</td>\n",
              "      <td>1</td>\n",
              "      <td>1</td>\n",
              "      <td>2</td>\n",
              "    </tr>\n",
              "    <tr>\n",
              "      <th>Jordyn</th>\n",
              "      <td>2</td>\n",
              "      <td>3</td>\n",
              "      <td>3</td>\n",
              "      <td>4</td>\n",
              "      <td>1</td>\n",
              "    </tr>\n",
              "    <tr>\n",
              "      <th>Sam</th>\n",
              "      <td>1</td>\n",
              "      <td>1</td>\n",
              "      <td>0</td>\n",
              "      <td>1</td>\n",
              "      <td>3</td>\n",
              "    </tr>\n",
              "    <tr>\n",
              "      <th>Hyunseo</th>\n",
              "      <td>2</td>\n",
              "      <td>1</td>\n",
              "      <td>1</td>\n",
              "      <td>1</td>\n",
              "      <td>3</td>\n",
              "    </tr>\n",
              "    <tr>\n",
              "      <th>Lauren</th>\n",
              "      <td>0</td>\n",
              "      <td>1</td>\n",
              "      <td>1</td>\n",
              "      <td>0</td>\n",
              "      <td>1</td>\n",
              "    </tr>\n",
              "    <tr>\n",
              "      <th>Ahmed</th>\n",
              "      <td>1</td>\n",
              "      <td>3</td>\n",
              "      <td>1</td>\n",
              "      <td>2</td>\n",
              "      <td>3</td>\n",
              "    </tr>\n",
              "  </tbody>\n",
              "</table>\n",
              "</div>"
            ],
            "text/plain": [
              "         Janelle Monae  Major Lazer  Tim McGraw  Maren Morris  Hailee Steinfeld\n",
              "Guest                                                                          \n",
              "Ann                  1            3           2             4                 1\n",
              "Ben                  0            1           1             1                 2\n",
              "Jordyn               2            3           3             4                 1\n",
              "Sam                  1            1           0             1                 3\n",
              "Hyunseo              2            1           1             1                 3\n",
              "Lauren               0            1           1             0                 1\n",
              "Ahmed                1            3           1             2                 3"
            ]
          },
          "metadata": {
            "tags": []
          },
          "execution_count": 94
        }
      ]
    },
    {
      "cell_type": "markdown",
      "metadata": {
        "id": "O8UZyLwfGOUN",
        "colab_type": "text"
      },
      "source": [
        "and sum the values in each row to compute the distances"
      ]
    },
    {
      "cell_type": "code",
      "metadata": {
        "id": "IgFgFwj2GOUO",
        "colab_type": "code",
        "colab": {
          "base_uri": "https://localhost:8080/",
          "height": 173
        },
        "outputId": "0c6b9a40-8d0c-4203-8fc4-b2560c938c99"
      },
      "source": [
        "fr4 = fr3.sum(axis = 1)\n",
        "fr4"
      ],
      "execution_count": 95,
      "outputs": [
        {
          "output_type": "execute_result",
          "data": {
            "text/plain": [
              "Guest\n",
              "Ann        11\n",
              "Ben         5\n",
              "Jordyn     13\n",
              "Sam         6\n",
              "Hyunseo     8\n",
              "Lauren      3\n",
              "Ahmed      10\n",
              "dtype: int64"
            ]
          },
          "metadata": {
            "tags": []
          },
          "execution_count": 95
        }
      ]
    },
    {
      "cell_type": "markdown",
      "metadata": {
        "id": "mNNgkEb7GOUR",
        "colab_type": "text"
      },
      "source": [
        "Finally, let's sort by the distance and get the three closest guests:"
      ]
    },
    {
      "cell_type": "code",
      "metadata": {
        "id": "IBBjss6iGOUR",
        "colab_type": "code",
        "colab": {
          "base_uri": "https://localhost:8080/",
          "height": 104
        },
        "outputId": "ac1937e5-53d8-41c5-9477-da5be01a035d"
      },
      "source": [
        "fr4.sort_values().head(3)"
      ],
      "execution_count": 96,
      "outputs": [
        {
          "output_type": "execute_result",
          "data": {
            "text/plain": [
              "Guest\n",
              "Lauren    3\n",
              "Ben       5\n",
              "Sam       6\n",
              "dtype: int64"
            ]
          },
          "metadata": {
            "tags": []
          },
          "execution_count": 96
        }
      ]
    },
    {
      "cell_type": "markdown",
      "metadata": {
        "id": "VYh48kp2GOUS",
        "colab_type": "text"
      },
      "source": [
        "So Lauren is the person most similar to Mikaela, followed by Ben and Sam.\n",
        "\n",
        "<h3 style=\"color:red\">Q6. Find Closest</h3>\n",
        "\n",
        "<span style=\"color:red\">Can you write a function nearestNeighbor that takes 2 arguments: a customers dataframe,  and an array representing one customers ratings and returns the name and distance of the closest  customer (using Euclidean Distance)?</span>\n",
        "\n"
      ]
    },
    {
      "cell_type": "code",
      "metadata": {
        "id": "nnAQNpprGOUS",
        "colab_type": "code",
        "colab": {
          "base_uri": "https://localhost:8080/",
          "height": 121
        },
        "outputId": "76f0fb6f-d975-4ccf-9cfc-122d6faa53aa"
      },
      "source": [
        "import numpy as np\n",
        "ahmed = [4, 5, 3, 3, 1]\n",
        "def nearestNeighbor(ratings, customer):\n",
        "  ratingArray = ratings.sub(customer)\n",
        "  ratingDiff =ratingArray.apply(np.abs).sum(axis = 1)\n",
        "  result = ratingDiff.sort_values().head(1)\n",
        "  return result\n",
        "    \n",
        "    \n",
        "print(nearestNeighbor(fr, mikaela))\n",
        "# TO DO\n",
        "brandon = mb.loc['Brandon']\n",
        "print(nearestNeighbor(fr, brandon))"
      ],
      "execution_count": 111,
      "outputs": [
        {
          "output_type": "stream",
          "text": [
            "Guest\n",
            "Lauren    3\n",
            "dtype: int64\n",
            "Guest\n",
            "Ann    2\n",
            "dtype: int64\n"
          ],
          "name": "stdout"
        }
      ]
    },
    {
      "cell_type": "markdown",
      "metadata": {
        "collapsed": true,
        "id": "x421SkEJGOUU",
        "colab_type": "text"
      },
      "source": [
        "<h3 style=\"color:red\">Q7. Find Closest using Euclidean Distance</h3>\n",
        "\n",
        "<span style=\"color:red\">Can you write a new function nearestNeighbor that takes 3 arguments</span>\n",
        "\n",
        "* ratings - an DataFrame representing all our customer ratings\n",
        "* customer - a DataFrame representing one customer's rating\n",
        "* metric - the value is either the string 'manhattan' or 'euclidean' representing which metric to use to compute the distance.\n",
        "    a customers dataframe,  and an array representing one customers ratings\n",
        "    \n",
        "It returns the name and distance of the closest  customer (using Euclidean Distance)?\n"
      ]
    },
    {
      "cell_type": "code",
      "metadata": {
        "id": "5ye9s-aYGOUU",
        "colab_type": "code",
        "colab": {
          "base_uri": "https://localhost:8080/",
          "height": 121
        },
        "outputId": "637ea157-77c8-4e7e-a2fc-22688fcb4eef"
      },
      "source": [
        "# TO DO\n",
        "\n",
        "def nearestNeighbor(ratings, customer, metric):\n",
        "  if metric == 'euclidean':\n",
        "    ratingArray = ratings.sub(customer)\n",
        "    SqrList = np.square(ratingArray)\n",
        "    ratingDiff =np.abs(SqrList).sum(axis = 1)\n",
        "    sqrtList = np.sqrt(ratingDiff)\n",
        "    result = sqrtList.sort_values().head(1)\n",
        "  else:\n",
        "    ratingArray = ratings.sub(customer)\n",
        "    ratingDiff =ratingArray.apply(np.abs).sum(axis = 1)\n",
        "    result = ratingDiff.sort_values().head(1)\n",
        "  return result\n",
        "\n",
        "print(nearestNeighbor(fr, mikaela, metric='euclidean'))\n",
        "brandon = mb.loc['Brandon']\n",
        "print(nearestNeighbor(fr, brandon, metric='euclidean'))"
      ],
      "execution_count": 110,
      "outputs": [
        {
          "output_type": "stream",
          "text": [
            "Guest\n",
            "Lauren    1.732051\n",
            "dtype: float64\n",
            "Guest\n",
            "Ann    1.414214\n",
            "dtype: float64\n"
          ],
          "name": "stdout"
        }
      ]
    }
  ]
}