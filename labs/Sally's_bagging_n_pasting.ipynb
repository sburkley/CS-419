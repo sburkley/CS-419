{
  "nbformat": 4,
  "nbformat_minor": 0,
  "metadata": {
    "kernelspec": {
      "display_name": "Python 3",
      "language": "python",
      "name": "python3"
    },
    "language_info": {
      "codemirror_mode": {
        "name": "ipython",
        "version": 3
      },
      "file_extension": ".py",
      "mimetype": "text/x-python",
      "name": "python",
      "nbconvert_exporter": "python",
      "pygments_lexer": "ipython3",
      "version": "3.8.3"
    },
    "colab": {
      "name": "Sally's bagging_n_pasting.ipynb",
      "provenance": [],
      "include_colab_link": true
    }
  },
  "cells": [
    {
      "cell_type": "markdown",
      "metadata": {
        "id": "view-in-github",
        "colab_type": "text"
      },
      "source": [
        "<a href=\"https://colab.research.google.com/github/sburkley/CS-419/blob/master/labs/Sally's_bagging_n_pasting.ipynb\" target=\"_parent\"><img src=\"https://colab.research.google.com/assets/colab-badge.svg\" alt=\"Open In Colab\"/></a>"
      ]
    },
    {
      "cell_type": "markdown",
      "metadata": {
        "id": "fA3_gHWIzjUO"
      },
      "source": [
        "# Bagging and Pasting\n",
        "\n",
        "#### Part of the [Inquiryum Machine Learning Fundamentals Course](http://inquiryum.com/machine-learning/)\n",
        "\n",
        "![](https://raw.githubusercontent.com/zacharski/ml-class/master/labs/pics/bagging..png)\n",
        "\n",
        "\n",
        "Now we are about to embark on our journey from simple decision trees to algorithms that use decision trees as components. The path goes like this:\n",
        "\n",
        "\n",
        "![](https://raw.githubusercontent.com/zacharski/ml-class/master/labs/pics/dbxg.png)\n",
        "\n",
        "The use of decision trees began in the 1980s and XGBoost was introduced in 2016. Throughout the next few notebooks we will explore this progression of algorithms.  \n",
        "\n",
        "### A collective of classifiers\n",
        "\n",
        "To gain an intuition on how this works, let's look at how our confidence might increase when more people tell us something. Whether it is multiple doctors giving us the same diagnosis or something as simple as ...\n",
        "\n",
        "#### The Mary Spender example\n",
        "\n",
        "Let's say one of your friends mentions over lunch (pre-covid apparently) that you would love a particular musical artist on YouTube, say Mary Spender, who you never heard before. \n",
        "\n",
        "![](https://raw.githubusercontent.com/zacharski/ml-class/master/labs/pics/MarySpender2.png)\n",
        "\n",
        "What is the chance that you will actually like Mary Spender's music? Maybe slighly better than chance? Let's say you think there is a 60% chance you will like her. You will file away the recommendation but you are not going to rush home and watch a YouTube video.  Now, in addition to the lunch friend's recommendation,  an old music school friend, now living in Austin messages you saying you should check out Mary Spender and the friend predicts you will absolutely love her. Then a week later, while talking with an old bandmate over the phone, that bandmate, again, recommends Mary Spender. Over the course of less than 10 days, three of your friends independently (because they don't know one another) recommend Mary Spender. Now what is the likelihood of you liking Mary Spender? I am guessing you think that now it is higher than 60%. Maybe now you think it is 90% likely you will like her. It is the aggregate of these 3 people's opinions (3 classifiers) that ups the accuracy of the prediction.\n",
        "\n",
        "![](https://raw.githubusercontent.com/zacharski/ml-class/master/labs/pics/spender22.png)\n",
        "\n",
        "\n",
        "This is similar to how bagging works. One aggregates the votes of a number of classifiers and the vote of that ensemble of classifiers is more accurate than that of a single classifier. Even if the accuracy of each component classifier is low (known as a weak classifier), the ensemble can be a strong (high accuracy) classifier. Of course there are some caveats. \n",
        "\n",
        "Back to the Mary Spender example. Suppose one of your friends went to a Mary Spender concert and then later in the week met with four other of your friends and mentioned that she thought you would love Mary Spender's music. Then, over the course of a week all those friends recommended Mary Spender to you. In this case the recommendations are not that independent---all are based on one person's opinion. Thus, the accuracy would not be as great as in the example above. Similarly, if you made 10 copies of the exact same classifier each trained on exactly the same data, the accuracy of the ensemble of clones would not be any better than the accuracy of a single copy. Moving away from Mary Spender and our musical tastes and back to machine learning, we can try to create independence among the classifier in 2 ways:\n",
        "\n",
        "1. We can change the type of classifier. For example, we can use a k-Nearest Neighbor Classifier with Manhattan distance and a k of 5, a k-Nearest Neighbor Classifier with Euclidean distance and a k of 3, a decision tree classifier using entropy and a max depth of 5, and a decision tree classifier with using gini and no max depth specified. Hopefully, the accuracy of the ensemble of the four classifiers would be greater than that of a single classifier.\n",
        "2. We can have an ensemble of the same classifier (for example, 10 decision tree classifiers with identical hyperparameters) but each classifier can get a different subset of the training data. The classifiers would thus build different models (differents 'rules') and, again, the accuracy of the ensemble should be greather than that of a single classifier. This is the approach we will take.\n",
        "\n",
        "### Bagging and Pasting\n",
        "\n",
        "\n",
        "In this Jupyter notebook, we are going to explore Bagging algorithms. Bagging algorithms come in a variety of 'flavors' including one called 'bagging' and one called 'pasting'.\n",
        "\n",
        "But first an experiment on the what *with replacement* means. As you will see shortly, that term is the crucial difference between bagging and pasting.\n",
        "\n",
        "### A small experiment\n",
        "NOTE: The following code is just used for illustration and is nothing we will be using for machine learning. \n",
        "\n",
        "Consider a list of 5 red balls and 5 blue balls:"
      ]
    },
    {
      "cell_type": "code",
      "metadata": {
        "id": "5ln8U4DvzjUR"
      },
      "source": [
        "bag = ['red', 'red', 'red', 'red', 'red',\n",
        "       'blue', 'blue', 'blue', 'blue', 'blue']"
      ],
      "execution_count": 1,
      "outputs": []
    },
    {
      "cell_type": "markdown",
      "metadata": {
        "id": "2_T7rU6CzjUa"
      },
      "source": [
        "Suppose we want to pick 7 random balls from this list. Python offers two functions that will give us random elements from a list.One is called `choices` which selects a sample with replacement, which means that once a ball is selected it is put back in the bag so it has the potential to be selected again. Let's give it a try, and just because things are random let's do this 100 times:"
      ]
    },
    {
      "cell_type": "code",
      "metadata": {
        "id": "ZlrCiYw6zjUc",
        "outputId": "ff280ad8-e354-4330-f2bd-d1a8aad01615",
        "colab": {
          "base_uri": "https://localhost:8080/",
          "height": 208
        }
      },
      "source": [
        "import random\n",
        "total = 0\n",
        "for i in range(100):\n",
        "    set = random.choices(bag, k=7)\n",
        "    blue = set.count('blue')\n",
        "    red = set.count('red')\n",
        "    if blue > 5 or red > 5:\n",
        "        print(\"%i blue and %i red\" % (set.count('blue'), set.count('red')))\n",
        "        total +=1\n",
        "print(\"Balls selected exceeded balls in bag: %i\" % (total))"
      ],
      "execution_count": 2,
      "outputs": [
        {
          "output_type": "stream",
          "text": [
            "1 blue and 6 red\n",
            "1 blue and 6 red\n",
            "0 blue and 7 red\n",
            "6 blue and 1 red\n",
            "1 blue and 6 red\n",
            "6 blue and 1 red\n",
            "6 blue and 1 red\n",
            "1 blue and 6 red\n",
            "7 blue and 0 red\n",
            "6 blue and 1 red\n",
            "Balls selected exceeded balls in bag: 10\n"
          ],
          "name": "stdout"
        }
      ]
    },
    {
      "cell_type": "markdown",
      "metadata": {
        "id": "1dNsALQyzjUl"
      },
      "source": [
        "*A reminder: please don't mindlessly execute the code. Look at it and understand it*\n",
        "\n",
        "When I ran this, 14 times out of 100 had more of one color ball than there were in the original bag. In fact, several times I ended up with all 7 of the balls blue, even though the original list had only 5 balls:\n",
        "\n",
        "```\n",
        "7 blue and 0 red\n",
        "6 blue and 1 red\n",
        "7 blue and 0 red\n",
        "1 blue and 6 red\n",
        "0 blue and 7 red\n",
        "1 blue and 6 red\n",
        "1 blue and 6 red\n",
        "6 blue and 1 red\n",
        "6 blue and 1 red\n",
        "1 blue and 6 red\n",
        "6 blue and 1 red\n",
        "1 blue and 6 red\n",
        "6 blue and 1 red\n",
        "6 blue and 1 red\n",
        "Balls selected exceeded balls in bag: 14\n",
        "```\n",
        "Again, this is called selecting with replacement (we put what we selected back in the set before selecting again). \n",
        "\n",
        "The other alternative is to select without replacement--once we select something we can't select it again. Python's `sample` does this:\n"
      ]
    },
    {
      "cell_type": "code",
      "metadata": {
        "id": "rRu89T7YzjUm",
        "outputId": "6c6263a4-c31e-41a1-fae5-5c1ed63b7a83",
        "colab": {
          "base_uri": "https://localhost:8080/",
          "height": 35
        }
      },
      "source": [
        "import random\n",
        "total = 0\n",
        "for i in range(1000):\n",
        "    set = random.sample(bag, k=7)\n",
        "    blue = set.count('blue')\n",
        "    red = set.count('red')\n",
        "    if blue > 5 or red > 5:\n",
        "        print(\"%i blue and %i red\" % (set.count('blue'), set.count('red')))\n",
        "        total +=1\n",
        "print(\"Balls selected exceeded balls in bag: %i\" % (total))"
      ],
      "execution_count": 3,
      "outputs": [
        {
          "output_type": "stream",
          "text": [
            "Balls selected exceeded balls in bag: 0\n"
          ],
          "name": "stdout"
        }
      ]
    },
    {
      "cell_type": "markdown",
      "metadata": {
        "id": "Hnl0TahGzjUs"
      },
      "source": [
        "As you can see, the number of a specific colored ball that we select never exceeded the number of balls of that color in the original set.\n",
        "\n",
        "Now back to bagging and pasting. In both approaches we are going to sample the training data. Let's say we want 70% of the training data in our sample. In bagging ([Breiman, 1996](https://link.springer.com/content/pdf/10.1007/BF00058655.pdf)), if we our training dataset is 1000 instances and we want 70% for a particular classifier, the algorithm will randomly select 700 out of the 1,000 **with replacement**. With pasting ([Breiman, 1998](https://link.springer.com/article/10.1023/A:1007563306331)), the selection is done **without replacement**. \n",
        "\n",
        "#### but wait, there is more ...\n",
        "\n",
        "There are two other options. Instead of selecting a random subset of training data instances, we can select a random subset of columns (features). Let's say we have a dataset of 1,000 instances each with 100 features. When we select a random subset of columns, we still have 1,000 instances but now they have just a subset of the features. This is called Random Subspaces ([Ho, 1998](https://pdfs.semanticscholar.org/b41d/0fa5fdaadd47fc882d3db04277d03fb21832.pdf?_ga=2.196949164.1638238666.1596910000-1073138517.1596910000)).\n",
        "\n",
        "Finally, we can train a classifier on both random subsets of instances and random subsets of features. This is known as Random Patches ([Louppe and Geurts, 2012](https://www.researchgate.net/publication/262212941_Ensembles_on_Random_Patches))\n",
        "\n",
        "In summary, the four methods are:\n",
        "\n",
        "* **bagging** - select a subset of data set instances using replacement\n",
        "* **pasting** - select a subset of data set instances without replacement\n",
        "* **Random Subspaces** - select a subset of features\n",
        "* **Random Patches** - select both a subset of features and of instances\n",
        "\n",
        "Let's see how this works!\n",
        "\n",
        "First, let's grab the Wisconsin Cancer data we used before:\n",
        "\n",
        "#### Wisconsin Cancer Dataset\n",
        "![](https://raw.githubusercontent.com/zacharski/ml-class/master/labs/pics/aimam.png)\n",
        "(image from Nvidia's [AI Improves Breast Cancer Diagnoses by Factoring Out False Positives](https://blogs.nvidia.com/blog/2018/02/01/making-mammography-more-meaningful/))\n",
        "\n",
        "[A description of the Cancer Database](#Breast-Cancer-Database)\n",
        "\n",
        "In this dataset we are trying to predict the diagnosis---either M (malignant) or B (benign).\n",
        "\n",
        "Let's load the dataset and split it into training and testing sets"
      ]
    },
    {
      "cell_type": "code",
      "metadata": {
        "id": "HUZVOvDqzjUt",
        "outputId": "667dc160-f0f0-4d50-bbc8-5ea457be5e7c",
        "colab": {
          "base_uri": "https://localhost:8080/",
          "height": 466
        }
      },
      "source": [
        "import pandas as pd\n",
        "from sklearn.model_selection import train_test_split\n",
        "from sklearn.metrics import accuracy_score\n",
        "\n",
        "colNames = ['id', 'diagnosis', 'radiusAvg', 'textureAvg', 'perimeterAvg', 'areaAvg',\n",
        "            'smoothnessAvg', 'compactnessAvg', 'concavityAvg', 'concavityPointsAvg',\n",
        "            'symmetryAvg', 'FractalDimensionAvg', 'radiusSE', 'textureSE', 'perimeterSE',\n",
        "            'areaSE','smoothnessSE', 'compactnessSE', 'concavitySE', 'concavityPointsSE',\n",
        "            'symmetrySE', 'FractalDimensionSE', 'radiusWorst', 'textureWorst', 'perimeterWorst',\n",
        "            'areaWorst', 'smoothnessWorst', 'compactnessWorst', 'concavityWorst', 'concavityPointsWorst',\n",
        "            'symmetryWorst>', 'FractalDimensionWorst']\n",
        "len(colNames)\n",
        "\n",
        "data = pd.read_csv('https://raw.githubusercontent.com/zacharski/ml-class/master/data/wdbc.data', names=colNames)\n",
        "data.set_index('id', inplace=True)\n",
        "\n",
        "trainingdata, testdata = train_test_split(data, test_size = 0.2)\n",
        "testdata"
      ],
      "execution_count": 4,
      "outputs": [
        {
          "output_type": "execute_result",
          "data": {
            "text/html": [
              "<div>\n",
              "<style scoped>\n",
              "    .dataframe tbody tr th:only-of-type {\n",
              "        vertical-align: middle;\n",
              "    }\n",
              "\n",
              "    .dataframe tbody tr th {\n",
              "        vertical-align: top;\n",
              "    }\n",
              "\n",
              "    .dataframe thead th {\n",
              "        text-align: right;\n",
              "    }\n",
              "</style>\n",
              "<table border=\"1\" class=\"dataframe\">\n",
              "  <thead>\n",
              "    <tr style=\"text-align: right;\">\n",
              "      <th></th>\n",
              "      <th>diagnosis</th>\n",
              "      <th>radiusAvg</th>\n",
              "      <th>textureAvg</th>\n",
              "      <th>perimeterAvg</th>\n",
              "      <th>areaAvg</th>\n",
              "      <th>smoothnessAvg</th>\n",
              "      <th>compactnessAvg</th>\n",
              "      <th>concavityAvg</th>\n",
              "      <th>concavityPointsAvg</th>\n",
              "      <th>symmetryAvg</th>\n",
              "      <th>FractalDimensionAvg</th>\n",
              "      <th>radiusSE</th>\n",
              "      <th>textureSE</th>\n",
              "      <th>perimeterSE</th>\n",
              "      <th>areaSE</th>\n",
              "      <th>smoothnessSE</th>\n",
              "      <th>compactnessSE</th>\n",
              "      <th>concavitySE</th>\n",
              "      <th>concavityPointsSE</th>\n",
              "      <th>symmetrySE</th>\n",
              "      <th>FractalDimensionSE</th>\n",
              "      <th>radiusWorst</th>\n",
              "      <th>textureWorst</th>\n",
              "      <th>perimeterWorst</th>\n",
              "      <th>areaWorst</th>\n",
              "      <th>smoothnessWorst</th>\n",
              "      <th>compactnessWorst</th>\n",
              "      <th>concavityWorst</th>\n",
              "      <th>concavityPointsWorst</th>\n",
              "      <th>symmetryWorst&gt;</th>\n",
              "      <th>FractalDimensionWorst</th>\n",
              "    </tr>\n",
              "    <tr>\n",
              "      <th>id</th>\n",
              "      <th></th>\n",
              "      <th></th>\n",
              "      <th></th>\n",
              "      <th></th>\n",
              "      <th></th>\n",
              "      <th></th>\n",
              "      <th></th>\n",
              "      <th></th>\n",
              "      <th></th>\n",
              "      <th></th>\n",
              "      <th></th>\n",
              "      <th></th>\n",
              "      <th></th>\n",
              "      <th></th>\n",
              "      <th></th>\n",
              "      <th></th>\n",
              "      <th></th>\n",
              "      <th></th>\n",
              "      <th></th>\n",
              "      <th></th>\n",
              "      <th></th>\n",
              "      <th></th>\n",
              "      <th></th>\n",
              "      <th></th>\n",
              "      <th></th>\n",
              "      <th></th>\n",
              "      <th></th>\n",
              "      <th></th>\n",
              "      <th></th>\n",
              "      <th></th>\n",
              "      <th></th>\n",
              "    </tr>\n",
              "  </thead>\n",
              "  <tbody>\n",
              "    <tr>\n",
              "      <th>879830</th>\n",
              "      <td>M</td>\n",
              "      <td>17.01</td>\n",
              "      <td>20.26</td>\n",
              "      <td>109.70</td>\n",
              "      <td>904.3</td>\n",
              "      <td>0.08772</td>\n",
              "      <td>0.07304</td>\n",
              "      <td>0.06950</td>\n",
              "      <td>0.05390</td>\n",
              "      <td>0.2026</td>\n",
              "      <td>0.05223</td>\n",
              "      <td>0.5858</td>\n",
              "      <td>0.8554</td>\n",
              "      <td>4.106</td>\n",
              "      <td>68.46</td>\n",
              "      <td>0.005038</td>\n",
              "      <td>0.01503</td>\n",
              "      <td>0.01946</td>\n",
              "      <td>0.011230</td>\n",
              "      <td>0.02294</td>\n",
              "      <td>0.002581</td>\n",
              "      <td>19.80</td>\n",
              "      <td>25.05</td>\n",
              "      <td>130.00</td>\n",
              "      <td>1210.0</td>\n",
              "      <td>0.1111</td>\n",
              "      <td>0.14860</td>\n",
              "      <td>0.19320</td>\n",
              "      <td>0.10960</td>\n",
              "      <td>0.3275</td>\n",
              "      <td>0.06469</td>\n",
              "    </tr>\n",
              "    <tr>\n",
              "      <th>905680</th>\n",
              "      <td>M</td>\n",
              "      <td>15.13</td>\n",
              "      <td>29.81</td>\n",
              "      <td>96.71</td>\n",
              "      <td>719.5</td>\n",
              "      <td>0.08320</td>\n",
              "      <td>0.04605</td>\n",
              "      <td>0.04686</td>\n",
              "      <td>0.02739</td>\n",
              "      <td>0.1852</td>\n",
              "      <td>0.05294</td>\n",
              "      <td>0.4681</td>\n",
              "      <td>1.6270</td>\n",
              "      <td>3.043</td>\n",
              "      <td>45.38</td>\n",
              "      <td>0.006831</td>\n",
              "      <td>0.01427</td>\n",
              "      <td>0.02489</td>\n",
              "      <td>0.009087</td>\n",
              "      <td>0.03151</td>\n",
              "      <td>0.001750</td>\n",
              "      <td>17.26</td>\n",
              "      <td>36.91</td>\n",
              "      <td>110.10</td>\n",
              "      <td>931.4</td>\n",
              "      <td>0.1148</td>\n",
              "      <td>0.09866</td>\n",
              "      <td>0.15470</td>\n",
              "      <td>0.06575</td>\n",
              "      <td>0.3233</td>\n",
              "      <td>0.06165</td>\n",
              "    </tr>\n",
              "    <tr>\n",
              "      <th>91505</th>\n",
              "      <td>B</td>\n",
              "      <td>12.54</td>\n",
              "      <td>16.32</td>\n",
              "      <td>81.25</td>\n",
              "      <td>476.3</td>\n",
              "      <td>0.11580</td>\n",
              "      <td>0.10850</td>\n",
              "      <td>0.05928</td>\n",
              "      <td>0.03279</td>\n",
              "      <td>0.1943</td>\n",
              "      <td>0.06612</td>\n",
              "      <td>0.2577</td>\n",
              "      <td>1.0950</td>\n",
              "      <td>1.566</td>\n",
              "      <td>18.49</td>\n",
              "      <td>0.009702</td>\n",
              "      <td>0.01567</td>\n",
              "      <td>0.02575</td>\n",
              "      <td>0.011610</td>\n",
              "      <td>0.02801</td>\n",
              "      <td>0.002480</td>\n",
              "      <td>13.57</td>\n",
              "      <td>21.40</td>\n",
              "      <td>86.67</td>\n",
              "      <td>552.0</td>\n",
              "      <td>0.1580</td>\n",
              "      <td>0.17510</td>\n",
              "      <td>0.18890</td>\n",
              "      <td>0.08411</td>\n",
              "      <td>0.3155</td>\n",
              "      <td>0.07538</td>\n",
              "    </tr>\n",
              "    <tr>\n",
              "      <th>915460</th>\n",
              "      <td>M</td>\n",
              "      <td>15.46</td>\n",
              "      <td>23.95</td>\n",
              "      <td>103.80</td>\n",
              "      <td>731.3</td>\n",
              "      <td>0.11830</td>\n",
              "      <td>0.18700</td>\n",
              "      <td>0.20300</td>\n",
              "      <td>0.08520</td>\n",
              "      <td>0.1807</td>\n",
              "      <td>0.07083</td>\n",
              "      <td>0.3331</td>\n",
              "      <td>1.9610</td>\n",
              "      <td>2.937</td>\n",
              "      <td>32.52</td>\n",
              "      <td>0.009538</td>\n",
              "      <td>0.04940</td>\n",
              "      <td>0.06019</td>\n",
              "      <td>0.020410</td>\n",
              "      <td>0.02105</td>\n",
              "      <td>0.006000</td>\n",
              "      <td>17.11</td>\n",
              "      <td>36.33</td>\n",
              "      <td>117.70</td>\n",
              "      <td>909.4</td>\n",
              "      <td>0.1732</td>\n",
              "      <td>0.49670</td>\n",
              "      <td>0.59110</td>\n",
              "      <td>0.21630</td>\n",
              "      <td>0.3013</td>\n",
              "      <td>0.10670</td>\n",
              "    </tr>\n",
              "    <tr>\n",
              "      <th>88299702</th>\n",
              "      <td>M</td>\n",
              "      <td>23.21</td>\n",
              "      <td>26.97</td>\n",
              "      <td>153.50</td>\n",
              "      <td>1670.0</td>\n",
              "      <td>0.09509</td>\n",
              "      <td>0.16820</td>\n",
              "      <td>0.19500</td>\n",
              "      <td>0.12370</td>\n",
              "      <td>0.1909</td>\n",
              "      <td>0.06309</td>\n",
              "      <td>1.0580</td>\n",
              "      <td>0.9635</td>\n",
              "      <td>7.247</td>\n",
              "      <td>155.80</td>\n",
              "      <td>0.006428</td>\n",
              "      <td>0.02863</td>\n",
              "      <td>0.04497</td>\n",
              "      <td>0.017160</td>\n",
              "      <td>0.01590</td>\n",
              "      <td>0.003053</td>\n",
              "      <td>31.01</td>\n",
              "      <td>34.51</td>\n",
              "      <td>206.00</td>\n",
              "      <td>2944.0</td>\n",
              "      <td>0.1481</td>\n",
              "      <td>0.41260</td>\n",
              "      <td>0.58200</td>\n",
              "      <td>0.25930</td>\n",
              "      <td>0.3103</td>\n",
              "      <td>0.08677</td>\n",
              "    </tr>\n",
              "    <tr>\n",
              "      <th>...</th>\n",
              "      <td>...</td>\n",
              "      <td>...</td>\n",
              "      <td>...</td>\n",
              "      <td>...</td>\n",
              "      <td>...</td>\n",
              "      <td>...</td>\n",
              "      <td>...</td>\n",
              "      <td>...</td>\n",
              "      <td>...</td>\n",
              "      <td>...</td>\n",
              "      <td>...</td>\n",
              "      <td>...</td>\n",
              "      <td>...</td>\n",
              "      <td>...</td>\n",
              "      <td>...</td>\n",
              "      <td>...</td>\n",
              "      <td>...</td>\n",
              "      <td>...</td>\n",
              "      <td>...</td>\n",
              "      <td>...</td>\n",
              "      <td>...</td>\n",
              "      <td>...</td>\n",
              "      <td>...</td>\n",
              "      <td>...</td>\n",
              "      <td>...</td>\n",
              "      <td>...</td>\n",
              "      <td>...</td>\n",
              "      <td>...</td>\n",
              "      <td>...</td>\n",
              "      <td>...</td>\n",
              "      <td>...</td>\n",
              "    </tr>\n",
              "    <tr>\n",
              "      <th>888570</th>\n",
              "      <td>M</td>\n",
              "      <td>17.29</td>\n",
              "      <td>22.13</td>\n",
              "      <td>114.40</td>\n",
              "      <td>947.8</td>\n",
              "      <td>0.08999</td>\n",
              "      <td>0.12730</td>\n",
              "      <td>0.09697</td>\n",
              "      <td>0.07507</td>\n",
              "      <td>0.2108</td>\n",
              "      <td>0.05464</td>\n",
              "      <td>0.8348</td>\n",
              "      <td>1.6330</td>\n",
              "      <td>6.146</td>\n",
              "      <td>90.94</td>\n",
              "      <td>0.006717</td>\n",
              "      <td>0.05981</td>\n",
              "      <td>0.04638</td>\n",
              "      <td>0.021490</td>\n",
              "      <td>0.02747</td>\n",
              "      <td>0.005838</td>\n",
              "      <td>20.39</td>\n",
              "      <td>27.24</td>\n",
              "      <td>137.90</td>\n",
              "      <td>1295.0</td>\n",
              "      <td>0.1134</td>\n",
              "      <td>0.28670</td>\n",
              "      <td>0.22980</td>\n",
              "      <td>0.15280</td>\n",
              "      <td>0.3067</td>\n",
              "      <td>0.07484</td>\n",
              "    </tr>\n",
              "    <tr>\n",
              "      <th>8912909</th>\n",
              "      <td>B</td>\n",
              "      <td>11.94</td>\n",
              "      <td>20.76</td>\n",
              "      <td>77.87</td>\n",
              "      <td>441.0</td>\n",
              "      <td>0.08605</td>\n",
              "      <td>0.10110</td>\n",
              "      <td>0.06574</td>\n",
              "      <td>0.03791</td>\n",
              "      <td>0.1588</td>\n",
              "      <td>0.06766</td>\n",
              "      <td>0.2742</td>\n",
              "      <td>1.3900</td>\n",
              "      <td>3.198</td>\n",
              "      <td>21.91</td>\n",
              "      <td>0.006719</td>\n",
              "      <td>0.05156</td>\n",
              "      <td>0.04387</td>\n",
              "      <td>0.016330</td>\n",
              "      <td>0.01872</td>\n",
              "      <td>0.008015</td>\n",
              "      <td>13.24</td>\n",
              "      <td>27.29</td>\n",
              "      <td>92.20</td>\n",
              "      <td>546.1</td>\n",
              "      <td>0.1116</td>\n",
              "      <td>0.28130</td>\n",
              "      <td>0.23650</td>\n",
              "      <td>0.11550</td>\n",
              "      <td>0.2465</td>\n",
              "      <td>0.09981</td>\n",
              "    </tr>\n",
              "    <tr>\n",
              "      <th>868871</th>\n",
              "      <td>B</td>\n",
              "      <td>11.28</td>\n",
              "      <td>13.39</td>\n",
              "      <td>73.00</td>\n",
              "      <td>384.8</td>\n",
              "      <td>0.11640</td>\n",
              "      <td>0.11360</td>\n",
              "      <td>0.04635</td>\n",
              "      <td>0.04796</td>\n",
              "      <td>0.1771</td>\n",
              "      <td>0.06072</td>\n",
              "      <td>0.3384</td>\n",
              "      <td>1.3430</td>\n",
              "      <td>1.851</td>\n",
              "      <td>26.33</td>\n",
              "      <td>0.011270</td>\n",
              "      <td>0.03498</td>\n",
              "      <td>0.02187</td>\n",
              "      <td>0.019650</td>\n",
              "      <td>0.01580</td>\n",
              "      <td>0.003442</td>\n",
              "      <td>11.92</td>\n",
              "      <td>15.77</td>\n",
              "      <td>76.53</td>\n",
              "      <td>434.0</td>\n",
              "      <td>0.1367</td>\n",
              "      <td>0.18220</td>\n",
              "      <td>0.08669</td>\n",
              "      <td>0.08611</td>\n",
              "      <td>0.2102</td>\n",
              "      <td>0.06784</td>\n",
              "    </tr>\n",
              "    <tr>\n",
              "      <th>907914</th>\n",
              "      <td>M</td>\n",
              "      <td>14.90</td>\n",
              "      <td>22.53</td>\n",
              "      <td>102.10</td>\n",
              "      <td>685.0</td>\n",
              "      <td>0.09947</td>\n",
              "      <td>0.22250</td>\n",
              "      <td>0.27330</td>\n",
              "      <td>0.09711</td>\n",
              "      <td>0.2041</td>\n",
              "      <td>0.06898</td>\n",
              "      <td>0.2530</td>\n",
              "      <td>0.8749</td>\n",
              "      <td>3.466</td>\n",
              "      <td>24.19</td>\n",
              "      <td>0.006965</td>\n",
              "      <td>0.06213</td>\n",
              "      <td>0.07926</td>\n",
              "      <td>0.022340</td>\n",
              "      <td>0.01499</td>\n",
              "      <td>0.005784</td>\n",
              "      <td>16.35</td>\n",
              "      <td>27.57</td>\n",
              "      <td>125.40</td>\n",
              "      <td>832.7</td>\n",
              "      <td>0.1419</td>\n",
              "      <td>0.70900</td>\n",
              "      <td>0.90190</td>\n",
              "      <td>0.24750</td>\n",
              "      <td>0.2866</td>\n",
              "      <td>0.11550</td>\n",
              "    </tr>\n",
              "    <tr>\n",
              "      <th>911320501</th>\n",
              "      <td>B</td>\n",
              "      <td>11.60</td>\n",
              "      <td>18.36</td>\n",
              "      <td>73.88</td>\n",
              "      <td>412.7</td>\n",
              "      <td>0.08508</td>\n",
              "      <td>0.05855</td>\n",
              "      <td>0.03367</td>\n",
              "      <td>0.01777</td>\n",
              "      <td>0.1516</td>\n",
              "      <td>0.05859</td>\n",
              "      <td>0.1816</td>\n",
              "      <td>0.7656</td>\n",
              "      <td>1.303</td>\n",
              "      <td>12.89</td>\n",
              "      <td>0.006709</td>\n",
              "      <td>0.01701</td>\n",
              "      <td>0.02080</td>\n",
              "      <td>0.007497</td>\n",
              "      <td>0.02124</td>\n",
              "      <td>0.002768</td>\n",
              "      <td>12.77</td>\n",
              "      <td>24.02</td>\n",
              "      <td>82.68</td>\n",
              "      <td>495.1</td>\n",
              "      <td>0.1342</td>\n",
              "      <td>0.18080</td>\n",
              "      <td>0.18600</td>\n",
              "      <td>0.08288</td>\n",
              "      <td>0.3210</td>\n",
              "      <td>0.07863</td>\n",
              "    </tr>\n",
              "  </tbody>\n",
              "</table>\n",
              "<p>114 rows × 31 columns</p>\n",
              "</div>"
            ],
            "text/plain": [
              "          diagnosis  radiusAvg  ...  symmetryWorst>  FractalDimensionWorst\n",
              "id                              ...                                       \n",
              "879830            M      17.01  ...          0.3275                0.06469\n",
              "905680            M      15.13  ...          0.3233                0.06165\n",
              "91505             B      12.54  ...          0.3155                0.07538\n",
              "915460            M      15.46  ...          0.3013                0.10670\n",
              "88299702          M      23.21  ...          0.3103                0.08677\n",
              "...             ...        ...  ...             ...                    ...\n",
              "888570            M      17.29  ...          0.3067                0.07484\n",
              "8912909           B      11.94  ...          0.2465                0.09981\n",
              "868871            B      11.28  ...          0.2102                0.06784\n",
              "907914            M      14.90  ...          0.2866                0.11550\n",
              "911320501         B      11.60  ...          0.3210                0.07863\n",
              "\n",
              "[114 rows x 31 columns]"
            ]
          },
          "metadata": {
            "tags": []
          },
          "execution_count": 4
        }
      ]
    },
    {
      "cell_type": "markdown",
      "metadata": {
        "id": "uSPmyRoBzjU0"
      },
      "source": [
        "Now divide up the data into the features and labels"
      ]
    },
    {
      "cell_type": "code",
      "metadata": {
        "id": "1j6T6oh6zjU1"
      },
      "source": [
        "colNames.remove('id')\n",
        "colNames.remove('diagnosis')\n",
        "trainingDataFeatures = trainingdata[colNames]\n",
        "testDataFeatures = testdata[colNames]\n",
        "trainingDataLabels = trainingdata['diagnosis']\n",
        "testDataLabels = testdata['diagnosis']\n"
      ],
      "execution_count": 5,
      "outputs": []
    },
    {
      "cell_type": "markdown",
      "metadata": {
        "id": "6Gk4sactzjU_"
      },
      "source": [
        "Let's get a base accuracy using a single decision tree classifier:"
      ]
    },
    {
      "cell_type": "code",
      "metadata": {
        "id": "rXDc0JnTzjVA",
        "outputId": "bedb8743-f499-462a-e7e0-a7c16ef4b396",
        "colab": {
          "base_uri": "https://localhost:8080/",
          "height": 35
        }
      },
      "source": [
        "from sklearn import tree\n",
        "clf = tree.DecisionTreeClassifier(criterion='entropy')\n",
        "clf.fit(trainingDataFeatures, trainingDataLabels)\n",
        "predictions = clf.predict(testDataFeatures)\n",
        "\n",
        "accuracy_score(testDataLabels, predictions)"
      ],
      "execution_count": 6,
      "outputs": [
        {
          "output_type": "execute_result",
          "data": {
            "text/plain": [
              "0.9649122807017544"
            ]
          },
          "metadata": {
            "tags": []
          },
          "execution_count": 6
        }
      ]
    },
    {
      "cell_type": "markdown",
      "metadata": {
        "id": "mXm1LDcHzjVH"
      },
      "source": [
        "### Building a bagging classifier\n",
        "\n",
        "Let's build a collective of 20 decision tree classifiers (`n_estimators`). Let's train each one with 100 random samples from our dataset (`max_samples`) with replacement (`bootstrap=True`). `n_jobs` means how many jobs to run in parallel. `n_jobs=-1` means use all available CPU cores.   \n",
        "\n",
        "Just to reinforce the vocabulary we are learning, `n_estimators`, `max_samples`, `bootstrap` are among the **hyperparameters** of the bagging classifier."
      ]
    },
    {
      "cell_type": "code",
      "metadata": {
        "id": "kH3qtWzIzjVI",
        "outputId": "d8413cb4-b359-4d83-ee69-225ef32bf5f2",
        "colab": {
          "base_uri": "https://localhost:8080/",
          "height": 35
        }
      },
      "source": [
        "from sklearn.ensemble import BaggingClassifier\n",
        "clf = tree.DecisionTreeClassifier(criterion='entropy')\n",
        "\n",
        "bagging_clf = BaggingClassifier(clf, n_estimators=20, max_samples=100, \n",
        "                                bootstrap=True, n_jobs=-1)\n",
        "bagging_clf.fit(trainingDataFeatures, trainingDataLabels)\n",
        "predictions = bagging_clf.predict(testDataFeatures)\n",
        "accuracy_score(testDataLabels, predictions)"
      ],
      "execution_count": 8,
      "outputs": [
        {
          "output_type": "execute_result",
          "data": {
            "text/plain": [
              "0.9385964912280702"
            ]
          },
          "metadata": {
            "tags": []
          },
          "execution_count": 8
        }
      ]
    },
    {
      "cell_type": "markdown",
      "metadata": {
        "id": "eA2i9EtVzjVN"
      },
      "source": [
        "When I did this using a single decision tree classifier was 90.3% accurate, while the bagging classifier was 96.5% accurate--halving the error rate! that's pretty good!\n",
        "\n",
        "- when I ran it I got 96% for the first one and 93% for the bagging one?\n",
        "\n",
        "\n",
        "### Pasting\n",
        "Let's try the same thing with pasting (without replacement):\n",
        "\n",
        "For that we set the hyperparameter: `bootstrap=False`\n"
      ]
    },
    {
      "cell_type": "code",
      "metadata": {
        "id": "-S8mFYJWzjVO",
        "outputId": "2528ddd2-cec1-49b9-f266-5439bc4eb860",
        "colab": {
          "base_uri": "https://localhost:8080/",
          "height": 35
        }
      },
      "source": [
        "pasting_clf = BaggingClassifier(clf, n_estimators=20, max_samples=100, \n",
        "                                bootstrap=False, n_jobs=-1)\n",
        "pasting_clf.fit(trainingDataFeatures, trainingDataLabels)\n",
        "predictions = pasting_clf.predict(testDataFeatures)\n",
        "accuracy_score(testDataLabels, predictions)"
      ],
      "execution_count": 9,
      "outputs": [
        {
          "output_type": "execute_result",
          "data": {
            "text/plain": [
              "0.9298245614035088"
            ]
          },
          "metadata": {
            "tags": []
          },
          "execution_count": 9
        }
      ]
    },
    {
      "cell_type": "markdown",
      "metadata": {
        "id": "dpoe4aJSzjVU"
      },
      "source": [
        "### Random Subspaces\n",
        "Again, random subspaces are when we randomly select feature subsets rather than subsets of the dataset instances. This time we will create 50 classifiers for our collective and each will train on a dataset with 7 features (`max_feature=7`)."
      ]
    },
    {
      "cell_type": "code",
      "metadata": {
        "id": "Kwb8GBTuzjVV",
        "outputId": "c3b40887-00f1-4d33-8096-8f15ac459bc2",
        "colab": {
          "base_uri": "https://localhost:8080/",
          "height": 35
        }
      },
      "source": [
        "subspace_clf = BaggingClassifier(clf, n_estimators=50, max_features=7, \n",
        "                                bootstrap=True, n_jobs=-1)\n",
        "subspace_clf.fit(trainingDataFeatures, trainingDataLabels)\n",
        "predictions = subspace_clf.predict(testDataFeatures)\n",
        "accuracy_score(testDataLabels, predictions)"
      ],
      "execution_count": 10,
      "outputs": [
        {
          "output_type": "execute_result",
          "data": {
            "text/plain": [
              "0.9473684210526315"
            ]
          },
          "metadata": {
            "tags": []
          },
          "execution_count": 10
        }
      ]
    },
    {
      "cell_type": "markdown",
      "metadata": {
        "id": "ejy9rfXgzjVa"
      },
      "source": [
        "### Random Patches\n",
        "Finally, let's combine things and try random patches. In this example each classifier will be given a subset of 100 training instances with 7 features each.:"
      ]
    },
    {
      "cell_type": "code",
      "metadata": {
        "id": "TK6qTG1VzjVb",
        "outputId": "f2e6d368-6ba3-400a-9992-cd394a234d30",
        "colab": {
          "base_uri": "https://localhost:8080/",
          "height": 35
        }
      },
      "source": [
        "subspace_clf = BaggingClassifier(clf, n_estimators=100, max_features=7, \n",
        "                                 max_samples=100, bootstrap=False, n_jobs=-1)\n",
        "subspace_clf.fit(trainingDataFeatures, trainingDataLabels)\n",
        "predictions = subspace_clf.predict(testDataFeatures)\n",
        "accuracy_score(testDataLabels, predictions)"
      ],
      "execution_count": 11,
      "outputs": [
        {
          "output_type": "execute_result",
          "data": {
            "text/plain": [
              "0.9385964912280702"
            ]
          },
          "metadata": {
            "tags": []
          },
          "execution_count": 11
        }
      ]
    },
    {
      "cell_type": "markdown",
      "metadata": {
        "id": "oLPfYCytzjVh"
      },
      "source": [
        "While it is common to use a decision tree as the base classifier, we can use any classifier. Here we use kNN:"
      ]
    },
    {
      "cell_type": "code",
      "metadata": {
        "id": "tI0-D3D0zjVi",
        "outputId": "8a0cb411-f97d-4b3e-c05c-5537d68a4402",
        "colab": {
          "base_uri": "https://localhost:8080/",
          "height": 35
        }
      },
      "source": [
        "from sklearn.neighbors import KNeighborsClassifier\n",
        "kNN = KNeighborsClassifier()\n",
        "bagging_clf = BaggingClassifier(kNN, n_estimators=20, max_samples=100, \n",
        "                                bootstrap=True, n_jobs=-1)\n",
        "bagging_clf.fit(trainingDataFeatures, trainingDataLabels)\n",
        "predictions = bagging_clf.predict(testDataFeatures)\n",
        "accuracy_score(testDataLabels, predictions)"
      ],
      "execution_count": 12,
      "outputs": [
        {
          "output_type": "execute_result",
          "data": {
            "text/plain": [
              "0.8859649122807017"
            ]
          },
          "metadata": {
            "tags": []
          },
          "execution_count": 12
        }
      ]
    },
    {
      "cell_type": "markdown",
      "metadata": {
        "id": "Gn_-x8HIzjVn"
      },
      "source": [
        "#### Summary\n",
        "As you can see, any of these simple bagging algorithms typically outperforms using a single classifier. \n",
        "\n",
        "\n",
        "### Review\n",
        "\n",
        "We import the bagging classifier library with:\n",
        "\n",
        "```\n",
        "from sklearn.ensemble import BaggingClassifier\n",
        "```\n",
        "\n",
        "and create an instance of one with:\n",
        "\n",
        "```\n",
        "my_bagging_classifier = BaggingClassifier(baseClassifier, Hyperparameters,n_jobs=-1)\n",
        "```\n",
        "\n",
        "#### Base Classifier\n",
        "while any classifier can be used we typically use a decision tree\n",
        "\n",
        "#### Hyperparameters\n",
        "Here is a list of the hyperparameters (from the [sklearn documentation](https://scikit-learn.org/stable/modules/generated/sklearn.ensemble.BaggingClassifier.html#sklearn.ensemble.BaggingClassifier)):\n",
        "\n",
        "* `n_estimators`: integer, default value = 10, the number of classifiers (estimators) in the ensemble.\n",
        "* `max_samples`: integer or float, default value = 1.0(meaning use all the training instances), the number of samples (instances) to draw from the training dataset to train each base classifier.\n",
        "    * if integer, then draw max_features features.\n",
        "    * if float, then draw max_samples * X.shape[0] samples. For example if `max_samples` is 0.7 and there are 100 instances in the training dataset then draw 70 samples.\n",
        "* `max_features`, integer or float, default value =1.0,  \n",
        "the number of features to draw from the training dataset to train each base estimator \n",
        "    * if integers, then draw max_features features.\n",
        "    * if float, then draw max_features * X.shape[1] features.\n",
        "* `bootstrap` boolean, default value =True, whether samples and features are drawn with replacement. If False, sampling without replacement is performed.\n",
        "\n",
        "For other hyperparamters, consult the documentation.\n",
        "\n",
        "## You try: Predicting musical genres from audio file attributes\n",
        "\n",
        "When you listen even to a few seconds of a song you can identify it as blues, country, classical, or any other genre. How do you do this? What attributes are you hearing in the audio file that helps you make this classification? And, more to the point, can we train a computer to do it?\n",
        "\n",
        "![](https://raw.githubusercontent.com/zacharski/ml-class/master/labs/pics/bluesClassical.png)\n",
        "\n",
        "We are going to be using  the [GTZAN Dataset for Music Genre Classification](https://www.kaggle.com/andradaolteanu/gtzan-dataset-music-genre-classification). It provides data of 100 songs for each of 10 genres. The data is in several formats:\n",
        "\n",
        "* 30 second audio files (wav)\n",
        "* spectral images of those 30 second clips (see image above)\n",
        "* a csv file containing acoustic attributes of the 30 second clip\n",
        "* a csv file containing acoustic attributes of 3 second clips (the 30 second clips were split into 3 second ones)\n",
        "\n",
        "We are going to use the 3 second csv file which is available at \n",
        "\n",
        "https://raw.githubusercontent.com/zacharski/ml-class/master/data/gtzan.csv\n",
        "\n",
        "Go ahead and load the data into a dataframe (the first row contains feature names)\n"
      ]
    },
    {
      "cell_type": "code",
      "metadata": {
        "id": "kLg6ykcczjVo"
      },
      "source": [
        "music = pd.read_csv('https://raw.githubusercontent.com/zacharski/ml-class/master/data/gtzan.csv')"
      ],
      "execution_count": 13,
      "outputs": []
    },
    {
      "cell_type": "markdown",
      "metadata": {
        "id": "moGbfhUczjVs"
      },
      "source": [
        "Let's examine the values of the label column (the genres):"
      ]
    },
    {
      "cell_type": "code",
      "metadata": {
        "id": "gGqXmOvozjVt",
        "outputId": "d319e4f9-50cf-4c1a-c72b-f6ba595cf460",
        "colab": {
          "base_uri": "https://localhost:8080/",
          "height": 52
        }
      },
      "source": [
        "music.label.unique()"
      ],
      "execution_count": 14,
      "outputs": [
        {
          "output_type": "execute_result",
          "data": {
            "text/plain": [
              "array(['blues', 'classical', 'country', 'disco', 'hiphop', 'jazz',\n",
              "       'metal', 'pop', 'reggae', 'rock'], dtype=object)"
            ]
          },
          "metadata": {
            "tags": []
          },
          "execution_count": 14
        }
      ]
    },
    {
      "cell_type": "markdown",
      "metadata": {
        "id": "sr_FZHc7zjVx"
      },
      "source": [
        "Those are the 10 genres we are trying to predict. So if we were just to guess without hearing the clip, we would be accurate 10% of the time. How accurate do you think you would be based on hearing a 3 second clip? I am pretty confident I could correctly label the 30 second clips, but I am much less confident about labeling 3 second ones. Since guessing randomly would give me 10% accuracy, I am estimating maybe 50-60% accuracy. Let's see how a computer does.\n",
        "\n",
        "#### Feature Names\n",
        "So the column we are trying to predict is `label`. Now let's get the names of the feature columns"
      ]
    },
    {
      "cell_type": "code",
      "metadata": {
        "scrolled": true,
        "id": "JwqvOdovzjVy",
        "outputId": "8950fe24-504c-4fd8-927b-4b7c629f10c7",
        "colab": {
          "base_uri": "https://localhost:8080/",
          "height": 72
        }
      },
      "source": [
        "featureNames = list(music.columns)\n",
        "featureNames.remove('filename')\n",
        "featureNames.remove('label')\n",
        "print(featureNames)\n",
        "print(len(featureNames))"
      ],
      "execution_count": 15,
      "outputs": [
        {
          "output_type": "stream",
          "text": [
            "['length', 'chroma_stft_mean', 'chroma_stft_var', 'rms_mean', 'rms_var', 'spectral_centroid_mean', 'spectral_centroid_var', 'spectral_bandwidth_mean', 'spectral_bandwidth_var', 'rolloff_mean', 'rolloff_var', 'zero_crossing_rate_mean', 'zero_crossing_rate_var', 'harmony_mean', 'harmony_var', 'perceptr_mean', 'perceptr_var', 'tempo', 'mfcc1_mean', 'mfcc1_var', 'mfcc2_mean', 'mfcc2_var', 'mfcc3_mean', 'mfcc3_var', 'mfcc4_mean', 'mfcc4_var', 'mfcc5_mean', 'mfcc5_var', 'mfcc6_mean', 'mfcc6_var', 'mfcc7_mean', 'mfcc7_var', 'mfcc8_mean', 'mfcc8_var', 'mfcc9_mean', 'mfcc9_var', 'mfcc10_mean', 'mfcc10_var', 'mfcc11_mean', 'mfcc11_var', 'mfcc12_mean', 'mfcc12_var', 'mfcc13_mean', 'mfcc13_var', 'mfcc14_mean', 'mfcc14_var', 'mfcc15_mean', 'mfcc15_var', 'mfcc16_mean', 'mfcc16_var', 'mfcc17_mean', 'mfcc17_var', 'mfcc18_mean', 'mfcc18_var', 'mfcc19_mean', 'mfcc19_var', 'mfcc20_mean', 'mfcc20_var']\n",
            "58\n"
          ],
          "name": "stdout"
        }
      ]
    },
    {
      "cell_type": "markdown",
      "metadata": {
        "id": "MDhB-QG3zjV2"
      },
      "source": [
        "So we have 58 features. \n",
        "\n",
        "#### Training and test sets\n",
        "Now it is time to construct the training and test sets:"
      ]
    },
    {
      "cell_type": "code",
      "metadata": {
        "id": "BK7W9gbjzjV3",
        "outputId": "cc2de615-431a-4cdb-a69b-bd7d0c153a86",
        "colab": {
          "base_uri": "https://localhost:8080/",
          "height": 225
        }
      },
      "source": [
        "## divide the original data 80% going into the music_training dataset \n",
        "## the rest in music_test\n",
        "music_training, music_test = train_test_split(music, test_size = 0.2)\n",
        "                              \n",
        "## now create the DataFrames for just the features (excluding the label column \n",
        "## filename column)                              \n",
        "music_training_features = music_training[featureNames]\n",
        "music_test_features = music_test[featureNames]\n",
        "                              \n",
        "## now create the labels data structure for both the training and test sets                              \n",
        "music_training_labels = music_training['label']\n",
        "music_test_labels = music_test['label']\n",
        "music_test_labels"
      ],
      "execution_count": 17,
      "outputs": [
        {
          "output_type": "execute_result",
          "data": {
            "text/plain": [
              "7912          pop\n",
              "6591        metal\n",
              "5497         jazz\n",
              "6417        metal\n",
              "2190      country\n",
              "          ...    \n",
              "6377        metal\n",
              "1305    classical\n",
              "5275         jazz\n",
              "7526          pop\n",
              "7290          pop\n",
              "Name: label, Length: 1998, dtype: object"
            ]
          },
          "metadata": {
            "tags": []
          },
          "execution_count": 17
        }
      ]
    },
    {
      "cell_type": "markdown",
      "metadata": {
        "id": "43s3CwcFzjV6"
      },
      "source": [
        "### Building a single decision tree classifier\n",
        "Let's build a single decision tree classifier called `clf` using entropy, fit it to the data, make predictions and determine the accuracy:"
      ]
    },
    {
      "cell_type": "code",
      "metadata": {
        "id": "0wEFo_uHzjV6",
        "outputId": "f385d393-23f8-4327-ea14-5289407dfcc4",
        "colab": {
          "base_uri": "https://localhost:8080/",
          "height": 52
        }
      },
      "source": [
        "## Create clf, an instance of the Decision Tree Classifier\n",
        "# TO DO\n",
        "clf = tree.DecisionTreeClassifier(criterion='entropy')\n",
        "\n",
        "## Fit it to the data\n",
        "# TO DO\n",
        "clf.fit(music_training_features, music_training_labels)\n",
        "\n",
        "## get the predictions for the test set\n",
        "# TO DO\n",
        "predictions = clf.predict(music_test_features)\n",
        "\n",
        "## get the accuracy score\n",
        "# TO DO\n",
        "accuracy = accuracy_score(music_test_labels, predictions)\n",
        "print(predictions)\n",
        "print(accuracy)"
      ],
      "execution_count": 20,
      "outputs": [
        {
          "output_type": "stream",
          "text": [
            "['pop' 'country' 'jazz' ... 'blues' 'pop' 'pop']\n",
            "0.6751751751751752\n"
          ],
          "name": "stdout"
        }
      ]
    },
    {
      "cell_type": "markdown",
      "metadata": {
        "id": "RkLL0j5vzjV9"
      },
      "source": [
        "When I did this I got 66% accuracy. That doesn't sound great but keep in mind that random guessing would only be 10% accuracy. \n",
        "\n",
        "### Building a Random Patch Classifier\n",
        "\n",
        "Now we are going to build a random patch classifier.\n",
        "\n",
        "* the base classifier will be a decision tree using entropy\n",
        "* the ensemble will contain 20 base classifiers\n",
        "* each classifier will use a random sample of 70% of the training data\n",
        "* each classifier will use a random sample of 70% of the features\n",
        "* the sampling will be done with replacement\n",
        "* it will use all available cpu cores.\n",
        "\n",
        "We are going to\n",
        "\n",
        "1. build the classifier\n",
        "2. train the classifier on the data\n",
        "3. make predictions on the test set\n",
        "4. determine the accuracy"
      ]
    },
    {
      "cell_type": "code",
      "metadata": {
        "id": "EmXtXzpBzjV-",
        "outputId": "0d5f4dc7-9d12-48a2-cc8a-18ea3a810e67",
        "colab": {
          "base_uri": "https://localhost:8080/",
          "height": 35
        }
      },
      "source": [
        "## TO DO\n",
        "randomPatch_clf = BaggingClassifier(clf, n_estimators=20, max_features=0.7, \n",
        "                                    max_samples=0.7, bootstrap=True, n_jobs=-1)\n",
        "randomPatch_clf.fit(music_training_features, music_training_labels)\n",
        "predictions = randomPatch_clf.predict(music_test_features)\n",
        "accuracy_score(music_test_labels, predictions)"
      ],
      "execution_count": 21,
      "outputs": [
        {
          "output_type": "execute_result",
          "data": {
            "text/plain": [
              "0.8188188188188188"
            ]
          },
          "metadata": {
            "tags": []
          },
          "execution_count": 21
        }
      ]
    },
    {
      "cell_type": "markdown",
      "metadata": {
        "id": "n6kymOymzjWB"
      },
      "source": [
        "What accuracy did you get? Was it better than using a single classifier?\n",
        "Keep your original code above. Make a copy of it below and \n",
        "experiment a bit with the hyperparameters. (try 3 or 4 different things) What is the best accuracy you can get?\n",
        "- I got 81% on the original"
      ]
    },
    {
      "cell_type": "code",
      "metadata": {
        "id": "XfGCpg1KzjWC",
        "outputId": "f0932e9e-57c6-43f2-cc17-b3ef4f308029",
        "colab": {
          "base_uri": "https://localhost:8080/",
          "height": 35
        }
      },
      "source": [
        "## TO DO\n",
        "## I did not do replacement on this one and it came out more accurate at 85%\n",
        "randomPatch_clf = BaggingClassifier(clf, n_estimators=20, max_features=0.7, \n",
        "                                    max_samples=0.7, bootstrap=False, n_jobs=-1)\n",
        "randomPatch_clf.fit(music_training_features, music_training_labels)\n",
        "predictions = randomPatch_clf.predict(music_test_features)\n",
        "accuracy_score(music_test_labels, predictions)"
      ],
      "execution_count": 22,
      "outputs": [
        {
          "output_type": "execute_result",
          "data": {
            "text/plain": [
              "0.8493493493493494"
            ]
          },
          "metadata": {
            "tags": []
          },
          "execution_count": 22
        }
      ]
    },
    {
      "cell_type": "code",
      "metadata": {
        "id": "KC7gfIJFzjWF",
        "outputId": "11ccbf5d-899a-48c7-a726-823b4c303d55",
        "colab": {
          "base_uri": "https://localhost:8080/",
          "height": 35
        }
      },
      "source": [
        "## increased estimators and got 87%!\n",
        "randomPatch_clf = BaggingClassifier(clf, n_estimators=100, max_features=0.7, \n",
        "                                    max_samples=0.7, bootstrap=False, n_jobs=-1)\n",
        "randomPatch_clf.fit(music_training_features, music_training_labels)\n",
        "predictions = randomPatch_clf.predict(music_test_features)\n",
        "accuracy_score(music_test_labels, predictions)"
      ],
      "execution_count": 23,
      "outputs": [
        {
          "output_type": "execute_result",
          "data": {
            "text/plain": [
              "0.8763763763763763"
            ]
          },
          "metadata": {
            "tags": []
          },
          "execution_count": 23
        }
      ]
    },
    {
      "cell_type": "code",
      "metadata": {
        "id": "f8TMDkse7DcR",
        "outputId": "3ca41259-a712-45f1-9efc-d1f6efbde247",
        "colab": {
          "base_uri": "https://localhost:8080/",
          "height": 35
        }
      },
      "source": [
        "# increased features and samples and it went to 69%\n",
        "randomPatch_clf = BaggingClassifier(clf, n_estimators=100, max_features=1.0, \n",
        "                                    max_samples=1.0, bootstrap=False, n_jobs=-1)\n",
        "randomPatch_clf.fit(music_training_features, music_training_labels)\n",
        "predictions = randomPatch_clf.predict(music_test_features)\n",
        "accuracy_score(music_test_labels, predictions)"
      ],
      "execution_count": 24,
      "outputs": [
        {
          "output_type": "execute_result",
          "data": {
            "text/plain": [
              "0.6911911911911912"
            ]
          },
          "metadata": {
            "tags": []
          },
          "execution_count": 24
        }
      ]
    },
    {
      "cell_type": "markdown",
      "metadata": {
        "id": "KtMl0HzCzjWI"
      },
      "source": [
        "## NOTES\n",
        "\n",
        "### Breast Cancer Database\n",
        "\n",
        "[back](#Wisconsin-Cancer-Dataset)\n",
        "\n",
        "  This breast cancer databases was obtained from the University of Wisconsin\n",
        "   Hospitals, Madison from Dr. William H. Wolberg.  If you publish results\n",
        "   when using this database, then please include this information in your\n",
        "   acknowledgements.  Also, please cite one or more of:\n",
        "\n",
        "   1. O. L. Mangasarian and W. H. Wolberg: \"Cancer diagnosis via linear \n",
        "      programming\", SIAM News, Volume 23, Number 5, September 1990, pp 1 & 18.\n",
        "\n",
        "   2. William H. Wolberg and O.L. Mangasarian: \"Multisurface method of \n",
        "      pattern separation for medical diagnosis applied to breast cytology\", \n",
        "      Proceedings of the National Academy of Sciences, U.S.A., Volume 87, \n",
        "      December 1990, pp 9193-9196.\n",
        "\n",
        "   3. O. L. Mangasarian, R. Setiono, and W.H. Wolberg: \"Pattern recognition \n",
        "      via linear programming: Theory and application to medical diagnosis\", \n",
        "      in: \"Large-scale numerical optimization\", Thomas F. Coleman and Yuying\n",
        "      Li, editors, SIAM Publications, Philadelphia 1990, pp 22-30.\n",
        "\n",
        "   4. K. P. Bennett & O. L. Mangasarian: \"Robust linear programming \n",
        "      discrimination of two linearly inseparable sets\", Optimization Methods\n",
        "      and Software 1, 1992, 23-34 (Gordon & Breach Science Publishers).\n",
        "\n",
        "Title: Wisconsin Breast Cancer Database (January 8, 1991)\n",
        "\n",
        "\n",
        "Sources:\n",
        "   -- Dr. WIlliam H. Wolberg (physician)\n",
        "      University of Wisconsin Hospitals\n",
        "      Madison, Wisconsin\n",
        "      USA\n",
        "   -- Donor: Olvi Mangasarian (mangasarian@cs.wisc.edu)\n",
        "      Received by David W. Aha (aha@cs.jhu.edu)\n",
        "   -- Date: 15 July 1992"
      ]
    }
  ]
}