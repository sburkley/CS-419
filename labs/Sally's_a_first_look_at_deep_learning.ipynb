{
  "nbformat": 4,
  "nbformat_minor": 0,
  "metadata": {
    "accelerator": "TPU",
    "colab": {
      "name": "Sally's Copy of a-first-look-at-deep-learning.ipynb",
      "provenance": [],
      "include_colab_link": true
    },
    "kernelspec": {
      "display_name": "Python 3",
      "language": "python",
      "name": "python3"
    },
    "language_info": {
      "codemirror_mode": {
        "name": "ipython",
        "version": 3
      },
      "file_extension": ".py",
      "mimetype": "text/x-python",
      "name": "python",
      "nbconvert_exporter": "python",
      "pygments_lexer": "ipython3",
      "version": "3.8.3"
    }
  },
  "cells": [
    {
      "cell_type": "markdown",
      "metadata": {
        "id": "view-in-github",
        "colab_type": "text"
      },
      "source": [
        "<a href=\"https://colab.research.google.com/github/sburkley/CS-419/blob/master/labs/Sally's_a_first_look_at_deep_learning.ipynb\" target=\"_parent\"><img src=\"https://colab.research.google.com/assets/colab-badge.svg\" alt=\"Open In Colab\"/></a>"
      ]
    },
    {
      "cell_type": "markdown",
      "metadata": {
        "id": "0mKArb-b1_En"
      },
      "source": [
        "### Note:\n",
        "\n",
        "**First let's set the runtime to TPU (Tensor Processing Unit) -- click on 'runtime' in the menu above, select 'Change runtime type' and pick 'TPU'.**"
      ]
    },
    {
      "cell_type": "markdown",
      "metadata": {
        "id": "2ii5clez0HmE"
      },
      "source": [
        "# A First Look at Deep Learning using Keras  \n",
        "\n",
        "This notebook is a remix of one by Francis Cholet (see the end of the notebook for more information)\n",
        "\n",
        "\n",
        "![](http://zacharski.org/files/courses/cs419/keras.jpg)\n",
        "\n",
        "It is intended to be a first quick hands-on introduction to deep learning using TensorFlow and Keras. \n",
        "\n",
        "\n",
        "### Brain engaged\n",
        "Throughout this notebook there are questions for you to answer. It is easy to go through a notebook without understanding---click, click, click through the cells. The questions are designed to help you pause and think.\n",
        "It is always a good idea to pause and think. Regardless of whether you are working through this notebook, or having tea with a friend, it is best to be fully present and in the moment and not have your brain wander all over the place. Regardless of whether you are working on this notebook or having tea with a friend, put away that cell phone and engage with what is in front of you.\n",
        "\n",
        "With that advice out of the way and \n",
        "before the hands-on, let's cover a few definitions.\n",
        "\n",
        "#### Tensor\n",
        "> In mathematics, a **tensor** is an algebraic object that describes a (multilinear) relationship between sets of algebraic objects related to a vector space. Objects that tensors may map between include vectors and scalars, and even other tensors. [Wikipedia](https://colab.research.google.com/drive/1BycU14ycvRTu0wM4OrK34qx8nK84r8Lj#scrollTo=2ii5clez0HmE)\n",
        "\n",
        "\n",
        "#### TensorFlow\n",
        "TensorFlow was developed by the Google Brain Team. It is an open source Tensor library used to develop deep learning models. Google uses it for translate, search, and gmail, among others. And a wide variety of other companies from AirBnb to Twitter use it as well. \n",
        "\n",
        "It isn't the only option to use. **Pytorch**, developed by Facebook's AI Research Lab, is another popular deep learning library. In fact, Tesla's AutoDrive software was built using PyTorch. \n",
        "\n",
        "#### Keras\n",
        "Keras is open source software that functions as an abstract interface to TensorFlow. \n",
        "\n",
        "My difficulty ranking of these (from easiest to hardest) is \n",
        "\n",
        "1. Keras\n",
        "2. PyTorch\n",
        "3. TensorFlow\n",
        "\n",
        "All have their strengths and it is difficult to recommend which one a beginner should start with. The excellent, free, Open.ai course uses PyTorch. However, in our exploration of deep learning we will start with Keras. In your path toward deepening your knowledge in machine learning you will likely encounter all three."
      ]
    },
    {
      "cell_type": "markdown",
      "metadata": {
        "id": "fHO0x8YE0HmF"
      },
      "source": [
        "Let's import the Keras library"
      ]
    },
    {
      "cell_type": "code",
      "metadata": {
        "id": "DS58igpC0HmG",
        "outputId": "bf164898-5339-4aa3-d0cd-1bb9a6723756",
        "colab": {
          "base_uri": "https://localhost:8080/",
          "height": 35
        }
      },
      "source": [
        "import keras\n",
        "keras.__version__"
      ],
      "execution_count": 1,
      "outputs": [
        {
          "output_type": "execute_result",
          "data": {
            "application/vnd.google.colaboratory.intrinsic+json": {
              "type": "string"
            },
            "text/plain": [
              "'2.4.3'"
            ]
          },
          "metadata": {
            "tags": []
          },
          "execution_count": 1
        }
      ]
    },
    {
      "cell_type": "markdown",
      "metadata": {
        "id": "noY1wNno0HmK"
      },
      "source": [
        "# A first look at a neural network\n",
        "\n",
        "\n",
        "![](https://raw.githubusercontent.com/zacharski/ml-class/master/labs/pics/mnist.jpg)\n",
        "\n",
        "Let's go back to the example of recognizing hand written digits. \n",
        "We are using the MNIST dataset (Modified National Institute of Standards) which is a dataset of 60,000 training instances and 10,000 testing instances of 28x28 grayscale images of the digits 0 through 9. This dataset was created in the 1980s as a testbed for various research groups. Back then it was considered a hard problem. Today it is considered the \"hello world\" equivalent in deep learning and you will see it again and again on your path learning about machine learning. \n",
        "\n"
      ]
    },
    {
      "cell_type": "markdown",
      "metadata": {
        "id": "1tUaQ5q20HmK"
      },
      "source": [
        "The MNIST dataset is so common that Keras knows how to download the data into a set of four Numpy arrays:"
      ]
    },
    {
      "cell_type": "code",
      "metadata": {
        "id": "voWJ4eMm0HmL",
        "outputId": "4890e7c9-6492-48d6-f252-dd26c8226a13",
        "colab": {
          "base_uri": "https://localhost:8080/",
          "height": 52
        }
      },
      "source": [
        "from keras.datasets import mnist\n",
        "\n",
        "(train_images, train_labels), (test_images, test_labels) = mnist.load_data()"
      ],
      "execution_count": 2,
      "outputs": [
        {
          "output_type": "stream",
          "text": [
            "Downloading data from https://storage.googleapis.com/tensorflow/tf-keras-datasets/mnist.npz\n",
            "11493376/11490434 [==============================] - 0s 0us/step\n"
          ],
          "name": "stdout"
        }
      ]
    },
    {
      "cell_type": "markdown",
      "metadata": {
        "id": "AsarChQu0HmN"
      },
      "source": [
        "`train_images` and `train_labels` form the \"training set\", the data that the model will learn from. The model will then be tested on the \n",
        "\"test set\", `test_images` and `test_labels`. The Keras version of this dataset encodes the images as Numpy arrays, and the labels are simply an array of digits, ranging \n",
        "from 0 to 9. There is a one-to-one correspondence between the images and the labels.\n",
        "\n",
        "Let's have a look at the training data:"
      ]
    },
    {
      "cell_type": "code",
      "metadata": {
        "id": "Z5UJNpAs0HmN",
        "outputId": "47982e4e-65d4-42aa-b28b-73f08835fd4a",
        "colab": {
          "base_uri": "https://localhost:8080/",
          "height": 35
        }
      },
      "source": [
        "train_images.shape"
      ],
      "execution_count": 3,
      "outputs": [
        {
          "output_type": "execute_result",
          "data": {
            "text/plain": [
              "(60000, 28, 28)"
            ]
          },
          "metadata": {
            "tags": []
          },
          "execution_count": 3
        }
      ]
    },
    {
      "cell_type": "markdown",
      "metadata": {
        "id": "qrOQuZA62J4m"
      },
      "source": [
        "That is not surprising---so 60,000 images that are a 28x28 array of pixel values"
      ]
    },
    {
      "cell_type": "code",
      "metadata": {
        "id": "iGoBVIWU0HmQ",
        "outputId": "f3978e31-fe77-42d1-c11f-9d343923c39e",
        "colab": {
          "base_uri": "https://localhost:8080/",
          "height": 35
        }
      },
      "source": [
        "len(train_labels)"
      ],
      "execution_count": 4,
      "outputs": [
        {
          "output_type": "execute_result",
          "data": {
            "text/plain": [
              "60000"
            ]
          },
          "metadata": {
            "tags": []
          },
          "execution_count": 4
        }
      ]
    },
    {
      "cell_type": "code",
      "metadata": {
        "id": "6xrzLvCu0HmV",
        "outputId": "9493b002-8edb-4ba0-d1bd-c1ee2001ebd0",
        "colab": {
          "base_uri": "https://localhost:8080/",
          "height": 35
        }
      },
      "source": [
        "train_labels"
      ],
      "execution_count": 5,
      "outputs": [
        {
          "output_type": "execute_result",
          "data": {
            "text/plain": [
              "array([5, 0, 4, ..., 5, 6, 8], dtype=uint8)"
            ]
          },
          "metadata": {
            "tags": []
          },
          "execution_count": 5
        }
      ]
    },
    {
      "cell_type": "markdown",
      "metadata": {
        "id": "sw4IhMIr0Hmm"
      },
      "source": [
        "# The data\n",
        "To get an idea of what the data looks like let's display a few images."
      ]
    },
    {
      "cell_type": "code",
      "metadata": {
        "id": "K4oH15sT0Hmm",
        "outputId": "78792dbd-0591-43a0-d3f7-f9ad934c11eb",
        "colab": {
          "base_uri": "https://localhost:8080/",
          "height": 727
        }
      },
      "source": [
        "import matplotlib.pyplot as plt\n",
        "\n",
        "def viewImage(x):\n",
        "    plt.figure(figsize=(2,2))\n",
        "    plt.imshow(x, interpolation='nearest', cmap='gray')\n",
        "    plt.show()\n",
        "    \n",
        "viewImage(test_images[0])\n",
        "viewImage(test_images[1])\n",
        "viewImage(test_images[2])\n",
        "viewImage(test_images[3])\n",
        "viewImage(test_images[4])\n",
        "\n",
        "\n"
      ],
      "execution_count": 6,
      "outputs": [
        {
          "output_type": "display_data",
          "data": {
            "image/png": "[encoded data removed]",
            "text/plain": [
              "<Figure size 144x144 with 1 Axes>"
            ]
          },
          "metadata": {
            "tags": [],
            "needs_background": "light"
          }
        },
        {
          "output_type": "display_data",
          "data": {
            "image/png": "[encoded data removed]",
            "text/plain": [
              "<Figure size 144x144 with 1 Axes>"
            ]
          },
          "metadata": {
            "tags": [],
            "needs_background": "light"
          }
        },
        {
          "output_type": "display_data",
          "data": {
            "image/png": "[encoded data removed]",
            "text/plain": [
              "<Figure size 144x144 with 1 Axes>"
            ]
          },
          "metadata": {
            "tags": [],
            "needs_background": "light"
          }
        },
        {
          "output_type": "display_data",
          "data": {
            "image/png": "[encoded data removed]",
            "text/plain": [
              "<Figure size 144x144 with 1 Axes>"
            ]
          },
          "metadata": {
            "tags": [],
            "needs_background": "light"
          }
        },
        {
          "output_type": "display_data",
          "data": {
            "image/png": "[encoded data removed]",
            "text/plain": [
              "<Figure size 144x144 with 1 Axes>"
            ]
          },
          "metadata": {
            "tags": [],
            "needs_background": "light"
          }
        }
      ]
    },
    {
      "cell_type": "markdown",
      "metadata": {
        "id": "ereJKgeH_-5f"
      },
      "source": [
        "and let's look at the associated labels:"
      ]
    },
    {
      "cell_type": "code",
      "metadata": {
        "id": "h8HKsdisAC_x",
        "outputId": "78f2ac71-5358-4b4d-80c8-8a916e74fd5a",
        "colab": {
          "base_uri": "https://localhost:8080/",
          "height": 35
        }
      },
      "source": [
        "test_labels[:5]"
      ],
      "execution_count": 7,
      "outputs": [
        {
          "output_type": "execute_result",
          "data": {
            "text/plain": [
              "array([7, 2, 1, 0, 4], dtype=uint8)"
            ]
          },
          "metadata": {
            "tags": []
          },
          "execution_count": 7
        }
      ]
    },
    {
      "cell_type": "markdown",
      "metadata": {
        "id": "P_XKnAu30Hmp"
      },
      "source": [
        "Well, that is encouraging -- The images and the labels match!\n",
        "\n",
        "### Workflow\n",
        "\n",
        "\n",
        "Our workflow will be as follow: \n",
        "\n",
        "1. we will create a neural network containing a fully connected hidden layer.\n",
        "2. we will present our neural network with the training data, `train_images` and `train_labels`. The \n",
        "network will then learn to associate images and labels. \n",
        "3. we will ask the network to produce predictions for `test_images`\n",
        "4. we will verify if these predictions match the labels from `test_labels`.\n",
        "\n",
        "#### Let's build our network."
      ]
    },
    {
      "cell_type": "code",
      "metadata": {
        "id": "6I0sj6hW0Hmp"
      },
      "source": [
        "from keras import models\n",
        "from keras import layers\n",
        "\n",
        "network = models.Sequential()\n",
        "network.add(layers.Dense(512, activation='relu', input_shape=(28 * 28,)))\n",
        "network.add(layers.Dense(10, activation='softmax'))"
      ],
      "execution_count": 8,
      "outputs": []
    },
    {
      "cell_type": "markdown",
      "metadata": {
        "id": "ouiEONIe0Hms"
      },
      "source": [
        "\n",
        "The core building block of neural networks is the \"layer\", a data-processing module which you can conceive as a \"filter\" for data. Some \n",
        "data comes in, and comes out in a more useful form. Precisely, layers extract _representations_ out of the data fed into them -- hopefully \n",
        "representations that are more meaningful for the problem at hand. Most of deep learning really consists of chaining together simple layers \n",
        "which will implement a form of progressive \"data distillation\". A deep learning model is like a sieve for data processing, made of a \n",
        "succession of increasingly refined data filters -- the \"layers\".\n",
        "\n",
        "Here our network consists of a sequence of two `Dense` layers, which are densely-connected (also called \"fully-connected\") neural layers. \n",
        "The second (and last) layer is a 10-way \"softmax\" layer, which means it will return an array of 10 probability scores (summing to 1). Each \n",
        "score will be the probability that the current digit image belongs to one of our 10 digit classes.\n",
        "\n",
        "\n",
        "### Explained yet again\n",
        "Okay, let's look at each of the above code lines\n",
        "\n",
        "     network = models.Sequential()\n",
        "     \n",
        "My English translation of this is \"We want a model with a linear (sequential) stack of layers.\"  The model initially has zero layers.\n",
        "\n",
        "Next we have...\n",
        "\n",
        "     network.add(layers.Dense(512, activation='relu', input_shape=(28 * 28,)))\n",
        "     \n",
        "Here we add a layer to the model. `Dense` means that every input node (since this is the first layer, this means every input feature) is connected to every node in this layer.  The `512` means how many node we want in this layer -- 512. `activation=relu` defines the activation function. We will talk about this later. Finally we define what the shape of the input is. Since every image is 28 x 28, our input shape is 28 * 28 or 784 (and yes, we could have written `input_shape=(784, )`.\n",
        "\n",
        "Next,\n",
        "\n",
        "     network.add(layers.Dense(10, activation='softmax'))\n",
        "     \n",
        "Here we add another layer. Again, `Dense` means that each node of the 512 nodes of the pervious layer are connected to the 10 of this layer. The `10` means there are 10 nodes. \n",
        "\n",
        "#### Compiling the model.\n",
        "To make our network ready for training, we need to pick three more things, as part of a compilation step:\n",
        "\n",
        "* An **optimizer**: this is the mechanism through which the network will update itself based on the data it sees and its loss function.\n",
        "* A **loss function**: this is how the network will be able to measure how good a job it is doing on its training data, and thus how it will be \n",
        "able to steer itself in the right direction.\n",
        "* **Metrics** to monitor during training and testing. Here we will only care about accuracy (the fraction of the images that were correctly \n",
        "classified).\n",
        "\n",
        "Keras makes this compilation step easy:"
      ]
    },
    {
      "cell_type": "code",
      "metadata": {
        "id": "tXUIZUwN0Hmt"
      },
      "source": [
        "network.compile(optimizer='rmsprop',\n",
        "                loss='categorical_crossentropy',\n",
        "                metrics=['accuracy'])"
      ],
      "execution_count": 9,
      "outputs": []
    },
    {
      "cell_type": "markdown",
      "metadata": {
        "id": "mcclDPL10Hmu"
      },
      "source": [
        "\n",
        "Why did we select categorical crossentropy as the loss function? From the Tensorflow documentation:\n",
        "\n",
        "> Use this crossentropy loss function when there are two or more label classes. We expect labels to be provided in a one_hot representation. If you want to provide labels as integers, please use SparseCategoricalCrossentropy loss. There should be # classes floating point values per feature.\n",
        "\n",
        "Note that the documentation says that we need to one_hot encode the labels. You probably already know this but that means if we are labeling pictures of dogs, cats, squirrel and moose and our test_labels look like\n",
        "\n",
        "picture | label\n",
        ":---:   | :---\n",
        "1.  | dog\n",
        "2. | dog\n",
        "3. | cat\n",
        "4. | squirel\n",
        "5. | cat\n",
        "6. | moose\n",
        "\n",
        "We will one_hot encode this resulting in \n",
        "\n",
        "\n",
        "picture | dog | cat | squirrel | moose\n",
        ":---: | :----: |:--: | :---: | :---:\n",
        " 1.     | 1 | 0 | 0 | 0\n",
        " 2. | 1 | 0| 0 | 0\n",
        " 3. | 0 | 1 | 0 | 0\n",
        " 4. | 0 | 0 | 1 | 0\n",
        " 5. | 0 | 1 |0 | 0\n",
        " 6. | 0|0|0|1\n",
        "\n",
        "And again, the `metrics=['accuracy']` line means that we are calculating the percentage of predicted values that match with actual values.\n",
        "\n",
        "\n",
        "### Preprocessing the data\n",
        "Before training, we will preprocess our data by reshaping it into the shape that the network expects, and scaling it so that all values are in \n",
        "the `[0, 1]` interval. Previously, our training images for instance were stored in an array of shape `(60000, 28, 28)` of type `uint8` with \n",
        "values in the `[0, 255]` interval. We transform it into a `float32` array of shape `(60000, 28 * 28)` with values between 0 and 1.\n",
        "\n",
        "In other words, each image in our original data was a 28x28 array of integers ranging from 0 to 255. We are going to transform the integers 0-255 to a float between 0 and 1. In addition we are going to flatten each image array to look like\n",
        "\n",
        "```\n",
        "[0, 1, 2, 3, 4, 5 ... 784 ]\n",
        "```\n"
      ]
    },
    {
      "cell_type": "code",
      "metadata": {
        "id": "h-tevXPN0Hmv"
      },
      "source": [
        "train_images = train_images.reshape((60000, 28 * 28))\n",
        "train_images = train_images.astype('float32') / 255\n",
        "\n",
        "test_images = test_images.reshape((10000, 28 * 28))\n",
        "test_images = test_images.astype('float32') / 255"
      ],
      "execution_count": 10,
      "outputs": []
    },
    {
      "cell_type": "markdown",
      "metadata": {
        "id": "efw6Tx4x0Hmy"
      },
      "source": [
        "#### Here's a question:\n",
        "Why are we dividing each pixel by 255? What did the original number represent?\n",
        "- we divide it by 255 because originially the image arrays were in the range of 0-255. We divide it by 255 to get the range to be 0 and 1s instead. \n",
        "\n",
        "#### Encode the labels\n",
        "We also need to categorically encode the labels:"
      ]
    },
    {
      "cell_type": "code",
      "metadata": {
        "id": "QBoQhwiX0Hmz"
      },
      "source": [
        "from keras.utils import to_categorical\n",
        "\n",
        "train_labels = to_categorical(train_labels)\n",
        "test_labels = to_categorical(test_labels)"
      ],
      "execution_count": 11,
      "outputs": []
    },
    {
      "cell_type": "markdown",
      "metadata": {
        "id": "eNSszmzz0Hm1"
      },
      "source": [
        "### What does the first test label look like? (print it out)\n",
        "And what is this called?\n",
        "- it is a one hot encoded flattened array for the labels"
      ]
    },
    {
      "cell_type": "code",
      "metadata": {
        "id": "6de8eFdF0Hm1",
        "outputId": "6c367ef2-6f2f-4965-b3f4-0554a5204bb3",
        "colab": {
          "base_uri": "https://localhost:8080/",
          "height": 139
        }
      },
      "source": [
        "test_labels"
      ],
      "execution_count": 12,
      "outputs": [
        {
          "output_type": "execute_result",
          "data": {
            "text/plain": [
              "array([[0., 0., 0., ..., 1., 0., 0.],\n",
              "       [0., 0., 1., ..., 0., 0., 0.],\n",
              "       [0., 1., 0., ..., 0., 0., 0.],\n",
              "       ...,\n",
              "       [0., 0., 0., ..., 0., 0., 0.],\n",
              "       [0., 0., 0., ..., 0., 0., 0.],\n",
              "       [0., 0., 0., ..., 0., 0., 0.]], dtype=float32)"
            ]
          },
          "metadata": {
            "tags": []
          },
          "execution_count": 12
        }
      ]
    },
    {
      "cell_type": "markdown",
      "metadata": {
        "id": "_3wWDY0g0Hm3"
      },
      "source": [
        "### Training our first deep learning model\n",
        "\n",
        "We are now ready to train our network, which, unsurprisingly, in Keras is done via a call to the `fit` method of the network: \n",
        "we \"fit\" the model to its training data."
      ]
    },
    {
      "cell_type": "code",
      "metadata": {
        "id": "3JQ7pH630Hm4",
        "outputId": "6eab5ff4-21d2-4422-9aa7-e3ce9a41261f",
        "colab": {
          "base_uri": "https://localhost:8080/",
          "height": 208
        }
      },
      "source": [
        "network.fit(train_images, train_labels, epochs=5, batch_size=128)"
      ],
      "execution_count": 13,
      "outputs": [
        {
          "output_type": "stream",
          "text": [
            "Epoch 1/5\n",
            "469/469 [==============================] - 8s 16ms/step - loss: 0.2568 - accuracy: 0.9256\n",
            "Epoch 2/5\n",
            "469/469 [==============================] - 5s 12ms/step - loss: 0.1039 - accuracy: 0.9694\n",
            "Epoch 3/5\n",
            "469/469 [==============================] - 5s 10ms/step - loss: 0.0691 - accuracy: 0.9794\n",
            "Epoch 4/5\n",
            "469/469 [==============================] - 5s 11ms/step - loss: 0.0500 - accuracy: 0.9850\n",
            "Epoch 5/5\n",
            "469/469 [==============================] - 5s 11ms/step - loss: 0.0381 - accuracy: 0.9888\n"
          ],
          "name": "stdout"
        },
        {
          "output_type": "execute_result",
          "data": {
            "text/plain": [
              "<tensorflow.python.keras.callbacks.History at 0x7fe7a302f550>"
            ]
          },
          "metadata": {
            "tags": []
          },
          "execution_count": 13
        }
      ]
    },
    {
      "cell_type": "markdown",
      "metadata": {
        "id": "37PUt_b-0Hm7"
      },
      "source": [
        "Two quantities are being displayed during training: the \"loss\" of the network over the training data, and the accuracy of the network over \n",
        "the training data.\n",
        "\n",
        "We quickly reach an accuracy of 0.989 (i.e. 98.9%) on the training data. Now let's check that our model performs well on the test set too:"
      ]
    },
    {
      "cell_type": "code",
      "metadata": {
        "id": "Ig8FrFXQ0Hm8",
        "outputId": "14b4ff37-0883-48ad-f926-1881f593b0d8",
        "colab": {
          "base_uri": "https://localhost:8080/",
          "height": 35
        }
      },
      "source": [
        "test_loss, test_acc = network.evaluate(test_images, test_labels)"
      ],
      "execution_count": 14,
      "outputs": [
        {
          "output_type": "stream",
          "text": [
            "313/313 [==============================] - 1s 3ms/step - loss: 0.0688 - accuracy: 0.9804\n"
          ],
          "name": "stdout"
        }
      ]
    },
    {
      "cell_type": "code",
      "metadata": {
        "id": "u6QizHgB0Hm-",
        "outputId": "6a8919cc-2beb-4438-f325-b4b8d7d62ab5",
        "colab": {
          "base_uri": "https://localhost:8080/",
          "height": 35
        }
      },
      "source": [
        "print('test_acc:', test_acc)"
      ],
      "execution_count": 15,
      "outputs": [
        {
          "output_type": "stream",
          "text": [
            "test_acc: 0.980400025844574\n"
          ],
          "name": "stdout"
        }
      ]
    },
    {
      "cell_type": "markdown",
      "metadata": {
        "id": "mEzOBPol0HnA"
      },
      "source": [
        "\n",
        "Our test set accuracy turns out to be 97.8% -- that's quite a bit lower than the training set accuracy. \n",
        "This gap between training accuracy and test accuracy is an example of \"overfitting\", \n",
        "the fact that machine learning models tend to perform worse on new data than on their training data. \n",
        "\n",
        "\n",
        "### Accuracy with 7 epochs\n",
        "What is the accuracy on our test data if we use 7 epochs?  You will need to build, compile, and fit a new model.\n",
        "\n"
      ]
    },
    {
      "cell_type": "code",
      "metadata": {
        "id": "i2awmR340HnA",
        "outputId": "6f6e90e0-9de9-46d7-e499-565884f56dfd",
        "colab": {
          "base_uri": "https://localhost:8080/",
          "height": 295
        }
      },
      "source": [
        "network2 = models.Sequential()\n",
        "network2.add(layers.Dense(512, activation='relu', input_shape=(28 * 28,)))\n",
        "network2.add(layers.Dense(10, activation='softmax'))\n",
        "network2.compile(optimizer='rmsprop',\n",
        "                loss='categorical_crossentropy',\n",
        "                metrics=['accuracy'])\n",
        "network2.fit(train_images, train_labels, epochs=7, batch_size=128) #changed epochs to 7\n",
        "test_loss, test_acc = network2.evaluate(test_images, test_labels)\n",
        "print('test_acc:', test_acc)"
      ],
      "execution_count": 16,
      "outputs": [
        {
          "output_type": "stream",
          "text": [
            "Epoch 1/7\n",
            "469/469 [==============================] - 6s 12ms/step - loss: 0.2553 - accuracy: 0.9262\n",
            "Epoch 2/7\n",
            "469/469 [==============================] - 5s 12ms/step - loss: 0.1029 - accuracy: 0.9696\n",
            "Epoch 3/7\n",
            "469/469 [==============================] - 5s 11ms/step - loss: 0.0685 - accuracy: 0.9793\n",
            "Epoch 4/7\n",
            "469/469 [==============================] - 5s 11ms/step - loss: 0.0494 - accuracy: 0.9851\n",
            "Epoch 5/7\n",
            "469/469 [==============================] - 5s 10ms/step - loss: 0.0377 - accuracy: 0.9891\n",
            "Epoch 6/7\n",
            "469/469 [==============================] - 5s 10ms/step - loss: 0.0286 - accuracy: 0.9916\n",
            "Epoch 7/7\n",
            "469/469 [==============================] - 5s 10ms/step - loss: 0.0214 - accuracy: 0.9939\n",
            "313/313 [==============================] - 1s 2ms/step - loss: 0.0676 - accuracy: 0.9799\n",
            "test_acc: 0.9799000024795532\n"
          ],
          "name": "stdout"
        }
      ]
    },
    {
      "cell_type": "markdown",
      "metadata": {
        "id": "Nse-_Csa-Ixn"
      },
      "source": [
        "- my accuracy went up to 0.981!"
      ]
    },
    {
      "cell_type": "markdown",
      "metadata": {
        "id": "HjZOO2O10HnD"
      },
      "source": [
        "### Accuracy without training\n",
        "What is the accuracy on our test data using our network before we do any training (before `fit`)? You will need to build, compile, and fit a new model."
      ]
    },
    {
      "cell_type": "code",
      "metadata": {
        "id": "lKR6VDnd0HnD",
        "outputId": "baf786cf-16a8-47c0-b475-d12d866337be",
        "colab": {
          "base_uri": "https://localhost:8080/",
          "height": 52
        }
      },
      "source": [
        "network3 = models.Sequential()\n",
        "network3.add(layers.Dense(512, activation='relu', input_shape=(28 * 28,)))\n",
        "network3.add(layers.Dense(10, activation='softmax'))\n",
        "network3.compile(optimizer='rmsprop',\n",
        "                loss='categorical_crossentropy',\n",
        "                metrics=['accuracy'])\n",
        "#network2.fit(train_images, train_labels, epochs=7, batch_size=128) \n",
        "test_loss, test_acc = network3.evaluate(test_images, test_labels)\n",
        "print('test_acc:', test_acc)"
      ],
      "execution_count": 17,
      "outputs": [
        {
          "output_type": "stream",
          "text": [
            "313/313 [==============================] - 1s 2ms/step - loss: 2.3433 - accuracy: 0.0946\n",
            "test_acc: 0.09459999948740005\n"
          ],
          "name": "stdout"
        }
      ]
    },
    {
      "cell_type": "markdown",
      "metadata": {
        "id": "CPdX8fPD-uTe"
      },
      "source": [
        "- Without fitting the data, the accuracy came out to 0.132"
      ]
    },
    {
      "cell_type": "markdown",
      "metadata": {
        "id": "E4qA1lPZ0HnG"
      },
      "source": [
        "### Training\n",
        "As you can see from your above experiment, before we fit the model the accuracy was not very good. Before training, the weight are set at random (not exactly, but let's keep it simple for now). \n",
        "\n",
        "\n",
        "\n",
        "\n",
        "![](http://zacharski.org/files/courses/cs419/deepLearning.png)\n",
        "\n",
        "When we were fitting the model:\n",
        "\n",
        "     network.fit(train_images, train_labels, epochs=5, batch_size=128)\n",
        "    \n",
        "we processed 128 images at a time (this is called batch_size). Everytime we processed the images in that batch we calculated the loss and adjusted the weights to improve the network's  performance. Each time we go through the entire dataset we call it an epoch. So in our initial training, we went through the dataset 5 times.  Once we have gone through the data 5 times we stop and now we have a trained neural network. 'Trained' simply means that we have a network with the weight adjusted to reduce loss.\n",
        "\n",
        "#### Epochs \n",
        "Again, epochs are how many times we go through the training data. You may wonder, are more epochs always better. Stop for a moment and ponder this. \n",
        "\n",
        "* .\n",
        "* .\n",
        "* .\n",
        "* .\n",
        "If you need a clue let me mention bias and variance. \n",
        "\n",
        "In the next notebook we will be displaying both the accuracy on the training data and the accuracy on the validation error.  If at some point you see the training data accuracy still going gradually down, but the validation error going up. You may be overfitting your data.\n",
        "\n",
        "\n",
        "# You Try  - Fashion.\n",
        "\n",
        "### finally some xp\n",
        "\n",
        "As a small first step try out the FashionMNIST dataset that we've seen before.\n",
        "\n",
        "![](http://zacharski.org/files/courses/cs419/clothes-sprite.png)\n",
        "![](http://zacharski.org/files/courses/cs419/clothing.gif)\n",
        "\n",
        "\n",
        "The dataset consists of small 28x28 grayscale image icons of different articles of clothing. There are 60,000 images in the training set and 10,000 in the test set. Each image has an associated label from a list of 10:\n",
        "\n",
        "\n",
        "| Label | Description |\n",
        "| --- | --- |\n",
        "| 0 | T-shirt/top |\n",
        "| 1 | Trouser |\n",
        "| 2 | Pullover |\n",
        "| 3 | Dress |\n",
        "| 4 | Coat |\n",
        "| 5 | Sandal |\n",
        "| 6 | Shirt |\n",
        "| 7 | Sneaker |\n",
        "| 8 | Bag |\n",
        "| 9 | Ankle boot |\n",
        "\n",
        "\n",
        "\n",
        "#### The files\n",
        "\n",
        "* Training set: [clothes_train.csv](http://zacharski.org/files/courses/cs419/clothes_train.csv)\n",
        "* Test set: [clothing_test.csv](http://zacharski.org/files/courses/cs419/cTest.csv) Note: Don't use the test set for training.\n",
        "\n",
        "Can you create a network with one hidden layer similar to the example above and train it?\n"
      ]
    },
    {
      "cell_type": "code",
      "metadata": {
        "id": "2DZJmQ-g0HnG",
        "outputId": "77cb036f-eed0-4ea4-cc52-99a38af007c5",
        "colab": {
          "base_uri": "https://localhost:8080/",
          "height": 208
        }
      },
      "source": [
        "# TBD\n",
        "import pandas as pd\n",
        "import numpy as np\n",
        "\n",
        "clothes_train = pd.read_csv(\"http://zacharski.org/files/courses/cs419/clothes_train.csv\")\n",
        "clothes_test = pd.read_csv(\"http://zacharski.org/files/courses/cs419/cTest.csv\")\n",
        "clothes_train_images = clothes_train.drop('label', axis=1).to_numpy() #made the image dataframes into arrays so they can be reshaped\n",
        "clothes_train_labels = clothes_train['label'].to_numpy()\n",
        "clothes_test_images = clothes_test.drop('label', axis=1).to_numpy()\n",
        "clothes_test_labels = clothes_test['label'].to_numpy()\n",
        "\n",
        "network = models.Sequential()\n",
        "network.add(layers.Dense(512, activation='relu', input_shape=(28 * 28,)))\n",
        "network.add(layers.Dense(10, activation='softmax'))\n",
        "network.compile(optimizer='rmsprop',\n",
        "                loss='categorical_crossentropy',\n",
        "                metrics=['accuracy'])\n",
        "\n",
        "clothes_train_images = clothes_train_images.reshape((60000, 28 * 28))\n",
        "clothes_train_images = clothes_train_images.astype('float32') / 255\n",
        "\n",
        "clothes_test_images = clothes_test_images.reshape((10000, 28 * 28))\n",
        "clothes_test_images = clothes_test_images.astype('float32') / 255\n",
        "\n",
        "clothes_train_labels = to_categorical(clothes_train_labels)\n",
        "clothes_test_labels = to_categorical(clothes_test_labels)\n",
        "\n",
        "network.fit(clothes_train_images, clothes_train_labels, epochs=5, batch_size=128)"
      ],
      "execution_count": 18,
      "outputs": [
        {
          "output_type": "stream",
          "text": [
            "Epoch 1/5\n",
            "469/469 [==============================] - 5s 10ms/step - loss: 0.5575 - accuracy: 0.8013\n",
            "Epoch 2/5\n",
            "469/469 [==============================] - 6s 14ms/step - loss: 0.3854 - accuracy: 0.8595\n",
            "Epoch 3/5\n",
            "469/469 [==============================] - 7s 14ms/step - loss: 0.3409 - accuracy: 0.8751\n",
            "Epoch 4/5\n",
            "469/469 [==============================] - 4s 9ms/step - loss: 0.3128 - accuracy: 0.8843\n",
            "Epoch 5/5\n",
            "469/469 [==============================] - 4s 10ms/step - loss: 0.2961 - accuracy: 0.8911\n"
          ],
          "name": "stdout"
        },
        {
          "output_type": "execute_result",
          "data": {
            "text/plain": [
              "<tensorflow.python.keras.callbacks.History at 0x7fe79f981208>"
            ]
          },
          "metadata": {
            "tags": []
          },
          "execution_count": 18
        }
      ]
    },
    {
      "cell_type": "markdown",
      "metadata": {
        "id": "NgnlMXV90HnI"
      },
      "source": [
        "### What is its accuracy on the test data?"
      ]
    },
    {
      "cell_type": "code",
      "metadata": {
        "id": "nR_lX8i90HnJ",
        "outputId": "0e6f6898-74ca-440a-f150-71fd4baf040c",
        "colab": {
          "base_uri": "https://localhost:8080/",
          "height": 52
        }
      },
      "source": [
        "test_loss, test_acc = network.evaluate(clothes_test_images, clothes_test_labels)\n",
        "print('test_acc:', test_acc)"
      ],
      "execution_count": 19,
      "outputs": [
        {
          "output_type": "stream",
          "text": [
            "313/313 [==============================] - 1s 2ms/step - loss: 0.3330 - accuracy: 0.8777\n",
            "test_acc: 0.8776999711990356\n"
          ],
          "name": "stdout"
        }
      ]
    },
    {
      "cell_type": "markdown",
      "metadata": {
        "id": "QAc16iFWHcIL"
      },
      "source": [
        "- my accuracy with 0.8845"
      ]
    },
    {
      "cell_type": "markdown",
      "metadata": {
        "id": "tY3fZL-l0HnL"
      },
      "source": [
        "### Q8 a two hidden layer network in Keras.\n",
        "Can you construct and train a new network that has two hidden layers \n",
        "(as before, the first layer can have 512 neurons - the second should have 256)? What is its accuracy on the test data? "
      ]
    },
    {
      "cell_type": "code",
      "metadata": {
        "id": "OiuUUZs30HnL",
        "outputId": "5d96ebb0-18c8-4575-e0aa-67b87e6e9bb1",
        "colab": {
          "base_uri": "https://localhost:8080/",
          "height": 225
        }
      },
      "source": [
        "# TBD\n",
        "network2 = models.Sequential()\n",
        "network2.add(layers.Dense(512, activation='relu', input_shape=(28 * 28,)))\n",
        "network2.add(layers.Dense(256, activation='relu', input_shape=(28 * 28,)))\n",
        "network2.add(layers.Dense(10, activation='softmax'))\n",
        "network2.compile(optimizer='rmsprop',\n",
        "                loss='categorical_crossentropy',\n",
        "                metrics=['accuracy'])\n",
        "network2.fit(clothes_train_images, clothes_train_labels, epochs=5, batch_size=128)\n",
        "test_loss, test_acc = network2.evaluate(clothes_test_images, clothes_test_labels)\n",
        "print('test_acc:', test_acc)"
      ],
      "execution_count": 20,
      "outputs": [
        {
          "output_type": "stream",
          "text": [
            "Epoch 1/5\n",
            "469/469 [==============================] - 6s 13ms/step - loss: 0.5451 - accuracy: 0.8000\n",
            "Epoch 2/5\n",
            "469/469 [==============================] - 6s 13ms/step - loss: 0.3800 - accuracy: 0.8594\n",
            "Epoch 3/5\n",
            "469/469 [==============================] - 6s 13ms/step - loss: 0.3390 - accuracy: 0.8752\n",
            "Epoch 4/5\n",
            "469/469 [==============================] - 6s 14ms/step - loss: 0.3133 - accuracy: 0.8853\n",
            "Epoch 5/5\n",
            "469/469 [==============================] - 6s 14ms/step - loss: 0.2969 - accuracy: 0.8913\n",
            "313/313 [==============================] - 1s 3ms/step - loss: 0.3116 - accuracy: 0.8907\n",
            "test_acc: 0.8906999826431274\n"
          ],
          "name": "stdout"
        }
      ]
    },
    {
      "cell_type": "markdown",
      "metadata": {
        "id": "S8ll6Pz00HnO"
      },
      "source": [
        "# Volcanoes on Venus \n",
        "\n",
        "![](https://upload.wikimedia.org/wikipedia/commons/1/16/Maat_Mons_on_Venus.jpg)\n",
        "\n",
        "\n",
        "### First, no one has been to Venus\n",
        "I felt I needed to say that upfront because we don't really know if there are volcanoes on Venus. An analysis of the data by experts is not 100% accurate so the labels are the experts best guess.\n",
        "\n",
        "The images are from NASA's Magellan spacecraft which was launched on May 4, 1989 and made it to Venus on August 10, 1990. Magellan mapped the surface of Venus using synthetic aperture radar. Some images have black blocks in them caused by either problems with Magellan or with communication back to earth. \n",
        "\n",
        "### The data\n",
        "The images are 110x110 grayscale pixels. The value of each pixel ranges from 0 to 255. Your task it to build a classifier that will predict whether a volcano is present in the image or not.\n",
        "\n",
        "#### The files\n",
        "\n",
        "* Training images: [volcanoes_train_images.csv](http://zacharski.org/files/courses/cs419/volcanoes_train_images.csv)\n",
        "* Training labels: [volcanoes_train_labels.csv](http://zacharski.org/files/courses/cs419/volcanoes_train_labels.csv) \n",
        "* Testing images: [volcanoes_test_images.csv](http://zacharski.org/files/courses/cs419/volcanoes_test_images.csv)\n",
        "* Testing labels: [volcanoes_test_labels.csv](http://zacharski.org/files/courses/cs419/volcanoes_test_labels.csv) \n",
        "\n",
        "\n",
        "\n",
        "\n",
        "## Tasks\n",
        "\n",
        "There are 5 tasks\n",
        "\n",
        "1. A simple task: Can you display a few of the images from the dataset?\n",
        "2. Build a model with one hidden layer. Train it for 2 epochs. What is it's accuracy?\n",
        "3. Build a model with one hidden layer. Train it for 10 epochs. What is it's accuracy? \n",
        "4. Does increasing the epochs beyond 10 improve accuracy?\n",
        "5. Build a model with 2 hidden layers and test.\n",
        "- I did all 5 steps and answered them in between the code!"
      ]
    },
    {
      "cell_type": "code",
      "metadata": {
        "id": "6ZFUG8Fx0HnO",
        "outputId": "afdf57e2-e765-441e-af2d-a8eec8909298",
        "colab": {
          "base_uri": "https://localhost:8080/",
          "height": 303
        }
      },
      "source": [
        "volcanoes_train_images = pd.read_csv(\"http://zacharski.org/files/courses/cs419/volcanoes_train_images.csv\", header=None)\n",
        "volcanoes_train_labels = pd.read_csv(\"http://zacharski.org/files/courses/cs419/volcanoes_train_labels.csv\")\n",
        "volcanoes_test_images = pd.read_csv(\"http://zacharski.org/files/courses/cs419/volcanoes_test_images.csv\", header=None)\n",
        "volcanoes_test_labels = pd.read_csv(\"http://zacharski.org/files/courses/cs419/volcanoes_test_labels.csv\")\n",
        "network_v = models.Sequential()\n",
        "network_v.add(layers.Dense(512, activation='relu', input_shape=(110 * 110,)))\n",
        "network_v.add(layers.Dense(1, activation='sigmoid'))\n",
        "network_v.compile(optimizer='rmsprop',\n",
        "                loss='binary_crossentropy',\n",
        "                metrics=['accuracy'])\n",
        "\n",
        "def viewImage(x):\n",
        "    plt.figure(figsize=(2,2))\n",
        "    plt.imshow(x.values.reshape([110,110]), interpolation='nearest', cmap='gray')\n",
        "    plt.show()\n",
        "viewImage(volcanoes_test_images.iloc[1])\n",
        "viewImage(volcanoes_test_images.iloc[2])\n",
        "\n",
        "volcanoes_train_images = volcanoes_train_images.astype('float32') / 255\n",
        "volcanoes_test_images = volcanoes_test_images.to_numpy()\n",
        "volcanoes_test_images = volcanoes_test_images.astype('float32') / 255"
      ],
      "execution_count": 29,
      "outputs": [
        {
          "output_type": "display_data",
          "data": {
            "image/png": "[encoded data removed]",
            "text/plain": [
              "<Figure size 144x144 with 1 Axes>"
            ]
          },
          "metadata": {
            "tags": [],
            "needs_background": "light"
          }
        },
        {
          "output_type": "display_data",
          "data": {
            "image/png": "[encoded data removed]",
            "text/plain": [
              "<Figure size 144x144 with 1 Axes>"
            ]
          },
          "metadata": {
            "tags": [],
            "needs_background": "light"
          }
        }
      ]
    },
    {
      "cell_type": "code",
      "metadata": {
        "id": "CfaIBXN_0HnQ",
        "outputId": "59da7b85-33be-477e-9c54-783565569e97",
        "colab": {
          "base_uri": "https://localhost:8080/",
          "height": 139
        }
      },
      "source": [
        "print(len(volcanoes_train_labels))\n",
        "print(len(volcanoes_train_images))\n",
        "volcanoes_train_images = volcanoes_train_images.to_numpy()\n",
        "print(volcanoes_train_labels.iloc[0])"
      ],
      "execution_count": 30,
      "outputs": [
        {
          "output_type": "stream",
          "text": [
            "7000\n",
            "7000\n",
            "Volcano?             1.00\n",
            "Type                 3.00\n",
            "Radius              17.46\n",
            "Number Volcanoes     1.00\n",
            "Name: 0, dtype: float64\n"
          ],
          "name": "stdout"
        }
      ]
    },
    {
      "cell_type": "code",
      "metadata": {
        "id": "HkepiU9S0HnS"
      },
      "source": [
        "volcano_train_y = volcanoes_train_labels['Volcano?']\n",
        "volcano_test_y = volcanoes_test_labels['Volcano?']"
      ],
      "execution_count": 31,
      "outputs": []
    },
    {
      "cell_type": "code",
      "metadata": {
        "id": "uMYgefF_BPgV",
        "outputId": "d113f431-101f-47c5-d85e-753a47c6e704",
        "colab": {
          "base_uri": "https://localhost:8080/",
          "height": 399
        }
      },
      "source": [
        "history = network_v.fit(\n",
        "          volcanoes_train_images, volcano_train_y,\n",
        "          steps_per_epoch=100,\n",
        "          epochs=10,\n",
        "          validation_split=.2)\n",
        "test_loss, test_acc = network_v.evaluate(volcanoes_test_images, volcano_test_y)\n",
        "print('test_acc:', test_acc)"
      ],
      "execution_count": 35,
      "outputs": [
        {
          "output_type": "stream",
          "text": [
            "Epoch 1/10\n",
            "100/100 [==============================] - 8s 81ms/step - loss: 0.2968 - accuracy: 0.8921 - val_loss: 0.4158 - val_accuracy: 0.8636\n",
            "Epoch 2/10\n",
            "100/100 [==============================] - 8s 79ms/step - loss: 0.2588 - accuracy: 0.9038 - val_loss: 0.2433 - val_accuracy: 0.9107\n",
            "Epoch 3/10\n",
            "100/100 [==============================] - 8s 80ms/step - loss: 0.2743 - accuracy: 0.9013 - val_loss: 0.3096 - val_accuracy: 0.8736\n",
            "Epoch 4/10\n",
            "100/100 [==============================] - 8s 79ms/step - loss: 0.2813 - accuracy: 0.8950 - val_loss: 0.2406 - val_accuracy: 0.9093\n",
            "Epoch 5/10\n",
            "100/100 [==============================] - 8s 79ms/step - loss: 0.2626 - accuracy: 0.9045 - val_loss: 0.2366 - val_accuracy: 0.9107\n",
            "Epoch 6/10\n",
            "100/100 [==============================] - 8s 79ms/step - loss: 0.2729 - accuracy: 0.9018 - val_loss: 0.4403 - val_accuracy: 0.8657\n",
            "Epoch 7/10\n",
            "100/100 [==============================] - 8s 82ms/step - loss: 0.2755 - accuracy: 0.8982 - val_loss: 0.2664 - val_accuracy: 0.9071\n",
            "Epoch 8/10\n",
            "100/100 [==============================] - 9s 88ms/step - loss: 0.2724 - accuracy: 0.8970 - val_loss: 0.2961 - val_accuracy: 0.9014\n",
            "Epoch 9/10\n",
            "100/100 [==============================] - 8s 79ms/step - loss: 0.2918 - accuracy: 0.8946 - val_loss: 0.2460 - val_accuracy: 0.9021\n",
            "Epoch 10/10\n",
            "100/100 [==============================] - 8s 81ms/step - loss: 0.2689 - accuracy: 0.9023 - val_loss: 0.2660 - val_accuracy: 0.9007\n",
            "86/86 [==============================] - 1s 13ms/step - loss: 0.2791 - accuracy: 0.9108\n",
            "test_acc: 0.9107534885406494\n"
          ],
          "name": "stdout"
        }
      ]
    },
    {
      "cell_type": "markdown",
      "metadata": {
        "id": "T3Hf4HUgFTVO"
      },
      "source": [
        "- I got 0.873 for the accuracy on 30 epochs\n",
        "- I got 0.895 for the accuracy on 2 epochs\n",
        "- I got 0.911 for the accuracy on 10 epochs"
      ]
    },
    {
      "cell_type": "code",
      "metadata": {
        "id": "yZQ-a5YVGfZF",
        "outputId": "6f84beec-52f6-4ad2-9e9c-efbdeebc51e6",
        "colab": {
          "base_uri": "https://localhost:8080/",
          "height": 399
        }
      },
      "source": [
        "#this one is with two hidden layers\n",
        "network_v2 = models.Sequential()\n",
        "network_v2.add(layers.Dense(512, activation='relu', input_shape=(110 * 110,)))\n",
        "network2.add(layers.Dense(256, activation='relu', input_shape=(110 * 110,)))\n",
        "network_v2.add(layers.Dense(1, activation='sigmoid'))\n",
        "network_v2.compile(optimizer='rmsprop',\n",
        "                loss='binary_crossentropy',\n",
        "                metrics=['accuracy'])\n",
        "history = network_v2.fit(\n",
        "          volcanoes_train_images, volcano_train_y,\n",
        "          steps_per_epoch=100,\n",
        "          epochs=10,\n",
        "          validation_split=.2)\n",
        "test_loss, test_acc = network_v2.evaluate(volcanoes_test_images, volcano_test_y)\n",
        "print('test_acc:', test_acc)"
      ],
      "execution_count": 36,
      "outputs": [
        {
          "output_type": "stream",
          "text": [
            "Epoch 1/10\n",
            "100/100 [==============================] - 8s 80ms/step - loss: 0.8295 - accuracy: 0.8450 - val_loss: 0.4295 - val_accuracy: 0.8514\n",
            "Epoch 2/10\n",
            "100/100 [==============================] - 8s 79ms/step - loss: 0.4466 - accuracy: 0.8586 - val_loss: 0.4186 - val_accuracy: 0.8514\n",
            "Epoch 3/10\n",
            "100/100 [==============================] - 11s 106ms/step - loss: 0.4391 - accuracy: 0.8586 - val_loss: 0.4179 - val_accuracy: 0.8514\n",
            "Epoch 4/10\n",
            "100/100 [==============================] - 11s 106ms/step - loss: 0.4278 - accuracy: 0.8586 - val_loss: 0.5005 - val_accuracy: 0.8514\n",
            "Epoch 5/10\n",
            "100/100 [==============================] - 9s 92ms/step - loss: 0.4252 - accuracy: 0.8586 - val_loss: 0.4821 - val_accuracy: 0.8514\n",
            "Epoch 6/10\n",
            "100/100 [==============================] - 9s 89ms/step - loss: 0.4128 - accuracy: 0.8586 - val_loss: 0.4291 - val_accuracy: 0.8514\n",
            "Epoch 7/10\n",
            "100/100 [==============================] - 8s 83ms/step - loss: 0.4045 - accuracy: 0.8586 - val_loss: 0.4677 - val_accuracy: 0.8514\n",
            "Epoch 8/10\n",
            "100/100 [==============================] - 8s 85ms/step - loss: 0.4093 - accuracy: 0.8586 - val_loss: 0.4157 - val_accuracy: 0.8514\n",
            "Epoch 9/10\n",
            "100/100 [==============================] - 8s 81ms/step - loss: 0.4124 - accuracy: 0.8586 - val_loss: 0.5269 - val_accuracy: 0.8514\n",
            "Epoch 10/10\n",
            "100/100 [==============================] - 8s 79ms/step - loss: 0.4184 - accuracy: 0.8586 - val_loss: 0.4542 - val_accuracy: 0.8514\n",
            "86/86 [==============================] - 1s 13ms/step - loss: 0.4899 - accuracy: 0.8413\n",
            "test_acc: 0.8412582278251648\n"
          ],
          "name": "stdout"
        }
      ]
    },
    {
      "cell_type": "markdown",
      "metadata": {
        "id": "pwyIvD5UHSDx"
      },
      "source": [
        "- for the two hidden layers and epoch of 10, I got 0.841 accuracy"
      ]
    },
    {
      "cell_type": "markdown",
      "metadata": {
        "id": "1oPtUCBi0HnU"
      },
      "source": [
        "#### Remix\n",
        "Remix by Ron Zacharski. Orginal Python notebook by François Chollet\n",
        "\n",
        "### MIT License\n",
        "\n",
        "Copyright (c) 2017 François Chollet\n",
        "\n",
        "Permission is hereby granted, free of charge, to any person obtaining a copy\n",
        "of this software and associated documentation files (the \"Software\"), to deal\n",
        "in the Software without restriction, including without limitation the rights\n",
        "to use, copy, modify, merge, publish, distribute, sublicense, and/or sell\n",
        "copies of the Software, and to permit persons to whom the Software is\n",
        "furnished to do so, subject to the following conditions:\n",
        "\n",
        "The above copyright notice and this permission notice shall be included in all\n",
        "copies or substantial portions of the Software.\n",
        "\n",
        "THE SOFTWARE IS PROVIDED \"AS IS\", WITHOUT WARRANTY OF ANY KIND, EXPRESS OR\n",
        "IMPLIED, INCLUDING BUT NOT LIMITED TO THE WARRANTIES OF MERCHANTABILITY,\n",
        "FITNESS FOR A PARTICULAR PURPOSE AND NONINFRINGEMENT. IN NO EVENT SHALL THE\n",
        "AUTHORS OR COPYRIGHT HOLDERS BE LIABLE FOR ANY CLAIM, DAMAGES OR OTHER\n",
        "LIABILITY, WHETHER IN AN ACTION OF CONTRACT, TORT OR OTHERWISE, ARISING FROM,\n",
        "OUT OF OR IN CONNECTION WITH THE SOFTWARE OR THE USE OR OTHER DEALINGS IN THE\n",
        "SOFTWARE."
      ]
    }
  ]
}