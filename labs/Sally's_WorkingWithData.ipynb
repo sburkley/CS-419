{
  "nbformat": 4,
  "nbformat_minor": 0,
  "metadata": {
    "kernelspec": {
      "display_name": "Python 3",
      "language": "python",
      "name": "python3"
    },
    "language_info": {
      "codemirror_mode": {
        "name": "ipython",
        "version": 3
      },
      "file_extension": ".py",
      "mimetype": "text/x-python",
      "name": "python",
      "nbconvert_exporter": "python",
      "pygments_lexer": "ipython3",
      "version": "3.8.3"
    },
    "colab": {
      "name": "Sally's Copy of WorkingWithData.ipynb",
      "provenance": [],
      "include_colab_link": true
    }
  },
  "cells": [
    {
      "cell_type": "markdown",
      "metadata": {
        "id": "view-in-github",
        "colab_type": "text"
      },
      "source": [
        "<a href=\"https://colab.research.google.com/github/sburkley/CS-419/blob/master/labs/Sally's_WorkingWithData.ipynb\" target=\"_parent\"><img src=\"https://colab.research.google.com/assets/colab-badge.svg\" alt=\"Open In Colab\"/></a>"
      ]
    },
    {
      "cell_type": "markdown",
      "metadata": {
        "id": "LKZE6mB-0c6K",
        "colab_type": "text"
      },
      "source": [
        "# Working with Data\n",
        "\n",
        "#### Part of the [Inquiryum Machine Learning Fundamentals Course](http://inquiryum.com/machine-learning/)\n",
        "\n",
        "In the examples we have been working with so far, all the columns had numerical data. For example, the violet classification data looked like:\n",
        "    \n",
        "    \n",
        "Sepal Length|Sepal Width|Petal Length|Petal Width|Class\n",
        ":--: | :--: |:--: |:--: |:--: \n",
        "5.3|3.7|1.5|0.2|Iris-setosa\n",
        "5.0|3.3|1.4|0.2|Iris-setosa\n",
        "5.0|2.0|3.5|1.0|Iris-versicolor\n",
        "5.9|3.0|4.2|1.5|Iris-versicolor\n",
        "6.3|3.4|5.6|2.4|Iris-virginica\n",
        "6.4|3.1|5.5|1.8|Iris-virginica\n",
        "\n",
        "Notice that all the feature columns had numeric data. This isn't always the case. In addition to **numeric** data, datasets often contain **categorical data**. A column that contains **categorical data** means that the values are from a limited set of values. For example:\n",
        "\n",
        "\n",
        "\n",
        "Movie | Tomato Rating | Genre | Rating | Length \n",
        ":---: | :---: | :---: | :---: | :---:  \n",
        "First Man | 88 | Drama | PG-13 | 138\n",
        "Can You Ever Forgive Me | 98 | Drama | R | 107\n",
        "The Girl in the Spider's Web | 41 | Drama | R | -99\n",
        "Free Solo | 99 | Documentary | PG-13 | 97\n",
        "The Grinch | 57 | Animation | PG | 86\n",
        "Overlord | 80 | Action | R | 109\n",
        "Christopher Robin | 71 | Comedy | PG | -99\n",
        "Ant Man and the Wasp  |  88 | Science Fiction | PG-13 | 118\n",
        "\n",
        "Numeric columns like `Tomato Rating` and `Length` are fine as is, but the columns `Genre` and `Rating` are problematic for machine learning. Those columns contain categorical data which again means that the values of those columns are from a limited set of possibilities. Modern machine learning algorithms are designed to handle only numeric and boolean (True, False) data. So, as a preprocessing step, we will need to convert the categorical columns to numeric. One solution would be simply to map each categorical value to an integer. So drama is 1, documentary 2 etc:\n",
        "\n",
        "index | genre\n",
        " :--: | :--:\n",
        " 1 | Drama\n",
        " 2 | Documentary\n",
        " 3 | Animation\n",
        " 4| Action\n",
        " 5 | Comedy\n",
        " 6 | Science Fiction\n",
        "\n",
        "Using this scheme we can convert the original data to:\n",
        "\n",
        "Movie | Tomato Rating | Genre | Rating | Length \n",
        ":---: | :---: | :---: | :---: | :---:  \n",
        "First Man | 88 | 1 | 1 | 138\n",
        "Can You Ever Forgive Me | 98 | 1 | 2 | 107\n",
        "The Girl in the Spider's Web | 41 | 1 | 2 | -99\n",
        "Free Solo | 99 | 2 | 1 | 97\n",
        "The Grinch | 57 | 3 | 3 | 86\n",
        "Overlord | 80 | 4 | 2 | 109\n",
        "Christopher Robin | 71 | 5 | 3 | -99\n",
        "Ant Man and the Wasp  |  88 | 6 | 1 | 118\n",
        "\n",
        "\n",
        "But this solution is problematic in a different way. Integers infer  both an ordering and a distance where 2 is closer to 1 than 4. Since in the genre column 1 is drama, 2 is documentary, and 4 is action, our scheme implies that dramas are closer to documentaries than they are to action films, which is clearly not the case. This problem also exists in the rating column. Mapping the categories to integers in a different way will not fix this problem. No matter how clever we are in making this mapping, the problem will still exist. **So clearly this method is not the way to go**!\n",
        "\n",
        "### One Hot Encoding\n",
        "The solution is to do what is called one hot encoding. Our original table looked like:\n",
        "\n",
        "\n",
        "Movie | Tomato Rating | Genre | Rating | Length \n",
        ":---: | :---: | :---: | :---: | :---:  \n",
        "First Man | 88 | Drama | PG-13 | 138\n",
        "Can You Ever Forgive Me | 98 | Drama | R | 107\n",
        "The Girl in the Spider's Web | 41 | Drama | R | -99\n",
        "Free Solo | 99 | Documentary | PG-13 | 97\n",
        "The Grinch | 57 | Animation | PG | 86\n",
        "Overlord | 80 | Action | R | 109\n",
        "Christopher Robin | 71 | Comedy | PG | -99\n",
        "Ant Man and the Wasp  |  88 | Science Fiction | PG-13 | 118\n",
        "\n",
        "So, for example, we had the categorical column genre with the possible values drama, documentary, animation, action, comedy and science fiction. Instead of one column with those values, we are going to convert it to a form where each value is its own column.\n",
        "\n",
        "![](https://raw.githubusercontent.com/zacharski/ml-class/master/labs/pics/normalize2.jpg)\n",
        "\n",
        "\n",
        "If that data instance is of that value then we would put a **one** in the column, otherwise we would put a zero. For example, since *The Girl in the Spider's Web* is a drama, we would put a 1 in the drama column and a zero in the animation column. So we would convert\n",
        "\n",
        "Movie | Genre \n",
        ":---: | :---: \n",
        "First Man | Drama \n",
        "Can You Ever Forgive Me | Drama\n",
        "The Girl in the Spider's Web |  Drama \n",
        "Free Solo |  Documentary \n",
        "The Grinch |  Animation \n",
        "Overlord |  Action\n",
        "Christopher Robin |  Comedy\n",
        "Ant Man and the Wasp  |   Science Fiction\n",
        "\n",
        "to\n",
        "\n",
        "Movie | Drama | Documentary | Animation | Action | Comedy | Science Fiction\n",
        ":--: | :--: | :--: | :--: | :--: | :--: | :--: \n",
        "First Man | 1 | 0 | 0| 0| 0 | 0 \n",
        "Can You Ever Forgive Me | 1 | 0 | 0| 0| 0 | 0 \n",
        "The Girl in the Spider's Web | 1 | 0 | 0| 0| 0 | 0 \n",
        "Free Solo | 0 | 1 | 0| 0| 0 | 0 \n",
        "The Grinch | 0 | 0 | 1| 0| 0 | 0 \n",
        "Overlord | 0 | 0 | 0| 1| 0 | 0 \n",
        "Christopher Robin | 0 | 0 | 0| 0| 1 | 0 \n",
        "Ant Man and the Wasp | 0 | 0 | 0| 0| 0 | 1 \n",
        "\n",
        "Notice that the movie *First Man* has a one in the drama column and zeroes elsewhere. The movie *Free Solo* has a one in the documentary column and zeroes elsewhere.\n",
        "This is the prefered way of converting categorical data (when we work with text we will see other options). An added benefit to this approach is now an instance can be of multiple categories. For example, we may want to categorize *Ant Man and the Wasp* as both a comedy and science fiction, and that is easy to do in this scheme:\n",
        "\n",
        "Movie | Drama | Documentary | Animation | Action | Comedy | Science Fiction\n",
        ":--: | :--: | :--: | :--: | :--: | :--: | :--: \n",
        "First Man | 1 | 0 | 0| 0| 0 | 0 \n",
        "Can You Ever Forgive Me | 1 | 0 | 0| 0| 0 | 0 \n",
        "The Girl in the Spider's Web | 1 | 0 | 0| 0| 0 | 0 \n",
        "Free Solo | 0 | 1 | 0| 0| 0 | 0 \n",
        "The Grinch | 0 | 0 | 1| 0| 0 | 0 \n",
        "Overlord | 0 | 0 | 0| 1| 0 | 0 \n",
        "Christopher Robin | 0 | 0 | 0| 0| 1 | 0 \n",
        "Ant Man and the Wasp | 0 | 0 | 0| 0| 1 | 1 \n",
        "\n",
        "\n",
        "\n",
        "If we one-hot encoded all the categorical columns in our original dataset it would look like:\n",
        "\n",
        "Movie            | Tomato Rating | Action | Animation | Comedy | Documentary | Drama | Science Fiction | PG | PG-13 | R | Length \n",
        ":---: | :---: | :---: | :---: | :---: |  :---: |  :---: |  :---: |  :---: |  :---: |  :---: |  :---: \n",
        "First Man        | 88            |  0     |    0      |   0    | 0           | 1     | 0    | 0 | 1  |    0| 138\n",
        "Can You Ever Forgive Me | 98 |      0     |    0      |   0    | 0           | 1     | 0    | 0 | 0  |   1|   107\n",
        "The Girl in the Spider's Web | 41 |  0     |    0      |   0    | 0           | 1     | 0    | 0 | 1  |    0|    -99\n",
        "Free Solo | 99 |  0     |    0      |   0    | 1           | 0     | 0    | 0 | 1  |    0|   97\n",
        "The Grinch | 57 |  0     |    1      |   0    | 0           | 0     | 0    | 1 | 0  |    0| 86\n",
        "Overlord | 80 |  1     |    0      |   0    | 0           | 0     | 0    | 0 | 1  |    0|  109\n",
        "Christopher Robin | 71  |  0     |    0      |   1   | 0           | 0     | 0    | 1 | 0  |    0| -99\n",
        "Ant Man and the Wasp   |  0    |    0      |   0    | 0       | 0    | 0     | 1    | 0 | 1  |    0| 118\n",
        "\n",
        "\n",
        "\n",
        "### Coding\n",
        "Let's investigate this a bit with a coding example. \n"
      ]
    },
    {
      "cell_type": "code",
      "metadata": {
        "id": "EyaBbhse0c6K",
        "colab_type": "code",
        "colab": {
          "base_uri": "https://localhost:8080/",
          "height": 509
        },
        "outputId": "39c95c61-1915-496d-95ec-2f15c9d86cf1"
      },
      "source": [
        "import pandas as pd\n",
        "bike = pd.read_csv('https://raw.githubusercontent.com/zacharski/ml-class/master/data/bike.csv')\n",
        "bike = bike.set_index('Day')\n",
        "bike\n"
      ],
      "execution_count": 2,
      "outputs": [
        {
          "output_type": "execute_result",
          "data": {
            "text/html": [
              "<div>\n",
              "<style scoped>\n",
              "    .dataframe tbody tr th:only-of-type {\n",
              "        vertical-align: middle;\n",
              "    }\n",
              "\n",
              "    .dataframe tbody tr th {\n",
              "        vertical-align: top;\n",
              "    }\n",
              "\n",
              "    .dataframe thead th {\n",
              "        text-align: right;\n",
              "    }\n",
              "</style>\n",
              "<table border=\"1\" class=\"dataframe\">\n",
              "  <thead>\n",
              "    <tr style=\"text-align: right;\">\n",
              "      <th></th>\n",
              "      <th>Outlook</th>\n",
              "      <th>Temperature</th>\n",
              "      <th>Humidity</th>\n",
              "      <th>Wind</th>\n",
              "      <th>Bike</th>\n",
              "    </tr>\n",
              "    <tr>\n",
              "      <th>Day</th>\n",
              "      <th></th>\n",
              "      <th></th>\n",
              "      <th></th>\n",
              "      <th></th>\n",
              "      <th></th>\n",
              "    </tr>\n",
              "  </thead>\n",
              "  <tbody>\n",
              "    <tr>\n",
              "      <th>1</th>\n",
              "      <td>Sunny</td>\n",
              "      <td>Hot</td>\n",
              "      <td>High</td>\n",
              "      <td>Weak</td>\n",
              "      <td>No</td>\n",
              "    </tr>\n",
              "    <tr>\n",
              "      <th>2</th>\n",
              "      <td>Sunny</td>\n",
              "      <td>Hot</td>\n",
              "      <td>High</td>\n",
              "      <td>Strong</td>\n",
              "      <td>No</td>\n",
              "    </tr>\n",
              "    <tr>\n",
              "      <th>3</th>\n",
              "      <td>Overcast</td>\n",
              "      <td>Hot</td>\n",
              "      <td>High</td>\n",
              "      <td>Weak</td>\n",
              "      <td>Yes</td>\n",
              "    </tr>\n",
              "    <tr>\n",
              "      <th>4</th>\n",
              "      <td>Rain</td>\n",
              "      <td>Mild</td>\n",
              "      <td>High</td>\n",
              "      <td>Weak</td>\n",
              "      <td>Yes</td>\n",
              "    </tr>\n",
              "    <tr>\n",
              "      <th>5</th>\n",
              "      <td>Rain</td>\n",
              "      <td>Cool</td>\n",
              "      <td>Normal</td>\n",
              "      <td>Weak</td>\n",
              "      <td>Yes</td>\n",
              "    </tr>\n",
              "    <tr>\n",
              "      <th>6</th>\n",
              "      <td>Rain</td>\n",
              "      <td>Cool</td>\n",
              "      <td>Normal</td>\n",
              "      <td>Strong</td>\n",
              "      <td>No</td>\n",
              "    </tr>\n",
              "    <tr>\n",
              "      <th>7</th>\n",
              "      <td>Overcast</td>\n",
              "      <td>Cool</td>\n",
              "      <td>Normal</td>\n",
              "      <td>Strong</td>\n",
              "      <td>Yes</td>\n",
              "    </tr>\n",
              "    <tr>\n",
              "      <th>8</th>\n",
              "      <td>Sunny</td>\n",
              "      <td>Mild</td>\n",
              "      <td>High</td>\n",
              "      <td>Weak</td>\n",
              "      <td>No</td>\n",
              "    </tr>\n",
              "    <tr>\n",
              "      <th>9</th>\n",
              "      <td>Sunny</td>\n",
              "      <td>Cool</td>\n",
              "      <td>Normal</td>\n",
              "      <td>Weak</td>\n",
              "      <td>Yes</td>\n",
              "    </tr>\n",
              "    <tr>\n",
              "      <th>10</th>\n",
              "      <td>Rain</td>\n",
              "      <td>Mild</td>\n",
              "      <td>Normal</td>\n",
              "      <td>Weak</td>\n",
              "      <td>Yes</td>\n",
              "    </tr>\n",
              "    <tr>\n",
              "      <th>11</th>\n",
              "      <td>Sunny</td>\n",
              "      <td>Mild</td>\n",
              "      <td>Normal</td>\n",
              "      <td>Strong</td>\n",
              "      <td>Yes</td>\n",
              "    </tr>\n",
              "    <tr>\n",
              "      <th>12</th>\n",
              "      <td>Overcast</td>\n",
              "      <td>Mild</td>\n",
              "      <td>High</td>\n",
              "      <td>Strong</td>\n",
              "      <td>Yes</td>\n",
              "    </tr>\n",
              "    <tr>\n",
              "      <th>13</th>\n",
              "      <td>Overcast</td>\n",
              "      <td>Hot</td>\n",
              "      <td>Normal</td>\n",
              "      <td>Weak</td>\n",
              "      <td>Yes</td>\n",
              "    </tr>\n",
              "    <tr>\n",
              "      <th>14</th>\n",
              "      <td>Rain</td>\n",
              "      <td>Mild</td>\n",
              "      <td>High</td>\n",
              "      <td>Strong</td>\n",
              "      <td>No</td>\n",
              "    </tr>\n",
              "  </tbody>\n",
              "</table>\n",
              "</div>"
            ],
            "text/plain": [
              "      Outlook Temperature Humidity    Wind Bike\n",
              "Day                                            \n",
              "1       Sunny         Hot     High    Weak   No\n",
              "2       Sunny         Hot     High  Strong   No\n",
              "3    Overcast         Hot     High    Weak  Yes\n",
              "4        Rain        Mild     High    Weak  Yes\n",
              "5        Rain        Cool   Normal    Weak  Yes\n",
              "6        Rain        Cool   Normal  Strong   No\n",
              "7    Overcast        Cool   Normal  Strong  Yes\n",
              "8       Sunny        Mild     High    Weak   No\n",
              "9       Sunny        Cool   Normal    Weak  Yes\n",
              "10       Rain        Mild   Normal    Weak  Yes\n",
              "11      Sunny        Mild   Normal  Strong  Yes\n",
              "12   Overcast        Mild     High  Strong  Yes\n",
              "13   Overcast         Hot   Normal    Weak  Yes\n",
              "14       Rain        Mild     High  Strong   No"
            ]
          },
          "metadata": {
            "tags": []
          },
          "execution_count": 2
        }
      ]
    },
    {
      "cell_type": "markdown",
      "metadata": {
        "id": "jQ-R-DoT0c6R",
        "colab_type": "text"
      },
      "source": [
        "Here we are trying to predict whether someone will mountain bike or not based on the outlook, temperature, humidity, and wind. \n",
        "Let's forge ahead and see if we can build a decision tree classifier:"
      ]
    },
    {
      "cell_type": "code",
      "metadata": {
        "id": "Or6xL1vW0c6R",
        "colab_type": "code",
        "colab": {
          "base_uri": "https://localhost:8080/",
          "height": 346
        },
        "outputId": "3d96f2ec-5af6-440c-bd24-68948115a59e"
      },
      "source": [
        "from sklearn import tree\n",
        "clf = tree.DecisionTreeClassifier(criterion='entropy')\n",
        "clf.fit(bike[['Outlook', 'Temperature', 'Humidity', 'Wind']], bike['Bike'])"
      ],
      "execution_count": 3,
      "outputs": [
        {
          "output_type": "error",
          "ename": "ValueError",
          "evalue": "ignored",
          "traceback": [
            "\u001b[0;31m---------------------------------------------------------------------------\u001b[0m",
            "\u001b[0;31mValueError\u001b[0m                                Traceback (most recent call last)",
            "\u001b[0;32m<ipython-input-3-345cbf4908d9>\u001b[0m in \u001b[0;36m<module>\u001b[0;34m()\u001b[0m\n\u001b[1;32m      1\u001b[0m \u001b[0;32mfrom\u001b[0m \u001b[0msklearn\u001b[0m \u001b[0;32mimport\u001b[0m \u001b[0mtree\u001b[0m\u001b[0;34m\u001b[0m\u001b[0;34m\u001b[0m\u001b[0m\n\u001b[1;32m      2\u001b[0m \u001b[0mclf\u001b[0m \u001b[0;34m=\u001b[0m \u001b[0mtree\u001b[0m\u001b[0;34m.\u001b[0m\u001b[0mDecisionTreeClassifier\u001b[0m\u001b[0;34m(\u001b[0m\u001b[0mcriterion\u001b[0m\u001b[0;34m=\u001b[0m\u001b[0;34m'entropy'\u001b[0m\u001b[0;34m)\u001b[0m\u001b[0;34m\u001b[0m\u001b[0;34m\u001b[0m\u001b[0m\n\u001b[0;32m----> 3\u001b[0;31m \u001b[0mclf\u001b[0m\u001b[0;34m.\u001b[0m\u001b[0mfit\u001b[0m\u001b[0;34m(\u001b[0m\u001b[0mbike\u001b[0m\u001b[0;34m[\u001b[0m\u001b[0;34m[\u001b[0m\u001b[0;34m'Outlook'\u001b[0m\u001b[0;34m,\u001b[0m \u001b[0;34m'Temperature'\u001b[0m\u001b[0;34m,\u001b[0m \u001b[0;34m'Humidity'\u001b[0m\u001b[0;34m,\u001b[0m \u001b[0;34m'Wind'\u001b[0m\u001b[0;34m]\u001b[0m\u001b[0;34m]\u001b[0m\u001b[0;34m,\u001b[0m \u001b[0mbike\u001b[0m\u001b[0;34m[\u001b[0m\u001b[0;34m'Bike'\u001b[0m\u001b[0;34m]\u001b[0m\u001b[0;34m)\u001b[0m\u001b[0;34m\u001b[0m\u001b[0;34m\u001b[0m\u001b[0m\n\u001b[0m",
            "\u001b[0;32m/usr/local/lib/python3.6/dist-packages/sklearn/tree/_classes.py\u001b[0m in \u001b[0;36mfit\u001b[0;34m(self, X, y, sample_weight, check_input, X_idx_sorted)\u001b[0m\n\u001b[1;32m    875\u001b[0m             \u001b[0msample_weight\u001b[0m\u001b[0;34m=\u001b[0m\u001b[0msample_weight\u001b[0m\u001b[0;34m,\u001b[0m\u001b[0;34m\u001b[0m\u001b[0;34m\u001b[0m\u001b[0m\n\u001b[1;32m    876\u001b[0m             \u001b[0mcheck_input\u001b[0m\u001b[0;34m=\u001b[0m\u001b[0mcheck_input\u001b[0m\u001b[0;34m,\u001b[0m\u001b[0;34m\u001b[0m\u001b[0;34m\u001b[0m\u001b[0m\n\u001b[0;32m--> 877\u001b[0;31m             X_idx_sorted=X_idx_sorted)\n\u001b[0m\u001b[1;32m    878\u001b[0m         \u001b[0;32mreturn\u001b[0m \u001b[0mself\u001b[0m\u001b[0;34m\u001b[0m\u001b[0;34m\u001b[0m\u001b[0m\n\u001b[1;32m    879\u001b[0m \u001b[0;34m\u001b[0m\u001b[0m\n",
            "\u001b[0;32m/usr/local/lib/python3.6/dist-packages/sklearn/tree/_classes.py\u001b[0m in \u001b[0;36mfit\u001b[0;34m(self, X, y, sample_weight, check_input, X_idx_sorted)\u001b[0m\n\u001b[1;32m    147\u001b[0m \u001b[0;34m\u001b[0m\u001b[0m\n\u001b[1;32m    148\u001b[0m         \u001b[0;32mif\u001b[0m \u001b[0mcheck_input\u001b[0m\u001b[0;34m:\u001b[0m\u001b[0;34m\u001b[0m\u001b[0;34m\u001b[0m\u001b[0m\n\u001b[0;32m--> 149\u001b[0;31m             \u001b[0mX\u001b[0m \u001b[0;34m=\u001b[0m \u001b[0mcheck_array\u001b[0m\u001b[0;34m(\u001b[0m\u001b[0mX\u001b[0m\u001b[0;34m,\u001b[0m \u001b[0mdtype\u001b[0m\u001b[0;34m=\u001b[0m\u001b[0mDTYPE\u001b[0m\u001b[0;34m,\u001b[0m \u001b[0maccept_sparse\u001b[0m\u001b[0;34m=\u001b[0m\u001b[0;34m\"csc\"\u001b[0m\u001b[0;34m)\u001b[0m\u001b[0;34m\u001b[0m\u001b[0;34m\u001b[0m\u001b[0m\n\u001b[0m\u001b[1;32m    150\u001b[0m             \u001b[0my\u001b[0m \u001b[0;34m=\u001b[0m \u001b[0mcheck_array\u001b[0m\u001b[0;34m(\u001b[0m\u001b[0my\u001b[0m\u001b[0;34m,\u001b[0m \u001b[0mensure_2d\u001b[0m\u001b[0;34m=\u001b[0m\u001b[0;32mFalse\u001b[0m\u001b[0;34m,\u001b[0m \u001b[0mdtype\u001b[0m\u001b[0;34m=\u001b[0m\u001b[0;32mNone\u001b[0m\u001b[0;34m)\u001b[0m\u001b[0;34m\u001b[0m\u001b[0;34m\u001b[0m\u001b[0m\n\u001b[1;32m    151\u001b[0m             \u001b[0;32mif\u001b[0m \u001b[0missparse\u001b[0m\u001b[0;34m(\u001b[0m\u001b[0mX\u001b[0m\u001b[0;34m)\u001b[0m\u001b[0;34m:\u001b[0m\u001b[0;34m\u001b[0m\u001b[0;34m\u001b[0m\u001b[0m\n",
            "\u001b[0;32m/usr/local/lib/python3.6/dist-packages/sklearn/utils/validation.py\u001b[0m in \u001b[0;36mcheck_array\u001b[0;34m(array, accept_sparse, accept_large_sparse, dtype, order, copy, force_all_finite, ensure_2d, allow_nd, ensure_min_samples, ensure_min_features, warn_on_dtype, estimator)\u001b[0m\n\u001b[1;32m    529\u001b[0m                     \u001b[0marray\u001b[0m \u001b[0;34m=\u001b[0m \u001b[0marray\u001b[0m\u001b[0;34m.\u001b[0m\u001b[0mastype\u001b[0m\u001b[0;34m(\u001b[0m\u001b[0mdtype\u001b[0m\u001b[0;34m,\u001b[0m \u001b[0mcasting\u001b[0m\u001b[0;34m=\u001b[0m\u001b[0;34m\"unsafe\"\u001b[0m\u001b[0;34m,\u001b[0m \u001b[0mcopy\u001b[0m\u001b[0;34m=\u001b[0m\u001b[0;32mFalse\u001b[0m\u001b[0;34m)\u001b[0m\u001b[0;34m\u001b[0m\u001b[0;34m\u001b[0m\u001b[0m\n\u001b[1;32m    530\u001b[0m                 \u001b[0;32melse\u001b[0m\u001b[0;34m:\u001b[0m\u001b[0;34m\u001b[0m\u001b[0;34m\u001b[0m\u001b[0m\n\u001b[0;32m--> 531\u001b[0;31m                     \u001b[0marray\u001b[0m \u001b[0;34m=\u001b[0m \u001b[0mnp\u001b[0m\u001b[0;34m.\u001b[0m\u001b[0masarray\u001b[0m\u001b[0;34m(\u001b[0m\u001b[0marray\u001b[0m\u001b[0;34m,\u001b[0m \u001b[0morder\u001b[0m\u001b[0;34m=\u001b[0m\u001b[0morder\u001b[0m\u001b[0;34m,\u001b[0m \u001b[0mdtype\u001b[0m\u001b[0;34m=\u001b[0m\u001b[0mdtype\u001b[0m\u001b[0;34m)\u001b[0m\u001b[0;34m\u001b[0m\u001b[0;34m\u001b[0m\u001b[0m\n\u001b[0m\u001b[1;32m    532\u001b[0m             \u001b[0;32mexcept\u001b[0m \u001b[0mComplexWarning\u001b[0m\u001b[0;34m:\u001b[0m\u001b[0;34m\u001b[0m\u001b[0;34m\u001b[0m\u001b[0m\n\u001b[1;32m    533\u001b[0m                 raise ValueError(\"Complex data not supported\\n\"\n",
            "\u001b[0;32m/usr/local/lib/python3.6/dist-packages/numpy/core/_asarray.py\u001b[0m in \u001b[0;36masarray\u001b[0;34m(a, dtype, order)\u001b[0m\n\u001b[1;32m     83\u001b[0m \u001b[0;34m\u001b[0m\u001b[0m\n\u001b[1;32m     84\u001b[0m     \"\"\"\n\u001b[0;32m---> 85\u001b[0;31m     \u001b[0;32mreturn\u001b[0m \u001b[0marray\u001b[0m\u001b[0;34m(\u001b[0m\u001b[0ma\u001b[0m\u001b[0;34m,\u001b[0m \u001b[0mdtype\u001b[0m\u001b[0;34m,\u001b[0m \u001b[0mcopy\u001b[0m\u001b[0;34m=\u001b[0m\u001b[0;32mFalse\u001b[0m\u001b[0;34m,\u001b[0m \u001b[0morder\u001b[0m\u001b[0;34m=\u001b[0m\u001b[0morder\u001b[0m\u001b[0;34m)\u001b[0m\u001b[0;34m\u001b[0m\u001b[0;34m\u001b[0m\u001b[0m\n\u001b[0m\u001b[1;32m     86\u001b[0m \u001b[0;34m\u001b[0m\u001b[0m\n\u001b[1;32m     87\u001b[0m \u001b[0;34m\u001b[0m\u001b[0m\n",
            "\u001b[0;31mValueError\u001b[0m: could not convert string to float: 'Sunny'"
          ]
        }
      ]
    },
    {
      "cell_type": "markdown",
      "metadata": {
        "id": "eiHHXv8n0c6U",
        "colab_type": "text"
      },
      "source": [
        "And we see that doesn't work. We get the error:\n",
        "\n",
        "```\n",
        "ValueError: could not convert string to float: 'Sunny'\n",
        "```\n",
        "\n",
        "We need to one-hot encode these categorical columns.  Here is how to convert the Outlook column. The steps are\n",
        "\n",
        "1. Create a new Dataframe of the one-hot encoded values for the Outlook column.\n",
        "2. Drop the Outlook column from the original Dataframe.\n",
        "3. Join the new one-hot encoded Dataframe to the original.\n",
        "\n",
        "#### 1. Create the new Dataframe"
      ]
    },
    {
      "cell_type": "code",
      "metadata": {
        "id": "Ygmr7rbP0c6U",
        "colab_type": "code",
        "colab": {
          "base_uri": "https://localhost:8080/",
          "height": 509
        },
        "outputId": "f291bcd9-940f-44dc-a1e9-e555b41ff024"
      },
      "source": [
        "one_hot = pd.get_dummies(bike['Outlook'])\n",
        "one_hot"
      ],
      "execution_count": 4,
      "outputs": [
        {
          "output_type": "execute_result",
          "data": {
            "text/html": [
              "<div>\n",
              "<style scoped>\n",
              "    .dataframe tbody tr th:only-of-type {\n",
              "        vertical-align: middle;\n",
              "    }\n",
              "\n",
              "    .dataframe tbody tr th {\n",
              "        vertical-align: top;\n",
              "    }\n",
              "\n",
              "    .dataframe thead th {\n",
              "        text-align: right;\n",
              "    }\n",
              "</style>\n",
              "<table border=\"1\" class=\"dataframe\">\n",
              "  <thead>\n",
              "    <tr style=\"text-align: right;\">\n",
              "      <th></th>\n",
              "      <th>Overcast</th>\n",
              "      <th>Rain</th>\n",
              "      <th>Sunny</th>\n",
              "    </tr>\n",
              "    <tr>\n",
              "      <th>Day</th>\n",
              "      <th></th>\n",
              "      <th></th>\n",
              "      <th></th>\n",
              "    </tr>\n",
              "  </thead>\n",
              "  <tbody>\n",
              "    <tr>\n",
              "      <th>1</th>\n",
              "      <td>0</td>\n",
              "      <td>0</td>\n",
              "      <td>1</td>\n",
              "    </tr>\n",
              "    <tr>\n",
              "      <th>2</th>\n",
              "      <td>0</td>\n",
              "      <td>0</td>\n",
              "      <td>1</td>\n",
              "    </tr>\n",
              "    <tr>\n",
              "      <th>3</th>\n",
              "      <td>1</td>\n",
              "      <td>0</td>\n",
              "      <td>0</td>\n",
              "    </tr>\n",
              "    <tr>\n",
              "      <th>4</th>\n",
              "      <td>0</td>\n",
              "      <td>1</td>\n",
              "      <td>0</td>\n",
              "    </tr>\n",
              "    <tr>\n",
              "      <th>5</th>\n",
              "      <td>0</td>\n",
              "      <td>1</td>\n",
              "      <td>0</td>\n",
              "    </tr>\n",
              "    <tr>\n",
              "      <th>6</th>\n",
              "      <td>0</td>\n",
              "      <td>1</td>\n",
              "      <td>0</td>\n",
              "    </tr>\n",
              "    <tr>\n",
              "      <th>7</th>\n",
              "      <td>1</td>\n",
              "      <td>0</td>\n",
              "      <td>0</td>\n",
              "    </tr>\n",
              "    <tr>\n",
              "      <th>8</th>\n",
              "      <td>0</td>\n",
              "      <td>0</td>\n",
              "      <td>1</td>\n",
              "    </tr>\n",
              "    <tr>\n",
              "      <th>9</th>\n",
              "      <td>0</td>\n",
              "      <td>0</td>\n",
              "      <td>1</td>\n",
              "    </tr>\n",
              "    <tr>\n",
              "      <th>10</th>\n",
              "      <td>0</td>\n",
              "      <td>1</td>\n",
              "      <td>0</td>\n",
              "    </tr>\n",
              "    <tr>\n",
              "      <th>11</th>\n",
              "      <td>0</td>\n",
              "      <td>0</td>\n",
              "      <td>1</td>\n",
              "    </tr>\n",
              "    <tr>\n",
              "      <th>12</th>\n",
              "      <td>1</td>\n",
              "      <td>0</td>\n",
              "      <td>0</td>\n",
              "    </tr>\n",
              "    <tr>\n",
              "      <th>13</th>\n",
              "      <td>1</td>\n",
              "      <td>0</td>\n",
              "      <td>0</td>\n",
              "    </tr>\n",
              "    <tr>\n",
              "      <th>14</th>\n",
              "      <td>0</td>\n",
              "      <td>1</td>\n",
              "      <td>0</td>\n",
              "    </tr>\n",
              "  </tbody>\n",
              "</table>\n",
              "</div>"
            ],
            "text/plain": [
              "     Overcast  Rain  Sunny\n",
              "Day                       \n",
              "1           0     0      1\n",
              "2           0     0      1\n",
              "3           1     0      0\n",
              "4           0     1      0\n",
              "5           0     1      0\n",
              "6           0     1      0\n",
              "7           1     0      0\n",
              "8           0     0      1\n",
              "9           0     0      1\n",
              "10          0     1      0\n",
              "11          0     0      1\n",
              "12          1     0      0\n",
              "13          1     0      0\n",
              "14          0     1      0"
            ]
          },
          "metadata": {
            "tags": []
          },
          "execution_count": 4
        }
      ]
    },
    {
      "cell_type": "markdown",
      "metadata": {
        "id": "aGiUBjZO0c6X",
        "colab_type": "text"
      },
      "source": [
        "Nice.\n",
        "\n",
        "#### 2. Drop the outlook column from the original Dataframe:\n"
      ]
    },
    {
      "cell_type": "code",
      "metadata": {
        "id": "UERRN2ND0c6X",
        "colab_type": "code",
        "colab": {}
      },
      "source": [
        "bike = bike.drop('Outlook', axis=1)\n"
      ],
      "execution_count": 5,
      "outputs": []
    },
    {
      "cell_type": "markdown",
      "metadata": {
        "id": "v9y48Ypf0c6Z",
        "colab_type": "text"
      },
      "source": [
        "#### 3. join the one-hot encoded Dataframe to the original"
      ]
    },
    {
      "cell_type": "code",
      "metadata": {
        "id": "qb7gs8Fz0c6Z",
        "colab_type": "code",
        "colab": {
          "base_uri": "https://localhost:8080/",
          "height": 509
        },
        "outputId": "fca66945-464a-4efe-df37-a10c642d8b92"
      },
      "source": [
        "bike = bike.join(one_hot)\n",
        "bike"
      ],
      "execution_count": 6,
      "outputs": [
        {
          "output_type": "execute_result",
          "data": {
            "text/html": [
              "<div>\n",
              "<style scoped>\n",
              "    .dataframe tbody tr th:only-of-type {\n",
              "        vertical-align: middle;\n",
              "    }\n",
              "\n",
              "    .dataframe tbody tr th {\n",
              "        vertical-align: top;\n",
              "    }\n",
              "\n",
              "    .dataframe thead th {\n",
              "        text-align: right;\n",
              "    }\n",
              "</style>\n",
              "<table border=\"1\" class=\"dataframe\">\n",
              "  <thead>\n",
              "    <tr style=\"text-align: right;\">\n",
              "      <th></th>\n",
              "      <th>Temperature</th>\n",
              "      <th>Humidity</th>\n",
              "      <th>Wind</th>\n",
              "      <th>Bike</th>\n",
              "      <th>Overcast</th>\n",
              "      <th>Rain</th>\n",
              "      <th>Sunny</th>\n",
              "    </tr>\n",
              "    <tr>\n",
              "      <th>Day</th>\n",
              "      <th></th>\n",
              "      <th></th>\n",
              "      <th></th>\n",
              "      <th></th>\n",
              "      <th></th>\n",
              "      <th></th>\n",
              "      <th></th>\n",
              "    </tr>\n",
              "  </thead>\n",
              "  <tbody>\n",
              "    <tr>\n",
              "      <th>1</th>\n",
              "      <td>Hot</td>\n",
              "      <td>High</td>\n",
              "      <td>Weak</td>\n",
              "      <td>No</td>\n",
              "      <td>0</td>\n",
              "      <td>0</td>\n",
              "      <td>1</td>\n",
              "    </tr>\n",
              "    <tr>\n",
              "      <th>2</th>\n",
              "      <td>Hot</td>\n",
              "      <td>High</td>\n",
              "      <td>Strong</td>\n",
              "      <td>No</td>\n",
              "      <td>0</td>\n",
              "      <td>0</td>\n",
              "      <td>1</td>\n",
              "    </tr>\n",
              "    <tr>\n",
              "      <th>3</th>\n",
              "      <td>Hot</td>\n",
              "      <td>High</td>\n",
              "      <td>Weak</td>\n",
              "      <td>Yes</td>\n",
              "      <td>1</td>\n",
              "      <td>0</td>\n",
              "      <td>0</td>\n",
              "    </tr>\n",
              "    <tr>\n",
              "      <th>4</th>\n",
              "      <td>Mild</td>\n",
              "      <td>High</td>\n",
              "      <td>Weak</td>\n",
              "      <td>Yes</td>\n",
              "      <td>0</td>\n",
              "      <td>1</td>\n",
              "      <td>0</td>\n",
              "    </tr>\n",
              "    <tr>\n",
              "      <th>5</th>\n",
              "      <td>Cool</td>\n",
              "      <td>Normal</td>\n",
              "      <td>Weak</td>\n",
              "      <td>Yes</td>\n",
              "      <td>0</td>\n",
              "      <td>1</td>\n",
              "      <td>0</td>\n",
              "    </tr>\n",
              "    <tr>\n",
              "      <th>6</th>\n",
              "      <td>Cool</td>\n",
              "      <td>Normal</td>\n",
              "      <td>Strong</td>\n",
              "      <td>No</td>\n",
              "      <td>0</td>\n",
              "      <td>1</td>\n",
              "      <td>0</td>\n",
              "    </tr>\n",
              "    <tr>\n",
              "      <th>7</th>\n",
              "      <td>Cool</td>\n",
              "      <td>Normal</td>\n",
              "      <td>Strong</td>\n",
              "      <td>Yes</td>\n",
              "      <td>1</td>\n",
              "      <td>0</td>\n",
              "      <td>0</td>\n",
              "    </tr>\n",
              "    <tr>\n",
              "      <th>8</th>\n",
              "      <td>Mild</td>\n",
              "      <td>High</td>\n",
              "      <td>Weak</td>\n",
              "      <td>No</td>\n",
              "      <td>0</td>\n",
              "      <td>0</td>\n",
              "      <td>1</td>\n",
              "    </tr>\n",
              "    <tr>\n",
              "      <th>9</th>\n",
              "      <td>Cool</td>\n",
              "      <td>Normal</td>\n",
              "      <td>Weak</td>\n",
              "      <td>Yes</td>\n",
              "      <td>0</td>\n",
              "      <td>0</td>\n",
              "      <td>1</td>\n",
              "    </tr>\n",
              "    <tr>\n",
              "      <th>10</th>\n",
              "      <td>Mild</td>\n",
              "      <td>Normal</td>\n",
              "      <td>Weak</td>\n",
              "      <td>Yes</td>\n",
              "      <td>0</td>\n",
              "      <td>1</td>\n",
              "      <td>0</td>\n",
              "    </tr>\n",
              "    <tr>\n",
              "      <th>11</th>\n",
              "      <td>Mild</td>\n",
              "      <td>Normal</td>\n",
              "      <td>Strong</td>\n",
              "      <td>Yes</td>\n",
              "      <td>0</td>\n",
              "      <td>0</td>\n",
              "      <td>1</td>\n",
              "    </tr>\n",
              "    <tr>\n",
              "      <th>12</th>\n",
              "      <td>Mild</td>\n",
              "      <td>High</td>\n",
              "      <td>Strong</td>\n",
              "      <td>Yes</td>\n",
              "      <td>1</td>\n",
              "      <td>0</td>\n",
              "      <td>0</td>\n",
              "    </tr>\n",
              "    <tr>\n",
              "      <th>13</th>\n",
              "      <td>Hot</td>\n",
              "      <td>Normal</td>\n",
              "      <td>Weak</td>\n",
              "      <td>Yes</td>\n",
              "      <td>1</td>\n",
              "      <td>0</td>\n",
              "      <td>0</td>\n",
              "    </tr>\n",
              "    <tr>\n",
              "      <th>14</th>\n",
              "      <td>Mild</td>\n",
              "      <td>High</td>\n",
              "      <td>Strong</td>\n",
              "      <td>No</td>\n",
              "      <td>0</td>\n",
              "      <td>1</td>\n",
              "      <td>0</td>\n",
              "    </tr>\n",
              "  </tbody>\n",
              "</table>\n",
              "</div>"
            ],
            "text/plain": [
              "    Temperature Humidity    Wind Bike  Overcast  Rain  Sunny\n",
              "Day                                                         \n",
              "1           Hot     High    Weak   No         0     0      1\n",
              "2           Hot     High  Strong   No         0     0      1\n",
              "3           Hot     High    Weak  Yes         1     0      0\n",
              "4          Mild     High    Weak  Yes         0     1      0\n",
              "5          Cool   Normal    Weak  Yes         0     1      0\n",
              "6          Cool   Normal  Strong   No         0     1      0\n",
              "7          Cool   Normal  Strong  Yes         1     0      0\n",
              "8          Mild     High    Weak   No         0     0      1\n",
              "9          Cool   Normal    Weak  Yes         0     0      1\n",
              "10         Mild   Normal    Weak  Yes         0     1      0\n",
              "11         Mild   Normal  Strong  Yes         0     0      1\n",
              "12         Mild     High  Strong  Yes         1     0      0\n",
              "13          Hot   Normal    Weak  Yes         1     0      0\n",
              "14         Mild     High  Strong   No         0     1      0"
            ]
          },
          "metadata": {
            "tags": []
          },
          "execution_count": 6
        }
      ]
    },
    {
      "cell_type": "markdown",
      "metadata": {
        "id": "1T-JzzC_0c6c",
        "colab_type": "text"
      },
      "source": [
        "It is simple, but a little tedious. Let's finish up encoding the other columns:\n"
      ]
    },
    {
      "cell_type": "code",
      "metadata": {
        "id": "xH8Pqeqp0c6c",
        "colab_type": "code",
        "colab": {
          "base_uri": "https://localhost:8080/",
          "height": 509
        },
        "outputId": "973e9b1d-4084-4503-d263-f835e79f2fcb"
      },
      "source": [
        "one_hot = pd.get_dummies(bike['Temperature'])\n",
        "bike = bike.drop('Temperature', axis=1)\n",
        "bike = bike.join(one_hot)\n",
        "one_hot = pd.get_dummies(bike['Humidity'])\n",
        "bike = bike.drop('Humidity', axis=1)\n",
        "bike = bike.join(one_hot)\n",
        "one_hot = pd.get_dummies(bike['Wind'])\n",
        "bike = bike.drop('Wind', axis=1)\n",
        "bike = bike.join(one_hot)\n",
        "\n",
        "bike"
      ],
      "execution_count": 7,
      "outputs": [
        {
          "output_type": "execute_result",
          "data": {
            "text/html": [
              "<div>\n",
              "<style scoped>\n",
              "    .dataframe tbody tr th:only-of-type {\n",
              "        vertical-align: middle;\n",
              "    }\n",
              "\n",
              "    .dataframe tbody tr th {\n",
              "        vertical-align: top;\n",
              "    }\n",
              "\n",
              "    .dataframe thead th {\n",
              "        text-align: right;\n",
              "    }\n",
              "</style>\n",
              "<table border=\"1\" class=\"dataframe\">\n",
              "  <thead>\n",
              "    <tr style=\"text-align: right;\">\n",
              "      <th></th>\n",
              "      <th>Bike</th>\n",
              "      <th>Overcast</th>\n",
              "      <th>Rain</th>\n",
              "      <th>Sunny</th>\n",
              "      <th>Cool</th>\n",
              "      <th>Hot</th>\n",
              "      <th>Mild</th>\n",
              "      <th>High</th>\n",
              "      <th>Normal</th>\n",
              "      <th>Strong</th>\n",
              "      <th>Weak</th>\n",
              "    </tr>\n",
              "    <tr>\n",
              "      <th>Day</th>\n",
              "      <th></th>\n",
              "      <th></th>\n",
              "      <th></th>\n",
              "      <th></th>\n",
              "      <th></th>\n",
              "      <th></th>\n",
              "      <th></th>\n",
              "      <th></th>\n",
              "      <th></th>\n",
              "      <th></th>\n",
              "      <th></th>\n",
              "    </tr>\n",
              "  </thead>\n",
              "  <tbody>\n",
              "    <tr>\n",
              "      <th>1</th>\n",
              "      <td>No</td>\n",
              "      <td>0</td>\n",
              "      <td>0</td>\n",
              "      <td>1</td>\n",
              "      <td>0</td>\n",
              "      <td>1</td>\n",
              "      <td>0</td>\n",
              "      <td>1</td>\n",
              "      <td>0</td>\n",
              "      <td>0</td>\n",
              "      <td>1</td>\n",
              "    </tr>\n",
              "    <tr>\n",
              "      <th>2</th>\n",
              "      <td>No</td>\n",
              "      <td>0</td>\n",
              "      <td>0</td>\n",
              "      <td>1</td>\n",
              "      <td>0</td>\n",
              "      <td>1</td>\n",
              "      <td>0</td>\n",
              "      <td>1</td>\n",
              "      <td>0</td>\n",
              "      <td>1</td>\n",
              "      <td>0</td>\n",
              "    </tr>\n",
              "    <tr>\n",
              "      <th>3</th>\n",
              "      <td>Yes</td>\n",
              "      <td>1</td>\n",
              "      <td>0</td>\n",
              "      <td>0</td>\n",
              "      <td>0</td>\n",
              "      <td>1</td>\n",
              "      <td>0</td>\n",
              "      <td>1</td>\n",
              "      <td>0</td>\n",
              "      <td>0</td>\n",
              "      <td>1</td>\n",
              "    </tr>\n",
              "    <tr>\n",
              "      <th>4</th>\n",
              "      <td>Yes</td>\n",
              "      <td>0</td>\n",
              "      <td>1</td>\n",
              "      <td>0</td>\n",
              "      <td>0</td>\n",
              "      <td>0</td>\n",
              "      <td>1</td>\n",
              "      <td>1</td>\n",
              "      <td>0</td>\n",
              "      <td>0</td>\n",
              "      <td>1</td>\n",
              "    </tr>\n",
              "    <tr>\n",
              "      <th>5</th>\n",
              "      <td>Yes</td>\n",
              "      <td>0</td>\n",
              "      <td>1</td>\n",
              "      <td>0</td>\n",
              "      <td>1</td>\n",
              "      <td>0</td>\n",
              "      <td>0</td>\n",
              "      <td>0</td>\n",
              "      <td>1</td>\n",
              "      <td>0</td>\n",
              "      <td>1</td>\n",
              "    </tr>\n",
              "    <tr>\n",
              "      <th>6</th>\n",
              "      <td>No</td>\n",
              "      <td>0</td>\n",
              "      <td>1</td>\n",
              "      <td>0</td>\n",
              "      <td>1</td>\n",
              "      <td>0</td>\n",
              "      <td>0</td>\n",
              "      <td>0</td>\n",
              "      <td>1</td>\n",
              "      <td>1</td>\n",
              "      <td>0</td>\n",
              "    </tr>\n",
              "    <tr>\n",
              "      <th>7</th>\n",
              "      <td>Yes</td>\n",
              "      <td>1</td>\n",
              "      <td>0</td>\n",
              "      <td>0</td>\n",
              "      <td>1</td>\n",
              "      <td>0</td>\n",
              "      <td>0</td>\n",
              "      <td>0</td>\n",
              "      <td>1</td>\n",
              "      <td>1</td>\n",
              "      <td>0</td>\n",
              "    </tr>\n",
              "    <tr>\n",
              "      <th>8</th>\n",
              "      <td>No</td>\n",
              "      <td>0</td>\n",
              "      <td>0</td>\n",
              "      <td>1</td>\n",
              "      <td>0</td>\n",
              "      <td>0</td>\n",
              "      <td>1</td>\n",
              "      <td>1</td>\n",
              "      <td>0</td>\n",
              "      <td>0</td>\n",
              "      <td>1</td>\n",
              "    </tr>\n",
              "    <tr>\n",
              "      <th>9</th>\n",
              "      <td>Yes</td>\n",
              "      <td>0</td>\n",
              "      <td>0</td>\n",
              "      <td>1</td>\n",
              "      <td>1</td>\n",
              "      <td>0</td>\n",
              "      <td>0</td>\n",
              "      <td>0</td>\n",
              "      <td>1</td>\n",
              "      <td>0</td>\n",
              "      <td>1</td>\n",
              "    </tr>\n",
              "    <tr>\n",
              "      <th>10</th>\n",
              "      <td>Yes</td>\n",
              "      <td>0</td>\n",
              "      <td>1</td>\n",
              "      <td>0</td>\n",
              "      <td>0</td>\n",
              "      <td>0</td>\n",
              "      <td>1</td>\n",
              "      <td>0</td>\n",
              "      <td>1</td>\n",
              "      <td>0</td>\n",
              "      <td>1</td>\n",
              "    </tr>\n",
              "    <tr>\n",
              "      <th>11</th>\n",
              "      <td>Yes</td>\n",
              "      <td>0</td>\n",
              "      <td>0</td>\n",
              "      <td>1</td>\n",
              "      <td>0</td>\n",
              "      <td>0</td>\n",
              "      <td>1</td>\n",
              "      <td>0</td>\n",
              "      <td>1</td>\n",
              "      <td>1</td>\n",
              "      <td>0</td>\n",
              "    </tr>\n",
              "    <tr>\n",
              "      <th>12</th>\n",
              "      <td>Yes</td>\n",
              "      <td>1</td>\n",
              "      <td>0</td>\n",
              "      <td>0</td>\n",
              "      <td>0</td>\n",
              "      <td>0</td>\n",
              "      <td>1</td>\n",
              "      <td>1</td>\n",
              "      <td>0</td>\n",
              "      <td>1</td>\n",
              "      <td>0</td>\n",
              "    </tr>\n",
              "    <tr>\n",
              "      <th>13</th>\n",
              "      <td>Yes</td>\n",
              "      <td>1</td>\n",
              "      <td>0</td>\n",
              "      <td>0</td>\n",
              "      <td>0</td>\n",
              "      <td>1</td>\n",
              "      <td>0</td>\n",
              "      <td>0</td>\n",
              "      <td>1</td>\n",
              "      <td>0</td>\n",
              "      <td>1</td>\n",
              "    </tr>\n",
              "    <tr>\n",
              "      <th>14</th>\n",
              "      <td>No</td>\n",
              "      <td>0</td>\n",
              "      <td>1</td>\n",
              "      <td>0</td>\n",
              "      <td>0</td>\n",
              "      <td>0</td>\n",
              "      <td>1</td>\n",
              "      <td>1</td>\n",
              "      <td>0</td>\n",
              "      <td>1</td>\n",
              "      <td>0</td>\n",
              "    </tr>\n",
              "  </tbody>\n",
              "</table>\n",
              "</div>"
            ],
            "text/plain": [
              "    Bike  Overcast  Rain  Sunny  Cool  Hot  Mild  High  Normal  Strong  Weak\n",
              "Day                                                                         \n",
              "1     No         0     0      1     0    1     0     1       0       0     1\n",
              "2     No         0     0      1     0    1     0     1       0       1     0\n",
              "3    Yes         1     0      0     0    1     0     1       0       0     1\n",
              "4    Yes         0     1      0     0    0     1     1       0       0     1\n",
              "5    Yes         0     1      0     1    0     0     0       1       0     1\n",
              "6     No         0     1      0     1    0     0     0       1       1     0\n",
              "7    Yes         1     0      0     1    0     0     0       1       1     0\n",
              "8     No         0     0      1     0    0     1     1       0       0     1\n",
              "9    Yes         0     0      1     1    0     0     0       1       0     1\n",
              "10   Yes         0     1      0     0    0     1     0       1       0     1\n",
              "11   Yes         0     0      1     0    0     1     0       1       1     0\n",
              "12   Yes         1     0      0     0    0     1     1       0       1     0\n",
              "13   Yes         1     0      0     0    1     0     0       1       0     1\n",
              "14    No         0     1      0     0    0     1     1       0       1     0"
            ]
          },
          "metadata": {
            "tags": []
          },
          "execution_count": 7
        }
      ]
    },
    {
      "cell_type": "markdown",
      "metadata": {
        "id": "T4T8kkUJ0c6f",
        "colab_type": "text"
      },
      "source": [
        "Great! Now we can train our classifier. I will just cut and paste the previous `clf.fit` and ..."
      ]
    },
    {
      "cell_type": "code",
      "metadata": {
        "id": "L_zrUqHu0c6g",
        "colab_type": "code",
        "colab": {
          "base_uri": "https://localhost:8080/",
          "height": 311
        },
        "outputId": "11d433c9-7a39-4f74-c975-a08f86f31eaa"
      },
      "source": [
        "clf.fit(bike[['Outlook', 'Temperature', 'Humidity', 'Wind']], bike['Bike'])"
      ],
      "execution_count": 8,
      "outputs": [
        {
          "output_type": "error",
          "ename": "KeyError",
          "evalue": "ignored",
          "traceback": [
            "\u001b[0;31m---------------------------------------------------------------------------\u001b[0m",
            "\u001b[0;31mKeyError\u001b[0m                                  Traceback (most recent call last)",
            "\u001b[0;32m<ipython-input-8-59c365bdc44e>\u001b[0m in \u001b[0;36m<module>\u001b[0;34m()\u001b[0m\n\u001b[0;32m----> 1\u001b[0;31m \u001b[0mclf\u001b[0m\u001b[0;34m.\u001b[0m\u001b[0mfit\u001b[0m\u001b[0;34m(\u001b[0m\u001b[0mbike\u001b[0m\u001b[0;34m[\u001b[0m\u001b[0;34m[\u001b[0m\u001b[0;34m'Outlook'\u001b[0m\u001b[0;34m,\u001b[0m \u001b[0;34m'Temperature'\u001b[0m\u001b[0;34m,\u001b[0m \u001b[0;34m'Humidity'\u001b[0m\u001b[0;34m,\u001b[0m \u001b[0;34m'Wind'\u001b[0m\u001b[0;34m]\u001b[0m\u001b[0;34m]\u001b[0m\u001b[0;34m,\u001b[0m \u001b[0mbike\u001b[0m\u001b[0;34m[\u001b[0m\u001b[0;34m'Bike'\u001b[0m\u001b[0;34m]\u001b[0m\u001b[0;34m)\u001b[0m\u001b[0;34m\u001b[0m\u001b[0;34m\u001b[0m\u001b[0m\n\u001b[0m",
            "\u001b[0;32m/usr/local/lib/python3.6/dist-packages/pandas/core/frame.py\u001b[0m in \u001b[0;36m__getitem__\u001b[0;34m(self, key)\u001b[0m\n\u001b[1;32m   2804\u001b[0m             \u001b[0;32mif\u001b[0m \u001b[0mis_iterator\u001b[0m\u001b[0;34m(\u001b[0m\u001b[0mkey\u001b[0m\u001b[0;34m)\u001b[0m\u001b[0;34m:\u001b[0m\u001b[0;34m\u001b[0m\u001b[0;34m\u001b[0m\u001b[0m\n\u001b[1;32m   2805\u001b[0m                 \u001b[0mkey\u001b[0m \u001b[0;34m=\u001b[0m \u001b[0mlist\u001b[0m\u001b[0;34m(\u001b[0m\u001b[0mkey\u001b[0m\u001b[0;34m)\u001b[0m\u001b[0;34m\u001b[0m\u001b[0;34m\u001b[0m\u001b[0m\n\u001b[0;32m-> 2806\u001b[0;31m             \u001b[0mindexer\u001b[0m \u001b[0;34m=\u001b[0m \u001b[0mself\u001b[0m\u001b[0;34m.\u001b[0m\u001b[0mloc\u001b[0m\u001b[0;34m.\u001b[0m\u001b[0m_get_listlike_indexer\u001b[0m\u001b[0;34m(\u001b[0m\u001b[0mkey\u001b[0m\u001b[0;34m,\u001b[0m \u001b[0maxis\u001b[0m\u001b[0;34m=\u001b[0m\u001b[0;36m1\u001b[0m\u001b[0;34m,\u001b[0m \u001b[0mraise_missing\u001b[0m\u001b[0;34m=\u001b[0m\u001b[0;32mTrue\u001b[0m\u001b[0;34m)\u001b[0m\u001b[0;34m[\u001b[0m\u001b[0;36m1\u001b[0m\u001b[0;34m]\u001b[0m\u001b[0;34m\u001b[0m\u001b[0;34m\u001b[0m\u001b[0m\n\u001b[0m\u001b[1;32m   2807\u001b[0m \u001b[0;34m\u001b[0m\u001b[0m\n\u001b[1;32m   2808\u001b[0m         \u001b[0;31m# take() does not accept boolean indexers\u001b[0m\u001b[0;34m\u001b[0m\u001b[0;34m\u001b[0m\u001b[0;34m\u001b[0m\u001b[0m\n",
            "\u001b[0;32m/usr/local/lib/python3.6/dist-packages/pandas/core/indexing.py\u001b[0m in \u001b[0;36m_get_listlike_indexer\u001b[0;34m(self, key, axis, raise_missing)\u001b[0m\n\u001b[1;32m   1551\u001b[0m \u001b[0;34m\u001b[0m\u001b[0m\n\u001b[1;32m   1552\u001b[0m         self._validate_read_indexer(\n\u001b[0;32m-> 1553\u001b[0;31m             \u001b[0mkeyarr\u001b[0m\u001b[0;34m,\u001b[0m \u001b[0mindexer\u001b[0m\u001b[0;34m,\u001b[0m \u001b[0mo\u001b[0m\u001b[0;34m.\u001b[0m\u001b[0m_get_axis_number\u001b[0m\u001b[0;34m(\u001b[0m\u001b[0maxis\u001b[0m\u001b[0;34m)\u001b[0m\u001b[0;34m,\u001b[0m \u001b[0mraise_missing\u001b[0m\u001b[0;34m=\u001b[0m\u001b[0mraise_missing\u001b[0m\u001b[0;34m\u001b[0m\u001b[0;34m\u001b[0m\u001b[0m\n\u001b[0m\u001b[1;32m   1554\u001b[0m         )\n\u001b[1;32m   1555\u001b[0m         \u001b[0;32mreturn\u001b[0m \u001b[0mkeyarr\u001b[0m\u001b[0;34m,\u001b[0m \u001b[0mindexer\u001b[0m\u001b[0;34m\u001b[0m\u001b[0;34m\u001b[0m\u001b[0m\n",
            "\u001b[0;32m/usr/local/lib/python3.6/dist-packages/pandas/core/indexing.py\u001b[0m in \u001b[0;36m_validate_read_indexer\u001b[0;34m(self, key, indexer, axis, raise_missing)\u001b[0m\n\u001b[1;32m   1638\u001b[0m             \u001b[0;32mif\u001b[0m \u001b[0mmissing\u001b[0m \u001b[0;34m==\u001b[0m \u001b[0mlen\u001b[0m\u001b[0;34m(\u001b[0m\u001b[0mindexer\u001b[0m\u001b[0;34m)\u001b[0m\u001b[0;34m:\u001b[0m\u001b[0;34m\u001b[0m\u001b[0;34m\u001b[0m\u001b[0m\n\u001b[1;32m   1639\u001b[0m                 \u001b[0maxis_name\u001b[0m \u001b[0;34m=\u001b[0m \u001b[0mself\u001b[0m\u001b[0;34m.\u001b[0m\u001b[0mobj\u001b[0m\u001b[0;34m.\u001b[0m\u001b[0m_get_axis_name\u001b[0m\u001b[0;34m(\u001b[0m\u001b[0maxis\u001b[0m\u001b[0;34m)\u001b[0m\u001b[0;34m\u001b[0m\u001b[0;34m\u001b[0m\u001b[0m\n\u001b[0;32m-> 1640\u001b[0;31m                 \u001b[0;32mraise\u001b[0m \u001b[0mKeyError\u001b[0m\u001b[0;34m(\u001b[0m\u001b[0;34mf\"None of [{key}] are in the [{axis_name}]\"\u001b[0m\u001b[0;34m)\u001b[0m\u001b[0;34m\u001b[0m\u001b[0;34m\u001b[0m\u001b[0m\n\u001b[0m\u001b[1;32m   1641\u001b[0m \u001b[0;34m\u001b[0m\u001b[0m\n\u001b[1;32m   1642\u001b[0m             \u001b[0;31m# We (temporarily) allow for some missing keys with .loc, except in\u001b[0m\u001b[0;34m\u001b[0m\u001b[0;34m\u001b[0m\u001b[0;34m\u001b[0m\u001b[0m\n",
            "\u001b[0;31mKeyError\u001b[0m: \"None of [Index(['Outlook', 'Temperature', 'Humidity', 'Wind'], dtype='object')] are in the [columns]\""
          ]
        }
      ]
    },
    {
      "cell_type": "markdown",
      "metadata": {
        "id": "NAmLvtys0c6i",
        "colab_type": "text"
      },
      "source": [
        "Well that didn't work. The clf.fit instruction was\n",
        "\n",
        "```\n",
        "clf.fit(bike[['Outlook', 'Temperature', 'Humidity', 'Wind']], bike['Bike'])\n",
        "```\n",
        "So we instruct it to use the Outlook, Temperature, Humidity, and Wind columns, but we just deleted them. Instead we have the following columns:"
      ]
    },
    {
      "cell_type": "code",
      "metadata": {
        "id": "pVBgkCFD0c6i",
        "colab_type": "code",
        "colab": {
          "base_uri": "https://localhost:8080/",
          "height": 208
        },
        "outputId": "96819b65-4942-4167-bd5a-37d77516a8cc"
      },
      "source": [
        "list(bike.columns)"
      ],
      "execution_count": 9,
      "outputs": [
        {
          "output_type": "execute_result",
          "data": {
            "text/plain": [
              "['Bike',\n",
              " 'Overcast',\n",
              " 'Rain',\n",
              " 'Sunny',\n",
              " 'Cool',\n",
              " 'Hot',\n",
              " 'Mild',\n",
              " 'High',\n",
              " 'Normal',\n",
              " 'Strong',\n",
              " 'Weak']"
            ]
          },
          "metadata": {
            "tags": []
          },
          "execution_count": 9
        }
      ]
    },
    {
      "cell_type": "markdown",
      "metadata": {
        "id": "NUyxzZlN0c6k",
        "colab_type": "text"
      },
      "source": [
        "Using that list let's divide up our data into the label (what we are trying to predict) and the features (what we are using to make the prediction)."
      ]
    },
    {
      "cell_type": "code",
      "metadata": {
        "id": "w-xybz0J0c6l",
        "colab_type": "code",
        "colab": {
          "base_uri": "https://localhost:8080/",
          "height": 509
        },
        "outputId": "73187cdf-1499-4ca3-ee60-6d7c52102ba8"
      },
      "source": [
        "fColumns = list(bike.columns)\n",
        "fColumns.remove('Bike')\n",
        "bike_features = bike[fColumns]\n",
        "bike_features"
      ],
      "execution_count": 10,
      "outputs": [
        {
          "output_type": "execute_result",
          "data": {
            "text/html": [
              "<div>\n",
              "<style scoped>\n",
              "    .dataframe tbody tr th:only-of-type {\n",
              "        vertical-align: middle;\n",
              "    }\n",
              "\n",
              "    .dataframe tbody tr th {\n",
              "        vertical-align: top;\n",
              "    }\n",
              "\n",
              "    .dataframe thead th {\n",
              "        text-align: right;\n",
              "    }\n",
              "</style>\n",
              "<table border=\"1\" class=\"dataframe\">\n",
              "  <thead>\n",
              "    <tr style=\"text-align: right;\">\n",
              "      <th></th>\n",
              "      <th>Overcast</th>\n",
              "      <th>Rain</th>\n",
              "      <th>Sunny</th>\n",
              "      <th>Cool</th>\n",
              "      <th>Hot</th>\n",
              "      <th>Mild</th>\n",
              "      <th>High</th>\n",
              "      <th>Normal</th>\n",
              "      <th>Strong</th>\n",
              "      <th>Weak</th>\n",
              "    </tr>\n",
              "    <tr>\n",
              "      <th>Day</th>\n",
              "      <th></th>\n",
              "      <th></th>\n",
              "      <th></th>\n",
              "      <th></th>\n",
              "      <th></th>\n",
              "      <th></th>\n",
              "      <th></th>\n",
              "      <th></th>\n",
              "      <th></th>\n",
              "      <th></th>\n",
              "    </tr>\n",
              "  </thead>\n",
              "  <tbody>\n",
              "    <tr>\n",
              "      <th>1</th>\n",
              "      <td>0</td>\n",
              "      <td>0</td>\n",
              "      <td>1</td>\n",
              "      <td>0</td>\n",
              "      <td>1</td>\n",
              "      <td>0</td>\n",
              "      <td>1</td>\n",
              "      <td>0</td>\n",
              "      <td>0</td>\n",
              "      <td>1</td>\n",
              "    </tr>\n",
              "    <tr>\n",
              "      <th>2</th>\n",
              "      <td>0</td>\n",
              "      <td>0</td>\n",
              "      <td>1</td>\n",
              "      <td>0</td>\n",
              "      <td>1</td>\n",
              "      <td>0</td>\n",
              "      <td>1</td>\n",
              "      <td>0</td>\n",
              "      <td>1</td>\n",
              "      <td>0</td>\n",
              "    </tr>\n",
              "    <tr>\n",
              "      <th>3</th>\n",
              "      <td>1</td>\n",
              "      <td>0</td>\n",
              "      <td>0</td>\n",
              "      <td>0</td>\n",
              "      <td>1</td>\n",
              "      <td>0</td>\n",
              "      <td>1</td>\n",
              "      <td>0</td>\n",
              "      <td>0</td>\n",
              "      <td>1</td>\n",
              "    </tr>\n",
              "    <tr>\n",
              "      <th>4</th>\n",
              "      <td>0</td>\n",
              "      <td>1</td>\n",
              "      <td>0</td>\n",
              "      <td>0</td>\n",
              "      <td>0</td>\n",
              "      <td>1</td>\n",
              "      <td>1</td>\n",
              "      <td>0</td>\n",
              "      <td>0</td>\n",
              "      <td>1</td>\n",
              "    </tr>\n",
              "    <tr>\n",
              "      <th>5</th>\n",
              "      <td>0</td>\n",
              "      <td>1</td>\n",
              "      <td>0</td>\n",
              "      <td>1</td>\n",
              "      <td>0</td>\n",
              "      <td>0</td>\n",
              "      <td>0</td>\n",
              "      <td>1</td>\n",
              "      <td>0</td>\n",
              "      <td>1</td>\n",
              "    </tr>\n",
              "    <tr>\n",
              "      <th>6</th>\n",
              "      <td>0</td>\n",
              "      <td>1</td>\n",
              "      <td>0</td>\n",
              "      <td>1</td>\n",
              "      <td>0</td>\n",
              "      <td>0</td>\n",
              "      <td>0</td>\n",
              "      <td>1</td>\n",
              "      <td>1</td>\n",
              "      <td>0</td>\n",
              "    </tr>\n",
              "    <tr>\n",
              "      <th>7</th>\n",
              "      <td>1</td>\n",
              "      <td>0</td>\n",
              "      <td>0</td>\n",
              "      <td>1</td>\n",
              "      <td>0</td>\n",
              "      <td>0</td>\n",
              "      <td>0</td>\n",
              "      <td>1</td>\n",
              "      <td>1</td>\n",
              "      <td>0</td>\n",
              "    </tr>\n",
              "    <tr>\n",
              "      <th>8</th>\n",
              "      <td>0</td>\n",
              "      <td>0</td>\n",
              "      <td>1</td>\n",
              "      <td>0</td>\n",
              "      <td>0</td>\n",
              "      <td>1</td>\n",
              "      <td>1</td>\n",
              "      <td>0</td>\n",
              "      <td>0</td>\n",
              "      <td>1</td>\n",
              "    </tr>\n",
              "    <tr>\n",
              "      <th>9</th>\n",
              "      <td>0</td>\n",
              "      <td>0</td>\n",
              "      <td>1</td>\n",
              "      <td>1</td>\n",
              "      <td>0</td>\n",
              "      <td>0</td>\n",
              "      <td>0</td>\n",
              "      <td>1</td>\n",
              "      <td>0</td>\n",
              "      <td>1</td>\n",
              "    </tr>\n",
              "    <tr>\n",
              "      <th>10</th>\n",
              "      <td>0</td>\n",
              "      <td>1</td>\n",
              "      <td>0</td>\n",
              "      <td>0</td>\n",
              "      <td>0</td>\n",
              "      <td>1</td>\n",
              "      <td>0</td>\n",
              "      <td>1</td>\n",
              "      <td>0</td>\n",
              "      <td>1</td>\n",
              "    </tr>\n",
              "    <tr>\n",
              "      <th>11</th>\n",
              "      <td>0</td>\n",
              "      <td>0</td>\n",
              "      <td>1</td>\n",
              "      <td>0</td>\n",
              "      <td>0</td>\n",
              "      <td>1</td>\n",
              "      <td>0</td>\n",
              "      <td>1</td>\n",
              "      <td>1</td>\n",
              "      <td>0</td>\n",
              "    </tr>\n",
              "    <tr>\n",
              "      <th>12</th>\n",
              "      <td>1</td>\n",
              "      <td>0</td>\n",
              "      <td>0</td>\n",
              "      <td>0</td>\n",
              "      <td>0</td>\n",
              "      <td>1</td>\n",
              "      <td>1</td>\n",
              "      <td>0</td>\n",
              "      <td>1</td>\n",
              "      <td>0</td>\n",
              "    </tr>\n",
              "    <tr>\n",
              "      <th>13</th>\n",
              "      <td>1</td>\n",
              "      <td>0</td>\n",
              "      <td>0</td>\n",
              "      <td>0</td>\n",
              "      <td>1</td>\n",
              "      <td>0</td>\n",
              "      <td>0</td>\n",
              "      <td>1</td>\n",
              "      <td>0</td>\n",
              "      <td>1</td>\n",
              "    </tr>\n",
              "    <tr>\n",
              "      <th>14</th>\n",
              "      <td>0</td>\n",
              "      <td>1</td>\n",
              "      <td>0</td>\n",
              "      <td>0</td>\n",
              "      <td>0</td>\n",
              "      <td>1</td>\n",
              "      <td>1</td>\n",
              "      <td>0</td>\n",
              "      <td>1</td>\n",
              "      <td>0</td>\n",
              "    </tr>\n",
              "  </tbody>\n",
              "</table>\n",
              "</div>"
            ],
            "text/plain": [
              "     Overcast  Rain  Sunny  Cool  Hot  Mild  High  Normal  Strong  Weak\n",
              "Day                                                                    \n",
              "1           0     0      1     0    1     0     1       0       0     1\n",
              "2           0     0      1     0    1     0     1       0       1     0\n",
              "3           1     0      0     0    1     0     1       0       0     1\n",
              "4           0     1      0     0    0     1     1       0       0     1\n",
              "5           0     1      0     1    0     0     0       1       0     1\n",
              "6           0     1      0     1    0     0     0       1       1     0\n",
              "7           1     0      0     1    0     0     0       1       1     0\n",
              "8           0     0      1     0    0     1     1       0       0     1\n",
              "9           0     0      1     1    0     0     0       1       0     1\n",
              "10          0     1      0     0    0     1     0       1       0     1\n",
              "11          0     0      1     0    0     1     0       1       1     0\n",
              "12          1     0      0     0    0     1     1       0       1     0\n",
              "13          1     0      0     0    1     0     0       1       0     1\n",
              "14          0     1      0     0    0     1     1       0       1     0"
            ]
          },
          "metadata": {
            "tags": []
          },
          "execution_count": 10
        }
      ]
    },
    {
      "cell_type": "markdown",
      "metadata": {
        "id": "uI_JY6ep0c6n",
        "colab_type": "text"
      },
      "source": [
        "and now the label:"
      ]
    },
    {
      "cell_type": "code",
      "metadata": {
        "scrolled": true,
        "id": "2evdG_Kn0c6o",
        "colab_type": "code",
        "colab": {
          "base_uri": "https://localhost:8080/",
          "height": 509
        },
        "outputId": "f80a9703-e293-4125-fe1c-1b454b780272"
      },
      "source": [
        "bike_labels = bike[['Bike']]\n",
        "bike_labels"
      ],
      "execution_count": 11,
      "outputs": [
        {
          "output_type": "execute_result",
          "data": {
            "text/html": [
              "<div>\n",
              "<style scoped>\n",
              "    .dataframe tbody tr th:only-of-type {\n",
              "        vertical-align: middle;\n",
              "    }\n",
              "\n",
              "    .dataframe tbody tr th {\n",
              "        vertical-align: top;\n",
              "    }\n",
              "\n",
              "    .dataframe thead th {\n",
              "        text-align: right;\n",
              "    }\n",
              "</style>\n",
              "<table border=\"1\" class=\"dataframe\">\n",
              "  <thead>\n",
              "    <tr style=\"text-align: right;\">\n",
              "      <th></th>\n",
              "      <th>Bike</th>\n",
              "    </tr>\n",
              "    <tr>\n",
              "      <th>Day</th>\n",
              "      <th></th>\n",
              "    </tr>\n",
              "  </thead>\n",
              "  <tbody>\n",
              "    <tr>\n",
              "      <th>1</th>\n",
              "      <td>No</td>\n",
              "    </tr>\n",
              "    <tr>\n",
              "      <th>2</th>\n",
              "      <td>No</td>\n",
              "    </tr>\n",
              "    <tr>\n",
              "      <th>3</th>\n",
              "      <td>Yes</td>\n",
              "    </tr>\n",
              "    <tr>\n",
              "      <th>4</th>\n",
              "      <td>Yes</td>\n",
              "    </tr>\n",
              "    <tr>\n",
              "      <th>5</th>\n",
              "      <td>Yes</td>\n",
              "    </tr>\n",
              "    <tr>\n",
              "      <th>6</th>\n",
              "      <td>No</td>\n",
              "    </tr>\n",
              "    <tr>\n",
              "      <th>7</th>\n",
              "      <td>Yes</td>\n",
              "    </tr>\n",
              "    <tr>\n",
              "      <th>8</th>\n",
              "      <td>No</td>\n",
              "    </tr>\n",
              "    <tr>\n",
              "      <th>9</th>\n",
              "      <td>Yes</td>\n",
              "    </tr>\n",
              "    <tr>\n",
              "      <th>10</th>\n",
              "      <td>Yes</td>\n",
              "    </tr>\n",
              "    <tr>\n",
              "      <th>11</th>\n",
              "      <td>Yes</td>\n",
              "    </tr>\n",
              "    <tr>\n",
              "      <th>12</th>\n",
              "      <td>Yes</td>\n",
              "    </tr>\n",
              "    <tr>\n",
              "      <th>13</th>\n",
              "      <td>Yes</td>\n",
              "    </tr>\n",
              "    <tr>\n",
              "      <th>14</th>\n",
              "      <td>No</td>\n",
              "    </tr>\n",
              "  </tbody>\n",
              "</table>\n",
              "</div>"
            ],
            "text/plain": [
              "    Bike\n",
              "Day     \n",
              "1     No\n",
              "2     No\n",
              "3    Yes\n",
              "4    Yes\n",
              "5    Yes\n",
              "6     No\n",
              "7    Yes\n",
              "8     No\n",
              "9    Yes\n",
              "10   Yes\n",
              "11   Yes\n",
              "12   Yes\n",
              "13   Yes\n",
              "14    No"
            ]
          },
          "metadata": {
            "tags": []
          },
          "execution_count": 11
        }
      ]
    },
    {
      "cell_type": "markdown",
      "metadata": {
        "id": "RouoAkbb0c6q",
        "colab_type": "text"
      },
      "source": [
        "Now, finally, we can train our decision tree classifier."
      ]
    },
    {
      "cell_type": "code",
      "metadata": {
        "id": "1v6CKKgr0c6r",
        "colab_type": "code",
        "colab": {
          "base_uri": "https://localhost:8080/",
          "height": 121
        },
        "outputId": "5ad67312-38e4-4768-a95f-b241d9de7a3f"
      },
      "source": [
        "clf.fit(bike_features, bike_labels)"
      ],
      "execution_count": 12,
      "outputs": [
        {
          "output_type": "execute_result",
          "data": {
            "text/plain": [
              "DecisionTreeClassifier(ccp_alpha=0.0, class_weight=None, criterion='entropy',\n",
              "                       max_depth=None, max_features=None, max_leaf_nodes=None,\n",
              "                       min_impurity_decrease=0.0, min_impurity_split=None,\n",
              "                       min_samples_leaf=1, min_samples_split=2,\n",
              "                       min_weight_fraction_leaf=0.0, presort='deprecated',\n",
              "                       random_state=None, splitter='best')"
            ]
          },
          "metadata": {
            "tags": []
          },
          "execution_count": 12
        }
      ]
    },
    {
      "cell_type": "markdown",
      "metadata": {
        "id": "DgJIoGVG0c6t",
        "colab_type": "text"
      },
      "source": [
        "As you can see, preparing the data, can actually take a longer time than running the machine learning component.\n",
        "\n",
        "### `get_dummies` not the only way\n",
        "\n",
        "There are other methods to one-hot encode a dataset. For example, sklearn has a class, [OneHotEncoder](https://scikit-learn.org/stable/modules/generated/sklearn.preprocessing.OneHotEncoder.html?highlight=one%20hot%20encorder), which might be a better option for many machine learning tasks. The reason I selected `get_dummies` for this notebook was a pedagogical one---`get_dummies` is a bit more transparent and you get a better sense of what one-hot-encoding does.\n",
        "\n",
        "### Conditionals for munging data\n",
        "\n",
        "Let's say we have this small DataFrame"
      ]
    },
    {
      "cell_type": "code",
      "metadata": {
        "id": "mcD77bFR0c6t",
        "colab_type": "code",
        "colab": {
          "base_uri": "https://localhost:8080/",
          "height": 233
        },
        "outputId": "ce0afd73-74ca-439f-d3b8-5185767255d7"
      },
      "source": [
        "from pandas import DataFrame\n",
        "students = DataFrame({'name': ['Ann', 'Ben', 'Clara', 'Danielle', 'Eric', 'Akash'],\n",
        "                     'sex':   ['f', 'm', 'f', 'f', 'm', 'm'],\n",
        "                     'age': [21, 18, 23, 19, 20, 21]})\n",
        "students"
      ],
      "execution_count": 13,
      "outputs": [
        {
          "output_type": "execute_result",
          "data": {
            "text/html": [
              "<div>\n",
              "<style scoped>\n",
              "    .dataframe tbody tr th:only-of-type {\n",
              "        vertical-align: middle;\n",
              "    }\n",
              "\n",
              "    .dataframe tbody tr th {\n",
              "        vertical-align: top;\n",
              "    }\n",
              "\n",
              "    .dataframe thead th {\n",
              "        text-align: right;\n",
              "    }\n",
              "</style>\n",
              "<table border=\"1\" class=\"dataframe\">\n",
              "  <thead>\n",
              "    <tr style=\"text-align: right;\">\n",
              "      <th></th>\n",
              "      <th>name</th>\n",
              "      <th>sex</th>\n",
              "      <th>age</th>\n",
              "    </tr>\n",
              "  </thead>\n",
              "  <tbody>\n",
              "    <tr>\n",
              "      <th>0</th>\n",
              "      <td>Ann</td>\n",
              "      <td>f</td>\n",
              "      <td>21</td>\n",
              "    </tr>\n",
              "    <tr>\n",
              "      <th>1</th>\n",
              "      <td>Ben</td>\n",
              "      <td>m</td>\n",
              "      <td>18</td>\n",
              "    </tr>\n",
              "    <tr>\n",
              "      <th>2</th>\n",
              "      <td>Clara</td>\n",
              "      <td>f</td>\n",
              "      <td>23</td>\n",
              "    </tr>\n",
              "    <tr>\n",
              "      <th>3</th>\n",
              "      <td>Danielle</td>\n",
              "      <td>f</td>\n",
              "      <td>19</td>\n",
              "    </tr>\n",
              "    <tr>\n",
              "      <th>4</th>\n",
              "      <td>Eric</td>\n",
              "      <td>m</td>\n",
              "      <td>20</td>\n",
              "    </tr>\n",
              "    <tr>\n",
              "      <th>5</th>\n",
              "      <td>Akash</td>\n",
              "      <td>m</td>\n",
              "      <td>21</td>\n",
              "    </tr>\n",
              "  </tbody>\n",
              "</table>\n",
              "</div>"
            ],
            "text/plain": [
              "       name sex  age\n",
              "0       Ann   f   21\n",
              "1       Ben   m   18\n",
              "2     Clara   f   23\n",
              "3  Danielle   f   19\n",
              "4      Eric   m   20\n",
              "5     Akash   m   21"
            ]
          },
          "metadata": {
            "tags": []
          },
          "execution_count": 13
        }
      ]
    },
    {
      "cell_type": "markdown",
      "metadata": {
        "id": "szp-P0mR0c6w",
        "colab_type": "text"
      },
      "source": [
        "The column sex is categorical so we need to convert it. We could \n",
        "* one-hot-encode it and have two columns: f and m. \n",
        "* one-hot-encode it, have two columns: f and m, and then delete one of those columns\n",
        "* create a column female and populate it correctly using a conditional\n",
        "\n",
        "All three are fine options with the last 2 slightly better since they reduce the dimensionality. Let's see how we can do the last one using a lambda expression:"
      ]
    },
    {
      "cell_type": "code",
      "metadata": {
        "id": "tlCh6LMu0c6w",
        "colab_type": "code",
        "colab": {
          "base_uri": "https://localhost:8080/",
          "height": 233
        },
        "outputId": "30bd532f-d7af-4d20-8bc4-c15c711de26a"
      },
      "source": [
        "students['female'] =  students['sex'].apply(lambda x: True if x == 'f' else False)\n",
        "students  = students.drop('sex', axis=1) \n",
        "students"
      ],
      "execution_count": 14,
      "outputs": [
        {
          "output_type": "execute_result",
          "data": {
            "text/html": [
              "<div>\n",
              "<style scoped>\n",
              "    .dataframe tbody tr th:only-of-type {\n",
              "        vertical-align: middle;\n",
              "    }\n",
              "\n",
              "    .dataframe tbody tr th {\n",
              "        vertical-align: top;\n",
              "    }\n",
              "\n",
              "    .dataframe thead th {\n",
              "        text-align: right;\n",
              "    }\n",
              "</style>\n",
              "<table border=\"1\" class=\"dataframe\">\n",
              "  <thead>\n",
              "    <tr style=\"text-align: right;\">\n",
              "      <th></th>\n",
              "      <th>name</th>\n",
              "      <th>age</th>\n",
              "      <th>female</th>\n",
              "    </tr>\n",
              "  </thead>\n",
              "  <tbody>\n",
              "    <tr>\n",
              "      <th>0</th>\n",
              "      <td>Ann</td>\n",
              "      <td>21</td>\n",
              "      <td>True</td>\n",
              "    </tr>\n",
              "    <tr>\n",
              "      <th>1</th>\n",
              "      <td>Ben</td>\n",
              "      <td>18</td>\n",
              "      <td>False</td>\n",
              "    </tr>\n",
              "    <tr>\n",
              "      <th>2</th>\n",
              "      <td>Clara</td>\n",
              "      <td>23</td>\n",
              "      <td>True</td>\n",
              "    </tr>\n",
              "    <tr>\n",
              "      <th>3</th>\n",
              "      <td>Danielle</td>\n",
              "      <td>19</td>\n",
              "      <td>True</td>\n",
              "    </tr>\n",
              "    <tr>\n",
              "      <th>4</th>\n",
              "      <td>Eric</td>\n",
              "      <td>20</td>\n",
              "      <td>False</td>\n",
              "    </tr>\n",
              "    <tr>\n",
              "      <th>5</th>\n",
              "      <td>Akash</td>\n",
              "      <td>21</td>\n",
              "      <td>False</td>\n",
              "    </tr>\n",
              "  </tbody>\n",
              "</table>\n",
              "</div>"
            ],
            "text/plain": [
              "       name  age  female\n",
              "0       Ann   21    True\n",
              "1       Ben   18   False\n",
              "2     Clara   23    True\n",
              "3  Danielle   19    True\n",
              "4      Eric   20   False\n",
              "5     Akash   21   False"
            ]
          },
          "metadata": {
            "tags": []
          },
          "execution_count": 14
        }
      ]
    },
    {
      "cell_type": "markdown",
      "metadata": {
        "id": "Q0jYpuVO0c6y",
        "colab_type": "text"
      },
      "source": [
        "That's great! \n",
        "\n",
        "Now suppose we think that whether or not a person is under 20 is relevant for our machine learning task. We can use the same type of lambda expression to create this new column:\n"
      ]
    },
    {
      "cell_type": "code",
      "metadata": {
        "id": "mVSNmays0c6z",
        "colab_type": "code",
        "colab": {
          "base_uri": "https://localhost:8080/",
          "height": 233
        },
        "outputId": "a04db7c7-c30f-4361-e696-9f7a20635013"
      },
      "source": [
        "students['under20'] =  students['age'].apply(lambda x: True if x < 20 else False)\n",
        "students"
      ],
      "execution_count": 15,
      "outputs": [
        {
          "output_type": "execute_result",
          "data": {
            "text/html": [
              "<div>\n",
              "<style scoped>\n",
              "    .dataframe tbody tr th:only-of-type {\n",
              "        vertical-align: middle;\n",
              "    }\n",
              "\n",
              "    .dataframe tbody tr th {\n",
              "        vertical-align: top;\n",
              "    }\n",
              "\n",
              "    .dataframe thead th {\n",
              "        text-align: right;\n",
              "    }\n",
              "</style>\n",
              "<table border=\"1\" class=\"dataframe\">\n",
              "  <thead>\n",
              "    <tr style=\"text-align: right;\">\n",
              "      <th></th>\n",
              "      <th>name</th>\n",
              "      <th>age</th>\n",
              "      <th>female</th>\n",
              "      <th>under20</th>\n",
              "    </tr>\n",
              "  </thead>\n",
              "  <tbody>\n",
              "    <tr>\n",
              "      <th>0</th>\n",
              "      <td>Ann</td>\n",
              "      <td>21</td>\n",
              "      <td>True</td>\n",
              "      <td>False</td>\n",
              "    </tr>\n",
              "    <tr>\n",
              "      <th>1</th>\n",
              "      <td>Ben</td>\n",
              "      <td>18</td>\n",
              "      <td>False</td>\n",
              "      <td>True</td>\n",
              "    </tr>\n",
              "    <tr>\n",
              "      <th>2</th>\n",
              "      <td>Clara</td>\n",
              "      <td>23</td>\n",
              "      <td>True</td>\n",
              "      <td>False</td>\n",
              "    </tr>\n",
              "    <tr>\n",
              "      <th>3</th>\n",
              "      <td>Danielle</td>\n",
              "      <td>19</td>\n",
              "      <td>True</td>\n",
              "      <td>True</td>\n",
              "    </tr>\n",
              "    <tr>\n",
              "      <th>4</th>\n",
              "      <td>Eric</td>\n",
              "      <td>20</td>\n",
              "      <td>False</td>\n",
              "      <td>False</td>\n",
              "    </tr>\n",
              "    <tr>\n",
              "      <th>5</th>\n",
              "      <td>Akash</td>\n",
              "      <td>21</td>\n",
              "      <td>False</td>\n",
              "      <td>False</td>\n",
              "    </tr>\n",
              "  </tbody>\n",
              "</table>\n",
              "</div>"
            ],
            "text/plain": [
              "       name  age  female  under20\n",
              "0       Ann   21    True    False\n",
              "1       Ben   18   False     True\n",
              "2     Clara   23    True    False\n",
              "3  Danielle   19    True     True\n",
              "4      Eric   20   False    False\n",
              "5     Akash   21   False    False"
            ]
          },
          "metadata": {
            "tags": []
          },
          "execution_count": 15
        }
      ]
    },
    {
      "cell_type": "markdown",
      "metadata": {
        "id": "Cy5FzMbk0c61",
        "colab_type": "text"
      },
      "source": [
        "As you can see, working with machine learning involves working on a pipeline of various processes--we don't start with the machine learning algorithm. Before leaping into the ML algorithm, takes some time to explore the data, decide if it needs to be cleaned in any way, one-hot-encoded, if some features are not needed or if new ones need to be added.\n",
        "\n",
        "## Hyperparameters.\n",
        "\n",
        "When we train a machine learning model (using `fit` in this case), the model learns a set of **parameters**. For example, in decision trees, one parameter is the depth of the tree. The depth isn't determined until the `fit` method finishes. The important point is that parameters are what the model learns on its own from analyzing the training dataset and not something we adjust.\n",
        "\n",
        "In contrast **hyperparameters** are things we determine and not determined by the algorithm. Hyperparameters are set before the model looks at the training data--in our case before `fit`.  For decision trees there are a number of these hyperparameters. We already saw two: `max_depth` controls the size of the tree and `criterion`. Adjusting one hyperparameter may improve the accuracy of your classifier or it may worsen it. \n",
        "\n",
        "We have already learned that we shouldn't test our model using the same data that we trained on. Why not? Because the model is already tuned to the specific instances in our training data. In a kNN classifier, it may memorize every instance in our training data--*Gabby Douglas who is 49 inches tall and weighs 90 pounds is a gymnast*.  If we test using that same data, the accuracy will tend to be higher than if we tested using data the classifier has never seen before. Again, if we told the algorithm someone who is 49 inches tall and 90 pounds is a gymnast, we shouldn't find it surprising that if we asked it what sport does someone play who is 49 inches and 90 pounds, and the algorithm predicts *gymnast*. We want to see if the algorithm learned or generalized something from processing the dataset. In some previous labs, we reserved 20% of the original data to test on and used 80% for training. \n",
        "\n",
        "Now let's imagine a process where we will adjust hyperparameters to improve the accuracy of our model. So we build a classifier with one setting of the hyperparameters and build another with a different setting for the hyperparameters and see which one is more accurate. One approach might be:\n",
        "\n",
        "1. Use 80% of the data to train on.\n",
        "2. Test the classifier using the 20% test set and get the accuracy.\n",
        "3. Adjust a hyperparameter and create a new classifier\n",
        "4. Use the same 80% of the data to train the new classifier\n",
        "5. Test the classifier using the 20% test set and get the accuracy.\n",
        "6. Keep repeating this to find the value of the hyperparameter that performs the best.\n",
        "7. The accuracy of your classifier will be the highest one obtained from evaluating the 20% test set.\n",
        "\n",
        "The problem with this approach is that since we are tuning the hyperparameters based on the accuracy on the test set, some of the information about the test set is leaking into our classifier. Let me explain about information leaking into the classifier.\n",
        "\n",
        "Let's look at our example of categorizing athletes into one of three categories: gymnast, basketball player, and marathoner. Leilani\n",
        "Mitchell is not in the training set but is in the test set. She is 5 foot 5 inches tall and weighs 138. Initially, she was among the instances in the test set that were misclassified. We kept adjusting the hyperparameters until we improved accuracy and now she is correctly classified as a basketball player. So we tuned our classifier to work well with her and others in the test set. That is what we mean by information from the test set leaking into the classifier.\n",
        "\n",
        "So again, we may get an arbitrary higher accuracy that is not reflective of the algorithm's performance on unseen data.\n",
        "\n",
        "**So what can we do?**\n",
        "\n",
        "The solution is to divide the original dataset into three:\n",
        "\n",
        "1. the training set which we use to train our model.\n",
        "2. the validation set which we use to test our model so we can adjust the hyperparameters\n",
        "3. the test set which we use to perform an evaluation of the final model fit on the training set. We make our final adjustment of the hyperparameters **before** we evaluate the model using the test set.\n",
        "\n",
        "There are many ways to divide up the original data into these three sets. For example, maybe 20% is reserved for the test set, 20% for validation and 60% for training.  However, there is a slightly better way.\n",
        "\n",
        "### Cross Validation\n",
        "For cross validation we are going to divide the dataset (typically just the training dataset) into roughly equal sized buckets. Typically we would divide the data into 10 parts and this is called 10-fold cross validation. To reiterate, with this method we have one data set which we divide randomly into 10 parts. We use 9 of\n",
        "those parts for training and reserve one tenth for validation. We repeat this procedure 10 times\n",
        "each time reserving a different tenth for validation.\n",
        "\n",
        "Let’s look at an example. Suppose we want to build a classifier that just answers yes or no to\n",
        "the question *Is this person a professional basketball player?* And our data consists of information\n",
        "about 500 basketball players and 500 non-basketball players. \n",
        "\n",
        "#### Step 1. Divide the data into 10 bucks.\n",
        "\n",
        "![](https://raw.githubusercontent.com/zacharski/ml-class/master/labs/pics/buckets.png)\n",
        "We put 50 basketball players and 50 non-players in each bucket so each bucket contains information on 100 individuals.\n",
        "\n",
        "#### Step 2. We iterate through the following steps 10 times\n",
        "\n",
        "1. During each iteration hold back one of the buckets. For iteration 1, we will hold back bucket 1, iteration 2, bucket 2, and so on.\n",
        "2. We will train the classifier with data from the other buckets. (during the first iteration we will train with the data in buckets 2 through 10)\n",
        "3. We will validate the classifier we just built using data from the bucket we held back and save the results. In our case these results might be: 35 of the basketball players were classified correctly and  29 of the non basketball players were classified correctly. \n",
        "\n",
        "\n",
        "#### Step 3. we sum up the results.\n",
        "Once we finish the ten iterations we sum the results. Perhaps we find that 937 of the 1,000 individuals were categorized correctly. \n",
        "\n",
        "#### Summary\n",
        "Using cross-validation, every instance in our data is used in training and, in a different iteration, in validation. This results in a less biased model. By **bias** we mean that the algorithm is less accurate due to it not taking into account all relevant information in the data. With cross-validation we typically train on a larger percentage of the data than we would if we set aside a fixed validation set. One small disadvantage is that it now take 10 times as long to run.\n",
        "\n",
        "\n",
        "### Leave One Out\n",
        "Here is a suggestion from Lucy:\n",
        "![](https://raw.githubusercontent.com/zacharski/ml-class/master/labs/pics/nfold.png)\n",
        "\n",
        "In the machine learning literature, n-fold cross validation (where n is the number of samples\n",
        "in our data set) is called leave-one-out. Lucy above, already mentioned one benefit of leave-one-out—\n",
        "at every iteration we are using the largest possible amount of our data for training. The other\n",
        "benefit is that it is deterministic.\n",
        "\n",
        "#### What do we mean by ‘deterministic’?\n",
        "\n",
        "Suppose Lucy spends an intense 80 hour week creating and coding a new classifier. It is\n",
        "Friday and she is exhausted so she asks two of her colleagues (Emily and Li) to evaluate the\n",
        "classifier over the weekend. She gives each of them the classifier and the same dataset and\n",
        "asks them to use 10-fold cross validation. On Monday she asks for the results ..\n",
        "\n",
        "![](https://raw.githubusercontent.com/zacharski/ml-class/master/labs/pics/nfoldwomen2.png)\n",
        "\n",
        "Hmm. They did not get the same results. Did Emily or Li make a mistake? Not necessarily. In\n",
        "10-fold cross validation we place the data randomly into 10 buckets. Since there is this\n",
        "random element, it is likely that Emily and Li did not divide the data into buckets in exactly\n",
        "the same way. In fact, it is highly unlikely that they did. So when they train the classifier, they\n",
        "are not using exactly the same data and when they test this classifier they are using different\n",
        "test sets. So it is quite logical that they would get different results. This result has nothing to\n",
        "do with the fact that two different people were performing the evaluation. If Lucy herself ran\n",
        "10-fold cross validation twice, she too would get slightly different results. The reason we get\n",
        "different results is that there is a random component to placing the data into buckets. So 10-\n",
        "fold cross validation is called non-deterministic because when we run the test again we are\n",
        "not guaranteed to get the same result. In contrast, the leave-one-out method is deterministic.\n",
        "Every time we use leave-one-out on the same classifier and the same data we will get the\n",
        "same result. That is a good thing!\n",
        "\n",
        "#### The disadvantages of leave-one-out\n",
        "The main disadvantage of leave-one-out is the computational expense of the method.\n",
        "Consider a modest-sized dataset of 10,000 instances and that it takes one minute to train a\n",
        "classifier. For 10-fold cross validation we will spend 10 minutes in training. In leave-one-out\n",
        "we will spend 16 hours in training. If our dataset contains 10 million entries the total time\n",
        "spent in training would nearly be two years. Eeeks!\n",
        "\n",
        "![](https://raw.githubusercontent.com/zacharski/ml-class/master/labs/pics/twoyears.png)\n",
        "\n",
        "\n",
        "The other disadvantage of leave-one-out is related to stratification.\n",
        "\n",
        "\n",
        "\n",
        "#### Stratification.\n",
        "Let us return to the example of building a classifier that predicts\n",
        "what sport a woman plays (basketball, gymnastics, or track). When training the classifier we\n",
        "want the training data to be representative and contain data from all three classes. Suppose\n",
        "we assign data to the training set in a completely random way. It is possible that no\n",
        "basketball players would be included in the training set and because of this, the resulting\n",
        "classifier would not be very good at classifying basketball players. Or consider creating a data\n",
        "set of 100 athletes. First we go to the Women’s NBA website and write down the info on 33\n",
        "basketball players; next we go to Wikipedia and get 33 women who competed in gymnastics\n",
        "at the 2012 Olympics and write that down; finally, we go again to Wikipedia to get\n",
        "information on women who competed in track at the Olympics and record data for 34 people.\n",
        "So our dataset looks like this:\n",
        "\n",
        "![](https://raw.githubusercontent.com/zacharski/ml-class/master/labs/pics/womensports.png)\n",
        "\n",
        "Let’s say we are doing 10-fold cross validation. We start at the beginning of the list and put\n",
        "every ten people in a different bucket. In this case we have 10 basketball players in both the\n",
        "first and second buckets. The third bucket has both basketball players and gymnasts. The\n",
        "fourth and fifth buckets solely contain gymnasts and so on. None of our buckets are\n",
        "representative of the dataset as a whole and you would be correct in thinking this would skew\n",
        "our results. The preferred method of assigning instances to buckets is to make sure that the\n",
        "classes (basketball players, gymnasts, marathoners) are represented in the same proportions\n",
        "as they are in the complete dataset. Since one-third of the complete dataset consists of\n",
        "basketball players, one-third of the entries in each bucket should also be basketball players.\n",
        "And one-third the entries should be gymnasts and one-third marathoners. This is called\n",
        "stratification and this is a good thing. The problem with the leave-one-out evaluation\n",
        "method is that necessarily all the test sets are non-stratified since they contain only one\n",
        "instance. In sum, while leave-one-out may be appropriate for very small datasets, 10-fold\n",
        "cross validation is by far the most popular choice.\n",
        "\n",
        "### Coding\n",
        "Let's see how we can use cross validation using the Iris dataset.\n",
        "\n",
        "<img src=\"https://upload.wikimedia.org/wikipedia/commons/1/1e/IMG_7911-Iris_virginica.jpg\" width=\"250\" />\n",
        "\n",
        "First, let's load the dataset:\n"
      ]
    },
    {
      "cell_type": "code",
      "metadata": {
        "id": "rdbQmYF00c61",
        "colab_type": "code",
        "colab": {
          "base_uri": "https://localhost:8080/",
          "height": 415
        },
        "outputId": "698a3c1a-1cd6-4663-fdfa-8f6deecf6250"
      },
      "source": [
        "iris = pd.read_csv('https://raw.githubusercontent.com/zacharski/ml-class/master/data/iris.csv')\n",
        "iris\n"
      ],
      "execution_count": 16,
      "outputs": [
        {
          "output_type": "execute_result",
          "data": {
            "text/html": [
              "<div>\n",
              "<style scoped>\n",
              "    .dataframe tbody tr th:only-of-type {\n",
              "        vertical-align: middle;\n",
              "    }\n",
              "\n",
              "    .dataframe tbody tr th {\n",
              "        vertical-align: top;\n",
              "    }\n",
              "\n",
              "    .dataframe thead th {\n",
              "        text-align: right;\n",
              "    }\n",
              "</style>\n",
              "<table border=\"1\" class=\"dataframe\">\n",
              "  <thead>\n",
              "    <tr style=\"text-align: right;\">\n",
              "      <th></th>\n",
              "      <th>Sepal Length</th>\n",
              "      <th>Sepal Width</th>\n",
              "      <th>Petal Length</th>\n",
              "      <th>Petal Width</th>\n",
              "      <th>Class</th>\n",
              "    </tr>\n",
              "  </thead>\n",
              "  <tbody>\n",
              "    <tr>\n",
              "      <th>0</th>\n",
              "      <td>5.1</td>\n",
              "      <td>3.5</td>\n",
              "      <td>1.4</td>\n",
              "      <td>0.2</td>\n",
              "      <td>Iris-setosa</td>\n",
              "    </tr>\n",
              "    <tr>\n",
              "      <th>1</th>\n",
              "      <td>4.9</td>\n",
              "      <td>3.0</td>\n",
              "      <td>1.4</td>\n",
              "      <td>0.2</td>\n",
              "      <td>Iris-setosa</td>\n",
              "    </tr>\n",
              "    <tr>\n",
              "      <th>2</th>\n",
              "      <td>4.7</td>\n",
              "      <td>3.2</td>\n",
              "      <td>1.3</td>\n",
              "      <td>0.2</td>\n",
              "      <td>Iris-setosa</td>\n",
              "    </tr>\n",
              "    <tr>\n",
              "      <th>3</th>\n",
              "      <td>4.6</td>\n",
              "      <td>3.1</td>\n",
              "      <td>1.5</td>\n",
              "      <td>0.2</td>\n",
              "      <td>Iris-setosa</td>\n",
              "    </tr>\n",
              "    <tr>\n",
              "      <th>4</th>\n",
              "      <td>5.0</td>\n",
              "      <td>3.6</td>\n",
              "      <td>1.4</td>\n",
              "      <td>0.2</td>\n",
              "      <td>Iris-setosa</td>\n",
              "    </tr>\n",
              "    <tr>\n",
              "      <th>...</th>\n",
              "      <td>...</td>\n",
              "      <td>...</td>\n",
              "      <td>...</td>\n",
              "      <td>...</td>\n",
              "      <td>...</td>\n",
              "    </tr>\n",
              "    <tr>\n",
              "      <th>145</th>\n",
              "      <td>6.7</td>\n",
              "      <td>3.0</td>\n",
              "      <td>5.2</td>\n",
              "      <td>2.3</td>\n",
              "      <td>Iris-virginica</td>\n",
              "    </tr>\n",
              "    <tr>\n",
              "      <th>146</th>\n",
              "      <td>6.3</td>\n",
              "      <td>2.5</td>\n",
              "      <td>5.0</td>\n",
              "      <td>1.9</td>\n",
              "      <td>Iris-virginica</td>\n",
              "    </tr>\n",
              "    <tr>\n",
              "      <th>147</th>\n",
              "      <td>6.5</td>\n",
              "      <td>3.0</td>\n",
              "      <td>5.2</td>\n",
              "      <td>2.0</td>\n",
              "      <td>Iris-virginica</td>\n",
              "    </tr>\n",
              "    <tr>\n",
              "      <th>148</th>\n",
              "      <td>6.2</td>\n",
              "      <td>3.4</td>\n",
              "      <td>5.4</td>\n",
              "      <td>2.3</td>\n",
              "      <td>Iris-virginica</td>\n",
              "    </tr>\n",
              "    <tr>\n",
              "      <th>149</th>\n",
              "      <td>5.9</td>\n",
              "      <td>3.0</td>\n",
              "      <td>5.1</td>\n",
              "      <td>1.8</td>\n",
              "      <td>Iris-virginica</td>\n",
              "    </tr>\n",
              "  </tbody>\n",
              "</table>\n",
              "<p>150 rows × 5 columns</p>\n",
              "</div>"
            ],
            "text/plain": [
              "     Sepal Length  Sepal Width  Petal Length  Petal Width           Class\n",
              "0             5.1          3.5           1.4          0.2     Iris-setosa\n",
              "1             4.9          3.0           1.4          0.2     Iris-setosa\n",
              "2             4.7          3.2           1.3          0.2     Iris-setosa\n",
              "3             4.6          3.1           1.5          0.2     Iris-setosa\n",
              "4             5.0          3.6           1.4          0.2     Iris-setosa\n",
              "..            ...          ...           ...          ...             ...\n",
              "145           6.7          3.0           5.2          2.3  Iris-virginica\n",
              "146           6.3          2.5           5.0          1.9  Iris-virginica\n",
              "147           6.5          3.0           5.2          2.0  Iris-virginica\n",
              "148           6.2          3.4           5.4          2.3  Iris-virginica\n",
              "149           5.9          3.0           5.1          1.8  Iris-virginica\n",
              "\n",
              "[150 rows x 5 columns]"
            ]
          },
          "metadata": {
            "tags": []
          },
          "execution_count": 16
        }
      ]
    },
    {
      "cell_type": "markdown",
      "metadata": {
        "id": "lBXChEaS0c63",
        "colab_type": "text"
      },
      "source": [
        "Now let's divide this into a training set and a test set using an 80-20 split."
      ]
    },
    {
      "cell_type": "code",
      "metadata": {
        "id": "fs9-e7uf0c64",
        "colab_type": "code",
        "colab": {
          "base_uri": "https://localhost:8080/",
          "height": 415
        },
        "outputId": "cb0468ec-fcf8-4801-e9b4-27372cf29988"
      },
      "source": [
        "from sklearn.model_selection import train_test_split\n",
        "iris_train, iris_test = train_test_split(iris, test_size = 0.2)\n",
        "iris_train"
      ],
      "execution_count": 17,
      "outputs": [
        {
          "output_type": "execute_result",
          "data": {
            "text/html": [
              "<div>\n",
              "<style scoped>\n",
              "    .dataframe tbody tr th:only-of-type {\n",
              "        vertical-align: middle;\n",
              "    }\n",
              "\n",
              "    .dataframe tbody tr th {\n",
              "        vertical-align: top;\n",
              "    }\n",
              "\n",
              "    .dataframe thead th {\n",
              "        text-align: right;\n",
              "    }\n",
              "</style>\n",
              "<table border=\"1\" class=\"dataframe\">\n",
              "  <thead>\n",
              "    <tr style=\"text-align: right;\">\n",
              "      <th></th>\n",
              "      <th>Sepal Length</th>\n",
              "      <th>Sepal Width</th>\n",
              "      <th>Petal Length</th>\n",
              "      <th>Petal Width</th>\n",
              "      <th>Class</th>\n",
              "    </tr>\n",
              "  </thead>\n",
              "  <tbody>\n",
              "    <tr>\n",
              "      <th>12</th>\n",
              "      <td>4.8</td>\n",
              "      <td>3.0</td>\n",
              "      <td>1.4</td>\n",
              "      <td>0.1</td>\n",
              "      <td>Iris-setosa</td>\n",
              "    </tr>\n",
              "    <tr>\n",
              "      <th>33</th>\n",
              "      <td>5.5</td>\n",
              "      <td>4.2</td>\n",
              "      <td>1.4</td>\n",
              "      <td>0.2</td>\n",
              "      <td>Iris-setosa</td>\n",
              "    </tr>\n",
              "    <tr>\n",
              "      <th>138</th>\n",
              "      <td>6.0</td>\n",
              "      <td>3.0</td>\n",
              "      <td>4.8</td>\n",
              "      <td>1.8</td>\n",
              "      <td>Iris-virginica</td>\n",
              "    </tr>\n",
              "    <tr>\n",
              "      <th>95</th>\n",
              "      <td>5.7</td>\n",
              "      <td>3.0</td>\n",
              "      <td>4.2</td>\n",
              "      <td>1.2</td>\n",
              "      <td>Iris-versicolor</td>\n",
              "    </tr>\n",
              "    <tr>\n",
              "      <th>96</th>\n",
              "      <td>5.7</td>\n",
              "      <td>2.9</td>\n",
              "      <td>4.2</td>\n",
              "      <td>1.3</td>\n",
              "      <td>Iris-versicolor</td>\n",
              "    </tr>\n",
              "    <tr>\n",
              "      <th>...</th>\n",
              "      <td>...</td>\n",
              "      <td>...</td>\n",
              "      <td>...</td>\n",
              "      <td>...</td>\n",
              "      <td>...</td>\n",
              "    </tr>\n",
              "    <tr>\n",
              "      <th>21</th>\n",
              "      <td>5.1</td>\n",
              "      <td>3.7</td>\n",
              "      <td>1.5</td>\n",
              "      <td>0.4</td>\n",
              "      <td>Iris-setosa</td>\n",
              "    </tr>\n",
              "    <tr>\n",
              "      <th>60</th>\n",
              "      <td>5.0</td>\n",
              "      <td>2.0</td>\n",
              "      <td>3.5</td>\n",
              "      <td>1.0</td>\n",
              "      <td>Iris-versicolor</td>\n",
              "    </tr>\n",
              "    <tr>\n",
              "      <th>142</th>\n",
              "      <td>5.8</td>\n",
              "      <td>2.7</td>\n",
              "      <td>5.1</td>\n",
              "      <td>1.9</td>\n",
              "      <td>Iris-virginica</td>\n",
              "    </tr>\n",
              "    <tr>\n",
              "      <th>140</th>\n",
              "      <td>6.7</td>\n",
              "      <td>3.1</td>\n",
              "      <td>5.6</td>\n",
              "      <td>2.4</td>\n",
              "      <td>Iris-virginica</td>\n",
              "    </tr>\n",
              "    <tr>\n",
              "      <th>76</th>\n",
              "      <td>6.8</td>\n",
              "      <td>2.8</td>\n",
              "      <td>4.8</td>\n",
              "      <td>1.4</td>\n",
              "      <td>Iris-versicolor</td>\n",
              "    </tr>\n",
              "  </tbody>\n",
              "</table>\n",
              "<p>120 rows × 5 columns</p>\n",
              "</div>"
            ],
            "text/plain": [
              "     Sepal Length  Sepal Width  Petal Length  Petal Width            Class\n",
              "12            4.8          3.0           1.4          0.1      Iris-setosa\n",
              "33            5.5          4.2           1.4          0.2      Iris-setosa\n",
              "138           6.0          3.0           4.8          1.8   Iris-virginica\n",
              "95            5.7          3.0           4.2          1.2  Iris-versicolor\n",
              "96            5.7          2.9           4.2          1.3  Iris-versicolor\n",
              "..            ...          ...           ...          ...              ...\n",
              "21            5.1          3.7           1.5          0.4      Iris-setosa\n",
              "60            5.0          2.0           3.5          1.0  Iris-versicolor\n",
              "142           5.8          2.7           5.1          1.9   Iris-virginica\n",
              "140           6.7          3.1           5.6          2.4   Iris-virginica\n",
              "76            6.8          2.8           4.8          1.4  Iris-versicolor\n",
              "\n",
              "[120 rows x 5 columns]"
            ]
          },
          "metadata": {
            "tags": []
          },
          "execution_count": 17
        }
      ]
    },
    {
      "cell_type": "markdown",
      "metadata": {
        "id": "a54X0T0r0c65",
        "colab_type": "text"
      },
      "source": [
        "#### 10 fold cross validation on iris_train\n",
        "First, to make things as clear as possible, we will split the iris_train dataset into the features and the labels:"
      ]
    },
    {
      "cell_type": "code",
      "metadata": {
        "id": "faS-Z1gv0c66",
        "colab_type": "code",
        "colab": {}
      },
      "source": [
        "iris_train_features = iris_train[['Sepal Length', 'Sepal Width', 'Petal Length', 'Petal Width']]\n",
        "iris_train_labels = iris_train[['Class']]"
      ],
      "execution_count": 18,
      "outputs": []
    },
    {
      "cell_type": "markdown",
      "metadata": {
        "id": "nZdmcQWi0c67",
        "colab_type": "text"
      },
      "source": [
        "Let's also create an instance of a decision tree classifier"
      ]
    },
    {
      "cell_type": "code",
      "metadata": {
        "id": "bXRWcKss0c68",
        "colab_type": "code",
        "colab": {}
      },
      "source": [
        "from sklearn import tree\n",
        "clf = tree.DecisionTreeClassifier(criterion='entropy')"
      ],
      "execution_count": 19,
      "outputs": []
    },
    {
      "cell_type": "markdown",
      "metadata": {
        "id": "3-H6045-0c6_",
        "colab_type": "text"
      },
      "source": [
        "### The cross validation steps\n",
        "\n",
        "#### Step 1. Import  cross_val_score"
      ]
    },
    {
      "cell_type": "code",
      "metadata": {
        "id": "Sq_ZARd50c7A",
        "colab_type": "code",
        "colab": {}
      },
      "source": [
        "from sklearn.model_selection import cross_val_score"
      ],
      "execution_count": 20,
      "outputs": []
    },
    {
      "cell_type": "markdown",
      "metadata": {
        "id": "h1zc6T580c7B",
        "colab_type": "text"
      },
      "source": [
        "#### Step 2. run cross validation"
      ]
    },
    {
      "cell_type": "code",
      "metadata": {
        "id": "aDf0NqFW0c7C",
        "colab_type": "code",
        "colab": {}
      },
      "source": [
        "scores = cross_val_score(clf, iris_train_features, iris_train_labels, cv=10)"
      ],
      "execution_count": 21,
      "outputs": []
    },
    {
      "cell_type": "markdown",
      "metadata": {
        "id": "YfZLn53z0c7D",
        "colab_type": "text"
      },
      "source": [
        "`cv=10` specified that we perform 10-fold cross validation. the function returns a 10 element array, where each element is the accuracy of that fold. Let's take a look:"
      ]
    },
    {
      "cell_type": "code",
      "metadata": {
        "id": "fkPTeVU10c7E",
        "colab_type": "code",
        "colab": {
          "base_uri": "https://localhost:8080/",
          "height": 69
        },
        "outputId": "fed6d4d6-151e-4a5e-b991-46148535b41e"
      },
      "source": [
        "print(scores)\n",
        "print(\"The average accuracy is %5.3f\" % (scores.mean()))\n"
      ],
      "execution_count": 22,
      "outputs": [
        {
          "output_type": "stream",
          "text": [
            "[1.         1.         0.91666667 0.91666667 1.         1.\n",
            " 0.83333333 0.91666667 1.         0.91666667]\n",
            "The average accuracy is 0.950\n"
          ],
          "name": "stdout"
        }
      ]
    },
    {
      "cell_type": "markdown",
      "metadata": {
        "id": "LPHzerUu0c7G",
        "colab_type": "text"
      },
      "source": [
        "So `scores` contains the accuracy for each of the 10 runs. In my case it was:\n",
        "\n",
        "```\n",
        "[1.         0.83333333 1.         0.91666667 0.91666667 0.91666667\n",
        " 0.91666667 0.91666667 1.         0.91666667]\n",
        "The average accuracy is 0.933\n",
        "```\n",
        "So the best runs were 100% accurate and the worst was 83%. The average accuracy was 93%\n",
        "\n",
        "## You try\n",
        "We have covered a lot of material and now is your chance to practice it using the Pima Indians Diabetes Data we used before. The data file is at \n",
        "\n",
        "[https://raw.githubusercontent.com/zacharski/ml-class/master/data/pima-indians-diabetes.csv](https://raw.githubusercontent.com/zacharski/ml-class/master/data/pima-indians-diabetes.csv)\n",
        "\n",
        "The data file does not contain a header row. Of course you can name the columns whatever you want, but I used:\n",
        "```\n",
        "['pregnant', 'glucose', 'bp', 'skinfold', 'insulin', 'bmi', 'pedigree', 'age', 'diabetes']\n",
        "```\n",
        "\n",
        "### Load in the data file\n",
        "So load in the data file and let's reserve 20% for `pima_test` and 80% for `pima_train`.\n",
        "\n"
      ]
    },
    {
      "cell_type": "code",
      "metadata": {
        "id": "dkiUDddG0c7G",
        "colab_type": "code",
        "colab": {
          "base_uri": "https://localhost:8080/",
          "height": 415
        },
        "outputId": "9e01cdd9-a4c4-43af-e331-58740c12619b"
      },
      "source": [
        "# TO DO\n",
        "pima_diabetes = pd.read_csv('https://raw.githubusercontent.com/zacharski/ml-class/master/data/pima-indians-diabetes.csv', names=['pregnancies', 'plasma', 'BP', 'skin fold', 'insulin', 'BMI', 'pedigree', 'age', 'diabetes'])\n",
        "pima_train, pima_test = train_test_split(pima_diabetes, test_size = 0.2)\n",
        "pima_train"
      ],
      "execution_count": 23,
      "outputs": [
        {
          "output_type": "execute_result",
          "data": {
            "text/html": [
              "<div>\n",
              "<style scoped>\n",
              "    .dataframe tbody tr th:only-of-type {\n",
              "        vertical-align: middle;\n",
              "    }\n",
              "\n",
              "    .dataframe tbody tr th {\n",
              "        vertical-align: top;\n",
              "    }\n",
              "\n",
              "    .dataframe thead th {\n",
              "        text-align: right;\n",
              "    }\n",
              "</style>\n",
              "<table border=\"1\" class=\"dataframe\">\n",
              "  <thead>\n",
              "    <tr style=\"text-align: right;\">\n",
              "      <th></th>\n",
              "      <th>pregnancies</th>\n",
              "      <th>plasma</th>\n",
              "      <th>BP</th>\n",
              "      <th>skin fold</th>\n",
              "      <th>insulin</th>\n",
              "      <th>BMI</th>\n",
              "      <th>pedigree</th>\n",
              "      <th>age</th>\n",
              "      <th>diabetes</th>\n",
              "    </tr>\n",
              "  </thead>\n",
              "  <tbody>\n",
              "    <tr>\n",
              "      <th>624</th>\n",
              "      <td>2</td>\n",
              "      <td>108</td>\n",
              "      <td>64</td>\n",
              "      <td>0</td>\n",
              "      <td>0</td>\n",
              "      <td>30.8</td>\n",
              "      <td>0.158</td>\n",
              "      <td>21</td>\n",
              "      <td>0</td>\n",
              "    </tr>\n",
              "    <tr>\n",
              "      <th>573</th>\n",
              "      <td>2</td>\n",
              "      <td>98</td>\n",
              "      <td>60</td>\n",
              "      <td>17</td>\n",
              "      <td>120</td>\n",
              "      <td>34.7</td>\n",
              "      <td>0.198</td>\n",
              "      <td>22</td>\n",
              "      <td>0</td>\n",
              "    </tr>\n",
              "    <tr>\n",
              "      <th>175</th>\n",
              "      <td>8</td>\n",
              "      <td>179</td>\n",
              "      <td>72</td>\n",
              "      <td>42</td>\n",
              "      <td>130</td>\n",
              "      <td>32.7</td>\n",
              "      <td>0.719</td>\n",
              "      <td>36</td>\n",
              "      <td>1</td>\n",
              "    </tr>\n",
              "    <tr>\n",
              "      <th>461</th>\n",
              "      <td>1</td>\n",
              "      <td>71</td>\n",
              "      <td>62</td>\n",
              "      <td>0</td>\n",
              "      <td>0</td>\n",
              "      <td>21.8</td>\n",
              "      <td>0.416</td>\n",
              "      <td>26</td>\n",
              "      <td>0</td>\n",
              "    </tr>\n",
              "    <tr>\n",
              "      <th>383</th>\n",
              "      <td>1</td>\n",
              "      <td>90</td>\n",
              "      <td>62</td>\n",
              "      <td>18</td>\n",
              "      <td>59</td>\n",
              "      <td>25.1</td>\n",
              "      <td>1.268</td>\n",
              "      <td>25</td>\n",
              "      <td>0</td>\n",
              "    </tr>\n",
              "    <tr>\n",
              "      <th>...</th>\n",
              "      <td>...</td>\n",
              "      <td>...</td>\n",
              "      <td>...</td>\n",
              "      <td>...</td>\n",
              "      <td>...</td>\n",
              "      <td>...</td>\n",
              "      <td>...</td>\n",
              "      <td>...</td>\n",
              "      <td>...</td>\n",
              "    </tr>\n",
              "    <tr>\n",
              "      <th>238</th>\n",
              "      <td>9</td>\n",
              "      <td>164</td>\n",
              "      <td>84</td>\n",
              "      <td>21</td>\n",
              "      <td>0</td>\n",
              "      <td>30.8</td>\n",
              "      <td>0.831</td>\n",
              "      <td>32</td>\n",
              "      <td>1</td>\n",
              "    </tr>\n",
              "    <tr>\n",
              "      <th>349</th>\n",
              "      <td>5</td>\n",
              "      <td>0</td>\n",
              "      <td>80</td>\n",
              "      <td>32</td>\n",
              "      <td>0</td>\n",
              "      <td>41.0</td>\n",
              "      <td>0.346</td>\n",
              "      <td>37</td>\n",
              "      <td>1</td>\n",
              "    </tr>\n",
              "    <tr>\n",
              "      <th>98</th>\n",
              "      <td>6</td>\n",
              "      <td>93</td>\n",
              "      <td>50</td>\n",
              "      <td>30</td>\n",
              "      <td>64</td>\n",
              "      <td>28.7</td>\n",
              "      <td>0.356</td>\n",
              "      <td>23</td>\n",
              "      <td>0</td>\n",
              "    </tr>\n",
              "    <tr>\n",
              "      <th>634</th>\n",
              "      <td>10</td>\n",
              "      <td>92</td>\n",
              "      <td>62</td>\n",
              "      <td>0</td>\n",
              "      <td>0</td>\n",
              "      <td>25.9</td>\n",
              "      <td>0.167</td>\n",
              "      <td>31</td>\n",
              "      <td>0</td>\n",
              "    </tr>\n",
              "    <tr>\n",
              "      <th>607</th>\n",
              "      <td>1</td>\n",
              "      <td>92</td>\n",
              "      <td>62</td>\n",
              "      <td>25</td>\n",
              "      <td>41</td>\n",
              "      <td>19.5</td>\n",
              "      <td>0.482</td>\n",
              "      <td>25</td>\n",
              "      <td>0</td>\n",
              "    </tr>\n",
              "  </tbody>\n",
              "</table>\n",
              "<p>614 rows × 9 columns</p>\n",
              "</div>"
            ],
            "text/plain": [
              "     pregnancies  plasma  BP  skin fold  insulin   BMI  pedigree  age  diabetes\n",
              "624            2     108  64          0        0  30.8     0.158   21         0\n",
              "573            2      98  60         17      120  34.7     0.198   22         0\n",
              "175            8     179  72         42      130  32.7     0.719   36         1\n",
              "461            1      71  62          0        0  21.8     0.416   26         0\n",
              "383            1      90  62         18       59  25.1     1.268   25         0\n",
              "..           ...     ...  ..        ...      ...   ...       ...  ...       ...\n",
              "238            9     164  84         21        0  30.8     0.831   32         1\n",
              "349            5       0  80         32        0  41.0     0.346   37         1\n",
              "98             6      93  50         30       64  28.7     0.356   23         0\n",
              "634           10      92  62          0        0  25.9     0.167   31         0\n",
              "607            1      92  62         25       41  19.5     0.482   25         0\n",
              "\n",
              "[614 rows x 9 columns]"
            ]
          },
          "metadata": {
            "tags": []
          },
          "execution_count": 23
        }
      ]
    },
    {
      "cell_type": "markdown",
      "metadata": {
        "id": "5gKSgmhB0c7I",
        "colab_type": "text"
      },
      "source": [
        "### creating separate data structures for the features and labels\n",
        "\n",
        "Next, for convenience let's create 2 DataFrames and 2 Series. The DataFrames are:\n",
        "\n",
        "* `pima_train_features` will contain the feature columns from `pima_train` \n",
        "* `pima_test_features` will contain the feature columns from `pima_test`\n",
        "\n",
        "The Series are:\n",
        "\n",
        "* `pima_train_labels` will contain the `diabetes` column\n",
        "* `pima_test_labels` will also contain the `diabetes` column"
      ]
    },
    {
      "cell_type": "code",
      "metadata": {
        "id": "FSPZf2SH0c7J",
        "colab_type": "code",
        "colab": {
          "base_uri": "https://localhost:8080/",
          "height": 415
        },
        "outputId": "650d4397-c8c3-49f1-f375-2150be734c8d"
      },
      "source": [
        "# TO DO\n",
        "pima_train_features = pima_train[['pregnancies', 'plasma', 'BP', 'skin fold', 'insulin', 'BMI', 'pedigree', 'age']]\n",
        "pima_test_features = pima_test[['pregnancies', 'plasma', 'BP', 'skin fold', 'insulin', 'BMI', 'pedigree', 'age']]\n",
        "pima_train_labels = pd.Series(pima_train['diabetes'])\n",
        "pima_test_labels = pd.Series(pima_test['diabetes'])\n",
        "pima_test_features"
      ],
      "execution_count": 39,
      "outputs": [
        {
          "output_type": "execute_result",
          "data": {
            "text/html": [
              "<div>\n",
              "<style scoped>\n",
              "    .dataframe tbody tr th:only-of-type {\n",
              "        vertical-align: middle;\n",
              "    }\n",
              "\n",
              "    .dataframe tbody tr th {\n",
              "        vertical-align: top;\n",
              "    }\n",
              "\n",
              "    .dataframe thead th {\n",
              "        text-align: right;\n",
              "    }\n",
              "</style>\n",
              "<table border=\"1\" class=\"dataframe\">\n",
              "  <thead>\n",
              "    <tr style=\"text-align: right;\">\n",
              "      <th></th>\n",
              "      <th>pregnancies</th>\n",
              "      <th>plasma</th>\n",
              "      <th>BP</th>\n",
              "      <th>skin fold</th>\n",
              "      <th>insulin</th>\n",
              "      <th>BMI</th>\n",
              "      <th>pedigree</th>\n",
              "      <th>age</th>\n",
              "    </tr>\n",
              "  </thead>\n",
              "  <tbody>\n",
              "    <tr>\n",
              "      <th>252</th>\n",
              "      <td>2</td>\n",
              "      <td>90</td>\n",
              "      <td>80</td>\n",
              "      <td>14</td>\n",
              "      <td>55</td>\n",
              "      <td>24.4</td>\n",
              "      <td>0.249</td>\n",
              "      <td>24</td>\n",
              "    </tr>\n",
              "    <tr>\n",
              "      <th>323</th>\n",
              "      <td>13</td>\n",
              "      <td>152</td>\n",
              "      <td>90</td>\n",
              "      <td>33</td>\n",
              "      <td>29</td>\n",
              "      <td>26.8</td>\n",
              "      <td>0.731</td>\n",
              "      <td>43</td>\n",
              "    </tr>\n",
              "    <tr>\n",
              "      <th>241</th>\n",
              "      <td>4</td>\n",
              "      <td>91</td>\n",
              "      <td>70</td>\n",
              "      <td>32</td>\n",
              "      <td>88</td>\n",
              "      <td>33.1</td>\n",
              "      <td>0.446</td>\n",
              "      <td>22</td>\n",
              "    </tr>\n",
              "    <tr>\n",
              "      <th>59</th>\n",
              "      <td>0</td>\n",
              "      <td>105</td>\n",
              "      <td>64</td>\n",
              "      <td>41</td>\n",
              "      <td>142</td>\n",
              "      <td>41.5</td>\n",
              "      <td>0.173</td>\n",
              "      <td>22</td>\n",
              "    </tr>\n",
              "    <tr>\n",
              "      <th>232</th>\n",
              "      <td>1</td>\n",
              "      <td>79</td>\n",
              "      <td>80</td>\n",
              "      <td>25</td>\n",
              "      <td>37</td>\n",
              "      <td>25.4</td>\n",
              "      <td>0.583</td>\n",
              "      <td>22</td>\n",
              "    </tr>\n",
              "    <tr>\n",
              "      <th>...</th>\n",
              "      <td>...</td>\n",
              "      <td>...</td>\n",
              "      <td>...</td>\n",
              "      <td>...</td>\n",
              "      <td>...</td>\n",
              "      <td>...</td>\n",
              "      <td>...</td>\n",
              "      <td>...</td>\n",
              "    </tr>\n",
              "    <tr>\n",
              "      <th>598</th>\n",
              "      <td>1</td>\n",
              "      <td>173</td>\n",
              "      <td>74</td>\n",
              "      <td>0</td>\n",
              "      <td>0</td>\n",
              "      <td>36.8</td>\n",
              "      <td>0.088</td>\n",
              "      <td>38</td>\n",
              "    </tr>\n",
              "    <tr>\n",
              "      <th>387</th>\n",
              "      <td>8</td>\n",
              "      <td>105</td>\n",
              "      <td>100</td>\n",
              "      <td>36</td>\n",
              "      <td>0</td>\n",
              "      <td>43.3</td>\n",
              "      <td>0.239</td>\n",
              "      <td>45</td>\n",
              "    </tr>\n",
              "    <tr>\n",
              "      <th>346</th>\n",
              "      <td>1</td>\n",
              "      <td>139</td>\n",
              "      <td>46</td>\n",
              "      <td>19</td>\n",
              "      <td>83</td>\n",
              "      <td>28.7</td>\n",
              "      <td>0.654</td>\n",
              "      <td>22</td>\n",
              "    </tr>\n",
              "    <tr>\n",
              "      <th>204</th>\n",
              "      <td>6</td>\n",
              "      <td>103</td>\n",
              "      <td>72</td>\n",
              "      <td>32</td>\n",
              "      <td>190</td>\n",
              "      <td>37.7</td>\n",
              "      <td>0.324</td>\n",
              "      <td>55</td>\n",
              "    </tr>\n",
              "    <tr>\n",
              "      <th>440</th>\n",
              "      <td>0</td>\n",
              "      <td>189</td>\n",
              "      <td>104</td>\n",
              "      <td>25</td>\n",
              "      <td>0</td>\n",
              "      <td>34.3</td>\n",
              "      <td>0.435</td>\n",
              "      <td>41</td>\n",
              "    </tr>\n",
              "  </tbody>\n",
              "</table>\n",
              "<p>154 rows × 8 columns</p>\n",
              "</div>"
            ],
            "text/plain": [
              "     pregnancies  plasma   BP  skin fold  insulin   BMI  pedigree  age\n",
              "252            2      90   80         14       55  24.4     0.249   24\n",
              "323           13     152   90         33       29  26.8     0.731   43\n",
              "241            4      91   70         32       88  33.1     0.446   22\n",
              "59             0     105   64         41      142  41.5     0.173   22\n",
              "232            1      79   80         25       37  25.4     0.583   22\n",
              "..           ...     ...  ...        ...      ...   ...       ...  ...\n",
              "598            1     173   74          0        0  36.8     0.088   38\n",
              "387            8     105  100         36        0  43.3     0.239   45\n",
              "346            1     139   46         19       83  28.7     0.654   22\n",
              "204            6     103   72         32      190  37.7     0.324   55\n",
              "440            0     189  104         25        0  34.3     0.435   41\n",
              "\n",
              "[154 rows x 8 columns]"
            ]
          },
          "metadata": {
            "tags": []
          },
          "execution_count": 39
        }
      ]
    },
    {
      "cell_type": "markdown",
      "metadata": {
        "id": "RxrtdCew0c7K",
        "colab_type": "text"
      },
      "source": [
        "### Exploring hyperparameters: max_depth\n",
        "We are interested in seeing which has higher accuracy:\n",
        "\n",
        "1. a classifier unconstrained for max_depth \n",
        "2. a classifier with max_depth of 4\n",
        "\n",
        "Create 2 decision tree classifiers: `clf` which is unconstrained for depth and `clf4` which has a max_depth of 4."
      ]
    },
    {
      "cell_type": "code",
      "metadata": {
        "id": "-UOB8dbj0c7L",
        "colab_type": "code",
        "colab": {}
      },
      "source": [
        "# TO DO\n",
        "clf = tree.DecisionTreeClassifier(criterion='entropy')\n",
        "clf4 = tree.DecisionTreeClassifier(criterion='entropy', max_depth=4)"
      ],
      "execution_count": 40,
      "outputs": []
    },
    {
      "cell_type": "markdown",
      "metadata": {
        "id": "6cmKDA3E0c7M",
        "colab_type": "text"
      },
      "source": [
        "### using 10-fold cross validation get the average accuracy of `clf`"
      ]
    },
    {
      "cell_type": "code",
      "metadata": {
        "id": "KW0_WUid0c7N",
        "colab_type": "code",
        "colab": {
          "base_uri": "https://localhost:8080/",
          "height": 69
        },
        "outputId": "ebb12e15-0f99-431e-943a-bc598d25ffbe"
      },
      "source": [
        "# TO DO\n",
        "from sklearn.model_selection import cross_val_score\n",
        "scores = cross_val_score(clf, pima_train_features, pima_train_labels, cv=10)\n",
        "print(scores)\n",
        "print(\"The average accuracy is %5.3f\" % (scores.mean()))"
      ],
      "execution_count": 41,
      "outputs": [
        {
          "output_type": "stream",
          "text": [
            "[0.67741935 0.69354839 0.70967742 0.69354839 0.81967213 0.67213115\n",
            " 0.73770492 0.7704918  0.81967213 0.54098361]\n",
            "The average accuracy is 0.713\n"
          ],
          "name": "stdout"
        }
      ]
    },
    {
      "cell_type": "markdown",
      "metadata": {
        "id": "6s7YwfnG0c7O",
        "colab_type": "text"
      },
      "source": [
        "### using 10-fold cross validation get the average accuracy of `clf4`"
      ]
    },
    {
      "cell_type": "code",
      "metadata": {
        "id": "iFaOUoW60c7P",
        "colab_type": "code",
        "colab": {
          "base_uri": "https://localhost:8080/",
          "height": 69
        },
        "outputId": "72f1cde3-a484-43f5-cb92-18f5dea0b2fa"
      },
      "source": [
        "# TO DO\n",
        "scores = cross_val_score(clf4, pima_train_features, pima_train_labels, cv=10)\n",
        "print(scores)\n",
        "print(\"The average accuracy is %5.3f\" % (scores.mean()))"
      ],
      "execution_count": 72,
      "outputs": [
        {
          "output_type": "stream",
          "text": [
            "[0.66129032 0.79032258 0.79032258 0.77419355 0.80327869 0.75409836\n",
            " 0.72131148 0.75409836 0.75409836 0.68852459]\n",
            "The average accuracy is 0.749\n"
          ],
          "name": "stdout"
        }
      ]
    },
    {
      "cell_type": "markdown",
      "metadata": {
        "id": "wddPQ5O40c7R",
        "colab_type": "text"
      },
      "source": [
        "which has better accuracy, the one unconstrained for depth or the one whose max_depth is 4?\n",
        "- the one with a max depth of 4 was more accurate\n",
        "\n",
        "### Using the entire training set, train a new classifier with the best setting for the max_depth hyperparameter\n"
      ]
    },
    {
      "cell_type": "code",
      "metadata": {
        "id": "4R7Y87tP0c7S",
        "colab_type": "code",
        "colab": {
          "base_uri": "https://localhost:8080/",
          "height": 69
        },
        "outputId": "86521eeb-d27b-4f6a-9043-e83503ffb2af"
      },
      "source": [
        "# TO DO\n",
        "clfBest = tree.DecisionTreeClassifier(criterion='entropy', max_depth=4)\n",
        "scores = cross_val_score(clfBest, pima_train_features, pima_train_labels, cv=10)\n",
        "print(scores)\n",
        "print(\"The average accuracy is %5.3f\" % (scores.mean()))\n",
        "#I couldn't get any more accurate than max_depth 4"
      ],
      "execution_count": 71,
      "outputs": [
        {
          "output_type": "stream",
          "text": [
            "[0.67741935 0.79032258 0.79032258 0.77419355 0.80327869 0.75409836\n",
            " 0.72131148 0.75409836 0.75409836 0.68852459]\n",
            "The average accuracy is 0.751\n"
          ],
          "name": "stdout"
        }
      ]
    },
    {
      "cell_type": "markdown",
      "metadata": {
        "id": "0V_O1EDR0c7T",
        "colab_type": "text"
      },
      "source": [
        "### Finally, using the test set what is the accuracy?"
      ]
    },
    {
      "cell_type": "code",
      "metadata": {
        "scrolled": true,
        "id": "7YzYCHfL0c7U",
        "colab_type": "code",
        "colab": {
          "base_uri": "https://localhost:8080/",
          "height": 156
        },
        "outputId": "04fc10d4-7a2e-4ff2-e73d-561fe6819ba6"
      },
      "source": [
        "# TO DO\n",
        "#from sklearn.metrics import accuracy_score\n",
        "#clfBest.fit(pima_train_features, pima_train_labels)\n",
        "pima_predictions = clfBest.predict(pima_test_features)\n",
        "#accuracy = accuracy_score(pima_test_labels, pima_predictions)\n",
        "print(pima_predictions)\n",
        "#print(str(accuracy))\n",
        "scores = cross_val_score(clfBest, pima_test_features, pima_test_labels, cv=10)\n",
        "print(scores)\n",
        "print(\"The average accuracy is %5.3f\" % (scores.mean()))\n",
        "#the commented out sections are for my own comparison"
      ],
      "execution_count": 79,
      "outputs": [
        {
          "output_type": "stream",
          "text": [
            "[0 0 0 0 0 1 1 0 1 0 0 1 0 0 0 0 0 0 0 1 1 0 0 1 0 0 0 0 0 0 1 0 1 0 0 0 0\n",
            " 0 0 0 0 1 0 0 1 0 0 0 1 0 0 0 1 0 1 0 1 1 0 0 0 0 1 0 0 0 0 0 0 0 0 0 1 0\n",
            " 0 0 0 0 1 0 0 0 0 1 0 0 0 0 0 1 1 0 0 1 0 0 1 1 0 0 1 1 0 1 0 0 0 1 0 1 0\n",
            " 0 1 0 1 0 1 1 0 0 1 1 0 1 0 1 0 0 0 0 0 0 1 0 1 0 0 1 0 1 0 0 0 1 0 1 0 0\n",
            " 0 1 0 1 0 1]\n",
            "[0.8125     0.75       0.5625     0.5        0.8        0.86666667\n",
            " 0.8        0.86666667 0.66666667 0.73333333]\n",
            "The average accuracy is 0.736\n"
          ],
          "name": "stdout"
        }
      ]
    },
    {
      "cell_type": "markdown",
      "metadata": {
        "id": "8sTx_8p40c7W",
        "colab_type": "text"
      },
      "source": [
        "## Automation\n",
        "\n",
        "Let's say we want to find the best settings for `max_depth`and we will check out the values, 3, 4, 5, 6, ...12 and the best for `min_samples_split` and we will try 2, 3, 4, 5. That makes 10 values for `max_depth` and 4 for `min_samples_split`. That makes 40 different classifiers and it would be time consuming to do that by hand. Fortunately, we can automate the process using [GridSearchCV](https://scikit-learn.org/stable/modules/generated/sklearn.model_selection.GridSearchCV.html?highlight=gridsearchcv#sklearn.model_selection.GridSearchCV). \n",
        "\n",
        "First we will import the module:"
      ]
    },
    {
      "cell_type": "code",
      "metadata": {
        "id": "a8_UqUse0c7W",
        "colab_type": "code",
        "colab": {}
      },
      "source": [
        "from sklearn.model_selection import GridSearchCV"
      ],
      "execution_count": 80,
      "outputs": []
    },
    {
      "cell_type": "markdown",
      "metadata": {
        "id": "i21xgCpc0c7Y",
        "colab_type": "text"
      },
      "source": [
        "Now we are going to specify the values we want to test. For `max_depth` we want 3, 4, 5, 6, ... 12 and for `min_samples_split` we want  2, 3, 4, 5:"
      ]
    },
    {
      "cell_type": "code",
      "metadata": {
        "id": "H904OoTs0c7Y",
        "colab_type": "code",
        "colab": {}
      },
      "source": [
        "hyperparam_grid = [\n",
        "    {'max_depth': [3, 4, 5, 6, 7, 8, 9, 10, 11, 12], \n",
        "     'min_samples_split': [2,3,4, 5]}\n",
        "  ]\n"
      ],
      "execution_count": 81,
      "outputs": []
    },
    {
      "cell_type": "markdown",
      "metadata": {
        "id": "L8XpPKtj0c7a",
        "colab_type": "text"
      },
      "source": [
        "Next, let's create a decision tree classifier:"
      ]
    },
    {
      "cell_type": "code",
      "metadata": {
        "id": "jWVMNcgS0c7a",
        "colab_type": "code",
        "colab": {}
      },
      "source": [
        "\n",
        "clf = tree.DecisionTreeClassifier(criterion='entropy')\n"
      ],
      "execution_count": 82,
      "outputs": []
    },
    {
      "cell_type": "markdown",
      "metadata": {
        "id": "IcwumJ-l0c7c",
        "colab_type": "text"
      },
      "source": [
        "#### now create a grid search object"
      ]
    },
    {
      "cell_type": "code",
      "metadata": {
        "id": "go2mhyNZ0c7d",
        "colab_type": "code",
        "colab": {}
      },
      "source": [
        "grid_search = GridSearchCV(clf, hyperparam_grid, cv=10)"
      ],
      "execution_count": 84,
      "outputs": []
    },
    {
      "cell_type": "markdown",
      "metadata": {
        "id": "0Hkd-vry0c7e",
        "colab_type": "text"
      },
      "source": [
        "When we create the object we pass in:\n",
        "\n",
        "* the classifer - in our case `clf`\n",
        "* the Python dictionary containing the hyperparameters we want to evaluate. In our case `hyperparam_grid`\n",
        "* how many bins we are using. In our case 10: `cv=10`\n",
        "\n",
        "#### now perform `fit`"
      ]
    },
    {
      "cell_type": "code",
      "metadata": {
        "id": "7EBk0ekh0c7f",
        "colab_type": "code",
        "colab": {
          "base_uri": "https://localhost:8080/",
          "height": 329
        },
        "outputId": "649d85c5-0c73-4f78-ae25-197cb9131622"
      },
      "source": [
        "grid_search.fit(pima_train_features, pima_train_labels)"
      ],
      "execution_count": 85,
      "outputs": [
        {
          "output_type": "execute_result",
          "data": {
            "text/plain": [
              "GridSearchCV(cv=10, error_score=nan,\n",
              "             estimator=DecisionTreeClassifier(ccp_alpha=0.0, class_weight=None,\n",
              "                                              criterion='entropy',\n",
              "                                              max_depth=None, max_features=None,\n",
              "                                              max_leaf_nodes=None,\n",
              "                                              min_impurity_decrease=0.0,\n",
              "                                              min_impurity_split=None,\n",
              "                                              min_samples_leaf=1,\n",
              "                                              min_samples_split=2,\n",
              "                                              min_weight_fraction_leaf=0.0,\n",
              "                                              presort='deprecated',\n",
              "                                              random_state=None,\n",
              "                                              splitter='best'),\n",
              "             iid='deprecated', n_jobs=None,\n",
              "             param_grid=[{'max_depth': [3, 4, 5, 6, 7, 8, 9, 10, 11, 12],\n",
              "                          'min_samples_split': [2, 3, 4, 5]}],\n",
              "             pre_dispatch='2*n_jobs', refit=True, return_train_score=False,\n",
              "             scoring=None, verbose=0)"
            ]
          },
          "metadata": {
            "tags": []
          },
          "execution_count": 85
        }
      ]
    },
    {
      "cell_type": "markdown",
      "metadata": {
        "id": "W7CrcRVb0c7h",
        "colab_type": "text"
      },
      "source": [
        "When `grid_search` runs, it creates 40 different classifiers and runs 10-fold cross validation on each of them. We can ask `grid_search` what were the parameters of the classifier with the highest accuracy:"
      ]
    },
    {
      "cell_type": "code",
      "metadata": {
        "id": "wQmu_HUp0c7h",
        "colab_type": "code",
        "colab": {
          "base_uri": "https://localhost:8080/",
          "height": 35
        },
        "outputId": "7f40c07d-82ba-4ffb-8d5f-28819876c486"
      },
      "source": [
        "grid_search.best_params_"
      ],
      "execution_count": 88,
      "outputs": [
        {
          "output_type": "execute_result",
          "data": {
            "text/plain": [
              "{'max_depth': 4, 'min_samples_split': 2}"
            ]
          },
          "metadata": {
            "tags": []
          },
          "execution_count": 88
        }
      ]
    },
    {
      "cell_type": "markdown",
      "metadata": {
        "id": "i1TLTbfa0c7k",
        "colab_type": "text"
      },
      "source": [
        "We can also ask `grid_search` to return the best classifier so we can use it to make predictions."
      ]
    },
    {
      "cell_type": "code",
      "metadata": {
        "id": "-VG5jwuW0c7k",
        "colab_type": "code",
        "colab": {}
      },
      "source": [
        "predictions = grid_search.best_estimator_.predict(pima_test_features)"
      ],
      "execution_count": 89,
      "outputs": []
    },
    {
      "cell_type": "code",
      "metadata": {
        "id": "IZjFLBpP0c7n",
        "colab_type": "code",
        "colab": {
          "base_uri": "https://localhost:8080/",
          "height": 35
        },
        "outputId": "00a8cac8-f774-47a6-80bf-40d8d75a9321"
      },
      "source": [
        "\n",
        "accuracy_score(pima_test_labels, predictions)"
      ],
      "execution_count": 90,
      "outputs": [
        {
          "output_type": "execute_result",
          "data": {
            "text/plain": [
              "0.7337662337662337"
            ]
          },
          "metadata": {
            "tags": []
          },
          "execution_count": 90
        }
      ]
    },
    {
      "cell_type": "markdown",
      "metadata": {
        "id": "Km--57MA0c7p",
        "colab_type": "text"
      },
      "source": [
        "As you can see, grid search is extremely helpful in tuning a classifier to work well with a particular problem.\n",
        "\n"
      ]
    }
  ]
}